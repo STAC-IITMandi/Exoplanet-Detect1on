{
 "cells": [
  {
   "cell_type": "code",
   "execution_count": 2,
   "id": "449fc9ef",
   "metadata": {},
   "outputs": [],
   "source": [
    "import pandas as pd\n",
    "import lightkurve as lk\n",
    "import matplotlib.pyplot as plt\n",
    "import numpy as np\n",
    "from lightkurve import search_targetpixelfile\n",
    "import __future__\n",
    "import csv\n",
    "import ast\n",
    "from light_curve.binning import bin_and_aggregate\n"
   ]
  },
  {
   "cell_type": "code",
   "execution_count": 91,
   "id": "fbaf31a5",
   "metadata": {},
   "outputs": [],
   "source": [
    "def generate_view(time,\n",
    "                  values,\n",
    "                  num_bins,\n",
    "                  bin_width,\n",
    "                  t_min,\n",
    "                  t_max,\n",
    "                  normalize=True):\n",
    "  \"\"\"Generates a view of a phase-folded and binned light curve.\n",
    "\n",
    "  Args:\n",
    "    time: 1D NumPy array of time values, sorted in ascending order.\n",
    "    values: N-dimensional NumPy array with the same length as time.\n",
    "    num_bins: The number of intervals to divide the time axis into.\n",
    "    bin_width: The width of each bin on the time axis.\n",
    "    t_min: The inclusive leftmost value to consider on the time axis.\n",
    "    t_max: The exclusive rightmost value to consider on the time axis.\n",
    "    normalize: Whether to center the median at 0 and minimum value at -1.\n",
    "\n",
    "  Returns:\n",
    "    NumPy array of length num_bins containing the aggregated values in uniformly\n",
    "    spaced bins on the phase-folded time axis.\n",
    "  \"\"\"\n",
    "  view, bin_counts = bin_and_aggregate(time, values, num_bins,\n",
    "                                               bin_width, t_min, t_max)\n",
    "  # Empty bins fall back to the global median.\n",
    "  view = np.where(bin_counts > 0, view, np.median(values))\n",
    "\n",
    "  if normalize:\n",
    "    view -= np.median(view, axis=0)\n",
    "    view /= np.abs(np.min(view, axis=0))\n",
    "\n",
    "  return view\n",
    "\n",
    "\n",
    "def global_view(time, values, period, num_bins=2001, bin_width_factor=1 / 2001):\n",
    "  \"\"\"Generates a 'global view' of a phase folded light curve.\n",
    "\n",
    "  See Section 3.3 of Shallue & Vanderburg, 2018, The Astronomical Journal.\n",
    "  http://iopscience.iop.org/article/10.3847/1538-3881/aa9e09/meta\n",
    "\n",
    "  Args:\n",
    "    time: 1D NumPy array of time values, sorted in ascending order.\n",
    "    values: N-dimensional NumPy array with the same length as time.\n",
    "    period: The period of the event (in days).\n",
    "    num_bins: The number of intervals to divide the time axis into.\n",
    "    bin_width_factor: Width of the bins, as a fraction of period.\n",
    "\n",
    "  Returns:\n",
    "    NumPy array of length num_bins containing the aggregated values in uniformly\n",
    "    spaced bins on the phase-folded time axis.\n",
    "  \"\"\"\n",
    "  return generate_view(\n",
    "      time,\n",
    "      values,\n",
    "      num_bins=num_bins,\n",
    "      bin_width=period * bin_width_factor,\n",
    "      t_min=-period / 2,\n",
    "      t_max=period / 2)\n",
    "\n",
    "\n",
    "def local_view(time,\n",
    "               values,\n",
    "               period,\n",
    "               duration,\n",
    "               num_bins=201,\n",
    "               bin_width_factor=0.16,\n",
    "               num_durations=4):\n",
    "  \"\"\"Generates a 'local view' of a phase folded light curve.\n",
    "\n",
    "  See Section 3.3 of Shallue & Vanderburg, 2018, The Astronomical Journal.\n",
    "  http://iopscience.iop.org/article/10.3847/1538-3881/aa9e09/meta\n",
    "\n",
    "  Args:\n",
    "    time: 1D NumPy array of time values, sorted in ascending order.\n",
    "    values: N-dimensional NumPy array with the same length as time.\n",
    "    period: The period of the event (in days).\n",
    "    duration: The duration of the event (in days).\n",
    "    num_bins: The number of intervals to divide the time axis into.\n",
    "    bin_width_factor: Width of the bins, as a fraction of duration.\n",
    "    num_durations: The number of durations to consider on either side of 0 (the\n",
    "      event is assumed to be centered at 0).\n",
    "\n",
    "  Returns:\n",
    "    NumPy array of length num_bins containing the aggregated values in uniformly\n",
    "    spaced bins on the phase-folded time axis.\n",
    "  \"\"\"\n",
    "  return generate_view(\n",
    "      time,\n",
    "      values,\n",
    "      num_bins=num_bins,\n",
    "      bin_width=duration * bin_width_factor,\n",
    "      t_min=max(-period / 2, -duration * num_durations),\n",
    "      t_max=min(period / 2, duration * num_durations))\n"
   ]
  },
  {
   "cell_type": "code",
   "execution_count": 3,
   "id": "4aeab1c0",
   "metadata": {},
   "outputs": [],
   "source": [
    "def normalize_light_curve(light_curve):\n",
    "    # Subtract the median to make median 0\n",
    "    median_subtracted = light_curve - np.median(light_curve)\n",
    "    \n",
    "    # Scale so that the minimum value is -1\n",
    "    scale_factor = np.abs(np.min(median_subtracted))\n",
    "    normalized_light_curve = median_subtracted / scale_factor\n",
    "    \n",
    "    return normalized_light_curve\n"
   ]
  },
  {
   "cell_type": "code",
   "execution_count": 4,
   "id": "9604f7ac",
   "metadata": {},
   "outputs": [
    {
     "data": {
      "text/html": [
       "<div>\n",
       "<style scoped>\n",
       "    .dataframe tbody tr th:only-of-type {\n",
       "        vertical-align: middle;\n",
       "    }\n",
       "\n",
       "    .dataframe tbody tr th {\n",
       "        vertical-align: top;\n",
       "    }\n",
       "\n",
       "    .dataframe thead th {\n",
       "        text-align: right;\n",
       "    }\n",
       "</style>\n",
       "<table border=\"1\" class=\"dataframe\">\n",
       "  <thead>\n",
       "    <tr style=\"text-align: right;\">\n",
       "      <th></th>\n",
       "      <th>loc_rowid</th>\n",
       "      <th>kepid</th>\n",
       "      <th>tce_plnt_num</th>\n",
       "      <th>tce_period</th>\n",
       "      <th>tce_period_err</th>\n",
       "      <th>tce_time0bk</th>\n",
       "      <th>tce_time0bk_err</th>\n",
       "      <th>tce_impact</th>\n",
       "      <th>tce_impact_err</th>\n",
       "      <th>tce_duration</th>\n",
       "      <th>...</th>\n",
       "      <th>tce_eqt_err</th>\n",
       "      <th>tce_insol</th>\n",
       "      <th>tce_insol_err</th>\n",
       "      <th>tce_steff</th>\n",
       "      <th>tce_steff_err</th>\n",
       "      <th>tce_slogg</th>\n",
       "      <th>tce_slogg_err</th>\n",
       "      <th>tce_sradius</th>\n",
       "      <th>tce_sradius_err</th>\n",
       "      <th>av_training_set</th>\n",
       "    </tr>\n",
       "  </thead>\n",
       "  <tbody>\n",
       "    <tr>\n",
       "      <th>0</th>\n",
       "      <td>1</td>\n",
       "      <td>1162345</td>\n",
       "      <td>2</td>\n",
       "      <td>0.831850</td>\n",
       "      <td>6.693070e-05</td>\n",
       "      <td>132.227</td>\n",
       "      <td>0.035197</td>\n",
       "      <td>0.92600</td>\n",
       "      <td>1.471000</td>\n",
       "      <td>2.392</td>\n",
       "      <td>...</td>\n",
       "      <td>637.0</td>\n",
       "      <td>NaN</td>\n",
       "      <td>NaN</td>\n",
       "      <td>6510.0</td>\n",
       "      <td>207.0</td>\n",
       "      <td>4.07</td>\n",
       "      <td>0.26</td>\n",
       "      <td>1.728</td>\n",
       "      <td>0.791</td>\n",
       "      <td>AFP</td>\n",
       "    </tr>\n",
       "    <tr>\n",
       "      <th>3</th>\n",
       "      <td>4</td>\n",
       "      <td>1162345</td>\n",
       "      <td>3</td>\n",
       "      <td>0.831833</td>\n",
       "      <td>9.431020e-06</td>\n",
       "      <td>131.919</td>\n",
       "      <td>0.002209</td>\n",
       "      <td>0.09536</td>\n",
       "      <td>51.770000</td>\n",
       "      <td>2.181</td>\n",
       "      <td>...</td>\n",
       "      <td>637.0</td>\n",
       "      <td>NaN</td>\n",
       "      <td>NaN</td>\n",
       "      <td>6510.0</td>\n",
       "      <td>207.0</td>\n",
       "      <td>4.07</td>\n",
       "      <td>0.26</td>\n",
       "      <td>1.728</td>\n",
       "      <td>0.791</td>\n",
       "      <td>AFP</td>\n",
       "    </tr>\n",
       "    <tr>\n",
       "      <th>5</th>\n",
       "      <td>6</td>\n",
       "      <td>757450</td>\n",
       "      <td>1</td>\n",
       "      <td>8.884920</td>\n",
       "      <td>1.186150e-06</td>\n",
       "      <td>134.452</td>\n",
       "      <td>0.000101</td>\n",
       "      <td>0.05677</td>\n",
       "      <td>0.950200</td>\n",
       "      <td>2.078</td>\n",
       "      <td>...</td>\n",
       "      <td>27.6</td>\n",
       "      <td>NaN</td>\n",
       "      <td>NaN</td>\n",
       "      <td>5332.0</td>\n",
       "      <td>102.0</td>\n",
       "      <td>4.50</td>\n",
       "      <td>0.04</td>\n",
       "      <td>0.843</td>\n",
       "      <td>0.051</td>\n",
       "      <td>PC</td>\n",
       "    </tr>\n",
       "    <tr>\n",
       "      <th>6</th>\n",
       "      <td>7</td>\n",
       "      <td>892667</td>\n",
       "      <td>1</td>\n",
       "      <td>2.262110</td>\n",
       "      <td>2.726600e-05</td>\n",
       "      <td>132.171</td>\n",
       "      <td>0.006531</td>\n",
       "      <td>0.30000</td>\n",
       "      <td>10.610000</td>\n",
       "      <td>7.509</td>\n",
       "      <td>...</td>\n",
       "      <td>486.0</td>\n",
       "      <td>NaN</td>\n",
       "      <td>NaN</td>\n",
       "      <td>6609.0</td>\n",
       "      <td>236.0</td>\n",
       "      <td>4.11</td>\n",
       "      <td>0.28</td>\n",
       "      <td>1.654</td>\n",
       "      <td>0.811</td>\n",
       "      <td>NTP</td>\n",
       "    </tr>\n",
       "    <tr>\n",
       "      <th>7</th>\n",
       "      <td>8</td>\n",
       "      <td>892772</td>\n",
       "      <td>1</td>\n",
       "      <td>5.092600</td>\n",
       "      <td>3.144550e-05</td>\n",
       "      <td>133.451</td>\n",
       "      <td>0.004821</td>\n",
       "      <td>0.30000</td>\n",
       "      <td>16.090000</td>\n",
       "      <td>3.399</td>\n",
       "      <td>...</td>\n",
       "      <td>78.6</td>\n",
       "      <td>NaN</td>\n",
       "      <td>NaN</td>\n",
       "      <td>5037.0</td>\n",
       "      <td>197.0</td>\n",
       "      <td>4.55</td>\n",
       "      <td>0.12</td>\n",
       "      <td>0.751</td>\n",
       "      <td>0.127</td>\n",
       "      <td>AFP</td>\n",
       "    </tr>\n",
       "    <tr>\n",
       "      <th>...</th>\n",
       "      <td>...</td>\n",
       "      <td>...</td>\n",
       "      <td>...</td>\n",
       "      <td>...</td>\n",
       "      <td>...</td>\n",
       "      <td>...</td>\n",
       "      <td>...</td>\n",
       "      <td>...</td>\n",
       "      <td>...</td>\n",
       "      <td>...</td>\n",
       "      <td>...</td>\n",
       "      <td>...</td>\n",
       "      <td>...</td>\n",
       "      <td>...</td>\n",
       "      <td>...</td>\n",
       "      <td>...</td>\n",
       "      <td>...</td>\n",
       "      <td>...</td>\n",
       "      <td>...</td>\n",
       "      <td>...</td>\n",
       "      <td>...</td>\n",
       "    </tr>\n",
       "    <tr>\n",
       "      <th>20361</th>\n",
       "      <td>20362</td>\n",
       "      <td>11905761</td>\n",
       "      <td>2</td>\n",
       "      <td>3.580330</td>\n",
       "      <td>6.525820e-05</td>\n",
       "      <td>133.312</td>\n",
       "      <td>0.012868</td>\n",
       "      <td>0.08263</td>\n",
       "      <td>68.700000</td>\n",
       "      <td>13.260</td>\n",
       "      <td>...</td>\n",
       "      <td>406.0</td>\n",
       "      <td>NaN</td>\n",
       "      <td>NaN</td>\n",
       "      <td>6745.0</td>\n",
       "      <td>308.0</td>\n",
       "      <td>3.93</td>\n",
       "      <td>0.24</td>\n",
       "      <td>2.346</td>\n",
       "      <td>0.954</td>\n",
       "      <td>AFP</td>\n",
       "    </tr>\n",
       "    <tr>\n",
       "      <th>20363</th>\n",
       "      <td>20364</td>\n",
       "      <td>11908559</td>\n",
       "      <td>1</td>\n",
       "      <td>0.716006</td>\n",
       "      <td>1.242640e-05</td>\n",
       "      <td>132.019</td>\n",
       "      <td>0.002549</td>\n",
       "      <td>0.70000</td>\n",
       "      <td>0.626200</td>\n",
       "      <td>2.069</td>\n",
       "      <td>...</td>\n",
       "      <td>774.0</td>\n",
       "      <td>NaN</td>\n",
       "      <td>NaN</td>\n",
       "      <td>7224.0</td>\n",
       "      <td>309.0</td>\n",
       "      <td>3.89</td>\n",
       "      <td>0.24</td>\n",
       "      <td>2.508</td>\n",
       "      <td>1.039</td>\n",
       "      <td>AFP</td>\n",
       "    </tr>\n",
       "    <tr>\n",
       "      <th>20364</th>\n",
       "      <td>20365</td>\n",
       "      <td>11923562</td>\n",
       "      <td>2</td>\n",
       "      <td>0.739472</td>\n",
       "      <td>1.068170e-05</td>\n",
       "      <td>131.618</td>\n",
       "      <td>0.001399</td>\n",
       "      <td>0.28480</td>\n",
       "      <td>6.828000</td>\n",
       "      <td>2.146</td>\n",
       "      <td>...</td>\n",
       "      <td>997.0</td>\n",
       "      <td>NaN</td>\n",
       "      <td>NaN</td>\n",
       "      <td>7191.0</td>\n",
       "      <td>318.0</td>\n",
       "      <td>4.23</td>\n",
       "      <td>0.38</td>\n",
       "      <td>1.473</td>\n",
       "      <td>1.005</td>\n",
       "      <td>AFP</td>\n",
       "    </tr>\n",
       "    <tr>\n",
       "      <th>20365</th>\n",
       "      <td>20366</td>\n",
       "      <td>11923819</td>\n",
       "      <td>1</td>\n",
       "      <td>33.159500</td>\n",
       "      <td>9.532960e-07</td>\n",
       "      <td>159.812</td>\n",
       "      <td>0.000023</td>\n",
       "      <td>0.74720</td>\n",
       "      <td>0.019810</td>\n",
       "      <td>9.132</td>\n",
       "      <td>...</td>\n",
       "      <td>200.0</td>\n",
       "      <td>NaN</td>\n",
       "      <td>NaN</td>\n",
       "      <td>7968.0</td>\n",
       "      <td>323.0</td>\n",
       "      <td>3.95</td>\n",
       "      <td>0.23</td>\n",
       "      <td>2.390</td>\n",
       "      <td>0.854</td>\n",
       "      <td>AFP</td>\n",
       "    </tr>\n",
       "    <tr>\n",
       "      <th>20366</th>\n",
       "      <td>20367</td>\n",
       "      <td>11923819</td>\n",
       "      <td>2</td>\n",
       "      <td>33.159200</td>\n",
       "      <td>9.280150e-07</td>\n",
       "      <td>137.774</td>\n",
       "      <td>0.000024</td>\n",
       "      <td>0.91810</td>\n",
       "      <td>0.009575</td>\n",
       "      <td>11.940</td>\n",
       "      <td>...</td>\n",
       "      <td>200.0</td>\n",
       "      <td>NaN</td>\n",
       "      <td>NaN</td>\n",
       "      <td>7968.0</td>\n",
       "      <td>323.0</td>\n",
       "      <td>3.95</td>\n",
       "      <td>0.23</td>\n",
       "      <td>2.390</td>\n",
       "      <td>0.854</td>\n",
       "      <td>AFP</td>\n",
       "    </tr>\n",
       "  </tbody>\n",
       "</table>\n",
       "<p>15737 rows × 27 columns</p>\n",
       "</div>"
      ],
      "text/plain": [
       "       loc_rowid     kepid  tce_plnt_num  tce_period  tce_period_err  \\\n",
       "0              1   1162345             2    0.831850    6.693070e-05   \n",
       "3              4   1162345             3    0.831833    9.431020e-06   \n",
       "5              6    757450             1    8.884920    1.186150e-06   \n",
       "6              7    892667             1    2.262110    2.726600e-05   \n",
       "7              8    892772             1    5.092600    3.144550e-05   \n",
       "...          ...       ...           ...         ...             ...   \n",
       "20361      20362  11905761             2    3.580330    6.525820e-05   \n",
       "20363      20364  11908559             1    0.716006    1.242640e-05   \n",
       "20364      20365  11923562             2    0.739472    1.068170e-05   \n",
       "20365      20366  11923819             1   33.159500    9.532960e-07   \n",
       "20366      20367  11923819             2   33.159200    9.280150e-07   \n",
       "\n",
       "       tce_time0bk  tce_time0bk_err  tce_impact  tce_impact_err  tce_duration  \\\n",
       "0          132.227         0.035197     0.92600        1.471000         2.392   \n",
       "3          131.919         0.002209     0.09536       51.770000         2.181   \n",
       "5          134.452         0.000101     0.05677        0.950200         2.078   \n",
       "6          132.171         0.006531     0.30000       10.610000         7.509   \n",
       "7          133.451         0.004821     0.30000       16.090000         3.399   \n",
       "...            ...              ...         ...             ...           ...   \n",
       "20361      133.312         0.012868     0.08263       68.700000        13.260   \n",
       "20363      132.019         0.002549     0.70000        0.626200         2.069   \n",
       "20364      131.618         0.001399     0.28480        6.828000         2.146   \n",
       "20365      159.812         0.000023     0.74720        0.019810         9.132   \n",
       "20366      137.774         0.000024     0.91810        0.009575        11.940   \n",
       "\n",
       "       ...  tce_eqt_err  tce_insol  tce_insol_err  tce_steff  tce_steff_err  \\\n",
       "0      ...        637.0        NaN            NaN     6510.0          207.0   \n",
       "3      ...        637.0        NaN            NaN     6510.0          207.0   \n",
       "5      ...         27.6        NaN            NaN     5332.0          102.0   \n",
       "6      ...        486.0        NaN            NaN     6609.0          236.0   \n",
       "7      ...         78.6        NaN            NaN     5037.0          197.0   \n",
       "...    ...          ...        ...            ...        ...            ...   \n",
       "20361  ...        406.0        NaN            NaN     6745.0          308.0   \n",
       "20363  ...        774.0        NaN            NaN     7224.0          309.0   \n",
       "20364  ...        997.0        NaN            NaN     7191.0          318.0   \n",
       "20365  ...        200.0        NaN            NaN     7968.0          323.0   \n",
       "20366  ...        200.0        NaN            NaN     7968.0          323.0   \n",
       "\n",
       "       tce_slogg  tce_slogg_err  tce_sradius  tce_sradius_err  av_training_set  \n",
       "0           4.07           0.26        1.728            0.791              AFP  \n",
       "3           4.07           0.26        1.728            0.791              AFP  \n",
       "5           4.50           0.04        0.843            0.051               PC  \n",
       "6           4.11           0.28        1.654            0.811              NTP  \n",
       "7           4.55           0.12        0.751            0.127              AFP  \n",
       "...          ...            ...          ...              ...              ...  \n",
       "20361       3.93           0.24        2.346            0.954              AFP  \n",
       "20363       3.89           0.24        2.508            1.039              AFP  \n",
       "20364       4.23           0.38        1.473            1.005              AFP  \n",
       "20365       3.95           0.23        2.390            0.854              AFP  \n",
       "20366       3.95           0.23        2.390            0.854              AFP  \n",
       "\n",
       "[15737 rows x 27 columns]"
      ]
     },
     "execution_count": 4,
     "metadata": {},
     "output_type": "execute_result"
    }
   ],
   "source": [
    "data=pd.read_csv('/Users/aridamansc/Desktop/exoplanet/kepler_TCE.csv')\n",
    "data=data[data['av_training_set']!='UNK']\n",
    "data"
   ]
  },
  {
   "cell_type": "code",
   "execution_count": 5,
   "id": "aee11ed1",
   "metadata": {},
   "outputs": [],
   "source": [
    "data['av_training_set'] = data['av_training_set'].apply(lambda x: 1 if x == 'PC' else 0)\n"
   ]
  },
  {
   "cell_type": "code",
   "execution_count": 6,
   "id": "6c5625fd",
   "metadata": {},
   "outputs": [
    {
     "data": {
      "text/html": [
       "<div>\n",
       "<style scoped>\n",
       "    .dataframe tbody tr th:only-of-type {\n",
       "        vertical-align: middle;\n",
       "    }\n",
       "\n",
       "    .dataframe tbody tr th {\n",
       "        vertical-align: top;\n",
       "    }\n",
       "\n",
       "    .dataframe thead th {\n",
       "        text-align: right;\n",
       "    }\n",
       "</style>\n",
       "<table border=\"1\" class=\"dataframe\">\n",
       "  <thead>\n",
       "    <tr style=\"text-align: right;\">\n",
       "      <th></th>\n",
       "      <th>loc_rowid</th>\n",
       "      <th>kepid</th>\n",
       "      <th>tce_plnt_num</th>\n",
       "      <th>tce_period</th>\n",
       "      <th>tce_period_err</th>\n",
       "      <th>tce_time0bk</th>\n",
       "      <th>tce_time0bk_err</th>\n",
       "      <th>tce_impact</th>\n",
       "      <th>tce_impact_err</th>\n",
       "      <th>tce_duration</th>\n",
       "      <th>...</th>\n",
       "      <th>tce_eqt_err</th>\n",
       "      <th>tce_insol</th>\n",
       "      <th>tce_insol_err</th>\n",
       "      <th>tce_steff</th>\n",
       "      <th>tce_steff_err</th>\n",
       "      <th>tce_slogg</th>\n",
       "      <th>tce_slogg_err</th>\n",
       "      <th>tce_sradius</th>\n",
       "      <th>tce_sradius_err</th>\n",
       "      <th>av_training_set</th>\n",
       "    </tr>\n",
       "  </thead>\n",
       "  <tbody>\n",
       "    <tr>\n",
       "      <th>0</th>\n",
       "      <td>1</td>\n",
       "      <td>1162345</td>\n",
       "      <td>2</td>\n",
       "      <td>0.83185</td>\n",
       "      <td>6.693070e-05</td>\n",
       "      <td>132.227</td>\n",
       "      <td>0.035197</td>\n",
       "      <td>0.92600</td>\n",
       "      <td>1.47100</td>\n",
       "      <td>2.392</td>\n",
       "      <td>...</td>\n",
       "      <td>637.0</td>\n",
       "      <td>NaN</td>\n",
       "      <td>NaN</td>\n",
       "      <td>6510.0</td>\n",
       "      <td>207.0</td>\n",
       "      <td>4.07</td>\n",
       "      <td>0.26</td>\n",
       "      <td>1.728</td>\n",
       "      <td>0.791</td>\n",
       "      <td>0</td>\n",
       "    </tr>\n",
       "    <tr>\n",
       "      <th>5</th>\n",
       "      <td>6</td>\n",
       "      <td>757450</td>\n",
       "      <td>1</td>\n",
       "      <td>8.88492</td>\n",
       "      <td>1.186150e-06</td>\n",
       "      <td>134.452</td>\n",
       "      <td>0.000101</td>\n",
       "      <td>0.05677</td>\n",
       "      <td>0.95020</td>\n",
       "      <td>2.078</td>\n",
       "      <td>...</td>\n",
       "      <td>27.6</td>\n",
       "      <td>NaN</td>\n",
       "      <td>NaN</td>\n",
       "      <td>5332.0</td>\n",
       "      <td>102.0</td>\n",
       "      <td>4.50</td>\n",
       "      <td>0.04</td>\n",
       "      <td>0.843</td>\n",
       "      <td>0.051</td>\n",
       "      <td>1</td>\n",
       "    </tr>\n",
       "    <tr>\n",
       "      <th>6</th>\n",
       "      <td>7</td>\n",
       "      <td>892667</td>\n",
       "      <td>1</td>\n",
       "      <td>2.26211</td>\n",
       "      <td>2.726600e-05</td>\n",
       "      <td>132.171</td>\n",
       "      <td>0.006531</td>\n",
       "      <td>0.30000</td>\n",
       "      <td>10.61000</td>\n",
       "      <td>7.509</td>\n",
       "      <td>...</td>\n",
       "      <td>486.0</td>\n",
       "      <td>NaN</td>\n",
       "      <td>NaN</td>\n",
       "      <td>6609.0</td>\n",
       "      <td>236.0</td>\n",
       "      <td>4.11</td>\n",
       "      <td>0.28</td>\n",
       "      <td>1.654</td>\n",
       "      <td>0.811</td>\n",
       "      <td>0</td>\n",
       "    </tr>\n",
       "    <tr>\n",
       "      <th>7</th>\n",
       "      <td>8</td>\n",
       "      <td>892772</td>\n",
       "      <td>1</td>\n",
       "      <td>5.09260</td>\n",
       "      <td>3.144550e-05</td>\n",
       "      <td>133.451</td>\n",
       "      <td>0.004821</td>\n",
       "      <td>0.30000</td>\n",
       "      <td>16.09000</td>\n",
       "      <td>3.399</td>\n",
       "      <td>...</td>\n",
       "      <td>78.6</td>\n",
       "      <td>NaN</td>\n",
       "      <td>NaN</td>\n",
       "      <td>5037.0</td>\n",
       "      <td>197.0</td>\n",
       "      <td>4.55</td>\n",
       "      <td>0.12</td>\n",
       "      <td>0.751</td>\n",
       "      <td>0.127</td>\n",
       "      <td>0</td>\n",
       "    </tr>\n",
       "    <tr>\n",
       "      <th>13</th>\n",
       "      <td>14</td>\n",
       "      <td>1026957</td>\n",
       "      <td>1</td>\n",
       "      <td>21.76130</td>\n",
       "      <td>1.002540e-05</td>\n",
       "      <td>144.779</td>\n",
       "      <td>0.000385</td>\n",
       "      <td>0.31800</td>\n",
       "      <td>1.36000</td>\n",
       "      <td>1.277</td>\n",
       "      <td>...</td>\n",
       "      <td>20.7</td>\n",
       "      <td>NaN</td>\n",
       "      <td>NaN</td>\n",
       "      <td>4859.0</td>\n",
       "      <td>105.0</td>\n",
       "      <td>4.61</td>\n",
       "      <td>0.06</td>\n",
       "      <td>0.723</td>\n",
       "      <td>0.053</td>\n",
       "      <td>0</td>\n",
       "    </tr>\n",
       "    <tr>\n",
       "      <th>...</th>\n",
       "      <td>...</td>\n",
       "      <td>...</td>\n",
       "      <td>...</td>\n",
       "      <td>...</td>\n",
       "      <td>...</td>\n",
       "      <td>...</td>\n",
       "      <td>...</td>\n",
       "      <td>...</td>\n",
       "      <td>...</td>\n",
       "      <td>...</td>\n",
       "      <td>...</td>\n",
       "      <td>...</td>\n",
       "      <td>...</td>\n",
       "      <td>...</td>\n",
       "      <td>...</td>\n",
       "      <td>...</td>\n",
       "      <td>...</td>\n",
       "      <td>...</td>\n",
       "      <td>...</td>\n",
       "      <td>...</td>\n",
       "      <td>...</td>\n",
       "    </tr>\n",
       "    <tr>\n",
       "      <th>20350</th>\n",
       "      <td>20351</td>\n",
       "      <td>11766996</td>\n",
       "      <td>1</td>\n",
       "      <td>2.57015</td>\n",
       "      <td>3.561260e-05</td>\n",
       "      <td>132.004</td>\n",
       "      <td>0.008524</td>\n",
       "      <td>0.94720</td>\n",
       "      <td>0.03921</td>\n",
       "      <td>6.296</td>\n",
       "      <td>...</td>\n",
       "      <td>598.0</td>\n",
       "      <td>NaN</td>\n",
       "      <td>NaN</td>\n",
       "      <td>6982.0</td>\n",
       "      <td>233.0</td>\n",
       "      <td>4.19</td>\n",
       "      <td>0.35</td>\n",
       "      <td>1.582</td>\n",
       "      <td>0.984</td>\n",
       "      <td>0</td>\n",
       "    </tr>\n",
       "    <tr>\n",
       "      <th>20358</th>\n",
       "      <td>20359</td>\n",
       "      <td>11852982</td>\n",
       "      <td>1</td>\n",
       "      <td>13.81500</td>\n",
       "      <td>1.980510e-05</td>\n",
       "      <td>139.681</td>\n",
       "      <td>0.001159</td>\n",
       "      <td>0.92650</td>\n",
       "      <td>0.01786</td>\n",
       "      <td>2.526</td>\n",
       "      <td>...</td>\n",
       "      <td>18.2</td>\n",
       "      <td>NaN</td>\n",
       "      <td>NaN</td>\n",
       "      <td>3833.0</td>\n",
       "      <td>96.0</td>\n",
       "      <td>4.72</td>\n",
       "      <td>0.04</td>\n",
       "      <td>0.545</td>\n",
       "      <td>0.040</td>\n",
       "      <td>1</td>\n",
       "    </tr>\n",
       "    <tr>\n",
       "      <th>20359</th>\n",
       "      <td>20360</td>\n",
       "      <td>11853130</td>\n",
       "      <td>1</td>\n",
       "      <td>76.87940</td>\n",
       "      <td>4.380300e-05</td>\n",
       "      <td>146.882</td>\n",
       "      <td>0.000515</td>\n",
       "      <td>0.86230</td>\n",
       "      <td>0.02334</td>\n",
       "      <td>2.357</td>\n",
       "      <td>...</td>\n",
       "      <td>15.4</td>\n",
       "      <td>NaN</td>\n",
       "      <td>NaN</td>\n",
       "      <td>3587.0</td>\n",
       "      <td>62.0</td>\n",
       "      <td>4.89</td>\n",
       "      <td>0.08</td>\n",
       "      <td>0.380</td>\n",
       "      <td>0.060</td>\n",
       "      <td>1</td>\n",
       "    </tr>\n",
       "    <tr>\n",
       "      <th>20360</th>\n",
       "      <td>20361</td>\n",
       "      <td>11905761</td>\n",
       "      <td>1</td>\n",
       "      <td>3.58024</td>\n",
       "      <td>6.820920e-05</td>\n",
       "      <td>135.071</td>\n",
       "      <td>0.014266</td>\n",
       "      <td>0.09369</td>\n",
       "      <td>69.84000</td>\n",
       "      <td>11.990</td>\n",
       "      <td>...</td>\n",
       "      <td>406.0</td>\n",
       "      <td>NaN</td>\n",
       "      <td>NaN</td>\n",
       "      <td>6745.0</td>\n",
       "      <td>308.0</td>\n",
       "      <td>3.93</td>\n",
       "      <td>0.24</td>\n",
       "      <td>2.346</td>\n",
       "      <td>0.954</td>\n",
       "      <td>0</td>\n",
       "    </tr>\n",
       "    <tr>\n",
       "      <th>20365</th>\n",
       "      <td>20366</td>\n",
       "      <td>11923819</td>\n",
       "      <td>1</td>\n",
       "      <td>33.15950</td>\n",
       "      <td>9.532960e-07</td>\n",
       "      <td>159.812</td>\n",
       "      <td>0.000023</td>\n",
       "      <td>0.74720</td>\n",
       "      <td>0.01981</td>\n",
       "      <td>9.132</td>\n",
       "      <td>...</td>\n",
       "      <td>200.0</td>\n",
       "      <td>NaN</td>\n",
       "      <td>NaN</td>\n",
       "      <td>7968.0</td>\n",
       "      <td>323.0</td>\n",
       "      <td>3.95</td>\n",
       "      <td>0.23</td>\n",
       "      <td>2.390</td>\n",
       "      <td>0.854</td>\n",
       "      <td>0</td>\n",
       "    </tr>\n",
       "  </tbody>\n",
       "</table>\n",
       "<p>9865 rows × 27 columns</p>\n",
       "</div>"
      ],
      "text/plain": [
       "       loc_rowid     kepid  tce_plnt_num  tce_period  tce_period_err  \\\n",
       "0              1   1162345             2     0.83185    6.693070e-05   \n",
       "5              6    757450             1     8.88492    1.186150e-06   \n",
       "6              7    892667             1     2.26211    2.726600e-05   \n",
       "7              8    892772             1     5.09260    3.144550e-05   \n",
       "13            14   1026957             1    21.76130    1.002540e-05   \n",
       "...          ...       ...           ...         ...             ...   \n",
       "20350      20351  11766996             1     2.57015    3.561260e-05   \n",
       "20358      20359  11852982             1    13.81500    1.980510e-05   \n",
       "20359      20360  11853130             1    76.87940    4.380300e-05   \n",
       "20360      20361  11905761             1     3.58024    6.820920e-05   \n",
       "20365      20366  11923819             1    33.15950    9.532960e-07   \n",
       "\n",
       "       tce_time0bk  tce_time0bk_err  tce_impact  tce_impact_err  tce_duration  \\\n",
       "0          132.227         0.035197     0.92600         1.47100         2.392   \n",
       "5          134.452         0.000101     0.05677         0.95020         2.078   \n",
       "6          132.171         0.006531     0.30000        10.61000         7.509   \n",
       "7          133.451         0.004821     0.30000        16.09000         3.399   \n",
       "13         144.779         0.000385     0.31800         1.36000         1.277   \n",
       "...            ...              ...         ...             ...           ...   \n",
       "20350      132.004         0.008524     0.94720         0.03921         6.296   \n",
       "20358      139.681         0.001159     0.92650         0.01786         2.526   \n",
       "20359      146.882         0.000515     0.86230         0.02334         2.357   \n",
       "20360      135.071         0.014266     0.09369        69.84000        11.990   \n",
       "20365      159.812         0.000023     0.74720         0.01981         9.132   \n",
       "\n",
       "       ...  tce_eqt_err  tce_insol  tce_insol_err  tce_steff  tce_steff_err  \\\n",
       "0      ...        637.0        NaN            NaN     6510.0          207.0   \n",
       "5      ...         27.6        NaN            NaN     5332.0          102.0   \n",
       "6      ...        486.0        NaN            NaN     6609.0          236.0   \n",
       "7      ...         78.6        NaN            NaN     5037.0          197.0   \n",
       "13     ...         20.7        NaN            NaN     4859.0          105.0   \n",
       "...    ...          ...        ...            ...        ...            ...   \n",
       "20350  ...        598.0        NaN            NaN     6982.0          233.0   \n",
       "20358  ...         18.2        NaN            NaN     3833.0           96.0   \n",
       "20359  ...         15.4        NaN            NaN     3587.0           62.0   \n",
       "20360  ...        406.0        NaN            NaN     6745.0          308.0   \n",
       "20365  ...        200.0        NaN            NaN     7968.0          323.0   \n",
       "\n",
       "       tce_slogg  tce_slogg_err  tce_sradius  tce_sradius_err  av_training_set  \n",
       "0           4.07           0.26        1.728            0.791                0  \n",
       "5           4.50           0.04        0.843            0.051                1  \n",
       "6           4.11           0.28        1.654            0.811                0  \n",
       "7           4.55           0.12        0.751            0.127                0  \n",
       "13          4.61           0.06        0.723            0.053                0  \n",
       "...          ...            ...          ...              ...              ...  \n",
       "20350       4.19           0.35        1.582            0.984                0  \n",
       "20358       4.72           0.04        0.545            0.040                1  \n",
       "20359       4.89           0.08        0.380            0.060                1  \n",
       "20360       3.93           0.24        2.346            0.954                0  \n",
       "20365       3.95           0.23        2.390            0.854                0  \n",
       "\n",
       "[9865 rows x 27 columns]"
      ]
     },
     "execution_count": 6,
     "metadata": {},
     "output_type": "execute_result"
    }
   ],
   "source": [
    "data = data[~data['kepid'].duplicated()] #removing duplicate kepids\n",
    "data"
   ]
  },
  {
   "cell_type": "code",
   "execution_count": 7,
   "id": "977f7a23",
   "metadata": {},
   "outputs": [
    {
     "data": {
      "text/plain": [
       "['KIC 1162345',\n",
       " 'KIC 757450',\n",
       " 'KIC 892667',\n",
       " 'KIC 892772',\n",
       " 'KIC 1026957',\n",
       " 'KIC 1160891',\n",
       " 'KIC 1162150',\n",
       " 'KIC 1161345',\n",
       " 'KIC 1292087',\n",
       " 'KIC 1573174',\n",
       " 'KIC 1574792',\n",
       " 'KIC 1575690',\n",
       " 'KIC 1575873',\n",
       " 'KIC 1865567',\n",
       " 'KIC 2019227',\n",
       " 'KIC 2019477',\n",
       " 'KIC 2167600',\n",
       " 'KIC 2306740',\n",
       " 'KIC 2307199',\n",
       " 'KIC 2439211',\n",
       " 'KIC 2439243',\n",
       " 'KIC 2554853',\n",
       " 'KIC 2554867',\n",
       " 'KIC 2578072',\n",
       " 'KIC 2578077',\n",
       " 'KIC 2693092',\n",
       " 'KIC 2693097',\n",
       " 'KIC 2714932',\n",
       " 'KIC 2714947',\n",
       " 'KIC 2714954',\n",
       " 'KIC 2722074',\n",
       " 'KIC 2854698',\n",
       " 'KIC 2854914',\n",
       " 'KIC 2987660',\n",
       " 'KIC 2988145',\n",
       " 'KIC 2992648',\n",
       " 'KIC 2855603',\n",
       " 'KIC 2856756',\n",
       " 'KIC 2857323',\n",
       " 'KIC 2857607',\n",
       " 'KIC 2857722',\n",
       " 'KIC 2860114',\n",
       " 'KIC 2860594',\n",
       " 'KIC 2860851',\n",
       " 'KIC 2439798',\n",
       " 'KIC 2969628',\n",
       " 'KIC 2969638',\n",
       " 'KIC 2970804',\n",
       " 'KIC 2971415',\n",
       " 'KIC 2693450',\n",
       " 'KIC 2974858',\n",
       " 'KIC 2975770',\n",
       " 'KIC 2714955',\n",
       " 'KIC 2985398',\n",
       " 'KIC 2985587',\n",
       " 'KIC 2985767',\n",
       " 'KIC 2988768',\n",
       " 'KIC 2989404',\n",
       " 'KIC 1294670',\n",
       " 'KIC 1576115',\n",
       " 'KIC 1867630',\n",
       " 'KIC 2167890',\n",
       " 'KIC 2307206',\n",
       " 'KIC 2307415',\n",
       " 'KIC 2440757',\n",
       " 'KIC 2441151',\n",
       " 'KIC 2441161',\n",
       " 'KIC 2556650',\n",
       " 'KIC 2578404',\n",
       " 'KIC 2578811',\n",
       " 'KIC 2578891',\n",
       " 'KIC 2693736',\n",
       " 'KIC 2694337',\n",
       " 'KIC 2715053',\n",
       " 'KIC 2715113',\n",
       " 'KIC 2715119',\n",
       " 'KIC 2715135',\n",
       " 'KIC 2830919',\n",
       " 'KIC 2831055',\n",
       " 'KIC 2854948',\n",
       " 'KIC 2854953',\n",
       " 'KIC 1295289',\n",
       " 'KIC 1295546',\n",
       " 'KIC 1296164',\n",
       " 'KIC 1576144',\n",
       " 'KIC 1869607',\n",
       " 'KIC 1870398',\n",
       " 'KIC 1870849',\n",
       " 'KIC 2021440',\n",
       " 'KIC 2168333',\n",
       " 'KIC 2307533',\n",
       " 'KIC 2308603',\n",
       " 'KIC 2441495',\n",
       " 'KIC 2441728',\n",
       " 'KIC 2557816',\n",
       " 'KIC 2578901',\n",
       " 'KIC 2695030',\n",
       " 'KIC 2695110',\n",
       " 'KIC 2696703',\n",
       " 'KIC 2715228',\n",
       " 'KIC 2715245',\n",
       " 'KIC 2831251',\n",
       " 'KIC 2832589',\n",
       " 'KIC 2832753',\n",
       " 'KIC 1429120',\n",
       " 'KIC 1871056',\n",
       " 'KIC 2141783',\n",
       " 'KIC 2282763',\n",
       " 'KIC 2308957',\n",
       " 'KIC 2309568',\n",
       " 'KIC 2309579',\n",
       " 'KIC 2442084',\n",
       " 'KIC 2442118',\n",
       " 'KIC 2442359',\n",
       " 'KIC 2558163',\n",
       " 'KIC 2558363',\n",
       " 'KIC 2558370',\n",
       " 'KIC 2579043',\n",
       " 'KIC 2579147',\n",
       " 'KIC 2696938',\n",
       " 'KIC 2707097',\n",
       " 'KIC 2715282',\n",
       " 'KIC 2715398',\n",
       " 'KIC 2715487',\n",
       " 'KIC 2833554',\n",
       " 'KIC 2859299',\n",
       " 'KIC 1429589',\n",
       " 'KIC 1429653',\n",
       " 'KIC 1576558',\n",
       " 'KIC 1577039',\n",
       " 'KIC 2141938',\n",
       " 'KIC 2142522',\n",
       " 'KIC 2283124',\n",
       " 'KIC 2283362',\n",
       " 'KIC 2309585',\n",
       " 'KIC 2309587',\n",
       " 'KIC 2309719',\n",
       " 'KIC 2442448',\n",
       " 'KIC 2443393',\n",
       " 'KIC 2558488',\n",
       " 'KIC 2568971',\n",
       " 'KIC 2579814',\n",
       " 'KIC 2580872',\n",
       " 'KIC 2707479',\n",
       " 'KIC 2707916',\n",
       " 'KIC 2715695',\n",
       " 'KIC 2716801',\n",
       " 'KIC 2835657',\n",
       " 'KIC 2837111',\n",
       " 'KIC 2860656',\n",
       " 'KIC 2860793',\n",
       " 'KIC 1430207',\n",
       " 'KIC 1430590',\n",
       " 'KIC 1872821',\n",
       " 'KIC 1872948',\n",
       " 'KIC 2157489',\n",
       " 'KIC 2297728',\n",
       " 'KIC 2309910',\n",
       " 'KIC 2310284',\n",
       " 'KIC 2444412',\n",
       " 'KIC 2445129',\n",
       " 'KIC 2569488',\n",
       " 'KIC 2569494',\n",
       " 'KIC 2569516',\n",
       " 'KIC 2581191',\n",
       " 'KIC 2707985',\n",
       " 'KIC 2708172',\n",
       " 'KIC 2716853',\n",
       " 'KIC 2717158',\n",
       " 'KIC 2846358',\n",
       " 'KIC 2849140',\n",
       " 'KIC 2860866',\n",
       " 'KIC 2860930',\n",
       " 'KIC 1430741',\n",
       " 'KIC 1431122',\n",
       " 'KIC 1717528',\n",
       " 'KIC 1717722',\n",
       " 'KIC 1718189',\n",
       " 'KIC 1873513',\n",
       " 'KIC 2158190',\n",
       " 'KIC 2158208',\n",
       " 'KIC 2297739',\n",
       " 'KIC 2297793',\n",
       " 'KIC 2422539',\n",
       " 'KIC 2436378',\n",
       " 'KIC 2445134',\n",
       " 'KIC 2445154',\n",
       " 'KIC 2570281',\n",
       " 'KIC 2570432',\n",
       " 'KIC 2570505',\n",
       " 'KIC 2581316',\n",
       " 'KIC 2708176',\n",
       " 'KIC 2708203',\n",
       " 'KIC 2708221',\n",
       " 'KIC 2708270',\n",
       " 'KIC 2717483',\n",
       " 'KIC 2849805',\n",
       " 'KIC 2969991',\n",
       " 'KIC 1431794',\n",
       " 'KIC 1718290',\n",
       " 'KIC 1995519',\n",
       " 'KIC 1995732',\n",
       " 'KIC 1996180',\n",
       " 'KIC 2159700',\n",
       " 'KIC 2159852',\n",
       " 'KIC 2437060',\n",
       " 'KIC 2437112',\n",
       " 'KIC 2445975',\n",
       " 'KIC 2570767',\n",
       " 'KIC 2570773',\n",
       " 'KIC 2581457',\n",
       " 'KIC 2581554',\n",
       " 'KIC 2708278',\n",
       " 'KIC 2708286',\n",
       " 'KIC 2708343',\n",
       " 'KIC 2718630',\n",
       " 'KIC 2718778',\n",
       " 'KIC 2851100',\n",
       " 'KIC 2852528',\n",
       " 'KIC 2852560',\n",
       " 'KIC 2970836',\n",
       " 'KIC 1432214',\n",
       " 'KIC 1432789',\n",
       " 'KIC 1718594',\n",
       " 'KIC 1996679',\n",
       " 'KIC 2161536',\n",
       " 'KIC 2161623',\n",
       " 'KIC 2300603',\n",
       " 'KIC 2437149',\n",
       " 'KIC 2446113',\n",
       " 'KIC 2446623',\n",
       " 'KIC 2571075',\n",
       " 'KIC 2571238',\n",
       " 'KIC 2571417',\n",
       " 'KIC 2581674',\n",
       " 'KIC 2708420',\n",
       " 'KIC 2708445',\n",
       " 'KIC 2718944',\n",
       " 'KIC 2719125',\n",
       " 'KIC 2852810',\n",
       " 'KIC 2973386',\n",
       " 'KIC 2973509',\n",
       " 'KIC 2973800',\n",
       " 'KIC 1433399',\n",
       " 'KIC 1718958',\n",
       " 'KIC 1719308',\n",
       " 'KIC 1720673',\n",
       " 'KIC 1996773',\n",
       " 'KIC 2010191',\n",
       " 'KIC 2010414',\n",
       " 'KIC 2302548',\n",
       " 'KIC 2437488',\n",
       " 'KIC 2437505',\n",
       " 'KIC 2447832',\n",
       " 'KIC 2583153',\n",
       " 'KIC 2708885',\n",
       " 'KIC 2710327',\n",
       " 'KIC 2710406',\n",
       " 'KIC 2719436',\n",
       " 'KIC 2719873',\n",
       " 'KIC 2852941',\n",
       " 'KIC 2853029',\n",
       " 'KIC 2853093',\n",
       " 'KIC 2853280',\n",
       " 'KIC 2976017',\n",
       " 'KIC 1433899',\n",
       " 'KIC 1433962',\n",
       " 'KIC 1721157',\n",
       " 'KIC 1721361',\n",
       " 'KIC 2162635',\n",
       " 'KIC 2162904',\n",
       " 'KIC 2303304',\n",
       " 'KIC 2303365',\n",
       " 'KIC 2303903',\n",
       " 'KIC 2437783',\n",
       " 'KIC 2448307',\n",
       " 'KIC 2449053',\n",
       " 'KIC 2449074',\n",
       " 'KIC 2571868',\n",
       " 'KIC 2572029',\n",
       " 'KIC 2573056',\n",
       " 'KIC 2710623',\n",
       " 'KIC 2719928',\n",
       " 'KIC 2985054',\n",
       " 'KIC 2985396',\n",
       " 'KIC 1433980',\n",
       " 'KIC 1434660',\n",
       " 'KIC 1724222',\n",
       " 'KIC 1724513',\n",
       " 'KIC 1724719',\n",
       " 'KIC 2011424',\n",
       " 'KIC 2012722',\n",
       " 'KIC 2163326',\n",
       " 'KIC 2164169',\n",
       " 'KIC 2304168',\n",
       " 'KIC 2304235',\n",
       " 'KIC 2437804',\n",
       " 'KIC 2438062',\n",
       " 'KIC 2449090',\n",
       " 'KIC 2449101',\n",
       " 'KIC 2574201',\n",
       " 'KIC 2574338',\n",
       " 'KIC 2574543',\n",
       " 'KIC 2583777',\n",
       " 'KIC 2584163',\n",
       " 'KIC 2711123',\n",
       " 'KIC 2711597',\n",
       " 'KIC 2720514',\n",
       " 'KIC 2720582',\n",
       " 'KIC 2853320',\n",
       " 'KIC 2986833',\n",
       " 'KIC 2987027',\n",
       " 'KIC 2987433',\n",
       " 'KIC 1434800',\n",
       " 'KIC 1724961',\n",
       " 'KIC 2013883',\n",
       " 'KIC 2014991',\n",
       " 'KIC 2015013',\n",
       " 'KIC 2164884',\n",
       " 'KIC 2165002',\n",
       " 'KIC 2304320',\n",
       " 'KIC 2438070',\n",
       " 'KIC 2438249',\n",
       " 'KIC 2438264',\n",
       " 'KIC 2449431',\n",
       " 'KIC 2450944',\n",
       " 'KIC 2584879',\n",
       " 'KIC 2584908',\n",
       " 'KIC 2585092',\n",
       " 'KIC 2711606',\n",
       " 'KIC 2720594',\n",
       " 'KIC 2853446',\n",
       " 'KIC 2853780',\n",
       " 'KIC 2853828',\n",
       " 'KIC 2989706',\n",
       " 'KIC 2990873',\n",
       " 'KIC 1571511',\n",
       " 'KIC 1571717',\n",
       " 'KIC 1725016',\n",
       " 'KIC 1725193',\n",
       " 'KIC 1849235',\n",
       " 'KIC 2016979',\n",
       " 'KIC 2018685',\n",
       " 'KIC 2165352',\n",
       " 'KIC 2166200',\n",
       " 'KIC 2166206',\n",
       " 'KIC 2305255',\n",
       " 'KIC 2305311',\n",
       " 'KIC 2305543',\n",
       " 'KIC 2438490',\n",
       " 'KIC 2438502',\n",
       " 'KIC 2452289',\n",
       " 'KIC 2452440',\n",
       " 'KIC 2575964',\n",
       " 'KIC 2576107',\n",
       " 'KIC 2576197',\n",
       " 'KIC 2692377',\n",
       " 'KIC 2713049',\n",
       " 'KIC 2714707',\n",
       " 'KIC 2720828',\n",
       " 'KIC 2721030',\n",
       " 'KIC 2853889',\n",
       " 'KIC 2854181',\n",
       " 'KIC 1572948',\n",
       " 'KIC 1849702',\n",
       " 'KIC 1865042',\n",
       " 'KIC 2019076',\n",
       " 'KIC 2166218',\n",
       " 'KIC 2305866',\n",
       " 'KIC 2438513',\n",
       " 'KIC 2438517',\n",
       " 'KIC 2452450',\n",
       " 'KIC 2452920',\n",
       " 'KIC 2576224',\n",
       " 'KIC 2576692',\n",
       " 'KIC 2577952',\n",
       " 'KIC 2714807',\n",
       " 'KIC 2714887',\n",
       " 'KIC 3351945',\n",
       " 'KIC 3352122',\n",
       " 'KIC 3440840',\n",
       " 'KIC 3440978',\n",
       " 'KIC 3441159',\n",
       " 'KIC 3449540',\n",
       " 'KIC 3450040',\n",
       " 'KIC 3453026',\n",
       " 'KIC 3534118',\n",
       " 'KIC 3534192',\n",
       " 'KIC 3547014',\n",
       " 'KIC 3547091',\n",
       " 'KIC 3560301',\n",
       " 'KIC 3644071',\n",
       " 'KIC 3644116',\n",
       " 'KIC 3660006',\n",
       " 'KIC 3660392',\n",
       " 'KIC 3748250',\n",
       " 'KIC 3764714',\n",
       " 'KIC 3764879',\n",
       " 'KIC 3765054',\n",
       " 'KIC 3103227',\n",
       " 'KIC 3103473',\n",
       " 'KIC 3109550',\n",
       " 'KIC 3128325',\n",
       " 'KIC 3128552',\n",
       " 'KIC 3230578',\n",
       " 'KIC 3240556',\n",
       " 'KIC 3323168',\n",
       " 'KIC 3323289',\n",
       " 'KIC 3340312',\n",
       " 'KIC 3340313',\n",
       " 'KIC 3340360',\n",
       " 'KIC 3353050',\n",
       " 'KIC 3353454',\n",
       " 'KIC 3354846',\n",
       " 'KIC 3453214',\n",
       " 'KIC 3453272',\n",
       " 'KIC 3539231',\n",
       " 'KIC 3539521',\n",
       " 'KIC 3547178',\n",
       " 'KIC 3560660',\n",
       " 'KIC 3560871',\n",
       " 'KIC 3644128',\n",
       " 'KIC 3644505',\n",
       " 'KIC 3644523',\n",
       " 'KIC 3660924',\n",
       " 'KIC 3749134',\n",
       " 'KIC 3749365',\n",
       " 'KIC 2993589',\n",
       " 'KIC 3109924',\n",
       " 'KIC 3109930',\n",
       " 'KIC 3109937',\n",
       " 'KIC 3110937',\n",
       " 'KIC 3128793',\n",
       " 'KIC 3230753',\n",
       " 'KIC 3230787',\n",
       " 'KIC 3230805',\n",
       " 'KIC 3240706',\n",
       " 'KIC 3324644',\n",
       " 'KIC 3341760',\n",
       " 'KIC 3354855',\n",
       " 'KIC 3355104',\n",
       " 'KIC 3441340',\n",
       " 'KIC 3441784',\n",
       " 'KIC 3453494',\n",
       " 'KIC 3539869',\n",
       " 'KIC 3547187',\n",
       " 'KIC 3547315',\n",
       " 'KIC 3561464',\n",
       " 'KIC 3561656',\n",
       " 'KIC 3644542',\n",
       " 'KIC 3644602',\n",
       " 'KIC 3661361',\n",
       " 'KIC 3749389',\n",
       " 'KIC 3749833',\n",
       " 'KIC 2994888',\n",
       " 'KIC 2995392',\n",
       " 'KIC 2995823',\n",
       " 'KIC 3112129',\n",
       " 'KIC 3113266',\n",
       " 'KIC 3130300',\n",
       " 'KIC 3130548',\n",
       " 'KIC 3231120',\n",
       " 'KIC 3231137',\n",
       " 'KIC 3241199',\n",
       " 'KIC 3241248',\n",
       " 'KIC 3324986',\n",
       " 'KIC 3326377',\n",
       " 'KIC 3326428',\n",
       " 'KIC 3341934',\n",
       " 'KIC 3356799',\n",
       " 'KIC 3454720',\n",
       " 'KIC 3454731',\n",
       " 'KIC 3541800',\n",
       " 'KIC 3541946',\n",
       " 'KIC 3547523',\n",
       " 'KIC 3547760',\n",
       " 'KIC 3561700',\n",
       " 'KIC 3644653',\n",
       " 'KIC 3645438',\n",
       " 'KIC 3661886',\n",
       " 'KIC 3662635',\n",
       " 'KIC 3749978',\n",
       " 'KIC 2996015',\n",
       " 'KIC 3114167',\n",
       " 'KIC 3114661',\n",
       " 'KIC 3114667',\n",
       " 'KIC 3114811',\n",
       " 'KIC 3216518',\n",
       " 'KIC 3216838',\n",
       " 'KIC 3231341',\n",
       " 'KIC 3241344',\n",
       " 'KIC 3241557',\n",
       " 'KIC 3327992',\n",
       " 'KIC 3342592',\n",
       " 'KIC 3342628',\n",
       " 'KIC 3425758',\n",
       " 'KIC 3442006',\n",
       " 'KIC 3548044',\n",
       " 'KIC 3548369',\n",
       " 'KIC 3629100',\n",
       " 'KIC 3629330',\n",
       " 'KIC 3645863',\n",
       " 'KIC 3662838',\n",
       " 'KIC 3663141',\n",
       " 'KIC 3752110',\n",
       " 'KIC 3756264',\n",
       " 'KIC 2997178',\n",
       " 'KIC 2997455',\n",
       " 'KIC 2997459',\n",
       " 'KIC 3115272',\n",
       " 'KIC 3115435',\n",
       " 'KIC 3115728',\n",
       " 'KIC 3217264',\n",
       " 'KIC 3231406',\n",
       " 'KIC 3241604',\n",
       " 'KIC 3241619',\n",
       " 'KIC 3241662',\n",
       " 'KIC 3241685',\n",
       " 'KIC 3327993',\n",
       " 'KIC 3328026',\n",
       " 'KIC 3328027',\n",
       " 'KIC 3342794',\n",
       " 'KIC 3342952',\n",
       " 'KIC 3342970',\n",
       " 'KIC 3425851',\n",
       " 'KIC 3426367',\n",
       " 'KIC 3427727',\n",
       " 'KIC 3442054',\n",
       " 'KIC 3442055',\n",
       " 'KIC 3442058',\n",
       " 'KIC 3455863',\n",
       " 'KIC 3542167',\n",
       " 'KIC 3542222',\n",
       " 'KIC 3542345',\n",
       " 'KIC 3629430',\n",
       " 'KIC 3629473',\n",
       " 'KIC 3646449',\n",
       " 'KIC 3663173',\n",
       " 'KIC 3663904',\n",
       " 'KIC 3757407',\n",
       " 'KIC 2998124',\n",
       " 'KIC 3115833',\n",
       " 'KIC 3217554',\n",
       " 'KIC 3231410',\n",
       " 'KIC 3244792',\n",
       " 'KIC 3328052',\n",
       " 'KIC 3328080',\n",
       " 'KIC 3329204',\n",
       " 'KIC 3343281',\n",
       " 'KIC 3427776',\n",
       " 'KIC 3456198',\n",
       " 'KIC 3542574',\n",
       " 'KIC 3548639',\n",
       " 'KIC 3548900',\n",
       " 'KIC 3629474',\n",
       " 'KIC 3629967',\n",
       " 'KIC 3632089',\n",
       " 'KIC 3648437',\n",
       " 'KIC 3649426',\n",
       " 'KIC 3650040',\n",
       " 'KIC 3728432',\n",
       " 'KIC 3728701',\n",
       " 'KIC 3730335',\n",
       " 'KIC 3757588',\n",
       " 'KIC 2998561',\n",
       " 'KIC 3001885',\n",
       " 'KIC 3116412',\n",
       " 'KIC 3117510',\n",
       " 'KIC 3218688',\n",
       " 'KIC 3218908',\n",
       " 'KIC 3232859',\n",
       " 'KIC 3233043',\n",
       " 'KIC 3245420',\n",
       " 'KIC 3329643',\n",
       " 'KIC 3329839',\n",
       " 'KIC 3330684',\n",
       " 'KIC 3330688',\n",
       " 'KIC 3344419',\n",
       " 'KIC 3344427',\n",
       " 'KIC 3345675',\n",
       " 'KIC 3428013',\n",
       " 'KIC 3428468',\n",
       " 'KIC 3443127',\n",
       " 'KIC 3443582',\n",
       " 'KIC 3443790',\n",
       " 'KIC 3456945',\n",
       " 'KIC 3542588',\n",
       " 'KIC 3543070',\n",
       " 'KIC 3550372',\n",
       " 'KIC 3550434',\n",
       " 'KIC 3632418',\n",
       " 'KIC 3633889',\n",
       " 'KIC 3650111',\n",
       " 'KIC 3730390',\n",
       " 'KIC 3732035',\n",
       " 'KIC 3757590',\n",
       " 'KIC 3757778',\n",
       " 'KIC 3002478',\n",
       " 'KIC 3003991',\n",
       " 'KIC 3117511',\n",
       " 'KIC 3117514',\n",
       " 'KIC 3118797',\n",
       " 'KIC 3219037',\n",
       " 'KIC 3233302',\n",
       " 'KIC 3234598',\n",
       " 'KIC 3245969',\n",
       " 'KIC 3246083',\n",
       " 'KIC 3246782',\n",
       " 'KIC 3335813',\n",
       " 'KIC 3336283',\n",
       " 'KIC 3346027',\n",
       " 'KIC 3346154',\n",
       " 'KIC 3429637',\n",
       " 'KIC 3429973',\n",
       " 'KIC 3444098',\n",
       " 'KIC 3444588',\n",
       " 'KIC 3444699',\n",
       " 'KIC 3457172',\n",
       " 'KIC 3457192',\n",
       " 'KIC 3543270',\n",
       " 'KIC 3553413',\n",
       " 'KIC 3553900',\n",
       " 'KIC 3554031',\n",
       " 'KIC 3634051',\n",
       " 'KIC 3654095',\n",
       " 'KIC 3654515',\n",
       " 'KIC 3732821',\n",
       " 'KIC 3732894',\n",
       " 'KIC 3733346',\n",
       " 'KIC 3733628',\n",
       " 'KIC 3758403',\n",
       " 'KIC 3003992',\n",
       " 'KIC 3097346',\n",
       " 'KIC 3097352',\n",
       " 'KIC 3119256',\n",
       " 'KIC 3219256',\n",
       " 'KIC 3219643',\n",
       " 'KIC 3234843',\n",
       " 'KIC 3236705',\n",
       " 'KIC 3246890',\n",
       " 'KIC 3336476',\n",
       " 'KIC 3346195',\n",
       " 'KIC 3431662',\n",
       " 'KIC 3433668',\n",
       " 'KIC 3437557',\n",
       " 'KIC 3445068',\n",
       " 'KIC 3445443',\n",
       " 'KIC 3445812',\n",
       " 'KIC 3458028',\n",
       " 'KIC 3544595',\n",
       " 'KIC 3544640',\n",
       " 'KIC 3554600',\n",
       " 'KIC 3555191',\n",
       " 'KIC 3634384',\n",
       " 'KIC 3635233',\n",
       " 'KIC 3654719',\n",
       " 'KIC 3654950',\n",
       " 'KIC 3655115',\n",
       " 'KIC 3734418',\n",
       " 'KIC 3758443',\n",
       " 'KIC 3758499',\n",
       " 'KIC 3759974',\n",
       " 'KIC 3097912',\n",
       " 'KIC 3097926',\n",
       " 'KIC 3119307',\n",
       " 'KIC 3119604',\n",
       " 'KIC 3219995',\n",
       " 'KIC 3238059',\n",
       " 'KIC 3238073',\n",
       " 'KIC 3238245',\n",
       " 'KIC 3246984',\n",
       " 'KIC 3336765',\n",
       " 'KIC 3336845',\n",
       " 'KIC 3336937',\n",
       " 'KIC 3347258',\n",
       " 'KIC 3347337',\n",
       " 'KIC 3437739',\n",
       " 'KIC 3437776',\n",
       " 'KIC 3446451',\n",
       " 'KIC 3446471',\n",
       " 'KIC 3458919',\n",
       " 'KIC 3458990',\n",
       " 'KIC 3459199',\n",
       " 'KIC 3544678',\n",
       " 'KIC 3544689',\n",
       " 'KIC 3544694',\n",
       " 'KIC 3556220',\n",
       " 'KIC 3640832',\n",
       " 'KIC 3655326',\n",
       " 'KIC 3655332',\n",
       " 'KIC 3734868',\n",
       " 'KIC 3735629',\n",
       " 'KIC 3735634',\n",
       " 'KIC 3742855',\n",
       " 'KIC 3760002',\n",
       " 'KIC 3098015',\n",
       " 'KIC 3120057',\n",
       " 'KIC 3222183',\n",
       " 'KIC 3238686',\n",
       " 'KIC 3239171',\n",
       " 'KIC 3247039',\n",
       " 'KIC 3337002',\n",
       " 'KIC 3337061',\n",
       " 'KIC 3337351',\n",
       " 'KIC 3347485',\n",
       " 'KIC 3437940',\n",
       " 'KIC 3446746',\n",
       " 'KIC 3446837',\n",
       " 'KIC 3459261',\n",
       " 'KIC 3526331',\n",
       " 'KIC 3529147',\n",
       " 'KIC 3544878',\n",
       " 'KIC 3544900',\n",
       " 'KIC 3545038',\n",
       " 'KIC 3557043',\n",
       " 'KIC 3557273',\n",
       " 'KIC 3640905',\n",
       " 'KIC 3641023',\n",
       " 'KIC 3655513',\n",
       " 'KIC 3744309',\n",
       " 'KIC 3761175',\n",
       " 'KIC 3761319',\n",
       " 'KIC 3761641',\n",
       " 'KIC 3098194',\n",
       " 'KIC 3120276',\n",
       " 'KIC 3120308',\n",
       " 'KIC 3120355',\n",
       " 'KIC 3222680',\n",
       " 'KIC 3223460',\n",
       " 'KIC 3228740',\n",
       " 'KIC 3228804',\n",
       " 'KIC 3239636',\n",
       " 'KIC 3239671',\n",
       " 'KIC 3239926',\n",
       " 'KIC 3247268',\n",
       " 'KIC 3247294',\n",
       " 'KIC 3247306',\n",
       " 'KIC 3347643',\n",
       " 'KIC 3438507',\n",
       " 'KIC 3438975',\n",
       " 'KIC 3438976',\n",
       " 'KIC 3439031',\n",
       " 'KIC 3447701',\n",
       " 'KIC 3529242',\n",
       " 'KIC 3529290',\n",
       " 'KIC 3545135',\n",
       " 'KIC 3557526',\n",
       " 'KIC 3557560',\n",
       " 'KIC 3656121',\n",
       " 'KIC 3656648',\n",
       " 'KIC 3745559',\n",
       " 'KIC 3745690',\n",
       " 'KIC 3762468',\n",
       " 'KIC 3098197',\n",
       " 'KIC 3120397',\n",
       " 'KIC 3120431',\n",
       " 'KIC 3120889',\n",
       " 'KIC 3228824',\n",
       " 'KIC 3228825',\n",
       " 'KIC 3228918',\n",
       " 'KIC 3239945',\n",
       " 'KIC 3240049',\n",
       " 'KIC 3247396',\n",
       " 'KIC 3247404',\n",
       " 'KIC 3337425',\n",
       " 'KIC 3337432',\n",
       " 'KIC 3337438',\n",
       " 'KIC 3337548',\n",
       " 'KIC 3348082',\n",
       " 'KIC 3439096',\n",
       " 'KIC 3439374',\n",
       " 'KIC 3447722',\n",
       " 'KIC 3448130',\n",
       " 'KIC 3530245',\n",
       " 'KIC 3530668',\n",
       " 'KIC 3545457',\n",
       " 'KIC 3545478',\n",
       " 'KIC 3558803',\n",
       " 'KIC 3558849',\n",
       " 'KIC 3641726',\n",
       " 'KIC 3642289',\n",
       " 'KIC 3656913',\n",
       " 'KIC 3746248',\n",
       " 'KIC 3762553',\n",
       " 'KIC 3762741',\n",
       " 'KIC 3763579',\n",
       " 'KIC 3098810',\n",
       " 'KIC 3098843',\n",
       " 'KIC 3120904',\n",
       " 'KIC 3121340',\n",
       " 'KIC 3228945',\n",
       " 'KIC 3228959',\n",
       " 'KIC 3228986',\n",
       " 'KIC 3240158',\n",
       " 'KIC 3240159',\n",
       " 'KIC 3247503',\n",
       " 'KIC 3247616',\n",
       " 'KIC 3338608',\n",
       " 'KIC 3338660',\n",
       " 'KIC 3348090',\n",
       " 'KIC 3348093',\n",
       " 'KIC 3348216',\n",
       " 'KIC 3348285',\n",
       " 'KIC 3348288',\n",
       " 'KIC 3440074',\n",
       " 'KIC 3440118',\n",
       " 'KIC 3448230',\n",
       " 'KIC 3448299',\n",
       " 'KIC 3448323',\n",
       " 'KIC 3448456',\n",
       " 'KIC 3531558',\n",
       " 'KIC 3532510',\n",
       " 'KIC 3532982',\n",
       " 'KIC 3545840',\n",
       " 'KIC 3546060',\n",
       " 'KIC 3546419',\n",
       " 'KIC 3558981',\n",
       " 'KIC 3559860',\n",
       " 'KIC 3642324',\n",
       " 'KIC 3642335',\n",
       " 'KIC 3657176',\n",
       " 'KIC 3657547',\n",
       " 'KIC 3657758',\n",
       " 'KIC 3747262',\n",
       " 'KIC 3747641',\n",
       " 'KIC 3101923',\n",
       " 'KIC 3102000',\n",
       " 'KIC 3122188',\n",
       " 'KIC 3122872',\n",
       " 'KIC 3228988',\n",
       " 'KIC 3229028',\n",
       " 'KIC 3229150',\n",
       " 'KIC 3240231',\n",
       " 'KIC 3240406',\n",
       " 'KIC 3248019',\n",
       " 'KIC 3338674',\n",
       " 'KIC 3338885',\n",
       " 'KIC 3348533',\n",
       " 'KIC 3440230',\n",
       " 'KIC 3448777',\n",
       " 'KIC 3532985',\n",
       " 'KIC 3533469',\n",
       " 'KIC 3546765',\n",
       " 'KIC 3559933',\n",
       " 'KIC 3559935',\n",
       " 'KIC 3642713',\n",
       " 'KIC 3642741',\n",
       " 'KIC 3659012',\n",
       " 'KIC 3747817',\n",
       " 'KIC 3764411',\n",
       " 'KIC 3102024',\n",
       " 'KIC 3102384',\n",
       " 'KIC 3103212',\n",
       " 'KIC 3122913',\n",
       " 'KIC 3122985',\n",
       " 'KIC 3124598',\n",
       " 'KIC 3230206',\n",
       " 'KIC 3230227',\n",
       " 'KIC 3240411',\n",
       " 'KIC 3248033',\n",
       " 'KIC 3248501',\n",
       " 'KIC 3339823',\n",
       " 'KIC 3340165',\n",
       " 'KIC 3351888',\n",
       " 'KIC 4664743',\n",
       " 'KIC 4664847',\n",
       " 'KIC 4679687',\n",
       " 'KIC 4679769',\n",
       " 'KIC 4740125',\n",
       " 'KIC 4740676',\n",
       " 'KIC 4740688',\n",
       " 'KIC 4758350',\n",
       " 'KIC 4758368',\n",
       " 'KIC 4773851',\n",
       " 'KIC 4774194',\n",
       " 'KIC 4840327',\n",
       " 'KIC 4840401',\n",
       " 'KIC 4840513',\n",
       " 'KIC 4850809',\n",
       " 'KIC 4850961',\n",
       " 'KIC 4850965',\n",
       " 'KIC 4861791',\n",
       " 'KIC 4862625',\n",
       " 'KIC 4918309',\n",
       " 'KIC 4919550',\n",
       " 'KIC 4935594',\n",
       " 'KIC 4935813',\n",
       " 'KIC 4458109',\n",
       " 'KIC 4458172',\n",
       " 'KIC 4476011',\n",
       " 'KIC 4488796',\n",
       " 'KIC 4556345',\n",
       " 'KIC 4556468',\n",
       " 'KIC 4557777',\n",
       " 'KIC 4579651',\n",
       " 'KIC 4647715',\n",
       " 'KIC 4647763',\n",
       " 'KIC 4665571',\n",
       " 'KIC 4665989',\n",
       " 'KIC 4665991',\n",
       " 'KIC 4679988',\n",
       " 'KIC 4741126',\n",
       " 'KIC 4742414',\n",
       " 'KIC 4742436',\n",
       " 'KIC 4760478',\n",
       " 'KIC 4760746',\n",
       " 'KIC 4760946',\n",
       " 'KIC 4774208',\n",
       " 'KIC 4840675',\n",
       " 'KIC 4851145',\n",
       " 'KIC 4851168',\n",
       " 'KIC 4851173',\n",
       " 'KIC 4851182',\n",
       " 'KIC 4919814',\n",
       " 'KIC 4919818',\n",
       " 'KIC 4384398',\n",
       " 'KIC 4384652',\n",
       " 'KIC 4458346',\n",
       " 'KIC 4476123',\n",
       " 'KIC 4476186',\n",
       " 'KIC 4488840',\n",
       " 'KIC 4562317',\n",
       " 'KIC 4562615',\n",
       " 'KIC 4584865',\n",
       " 'KIC 4649173',\n",
       " 'KIC 4666008',\n",
       " 'KIC 4667989',\n",
       " 'KIC 4680002',\n",
       " 'KIC 4742461',\n",
       " 'KIC 4743125',\n",
       " 'KIC 4743188',\n",
       " 'KIC 4761060',\n",
       " 'KIC 4774321',\n",
       " 'KIC 4813563',\n",
       " 'KIC 4813750',\n",
       " 'KIC 4841314',\n",
       " 'KIC 4841374',\n",
       " 'KIC 4842166',\n",
       " 'KIC 4851195',\n",
       " 'KIC 4862730',\n",
       " 'KIC 4920125',\n",
       " 'KIC 4384675',\n",
       " 'KIC 4384793',\n",
       " 'KIC 4458918',\n",
       " 'KIC 4458984',\n",
       " 'KIC 4459068',\n",
       " 'KIC 4476392',\n",
       " 'KIC 4477104',\n",
       " 'KIC 4540632',\n",
       " 'KIC 4563268',\n",
       " 'KIC 4565985',\n",
       " 'KIC 4586482',\n",
       " 'KIC 4587135',\n",
       " 'KIC 4649238',\n",
       " 'KIC 4668393',\n",
       " 'KIC 4680543',\n",
       " 'KIC 4680597',\n",
       " 'KIC 4743189',\n",
       " 'KIC 4761269',\n",
       " 'KIC 4814502',\n",
       " 'KIC 4815520',\n",
       " 'KIC 4815612',\n",
       " 'KIC 4842623',\n",
       " 'KIC 4851239',\n",
       " 'KIC 4851283',\n",
       " 'KIC 4862924',\n",
       " 'KIC 4862968',\n",
       " 'KIC 4927192',\n",
       " 'KIC 4385148',\n",
       " 'KIC 4386047',\n",
       " 'KIC 4459285',\n",
       " 'KIC 4459924',\n",
       " 'KIC 4477747',\n",
       " 'KIC 4477871',\n",
       " 'KIC 4544571',\n",
       " 'KIC 4566740',\n",
       " 'KIC 4566848',\n",
       " 'KIC 4587448',\n",
       " 'KIC 4587528',\n",
       " 'KIC 4649305',\n",
       " 'KIC 4669058',\n",
       " 'KIC 4669402',\n",
       " 'KIC 4680745',\n",
       " 'KIC 4680772',\n",
       " 'KIC 4743508',\n",
       " 'KIC 4743513',\n",
       " 'KIC 4763381',\n",
       " 'KIC 4819950',\n",
       " 'KIC 4820550',\n",
       " 'KIC 4843037',\n",
       " 'KIC 4843592',\n",
       " 'KIC 4851338',\n",
       " 'KIC 4851356',\n",
       " 'KIC 4851457',\n",
       " 'KIC 4863077',\n",
       " 'KIC 4863260',\n",
       " 'KIC 4927315',\n",
       " 'KIC 4927495',\n",
       " 'KIC 4386059',\n",
       " 'KIC 4386091',\n",
       " ...]"
      ]
     },
     "execution_count": 7,
     "metadata": {},
     "output_type": "execute_result"
    }
   ],
   "source": [
    "kepid,labels=[],[]\n",
    "kepid=list(data['kepid'])\n",
    "labels=list(data['av_training_set'])\n",
    "for i in range(len(kepid)):\n",
    "    kepid[i]=str('KIC '+str(kepid[i]))\n",
    "kepid"
   ]
  },
  {
   "cell_type": "code",
   "execution_count": 8,
   "id": "69b21f96",
   "metadata": {},
   "outputs": [
    {
     "data": {
      "text/plain": [
       "9865"
      ]
     },
     "execution_count": 8,
     "metadata": {},
     "output_type": "execute_result"
    }
   ],
   "source": [
    "data2=pd.read_csv(\"final_exop_data.csv\")\n",
    "len(data)"
   ]
  },
  {
   "cell_type": "code",
   "execution_count": 159,
   "id": "a64df07b",
   "metadata": {
    "scrolled": true
   },
   "outputs": [
    {
     "name": "stderr",
     "output_type": "stream",
     "text": [
      "Warning: 23% (947/4203) of the cadences will be ignored due to the quality mask (quality_bitmask=2096639).\n"
     ]
    },
    {
     "name": "stdout",
     "output_type": "stream",
     "text": [
      "KIC 1162345\n"
     ]
    },
    {
     "name": "stderr",
     "output_type": "stream",
     "text": [
      "Warning: 24% (1006/4203) of the cadences will be ignored due to the quality mask (quality_bitmask=2096639).\n"
     ]
    },
    {
     "name": "stdout",
     "output_type": "stream",
     "text": [
      "KIC 757450\n",
      "KIC 892667\n"
     ]
    },
    {
     "name": "stderr",
     "output_type": "stream",
     "text": [
      "Warning: 21% (893/4203) of the cadences will be ignored due to the quality mask (quality_bitmask=2096639).\n"
     ]
    },
    {
     "name": "stdout",
     "output_type": "stream",
     "text": [
      "KIC 892772\n"
     ]
    },
    {
     "name": "stderr",
     "output_type": "stream",
     "text": [
      "Warning: 21% (870/4203) of the cadences will be ignored due to the quality mask (quality_bitmask=2096639).\n"
     ]
    },
    {
     "name": "stdout",
     "output_type": "stream",
     "text": [
      "KIC 1026957\n"
     ]
    },
    {
     "name": "stderr",
     "output_type": "stream",
     "text": [
      "Warning: 21% (883/4203) of the cadences will be ignored due to the quality mask (quality_bitmask=2096639).\n"
     ]
    },
    {
     "name": "stdout",
     "output_type": "stream",
     "text": [
      "KIC 1160891\n",
      "KIC 1162150\n"
     ]
    },
    {
     "name": "stderr",
     "output_type": "stream",
     "text": [
      "/Users/aridamansc/opt/anaconda3/lib/python3.9/site-packages/lightkurve/search.py:423: LightkurveWarning: Warning: 4 files available to download. Only the first file has been downloaded. Please use `download_all()` or specify additional criteria (e.g. quarter, campaign, or sector) to limit your search.\n",
      "  warnings.warn(\n",
      "Warning: 24% (993/4203) of the cadences will be ignored due to the quality mask (quality_bitmask=2096639).\n"
     ]
    },
    {
     "name": "stdout",
     "output_type": "stream",
     "text": [
      "KIC 1161345\n",
      "KIC 1292087\n",
      "KIC 1573174\n",
      "KIC 1574792\n"
     ]
    },
    {
     "name": "stderr",
     "output_type": "stream",
     "text": [
      "Warning: 23% (971/4203) of the cadences will be ignored due to the quality mask (quality_bitmask=2096639).\n"
     ]
    },
    {
     "name": "stdout",
     "output_type": "stream",
     "text": [
      "KIC 1575690\n"
     ]
    },
    {
     "name": "stderr",
     "output_type": "stream",
     "text": [
      "Warning: 21% (898/4203) of the cadences will be ignored due to the quality mask (quality_bitmask=2096639).\n"
     ]
    },
    {
     "name": "stdout",
     "output_type": "stream",
     "text": [
      "KIC 1575873\n"
     ]
    },
    {
     "name": "stderr",
     "output_type": "stream",
     "text": [
      "Warning: 20% (851/4203) of the cadences will be ignored due to the quality mask (quality_bitmask=2096639).\n"
     ]
    },
    {
     "name": "stdout",
     "output_type": "stream",
     "text": [
      "KIC 1865567\n"
     ]
    },
    {
     "name": "stderr",
     "output_type": "stream",
     "text": [
      "Warning: 47% (1963/4203) of the cadences will be ignored due to the quality mask (quality_bitmask=2096639).\n"
     ]
    },
    {
     "name": "stdout",
     "output_type": "stream",
     "text": [
      "KIC 2019227\n",
      "KIC 2019477\n"
     ]
    },
    {
     "name": "stderr",
     "output_type": "stream",
     "text": [
      "Warning: 58% (2426/4203) of the cadences will be ignored due to the quality mask (quality_bitmask=2096639).\n"
     ]
    },
    {
     "name": "stdout",
     "output_type": "stream",
     "text": [
      "KIC 2167600\n"
     ]
    },
    {
     "name": "stderr",
     "output_type": "stream",
     "text": [
      "Warning: 32% (1346/4203) of the cadences will be ignored due to the quality mask (quality_bitmask=2096639).\n"
     ]
    },
    {
     "name": "stdout",
     "output_type": "stream",
     "text": [
      "KIC 2306740\n",
      "KIC 2307199\n",
      "KIC 2439211\n"
     ]
    },
    {
     "name": "stderr",
     "output_type": "stream",
     "text": [
      "Warning: 23% (974/4203) of the cadences will be ignored due to the quality mask (quality_bitmask=2096639).\n"
     ]
    },
    {
     "name": "stdout",
     "output_type": "stream",
     "text": [
      "KIC 2439243\n"
     ]
    },
    {
     "name": "stderr",
     "output_type": "stream",
     "text": [
      "Warning: 22% (917/4203) of the cadences will be ignored due to the quality mask (quality_bitmask=2096639).\n"
     ]
    },
    {
     "name": "stdout",
     "output_type": "stream",
     "text": [
      "KIC 2554853\n",
      "KIC 2554867\n"
     ]
    },
    {
     "name": "stderr",
     "output_type": "stream",
     "text": [
      "Warning: 23% (984/4203) of the cadences will be ignored due to the quality mask (quality_bitmask=2096639).\n"
     ]
    },
    {
     "name": "stdout",
     "output_type": "stream",
     "text": [
      "KIC 2578072\n"
     ]
    },
    {
     "name": "stderr",
     "output_type": "stream",
     "text": [
      "Warning: 24% (990/4203) of the cadences will be ignored due to the quality mask (quality_bitmask=2096639).\n"
     ]
    },
    {
     "name": "stdout",
     "output_type": "stream",
     "text": [
      "KIC 2578077\n"
     ]
    },
    {
     "name": "stderr",
     "output_type": "stream",
     "text": [
      "Warning: 20% (856/4203) of the cadences will be ignored due to the quality mask (quality_bitmask=2096639).\n"
     ]
    },
    {
     "name": "stdout",
     "output_type": "stream",
     "text": [
      "KIC 2693092\n",
      "KIC 2693097\n"
     ]
    },
    {
     "name": "stderr",
     "output_type": "stream",
     "text": [
      "Warning: 21% (862/4203) of the cadences will be ignored due to the quality mask (quality_bitmask=2096639).\n"
     ]
    },
    {
     "name": "stdout",
     "output_type": "stream",
     "text": [
      "KIC 2714932\n",
      "KIC 2714947\n"
     ]
    },
    {
     "name": "stderr",
     "output_type": "stream",
     "text": [
      "Warning: 25% (1059/4203) of the cadences will be ignored due to the quality mask (quality_bitmask=2096639).\n"
     ]
    },
    {
     "name": "stdout",
     "output_type": "stream",
     "text": [
      "KIC 2714954\n",
      "KIC 2722074\n"
     ]
    },
    {
     "name": "stderr",
     "output_type": "stream",
     "text": [
      "/Users/aridamansc/opt/anaconda3/lib/python3.9/site-packages/lightkurve/search.py:423: LightkurveWarning: Warning: 2 files available to download. Only the first file has been downloaded. Please use `download_all()` or specify additional criteria (e.g. quarter, campaign, or sector) to limit your search.\n",
      "  warnings.warn(\n",
      "Warning: 67% (2812/4203) of the cadences will be ignored due to the quality mask (quality_bitmask=2096639).\n"
     ]
    },
    {
     "name": "stdout",
     "output_type": "stream",
     "text": [
      "KIC 2854698\n",
      "KIC 2854914\n"
     ]
    },
    {
     "name": "stderr",
     "output_type": "stream",
     "text": [
      "Warning: 36% (1534/4203) of the cadences will be ignored due to the quality mask (quality_bitmask=2096639).\n"
     ]
    },
    {
     "name": "stdout",
     "output_type": "stream",
     "text": [
      "KIC 2987660\n"
     ]
    },
    {
     "name": "stderr",
     "output_type": "stream",
     "text": [
      "Warning: 24% (1014/4203) of the cadences will be ignored due to the quality mask (quality_bitmask=2096639).\n"
     ]
    },
    {
     "name": "stdout",
     "output_type": "stream",
     "text": [
      "KIC 2988145\n",
      "KIC 2992648\n"
     ]
    },
    {
     "name": "stderr",
     "output_type": "stream",
     "text": [
      "Warning: 32% (1354/4203) of the cadences will be ignored due to the quality mask (quality_bitmask=2096639).\n"
     ]
    },
    {
     "name": "stdout",
     "output_type": "stream",
     "text": [
      "KIC 2855603\n"
     ]
    },
    {
     "name": "stderr",
     "output_type": "stream",
     "text": [
      "Warning: 41% (1721/4203) of the cadences will be ignored due to the quality mask (quality_bitmask=2096639).\n"
     ]
    },
    {
     "name": "stdout",
     "output_type": "stream",
     "text": [
      "KIC 2856756\n"
     ]
    },
    {
     "name": "stderr",
     "output_type": "stream",
     "text": [
      "Warning: 30% (1261/4203) of the cadences will be ignored due to the quality mask (quality_bitmask=2096639).\n"
     ]
    },
    {
     "name": "stdout",
     "output_type": "stream",
     "text": [
      "KIC 2857323\n"
     ]
    },
    {
     "name": "stderr",
     "output_type": "stream",
     "text": [
      "Warning: 65% (2739/4203) of the cadences will be ignored due to the quality mask (quality_bitmask=2096639).\n"
     ]
    },
    {
     "name": "stdout",
     "output_type": "stream",
     "text": [
      "KIC 2857607\n",
      "KIC 2857722\n"
     ]
    },
    {
     "name": "stderr",
     "output_type": "stream",
     "text": [
      "Warning: 23% (952/4203) of the cadences will be ignored due to the quality mask (quality_bitmask=2096639).\n"
     ]
    },
    {
     "name": "stdout",
     "output_type": "stream",
     "text": [
      "KIC 2860114\n",
      "KIC 2860594\n"
     ]
    },
    {
     "name": "stderr",
     "output_type": "stream",
     "text": [
      "Warning: 35% (1453/4203) of the cadences will be ignored due to the quality mask (quality_bitmask=2096639).\n",
      "Warning: 22% (910/4203) of the cadences will be ignored due to the quality mask (quality_bitmask=2096639).\n"
     ]
    },
    {
     "name": "stdout",
     "output_type": "stream",
     "text": [
      "KIC 2860851\n"
     ]
    },
    {
     "name": "stderr",
     "output_type": "stream",
     "text": [
      "Warning: 22% (929/4203) of the cadences will be ignored due to the quality mask (quality_bitmask=2096639).\n"
     ]
    },
    {
     "name": "stdout",
     "output_type": "stream",
     "text": [
      "KIC 2439798\n"
     ]
    },
    {
     "name": "stderr",
     "output_type": "stream",
     "text": [
      "Warning: 21% (898/4203) of the cadences will be ignored due to the quality mask (quality_bitmask=2096639).\n"
     ]
    },
    {
     "name": "stdout",
     "output_type": "stream",
     "text": [
      "KIC 2969628\n",
      "KIC 2969638\n"
     ]
    },
    {
     "name": "stderr",
     "output_type": "stream",
     "text": [
      "Warning: 37% (1551/4203) of the cadences will be ignored due to the quality mask (quality_bitmask=2096639).\n",
      "Warning: 22% (928/4203) of the cadences will be ignored due to the quality mask (quality_bitmask=2096639).\n"
     ]
    },
    {
     "name": "stdout",
     "output_type": "stream",
     "text": [
      "KIC 2970804\n"
     ]
    },
    {
     "name": "stderr",
     "output_type": "stream",
     "text": [
      "Warning: 28% (1194/4203) of the cadences will be ignored due to the quality mask (quality_bitmask=2096639).\n"
     ]
    },
    {
     "name": "stdout",
     "output_type": "stream",
     "text": [
      "KIC 2971415\n"
     ]
    },
    {
     "name": "stderr",
     "output_type": "stream",
     "text": [
      "/Users/aridamansc/opt/anaconda3/lib/python3.9/site-packages/lightkurve/search.py:418: LightkurveWarning: Cannot download from an empty search result.\n",
      "  warnings.warn(\n",
      "Warning: 25% (1037/4203) of the cadences will be ignored due to the quality mask (quality_bitmask=2096639).\n"
     ]
    },
    {
     "name": "stdout",
     "output_type": "stream",
     "text": [
      "KIC 2693450\n",
      "KIC 2974858 had an error: 'NoneType' object has no attribute 'to_lightcurve'\n",
      "KIC 2975770\n"
     ]
    },
    {
     "name": "stderr",
     "output_type": "stream",
     "text": [
      "Warning: 20% (852/4203) of the cadences will be ignored due to the quality mask (quality_bitmask=2096639).\n"
     ]
    },
    {
     "name": "stdout",
     "output_type": "stream",
     "text": [
      "KIC 2714955\n",
      "KIC 2985398\n"
     ]
    },
    {
     "name": "stderr",
     "output_type": "stream",
     "text": [
      "Warning: 21% (870/4203) of the cadences will be ignored due to the quality mask (quality_bitmask=2096639).\n"
     ]
    },
    {
     "name": "stdout",
     "output_type": "stream",
     "text": [
      "KIC 2985587\n",
      "KIC 2985767\n"
     ]
    },
    {
     "name": "stderr",
     "output_type": "stream",
     "text": [
      "Warning: 21% (864/4203) of the cadences will be ignored due to the quality mask (quality_bitmask=2096639).\n"
     ]
    },
    {
     "name": "stdout",
     "output_type": "stream",
     "text": [
      "KIC 2988768\n"
     ]
    },
    {
     "name": "stderr",
     "output_type": "stream",
     "text": [
      "Warning: 20% (852/4203) of the cadences will be ignored due to the quality mask (quality_bitmask=2096639).\n"
     ]
    },
    {
     "name": "stdout",
     "output_type": "stream",
     "text": [
      "KIC 2989404\n"
     ]
    },
    {
     "name": "stderr",
     "output_type": "stream",
     "text": [
      "Warning: 21% (877/4203) of the cadences will be ignored due to the quality mask (quality_bitmask=2096639).\n"
     ]
    },
    {
     "name": "stdout",
     "output_type": "stream",
     "text": [
      "KIC 1294670\n"
     ]
    },
    {
     "name": "stderr",
     "output_type": "stream",
     "text": [
      "Warning: 21% (898/4203) of the cadences will be ignored due to the quality mask (quality_bitmask=2096639).\n"
     ]
    },
    {
     "name": "stdout",
     "output_type": "stream",
     "text": [
      "KIC 1576115\n"
     ]
    },
    {
     "name": "stderr",
     "output_type": "stream",
     "text": [
      "Warning: 28% (1179/4203) of the cadences will be ignored due to the quality mask (quality_bitmask=2096639).\n"
     ]
    },
    {
     "name": "stdout",
     "output_type": "stream",
     "text": [
      "KIC 1867630\n"
     ]
    },
    {
     "name": "stderr",
     "output_type": "stream",
     "text": [
      "Warning: 22% (924/4203) of the cadences will be ignored due to the quality mask (quality_bitmask=2096639).\n"
     ]
    },
    {
     "name": "stdout",
     "output_type": "stream",
     "text": [
      "KIC 2167890\n"
     ]
    },
    {
     "name": "stderr",
     "output_type": "stream",
     "text": [
      "Warning: 25% (1064/4203) of the cadences will be ignored due to the quality mask (quality_bitmask=2096639).\n"
     ]
    },
    {
     "name": "stdout",
     "output_type": "stream",
     "text": [
      "KIC 2307206\n",
      "KIC 2307415\n",
      "KIC 2440757 had an error: 'NoneType' object has no attribute 'to_lightcurve'\n"
     ]
    },
    {
     "name": "stderr",
     "output_type": "stream",
     "text": [
      "/Users/aridamansc/opt/anaconda3/lib/python3.9/site-packages/lightkurve/search.py:418: LightkurveWarning: Cannot download from an empty search result.\n",
      "  warnings.warn(\n"
     ]
    },
    {
     "name": "stdout",
     "output_type": "stream",
     "text": [
      "KIC 2441151\n"
     ]
    },
    {
     "name": "stderr",
     "output_type": "stream",
     "text": [
      "Warning: 21% (888/4203) of the cadences will be ignored due to the quality mask (quality_bitmask=2096639).\n"
     ]
    },
    {
     "name": "stdout",
     "output_type": "stream",
     "text": [
      "KIC 2441161\n",
      "KIC 2556650\n"
     ]
    },
    {
     "name": "stderr",
     "output_type": "stream",
     "text": [
      "Warning: 39% (1649/4203) of the cadences will be ignored due to the quality mask (quality_bitmask=2096639).\n"
     ]
    },
    {
     "name": "stdout",
     "output_type": "stream",
     "text": [
      "KIC 2578404\n"
     ]
    },
    {
     "name": "stderr",
     "output_type": "stream",
     "text": [
      "Warning: 67% (2811/4203) of the cadences will be ignored due to the quality mask (quality_bitmask=2096639).\n"
     ]
    },
    {
     "name": "stdout",
     "output_type": "stream",
     "text": [
      "KIC 2578811\n"
     ]
    },
    {
     "name": "stderr",
     "output_type": "stream",
     "text": [
      "Warning: 21% (863/4203) of the cadences will be ignored due to the quality mask (quality_bitmask=2096639).\n"
     ]
    },
    {
     "name": "stdout",
     "output_type": "stream",
     "text": [
      "KIC 2578891\n",
      "KIC 2693736\n"
     ]
    },
    {
     "name": "stderr",
     "output_type": "stream",
     "text": [
      "/Users/aridamansc/opt/anaconda3/lib/python3.9/site-packages/lightkurve/search.py:423: LightkurveWarning: Warning: 4 files available to download. Only the first file has been downloaded. Please use `download_all()` or specify additional criteria (e.g. quarter, campaign, or sector) to limit your search.\n",
      "  warnings.warn(\n",
      "Warning: 51% (3937/7680) of the cadences will be ignored due to the quality mask (quality_bitmask=2096639).\n"
     ]
    },
    {
     "name": "stdout",
     "output_type": "stream",
     "text": [
      "KIC 2694337\n",
      "KIC 2715053\n",
      "KIC 2715113\n",
      "KIC 2715119\n"
     ]
    },
    {
     "name": "stderr",
     "output_type": "stream",
     "text": [
      "Warning: 20% (852/4203) of the cadences will be ignored due to the quality mask (quality_bitmask=2096639).\n"
     ]
    },
    {
     "name": "stdout",
     "output_type": "stream",
     "text": [
      "KIC 2715135\n"
     ]
    },
    {
     "name": "stderr",
     "output_type": "stream",
     "text": [
      "Warning: 23% (972/4203) of the cadences will be ignored due to the quality mask (quality_bitmask=2096639).\n"
     ]
    },
    {
     "name": "stdout",
     "output_type": "stream",
     "text": [
      "KIC 2830919\n"
     ]
    },
    {
     "name": "stderr",
     "output_type": "stream",
     "text": [
      "Warning: 23% (962/4203) of the cadences will be ignored due to the quality mask (quality_bitmask=2096639).\n"
     ]
    },
    {
     "name": "stdout",
     "output_type": "stream",
     "text": [
      "KIC 2831055\n"
     ]
    },
    {
     "name": "stderr",
     "output_type": "stream",
     "text": [
      "Warning: 28% (1184/4203) of the cadences will be ignored due to the quality mask (quality_bitmask=2096639).\n"
     ]
    },
    {
     "name": "stdout",
     "output_type": "stream",
     "text": [
      "KIC 2854948\n"
     ]
    },
    {
     "name": "stderr",
     "output_type": "stream",
     "text": [
      "Warning: 38% (1598/4203) of the cadences will be ignored due to the quality mask (quality_bitmask=2096639).\n"
     ]
    },
    {
     "name": "stdout",
     "output_type": "stream",
     "text": [
      "KIC 2854953\n",
      "KIC 1295289\n"
     ]
    },
    {
     "name": "stderr",
     "output_type": "stream",
     "text": [
      "Warning: 22% (915/4203) of the cadences will be ignored due to the quality mask (quality_bitmask=2096639).\n"
     ]
    },
    {
     "name": "stdout",
     "output_type": "stream",
     "text": [
      "KIC 1295546\n"
     ]
    },
    {
     "name": "stderr",
     "output_type": "stream",
     "text": [
      "Warning: 23% (959/4203) of the cadences will be ignored due to the quality mask (quality_bitmask=2096639).\n"
     ]
    },
    {
     "name": "stdout",
     "output_type": "stream",
     "text": [
      "KIC 1296164\n",
      "KIC 1576144\n"
     ]
    },
    {
     "name": "stderr",
     "output_type": "stream",
     "text": [
      "Warning: 23% (947/4203) of the cadences will be ignored due to the quality mask (quality_bitmask=2096639).\n"
     ]
    },
    {
     "name": "stdout",
     "output_type": "stream",
     "text": [
      "KIC 1869607\n",
      "KIC 1870398\n"
     ]
    },
    {
     "name": "stderr",
     "output_type": "stream",
     "text": [
      "Warning: 26% (1107/4203) of the cadences will be ignored due to the quality mask (quality_bitmask=2096639).\n"
     ]
    },
    {
     "name": "stdout",
     "output_type": "stream",
     "text": [
      "KIC 1870849\n",
      "KIC 2021440\n"
     ]
    },
    {
     "name": "stderr",
     "output_type": "stream",
     "text": [
      "Warning: 34% (1413/4203) of the cadences will be ignored due to the quality mask (quality_bitmask=2096639).\n",
      "Warning: 32% (1330/4203) of the cadences will be ignored due to the quality mask (quality_bitmask=2096639).\n"
     ]
    },
    {
     "name": "stdout",
     "output_type": "stream",
     "text": [
      "KIC 2168333\n"
     ]
    },
    {
     "name": "stderr",
     "output_type": "stream",
     "text": [
      "Warning: 23% (949/4203) of the cadences will be ignored due to the quality mask (quality_bitmask=2096639).\n"
     ]
    },
    {
     "name": "stdout",
     "output_type": "stream",
     "text": [
      "KIC 2307533\n"
     ]
    },
    {
     "name": "stderr",
     "output_type": "stream",
     "text": [
      "Warning: 20% (857/4203) of the cadences will be ignored due to the quality mask (quality_bitmask=2096639).\n"
     ]
    },
    {
     "name": "stdout",
     "output_type": "stream",
     "text": [
      "KIC 2308603\n"
     ]
    },
    {
     "name": "stderr",
     "output_type": "stream",
     "text": [
      "Warning: 22% (944/4203) of the cadences will be ignored due to the quality mask (quality_bitmask=2096639).\n"
     ]
    },
    {
     "name": "stdout",
     "output_type": "stream",
     "text": [
      "KIC 2441495\n"
     ]
    },
    {
     "name": "stderr",
     "output_type": "stream",
     "text": [
      "Warning: 20% (843/4203) of the cadences will be ignored due to the quality mask (quality_bitmask=2096639).\n"
     ]
    },
    {
     "name": "stdout",
     "output_type": "stream",
     "text": [
      "KIC 2441728\n"
     ]
    },
    {
     "name": "stderr",
     "output_type": "stream",
     "text": [
      "Warning: 66% (2767/4203) of the cadences will be ignored due to the quality mask (quality_bitmask=2096639).\n"
     ]
    },
    {
     "name": "stdout",
     "output_type": "stream",
     "text": [
      "KIC 2557816\n"
     ]
    },
    {
     "name": "stderr",
     "output_type": "stream",
     "text": [
      "Warning: 23% (965/4203) of the cadences will be ignored due to the quality mask (quality_bitmask=2096639).\n"
     ]
    },
    {
     "name": "stdout",
     "output_type": "stream",
     "text": [
      "KIC 2578901\n"
     ]
    },
    {
     "name": "stderr",
     "output_type": "stream",
     "text": [
      "Warning: 22% (911/4203) of the cadences will be ignored due to the quality mask (quality_bitmask=2096639).\n"
     ]
    },
    {
     "name": "stdout",
     "output_type": "stream",
     "text": [
      "KIC 2695030\n",
      "KIC 2695110\n"
     ]
    },
    {
     "name": "stderr",
     "output_type": "stream",
     "text": [
      "Warning: 27% (1155/4203) of the cadences will be ignored due to the quality mask (quality_bitmask=2096639).\n"
     ]
    },
    {
     "name": "stdout",
     "output_type": "stream",
     "text": [
      "KIC 2696703\n",
      "KIC 2715228\n"
     ]
    },
    {
     "name": "stderr",
     "output_type": "stream",
     "text": [
      "Warning: 27% (1132/4203) of the cadences will be ignored due to the quality mask (quality_bitmask=2096639).\n"
     ]
    },
    {
     "name": "stdout",
     "output_type": "stream",
     "text": [
      "KIC 2715245\n",
      "KIC 2831251\n"
     ]
    },
    {
     "name": "stderr",
     "output_type": "stream",
     "text": [
      "Warning: 22% (938/4203) of the cadences will be ignored due to the quality mask (quality_bitmask=2096639).\n"
     ]
    },
    {
     "name": "stdout",
     "output_type": "stream",
     "text": [
      "KIC 2832589\n"
     ]
    },
    {
     "name": "stderr",
     "output_type": "stream",
     "text": [
      "Warning: 40% (1684/4203) of the cadences will be ignored due to the quality mask (quality_bitmask=2096639).\n"
     ]
    },
    {
     "name": "stdout",
     "output_type": "stream",
     "text": [
      "KIC 2832753\n",
      "KIC 1429120\n"
     ]
    },
    {
     "name": "stderr",
     "output_type": "stream",
     "text": [
      "/Users/aridamansc/opt/anaconda3/lib/python3.9/site-packages/lightkurve/search.py:423: LightkurveWarning: Warning: 4 files available to download. Only the first file has been downloaded. Please use `download_all()` or specify additional criteria (e.g. quarter, campaign, or sector) to limit your search.\n",
      "  warnings.warn(\n",
      "Warning: 22% (916/4203) of the cadences will be ignored due to the quality mask (quality_bitmask=2096639).\n"
     ]
    },
    {
     "name": "stdout",
     "output_type": "stream",
     "text": [
      "KIC 1871056\n"
     ]
    },
    {
     "name": "stderr",
     "output_type": "stream",
     "text": [
      "Warning: 21% (898/4203) of the cadences will be ignored due to the quality mask (quality_bitmask=2096639).\n"
     ]
    },
    {
     "name": "stdout",
     "output_type": "stream",
     "text": [
      "KIC 2141783\n"
     ]
    },
    {
     "name": "stderr",
     "output_type": "stream",
     "text": [
      "Warning: 69% (2908/4203) of the cadences will be ignored due to the quality mask (quality_bitmask=2096639).\n"
     ]
    },
    {
     "name": "stdout",
     "output_type": "stream",
     "text": [
      "KIC 2282763\n"
     ]
    },
    {
     "name": "stderr",
     "output_type": "stream",
     "text": [
      "Warning: 27% (1141/4203) of the cadences will be ignored due to the quality mask (quality_bitmask=2096639).\n"
     ]
    },
    {
     "name": "stdout",
     "output_type": "stream",
     "text": [
      "KIC 2308957\n"
     ]
    },
    {
     "name": "stderr",
     "output_type": "stream",
     "text": [
      "Warning: 31% (1302/4203) of the cadences will be ignored due to the quality mask (quality_bitmask=2096639).\n"
     ]
    },
    {
     "name": "stdout",
     "output_type": "stream",
     "text": [
      "KIC 2309568\n"
     ]
    },
    {
     "name": "stderr",
     "output_type": "stream",
     "text": [
      "Warning: 20% (846/4203) of the cadences will be ignored due to the quality mask (quality_bitmask=2096639).\n"
     ]
    },
    {
     "name": "stdout",
     "output_type": "stream",
     "text": [
      "KIC 2309579\n",
      "KIC 2442084\n"
     ]
    },
    {
     "name": "stderr",
     "output_type": "stream",
     "text": [
      "Warning: 29% (1223/4203) of the cadences will be ignored due to the quality mask (quality_bitmask=2096639).\n",
      "Warning: 20% (847/4203) of the cadences will be ignored due to the quality mask (quality_bitmask=2096639).\n"
     ]
    },
    {
     "name": "stdout",
     "output_type": "stream",
     "text": [
      "KIC 2442118\n"
     ]
    },
    {
     "name": "stderr",
     "output_type": "stream",
     "text": [
      "Warning: 20% (846/4203) of the cadences will be ignored due to the quality mask (quality_bitmask=2096639).\n"
     ]
    },
    {
     "name": "stdout",
     "output_type": "stream",
     "text": [
      "KIC 2442359\n"
     ]
    },
    {
     "name": "stderr",
     "output_type": "stream",
     "text": [
      "Warning: 21% (873/4203) of the cadences will be ignored due to the quality mask (quality_bitmask=2096639).\n"
     ]
    },
    {
     "name": "stdout",
     "output_type": "stream",
     "text": [
      "KIC 2558163\n"
     ]
    },
    {
     "name": "stderr",
     "output_type": "stream",
     "text": [
      "Warning: 21% (880/4203) of the cadences will be ignored due to the quality mask (quality_bitmask=2096639).\n"
     ]
    },
    {
     "name": "stdout",
     "output_type": "stream",
     "text": [
      "KIC 2558363\n"
     ]
    },
    {
     "name": "stderr",
     "output_type": "stream",
     "text": [
      "Warning: 21% (892/4203) of the cadences will be ignored due to the quality mask (quality_bitmask=2096639).\n"
     ]
    },
    {
     "name": "stdout",
     "output_type": "stream",
     "text": [
      "KIC 2558370\n"
     ]
    },
    {
     "name": "stderr",
     "output_type": "stream",
     "text": [
      "Warning: 23% (961/4203) of the cadences will be ignored due to the quality mask (quality_bitmask=2096639).\n"
     ]
    },
    {
     "name": "stdout",
     "output_type": "stream",
     "text": [
      "KIC 2579043\n"
     ]
    },
    {
     "name": "stderr",
     "output_type": "stream",
     "text": [
      "Warning: 29% (1198/4203) of the cadences will be ignored due to the quality mask (quality_bitmask=2096639).\n"
     ]
    },
    {
     "name": "stdout",
     "output_type": "stream",
     "text": [
      "KIC 2579147\n",
      "KIC 2696938\n",
      "KIC 2707097 had an error: 'NoneType' object has no attribute 'to_lightcurve'\n"
     ]
    },
    {
     "name": "stderr",
     "output_type": "stream",
     "text": [
      "/Users/aridamansc/opt/anaconda3/lib/python3.9/site-packages/lightkurve/search.py:418: LightkurveWarning: Cannot download from an empty search result.\n",
      "  warnings.warn(\n"
     ]
    },
    {
     "name": "stdout",
     "output_type": "stream",
     "text": [
      "KIC 2715282\n",
      "KIC 2715398\n"
     ]
    },
    {
     "name": "stderr",
     "output_type": "stream",
     "text": [
      "Warning: 37% (1561/4203) of the cadences will be ignored due to the quality mask (quality_bitmask=2096639).\n"
     ]
    },
    {
     "name": "stdout",
     "output_type": "stream",
     "text": [
      "KIC 2715487\n"
     ]
    },
    {
     "name": "stderr",
     "output_type": "stream",
     "text": [
      "Warning: 20% (845/4203) of the cadences will be ignored due to the quality mask (quality_bitmask=2096639).\n"
     ]
    },
    {
     "name": "stdout",
     "output_type": "stream",
     "text": [
      "KIC 2833554\n"
     ]
    },
    {
     "name": "stderr",
     "output_type": "stream",
     "text": [
      "Warning: 20% (844/4203) of the cadences will be ignored due to the quality mask (quality_bitmask=2096639).\n"
     ]
    },
    {
     "name": "stdout",
     "output_type": "stream",
     "text": [
      "KIC 2859299\n"
     ]
    },
    {
     "name": "stderr",
     "output_type": "stream",
     "text": [
      "Warning: 20% (851/4203) of the cadences will be ignored due to the quality mask (quality_bitmask=2096639).\n"
     ]
    },
    {
     "name": "stdout",
     "output_type": "stream",
     "text": [
      "KIC 1429589\n"
     ]
    },
    {
     "name": "stderr",
     "output_type": "stream",
     "text": [
      "Warning: 21% (891/4203) of the cadences will be ignored due to the quality mask (quality_bitmask=2096639).\n"
     ]
    },
    {
     "name": "stdout",
     "output_type": "stream",
     "text": [
      "KIC 1429653\n",
      "KIC 1576558\n"
     ]
    },
    {
     "name": "stderr",
     "output_type": "stream",
     "text": [
      "Warning: 36% (1524/4203) of the cadences will be ignored due to the quality mask (quality_bitmask=2096639).\n",
      "Warning: 31% (1309/4203) of the cadences will be ignored due to the quality mask (quality_bitmask=2096639).\n"
     ]
    },
    {
     "name": "stdout",
     "output_type": "stream",
     "text": [
      "KIC 1577039\n"
     ]
    },
    {
     "name": "stderr",
     "output_type": "stream",
     "text": [
      "Warning: 32% (1326/4203) of the cadences will be ignored due to the quality mask (quality_bitmask=2096639).\n"
     ]
    },
    {
     "name": "stdout",
     "output_type": "stream",
     "text": [
      "KIC 2141938\n"
     ]
    },
    {
     "name": "stderr",
     "output_type": "stream",
     "text": [
      "Warning: 27% (1142/4203) of the cadences will be ignored due to the quality mask (quality_bitmask=2096639).\n"
     ]
    },
    {
     "name": "stdout",
     "output_type": "stream",
     "text": [
      "KIC 2142522\n"
     ]
    },
    {
     "name": "stderr",
     "output_type": "stream",
     "text": [
      "Warning: 23% (976/4203) of the cadences will be ignored due to the quality mask (quality_bitmask=2096639).\n"
     ]
    },
    {
     "name": "stdout",
     "output_type": "stream",
     "text": [
      "KIC 2283124\n"
     ]
    },
    {
     "name": "stderr",
     "output_type": "stream",
     "text": [
      "Warning: 26% (1098/4203) of the cadences will be ignored due to the quality mask (quality_bitmask=2096639).\n"
     ]
    },
    {
     "name": "stdout",
     "output_type": "stream",
     "text": [
      "KIC 2283362\n"
     ]
    },
    {
     "name": "stderr",
     "output_type": "stream",
     "text": [
      "Warning: 28% (1160/4203) of the cadences will be ignored due to the quality mask (quality_bitmask=2096639).\n"
     ]
    },
    {
     "name": "stdout",
     "output_type": "stream",
     "text": [
      "KIC 2309585\n"
     ]
    },
    {
     "name": "stderr",
     "output_type": "stream",
     "text": [
      "Warning: 47% (1992/4203) of the cadences will be ignored due to the quality mask (quality_bitmask=2096639).\n"
     ]
    },
    {
     "name": "stdout",
     "output_type": "stream",
     "text": [
      "KIC 2309587\n",
      "KIC 2309719\n",
      "KIC 2442448\n"
     ]
    },
    {
     "name": "stderr",
     "output_type": "stream",
     "text": [
      "Warning: 23% (954/4203) of the cadences will be ignored due to the quality mask (quality_bitmask=2096639).\n",
      "Warning: 22% (941/4203) of the cadences will be ignored due to the quality mask (quality_bitmask=2096639).\n"
     ]
    },
    {
     "name": "stdout",
     "output_type": "stream",
     "text": [
      "KIC 2443393\n"
     ]
    },
    {
     "name": "stderr",
     "output_type": "stream",
     "text": [
      "Warning: 21% (867/4203) of the cadences will be ignored due to the quality mask (quality_bitmask=2096639).\n"
     ]
    },
    {
     "name": "stdout",
     "output_type": "stream",
     "text": [
      "KIC 2558488\n"
     ]
    },
    {
     "name": "stderr",
     "output_type": "stream",
     "text": [
      "Warning: 24% (1001/4203) of the cadences will be ignored due to the quality mask (quality_bitmask=2096639).\n"
     ]
    },
    {
     "name": "stdout",
     "output_type": "stream",
     "text": [
      "KIC 2568971\n"
     ]
    },
    {
     "name": "stderr",
     "output_type": "stream",
     "text": [
      "Warning: 24% (1002/4203) of the cadences will be ignored due to the quality mask (quality_bitmask=2096639).\n"
     ]
    },
    {
     "name": "stdout",
     "output_type": "stream",
     "text": [
      "KIC 2579814\n",
      "KIC 2580872\n"
     ]
    },
    {
     "name": "stderr",
     "output_type": "stream",
     "text": [
      "/Users/aridamansc/opt/anaconda3/lib/python3.9/site-packages/lightkurve/search.py:423: LightkurveWarning: Warning: 4 files available to download. Only the first file has been downloaded. Please use `download_all()` or specify additional criteria (e.g. quarter, campaign, or sector) to limit your search.\n",
      "  warnings.warn(\n"
     ]
    },
    {
     "name": "stdout",
     "output_type": "stream",
     "text": [
      "KIC 2707479\n",
      "KIC 2707916\n"
     ]
    },
    {
     "name": "stderr",
     "output_type": "stream",
     "text": [
      "Warning: 23% (954/4203) of the cadences will be ignored due to the quality mask (quality_bitmask=2096639).\n"
     ]
    },
    {
     "name": "stdout",
     "output_type": "stream",
     "text": [
      "KIC 2715695\n"
     ]
    },
    {
     "name": "stderr",
     "output_type": "stream",
     "text": [
      "Warning: 22% (929/4203) of the cadences will be ignored due to the quality mask (quality_bitmask=2096639).\n"
     ]
    },
    {
     "name": "stdout",
     "output_type": "stream",
     "text": [
      "KIC 2716801\n"
     ]
    },
    {
     "name": "stderr",
     "output_type": "stream",
     "text": [
      "Warning: 25% (1050/4203) of the cadences will be ignored due to the quality mask (quality_bitmask=2096639).\n"
     ]
    },
    {
     "name": "stdout",
     "output_type": "stream",
     "text": [
      "KIC 2835657\n"
     ]
    },
    {
     "name": "stderr",
     "output_type": "stream",
     "text": [
      "Warning: 22% (918/4203) of the cadences will be ignored due to the quality mask (quality_bitmask=2096639).\n"
     ]
    },
    {
     "name": "stdout",
     "output_type": "stream",
     "text": [
      "KIC 2837111\n"
     ]
    },
    {
     "name": "stderr",
     "output_type": "stream",
     "text": [
      "Warning: 25% (1055/4203) of the cadences will be ignored due to the quality mask (quality_bitmask=2096639).\n"
     ]
    },
    {
     "name": "stdout",
     "output_type": "stream",
     "text": [
      "KIC 2860656\n",
      "KIC 2860793\n"
     ]
    },
    {
     "name": "stderr",
     "output_type": "stream",
     "text": [
      "Warning: 23% (978/4203) of the cadences will be ignored due to the quality mask (quality_bitmask=2096639).\n",
      "Warning: 20% (856/4203) of the cadences will be ignored due to the quality mask (quality_bitmask=2096639).\n"
     ]
    },
    {
     "name": "stdout",
     "output_type": "stream",
     "text": [
      "KIC 1430207\n"
     ]
    },
    {
     "name": "stderr",
     "output_type": "stream",
     "text": [
      "Warning: 23% (982/4203) of the cadences will be ignored due to the quality mask (quality_bitmask=2096639).\n"
     ]
    },
    {
     "name": "stdout",
     "output_type": "stream",
     "text": [
      "KIC 1430590\n"
     ]
    },
    {
     "name": "stderr",
     "output_type": "stream",
     "text": [
      "Warning: 27% (1155/4203) of the cadences will be ignored due to the quality mask (quality_bitmask=2096639).\n"
     ]
    },
    {
     "name": "stdout",
     "output_type": "stream",
     "text": [
      "KIC 1872821\n"
     ]
    },
    {
     "name": "stderr",
     "output_type": "stream",
     "text": [
      "Warning: 22% (940/4203) of the cadences will be ignored due to the quality mask (quality_bitmask=2096639).\n"
     ]
    },
    {
     "name": "stdout",
     "output_type": "stream",
     "text": [
      "KIC 1872948\n"
     ]
    },
    {
     "name": "stderr",
     "output_type": "stream",
     "text": [
      "Warning: 23% (965/4203) of the cadences will be ignored due to the quality mask (quality_bitmask=2096639).\n"
     ]
    },
    {
     "name": "stdout",
     "output_type": "stream",
     "text": [
      "KIC 2157489\n"
     ]
    },
    {
     "name": "stderr",
     "output_type": "stream",
     "text": [
      "Warning: 24% (1005/4203) of the cadences will be ignored due to the quality mask (quality_bitmask=2096639).\n"
     ]
    },
    {
     "name": "stdout",
     "output_type": "stream",
     "text": [
      "KIC 2297728\n"
     ]
    },
    {
     "name": "stderr",
     "output_type": "stream",
     "text": [
      "Warning: 24% (1016/4203) of the cadences will be ignored due to the quality mask (quality_bitmask=2096639).\n"
     ]
    },
    {
     "name": "stdout",
     "output_type": "stream",
     "text": [
      "KIC 2309910\n",
      "KIC 2310284\n"
     ]
    },
    {
     "name": "stderr",
     "output_type": "stream",
     "text": [
      "/Users/aridamansc/opt/anaconda3/lib/python3.9/site-packages/lightkurve/search.py:423: LightkurveWarning: Warning: 4 files available to download. Only the first file has been downloaded. Please use `download_all()` or specify additional criteria (e.g. quarter, campaign, or sector) to limit your search.\n",
      "  warnings.warn(\n",
      "Warning: 22% (945/4203) of the cadences will be ignored due to the quality mask (quality_bitmask=2096639).\n"
     ]
    },
    {
     "name": "stdout",
     "output_type": "stream",
     "text": [
      "KIC 2444412\n",
      "KIC 2445129\n"
     ]
    },
    {
     "name": "stderr",
     "output_type": "stream",
     "text": [
      "/Users/aridamansc/opt/anaconda3/lib/python3.9/site-packages/lightkurve/search.py:418: LightkurveWarning: Cannot download from an empty search result.\n",
      "  warnings.warn(\n",
      "Warning: 20% (847/4203) of the cadences will be ignored due to the quality mask (quality_bitmask=2096639).\n"
     ]
    },
    {
     "name": "stdout",
     "output_type": "stream",
     "text": [
      "KIC 2569488\n",
      "KIC 2569494 had an error: 'NoneType' object has no attribute 'to_lightcurve'\n"
     ]
    },
    {
     "name": "stderr",
     "output_type": "stream",
     "text": [
      "Warning: 22% (909/4203) of the cadences will be ignored due to the quality mask (quality_bitmask=2096639).\n"
     ]
    },
    {
     "name": "stdout",
     "output_type": "stream",
     "text": [
      "KIC 2569516\n"
     ]
    },
    {
     "name": "stderr",
     "output_type": "stream",
     "text": [
      "Warning: 21% (865/4203) of the cadences will be ignored due to the quality mask (quality_bitmask=2096639).\n"
     ]
    },
    {
     "name": "stdout",
     "output_type": "stream",
     "text": [
      "KIC 2581191\n",
      "KIC 2707985\n"
     ]
    },
    {
     "name": "stderr",
     "output_type": "stream",
     "text": [
      "Warning: 22% (928/4203) of the cadences will be ignored due to the quality mask (quality_bitmask=2096639).\n"
     ]
    },
    {
     "name": "stdout",
     "output_type": "stream",
     "text": [
      "KIC 2708172\n"
     ]
    },
    {
     "name": "stderr",
     "output_type": "stream",
     "text": [
      "Warning: 26% (1086/4203) of the cadences will be ignored due to the quality mask (quality_bitmask=2096639).\n"
     ]
    },
    {
     "name": "stdout",
     "output_type": "stream",
     "text": [
      "KIC 2716853\n"
     ]
    },
    {
     "name": "stderr",
     "output_type": "stream",
     "text": [
      "Warning: 21% (902/4203) of the cadences will be ignored due to the quality mask (quality_bitmask=2096639).\n"
     ]
    },
    {
     "name": "stdout",
     "output_type": "stream",
     "text": [
      "KIC 2717158\n",
      "KIC 2846358\n"
     ]
    },
    {
     "name": "stderr",
     "output_type": "stream",
     "text": [
      "Warning: 21% (899/4203) of the cadences will be ignored due to the quality mask (quality_bitmask=2096639).\n"
     ]
    },
    {
     "name": "stdout",
     "output_type": "stream",
     "text": [
      "KIC 2849140\n",
      "KIC 2860866\n"
     ]
    },
    {
     "name": "stderr",
     "output_type": "stream",
     "text": [
      "Warning: 20% (846/4203) of the cadences will be ignored due to the quality mask (quality_bitmask=2096639).\n"
     ]
    },
    {
     "name": "stdout",
     "output_type": "stream",
     "text": [
      "KIC 2860930\n"
     ]
    },
    {
     "name": "stderr",
     "output_type": "stream",
     "text": [
      "Warning: 38% (1608/4203) of the cadences will be ignored due to the quality mask (quality_bitmask=2096639).\n"
     ]
    },
    {
     "name": "stdout",
     "output_type": "stream",
     "text": [
      "KIC 1430741\n"
     ]
    },
    {
     "name": "stderr",
     "output_type": "stream",
     "text": [
      "Warning: 20% (850/4203) of the cadences will be ignored due to the quality mask (quality_bitmask=2096639).\n"
     ]
    },
    {
     "name": "stdout",
     "output_type": "stream",
     "text": [
      "KIC 1431122\n",
      "KIC 1717528\n",
      "KIC 1717722\n"
     ]
    },
    {
     "name": "stderr",
     "output_type": "stream",
     "text": [
      "Warning: 22% (932/4203) of the cadences will be ignored due to the quality mask (quality_bitmask=2096639).\n"
     ]
    },
    {
     "name": "stdout",
     "output_type": "stream",
     "text": [
      "KIC 1718189\n"
     ]
    },
    {
     "name": "stderr",
     "output_type": "stream",
     "text": [
      "Warning: 23% (973/4203) of the cadences will be ignored due to the quality mask (quality_bitmask=2096639).\n"
     ]
    },
    {
     "name": "stdout",
     "output_type": "stream",
     "text": [
      "KIC 1873513\n",
      "KIC 2158190\n"
     ]
    },
    {
     "name": "stderr",
     "output_type": "stream",
     "text": [
      "Warning: 42% (1759/4203) of the cadences will be ignored due to the quality mask (quality_bitmask=2096639).\n"
     ]
    },
    {
     "name": "stdout",
     "output_type": "stream",
     "text": [
      "KIC 2158208\n",
      "KIC 2297739\n"
     ]
    },
    {
     "name": "stderr",
     "output_type": "stream",
     "text": [
      "Warning: 30% (1281/4203) of the cadences will be ignored due to the quality mask (quality_bitmask=2096639).\n"
     ]
    },
    {
     "name": "stdout",
     "output_type": "stream",
     "text": [
      "KIC 2297793\n",
      "KIC 2422539\n"
     ]
    },
    {
     "name": "stderr",
     "output_type": "stream",
     "text": [
      "Warning: 20% (861/4203) of the cadences will be ignored due to the quality mask (quality_bitmask=2096639).\n"
     ]
    },
    {
     "name": "stdout",
     "output_type": "stream",
     "text": [
      "KIC 2436378\n"
     ]
    },
    {
     "name": "stderr",
     "output_type": "stream",
     "text": [
      "Warning: 20% (844/4203) of the cadences will be ignored due to the quality mask (quality_bitmask=2096639).\n"
     ]
    },
    {
     "name": "stdout",
     "output_type": "stream",
     "text": [
      "KIC 2445134\n",
      "KIC 2445154\n",
      "KIC 2570281\n"
     ]
    },
    {
     "name": "stderr",
     "output_type": "stream",
     "text": [
      "Warning: 21% (886/4203) of the cadences will be ignored due to the quality mask (quality_bitmask=2096639).\n"
     ]
    },
    {
     "name": "stdout",
     "output_type": "stream",
     "text": [
      "KIC 2570432\n"
     ]
    },
    {
     "name": "stderr",
     "output_type": "stream",
     "text": [
      "Warning: 28% (1186/4203) of the cadences will be ignored due to the quality mask (quality_bitmask=2096639).\n"
     ]
    },
    {
     "name": "stdout",
     "output_type": "stream",
     "text": [
      "KIC 2570505\n",
      "KIC 2581316\n",
      "KIC 2708176 had an error: 'NoneType' object has no attribute 'to_lightcurve'\n"
     ]
    },
    {
     "name": "stderr",
     "output_type": "stream",
     "text": [
      "/Users/aridamansc/opt/anaconda3/lib/python3.9/site-packages/lightkurve/search.py:418: LightkurveWarning: Cannot download from an empty search result.\n",
      "  warnings.warn(\n"
     ]
    },
    {
     "name": "stdout",
     "output_type": "stream",
     "text": [
      "KIC 2708203\n",
      "KIC 2708221\n"
     ]
    },
    {
     "name": "stderr",
     "output_type": "stream",
     "text": [
      "Warning: 67% (2802/4203) of the cadences will be ignored due to the quality mask (quality_bitmask=2096639).\n"
     ]
    },
    {
     "name": "stdout",
     "output_type": "stream",
     "text": [
      "KIC 2708270\n"
     ]
    },
    {
     "name": "stderr",
     "output_type": "stream",
     "text": [
      "Warning: 20% (852/4203) of the cadences will be ignored due to the quality mask (quality_bitmask=2096639).\n"
     ]
    },
    {
     "name": "stdout",
     "output_type": "stream",
     "text": [
      "KIC 2717483\n"
     ]
    },
    {
     "name": "stderr",
     "output_type": "stream",
     "text": [
      "Warning: 30% (1268/4203) of the cadences will be ignored due to the quality mask (quality_bitmask=2096639).\n"
     ]
    },
    {
     "name": "stdout",
     "output_type": "stream",
     "text": [
      "KIC 2849805\n"
     ]
    },
    {
     "name": "stderr",
     "output_type": "stream",
     "text": [
      "Warning: 24% (1022/4203) of the cadences will be ignored due to the quality mask (quality_bitmask=2096639).\n"
     ]
    },
    {
     "name": "stdout",
     "output_type": "stream",
     "text": [
      "KIC 2969991\n",
      "KIC 1431794\n",
      "KIC 1718290\n"
     ]
    },
    {
     "name": "stderr",
     "output_type": "stream",
     "text": [
      "Warning: 21% (902/4203) of the cadences will be ignored due to the quality mask (quality_bitmask=2096639).\n"
     ]
    },
    {
     "name": "stdout",
     "output_type": "stream",
     "text": [
      "KIC 1995519\n"
     ]
    },
    {
     "name": "stderr",
     "output_type": "stream",
     "text": [
      "Warning: 22% (908/4203) of the cadences will be ignored due to the quality mask (quality_bitmask=2096639).\n"
     ]
    },
    {
     "name": "stdout",
     "output_type": "stream",
     "text": [
      "KIC 1995732\n",
      "KIC 1996180\n"
     ]
    },
    {
     "name": "stderr",
     "output_type": "stream",
     "text": [
      "Warning: 28% (1164/4203) of the cadences will be ignored due to the quality mask (quality_bitmask=2096639).\n"
     ]
    },
    {
     "name": "stdout",
     "output_type": "stream",
     "text": [
      "KIC 2159700\n",
      "KIC 2159852\n",
      "KIC 2437060 had an error: 'NoneType' object has no attribute 'to_lightcurve'\n"
     ]
    },
    {
     "name": "stderr",
     "output_type": "stream",
     "text": [
      "/Users/aridamansc/opt/anaconda3/lib/python3.9/site-packages/lightkurve/search.py:418: LightkurveWarning: Cannot download from an empty search result.\n",
      "  warnings.warn(\n",
      "Warning: 22% (939/4203) of the cadences will be ignored due to the quality mask (quality_bitmask=2096639).\n"
     ]
    },
    {
     "name": "stdout",
     "output_type": "stream",
     "text": [
      "KIC 2437112\n",
      "KIC 2445975\n",
      "KIC 2570767\n"
     ]
    },
    {
     "name": "stderr",
     "output_type": "stream",
     "text": [
      "Warning: 22% (929/4203) of the cadences will be ignored due to the quality mask (quality_bitmask=2096639).\n"
     ]
    },
    {
     "name": "stdout",
     "output_type": "stream",
     "text": [
      "KIC 2570773\n"
     ]
    },
    {
     "name": "stderr",
     "output_type": "stream",
     "text": [
      "Warning: 25% (1067/4203) of the cadences will be ignored due to the quality mask (quality_bitmask=2096639).\n"
     ]
    },
    {
     "name": "stdout",
     "output_type": "stream",
     "text": [
      "KIC 2581457\n",
      "KIC 2581554\n",
      "KIC 2708278\n",
      "KIC 2708286\n"
     ]
    },
    {
     "name": "stderr",
     "output_type": "stream",
     "text": [
      "Warning: 22% (918/4203) of the cadences will be ignored due to the quality mask (quality_bitmask=2096639).\n"
     ]
    },
    {
     "name": "stdout",
     "output_type": "stream",
     "text": [
      "KIC 2708343\n"
     ]
    },
    {
     "name": "stderr",
     "output_type": "stream",
     "text": [
      "Warning: 22% (923/4203) of the cadences will be ignored due to the quality mask (quality_bitmask=2096639).\n"
     ]
    },
    {
     "name": "stdout",
     "output_type": "stream",
     "text": [
      "KIC 2718630\n",
      "KIC 2718778\n",
      "KIC 2851100\n",
      "KIC 2852528\n"
     ]
    },
    {
     "name": "stderr",
     "output_type": "stream",
     "text": [
      "Warning: 25% (1046/4203) of the cadences will be ignored due to the quality mask (quality_bitmask=2096639).\n"
     ]
    },
    {
     "name": "stdout",
     "output_type": "stream",
     "text": [
      "KIC 2852560\n",
      "KIC 2970836\n"
     ]
    },
    {
     "name": "stderr",
     "output_type": "stream",
     "text": [
      "Warning: 21% (898/4203) of the cadences will be ignored due to the quality mask (quality_bitmask=2096639).\n"
     ]
    },
    {
     "name": "stdout",
     "output_type": "stream",
     "text": [
      "KIC 1432214\n",
      "KIC 1432789\n"
     ]
    },
    {
     "name": "stderr",
     "output_type": "stream",
     "text": [
      "Warning: 23% (953/4203) of the cadences will be ignored due to the quality mask (quality_bitmask=2096639).\n",
      "Warning: 27% (1145/4203) of the cadences will be ignored due to the quality mask (quality_bitmask=2096639).\n"
     ]
    },
    {
     "name": "stdout",
     "output_type": "stream",
     "text": [
      "KIC 1718594\n",
      "KIC 1996679\n",
      "KIC 2161536\n",
      "KIC 2161623 had an error: 'NoneType' object has no attribute 'to_lightcurve'\n"
     ]
    },
    {
     "name": "stderr",
     "output_type": "stream",
     "text": [
      "/Users/aridamansc/opt/anaconda3/lib/python3.9/site-packages/lightkurve/search.py:418: LightkurveWarning: Cannot download from an empty search result.\n",
      "  warnings.warn(\n",
      "/Users/aridamansc/opt/anaconda3/lib/python3.9/site-packages/lightkurve/search.py:418: LightkurveWarning: Cannot download from an empty search result.\n",
      "  warnings.warn(\n",
      "Warning: 25% (1048/4203) of the cadences will be ignored due to the quality mask (quality_bitmask=2096639).\n"
     ]
    },
    {
     "name": "stdout",
     "output_type": "stream",
     "text": [
      "KIC 2300603\n",
      "KIC 2437149 had an error: 'NoneType' object has no attribute 'to_lightcurve'\n"
     ]
    },
    {
     "name": "stderr",
     "output_type": "stream",
     "text": [
      "Warning: 23% (986/4203) of the cadences will be ignored due to the quality mask (quality_bitmask=2096639).\n"
     ]
    },
    {
     "name": "stdout",
     "output_type": "stream",
     "text": [
      "KIC 2446113\n",
      "KIC 2446623\n"
     ]
    },
    {
     "name": "stderr",
     "output_type": "stream",
     "text": [
      "Warning: 26% (1080/4203) of the cadences will be ignored due to the quality mask (quality_bitmask=2096639).\n"
     ]
    },
    {
     "name": "stdout",
     "output_type": "stream",
     "text": [
      "KIC 2571075\n",
      "KIC 2571238\n"
     ]
    },
    {
     "name": "stderr",
     "output_type": "stream",
     "text": [
      "Warning: 28% (1158/4203) of the cadences will be ignored due to the quality mask (quality_bitmask=2096639).\n"
     ]
    },
    {
     "name": "stdout",
     "output_type": "stream",
     "text": [
      "KIC 2571417\n"
     ]
    },
    {
     "name": "stderr",
     "output_type": "stream",
     "text": [
      "Warning: 21% (892/4203) of the cadences will be ignored due to the quality mask (quality_bitmask=2096639).\n"
     ]
    },
    {
     "name": "stdout",
     "output_type": "stream",
     "text": [
      "KIC 2581674\n",
      "KIC 2708420\n"
     ]
    },
    {
     "name": "stderr",
     "output_type": "stream",
     "text": [
      "Warning: 28% (1173/4203) of the cadences will be ignored due to the quality mask (quality_bitmask=2096639).\n"
     ]
    },
    {
     "name": "stdout",
     "output_type": "stream",
     "text": [
      "KIC 2708445\n"
     ]
    },
    {
     "name": "stderr",
     "output_type": "stream",
     "text": [
      "Warning: 37% (1549/4203) of the cadences will be ignored due to the quality mask (quality_bitmask=2096639).\n"
     ]
    },
    {
     "name": "stdout",
     "output_type": "stream",
     "text": [
      "KIC 2718944\n"
     ]
    },
    {
     "name": "stderr",
     "output_type": "stream",
     "text": [
      "Warning: 22% (934/4203) of the cadences will be ignored due to the quality mask (quality_bitmask=2096639).\n"
     ]
    },
    {
     "name": "stdout",
     "output_type": "stream",
     "text": [
      "KIC 2719125\n"
     ]
    },
    {
     "name": "stderr",
     "output_type": "stream",
     "text": [
      "Warning: 26% (1099/4203) of the cadences will be ignored due to the quality mask (quality_bitmask=2096639).\n"
     ]
    },
    {
     "name": "stdout",
     "output_type": "stream",
     "text": [
      "KIC 2852810\n",
      "KIC 2973386\n"
     ]
    },
    {
     "name": "stderr",
     "output_type": "stream",
     "text": [
      "Warning: 20% (858/4203) of the cadences will be ignored due to the quality mask (quality_bitmask=2096639).\n"
     ]
    },
    {
     "name": "stdout",
     "output_type": "stream",
     "text": [
      "KIC 2973509\n"
     ]
    },
    {
     "name": "stderr",
     "output_type": "stream",
     "text": [
      "Warning: 39% (1633/4203) of the cadences will be ignored due to the quality mask (quality_bitmask=2096639).\n"
     ]
    },
    {
     "name": "stdout",
     "output_type": "stream",
     "text": [
      "KIC 2973800\n"
     ]
    },
    {
     "name": "stderr",
     "output_type": "stream",
     "text": [
      "Warning: 23% (960/4203) of the cadences will be ignored due to the quality mask (quality_bitmask=2096639).\n"
     ]
    },
    {
     "name": "stdout",
     "output_type": "stream",
     "text": [
      "KIC 1433399\n",
      "KIC 1718958\n",
      "KIC 1719308\n",
      "KIC 1720673\n"
     ]
    },
    {
     "name": "stderr",
     "output_type": "stream",
     "text": [
      "Warning: 22% (915/4203) of the cadences will be ignored due to the quality mask (quality_bitmask=2096639).\n"
     ]
    },
    {
     "name": "stdout",
     "output_type": "stream",
     "text": [
      "KIC 1996773\n"
     ]
    },
    {
     "name": "stderr",
     "output_type": "stream",
     "text": [
      "Warning: 24% (1029/4203) of the cadences will be ignored due to the quality mask (quality_bitmask=2096639).\n"
     ]
    },
    {
     "name": "stdout",
     "output_type": "stream",
     "text": [
      "KIC 2010191\n"
     ]
    },
    {
     "name": "stderr",
     "output_type": "stream",
     "text": [
      "Warning: 20% (855/4203) of the cadences will be ignored due to the quality mask (quality_bitmask=2096639).\n"
     ]
    },
    {
     "name": "stdout",
     "output_type": "stream",
     "text": [
      "KIC 2010414\n",
      "KIC 2302548\n",
      "KIC 2437488\n"
     ]
    },
    {
     "name": "stderr",
     "output_type": "stream",
     "text": [
      "Warning: 45% (1894/4203) of the cadences will be ignored due to the quality mask (quality_bitmask=2096639).\n"
     ]
    },
    {
     "name": "stdout",
     "output_type": "stream",
     "text": [
      "KIC 2437505\n"
     ]
    },
    {
     "name": "stderr",
     "output_type": "stream",
     "text": [
      "Warning: 31% (1307/4203) of the cadences will be ignored due to the quality mask (quality_bitmask=2096639).\n"
     ]
    },
    {
     "name": "stdout",
     "output_type": "stream",
     "text": [
      "KIC 2447832\n",
      "KIC 2583153\n"
     ]
    },
    {
     "name": "stderr",
     "output_type": "stream",
     "text": [
      "Warning: 22% (915/4203) of the cadences will be ignored due to the quality mask (quality_bitmask=2096639).\n"
     ]
    },
    {
     "name": "stdout",
     "output_type": "stream",
     "text": [
      "KIC 2708885\n"
     ]
    },
    {
     "name": "stderr",
     "output_type": "stream",
     "text": [
      "Warning: 21% (872/4203) of the cadences will be ignored due to the quality mask (quality_bitmask=2096639).\n"
     ]
    },
    {
     "name": "stdout",
     "output_type": "stream",
     "text": [
      "KIC 2710327\n"
     ]
    },
    {
     "name": "stderr",
     "output_type": "stream",
     "text": [
      "/Users/aridamansc/opt/anaconda3/lib/python3.9/site-packages/lightkurve/search.py:418: LightkurveWarning: Cannot download from an empty search result.\n",
      "  warnings.warn(\n",
      "Warning: 40% (1682/4203) of the cadences will be ignored due to the quality mask (quality_bitmask=2096639).\n"
     ]
    },
    {
     "name": "stdout",
     "output_type": "stream",
     "text": [
      "KIC 2710406\n",
      "KIC 2719436 had an error: 'NoneType' object has no attribute 'to_lightcurve'\n",
      "KIC 2719873\n",
      "KIC 2852941\n",
      "KIC 2853029\n"
     ]
    },
    {
     "name": "stderr",
     "output_type": "stream",
     "text": [
      "Warning: 22% (904/4203) of the cadences will be ignored due to the quality mask (quality_bitmask=2096639).\n"
     ]
    },
    {
     "name": "stdout",
     "output_type": "stream",
     "text": [
      "KIC 2853093\n"
     ]
    },
    {
     "name": "stderr",
     "output_type": "stream",
     "text": [
      "Warning: 23% (949/4203) of the cadences will be ignored due to the quality mask (quality_bitmask=2096639).\n"
     ]
    },
    {
     "name": "stdout",
     "output_type": "stream",
     "text": [
      "KIC 2853280\n",
      "KIC 2976017\n",
      "KIC 1433899\n",
      "KIC 1433962\n"
     ]
    },
    {
     "name": "stderr",
     "output_type": "stream",
     "text": [
      "Warning: 29% (1201/4203) of the cadences will be ignored due to the quality mask (quality_bitmask=2096639).\n"
     ]
    },
    {
     "name": "stdout",
     "output_type": "stream",
     "text": [
      "KIC 1721157\n",
      "KIC 1721361\n"
     ]
    },
    {
     "name": "stderr",
     "output_type": "stream",
     "text": [
      "/Users/aridamansc/opt/anaconda3/lib/python3.9/site-packages/lightkurve/search.py:423: LightkurveWarning: Warning: 4 files available to download. Only the first file has been downloaded. Please use `download_all()` or specify additional criteria (e.g. quarter, campaign, or sector) to limit your search.\n",
      "  warnings.warn(\n"
     ]
    },
    {
     "name": "stdout",
     "output_type": "stream",
     "text": [
      "KIC 2162635\n",
      "KIC 2162904 had an error: 'NoneType' object has no attribute 'to_lightcurve'\n"
     ]
    },
    {
     "name": "stderr",
     "output_type": "stream",
     "text": [
      "/Users/aridamansc/opt/anaconda3/lib/python3.9/site-packages/lightkurve/search.py:418: LightkurveWarning: Cannot download from an empty search result.\n",
      "  warnings.warn(\n",
      "Warning: 23% (947/4203) of the cadences will be ignored due to the quality mask (quality_bitmask=2096639).\n"
     ]
    },
    {
     "name": "stdout",
     "output_type": "stream",
     "text": [
      "KIC 2303304\n",
      "KIC 2303365\n"
     ]
    },
    {
     "name": "stderr",
     "output_type": "stream",
     "text": [
      "/Users/aridamansc/opt/anaconda3/lib/python3.9/site-packages/lightkurve/search.py:418: LightkurveWarning: Cannot download from an empty search result.\n",
      "  warnings.warn(\n",
      "Warning: 22% (918/4203) of the cadences will be ignored due to the quality mask (quality_bitmask=2096639).\n"
     ]
    },
    {
     "name": "stdout",
     "output_type": "stream",
     "text": [
      "KIC 2303903\n",
      "KIC 2437783 had an error: 'NoneType' object has no attribute 'to_lightcurve'\n",
      "KIC 2448307 had an error: 'NoneType' object has no attribute 'to_lightcurve'\n"
     ]
    },
    {
     "name": "stderr",
     "output_type": "stream",
     "text": [
      "Warning: 29% (1199/4203) of the cadences will be ignored due to the quality mask (quality_bitmask=2096639).\n"
     ]
    },
    {
     "name": "stdout",
     "output_type": "stream",
     "text": [
      "KIC 2449053\n",
      "KIC 2449074\n"
     ]
    },
    {
     "name": "stderr",
     "output_type": "stream",
     "text": [
      "Warning: 29% (1227/4203) of the cadences will be ignored due to the quality mask (quality_bitmask=2096639).\n",
      "Warning: 21% (863/4203) of the cadences will be ignored due to the quality mask (quality_bitmask=2096639).\n"
     ]
    },
    {
     "name": "stdout",
     "output_type": "stream",
     "text": [
      "KIC 2571868\n",
      "KIC 2572029\n",
      "KIC 2573056\n"
     ]
    },
    {
     "name": "stderr",
     "output_type": "stream",
     "text": [
      "Warning: 24% (999/4203) of the cadences will be ignored due to the quality mask (quality_bitmask=2096639).\n"
     ]
    },
    {
     "name": "stdout",
     "output_type": "stream",
     "text": [
      "KIC 2710623\n"
     ]
    },
    {
     "name": "stderr",
     "output_type": "stream",
     "text": [
      "Warning: 20% (855/4203) of the cadences will be ignored due to the quality mask (quality_bitmask=2096639).\n"
     ]
    },
    {
     "name": "stdout",
     "output_type": "stream",
     "text": [
      "KIC 2719928\n"
     ]
    },
    {
     "name": "stderr",
     "output_type": "stream",
     "text": [
      "Warning: 28% (1191/4203) of the cadences will be ignored due to the quality mask (quality_bitmask=2096639).\n"
     ]
    },
    {
     "name": "stdout",
     "output_type": "stream",
     "text": [
      "KIC 2985054\n"
     ]
    },
    {
     "name": "stderr",
     "output_type": "stream",
     "text": [
      "Warning: 39% (1647/4203) of the cadences will be ignored due to the quality mask (quality_bitmask=2096639).\n"
     ]
    },
    {
     "name": "stdout",
     "output_type": "stream",
     "text": [
      "KIC 2985396\n"
     ]
    },
    {
     "name": "stderr",
     "output_type": "stream",
     "text": [
      "Warning: 22% (909/4203) of the cadences will be ignored due to the quality mask (quality_bitmask=2096639).\n"
     ]
    },
    {
     "name": "stdout",
     "output_type": "stream",
     "text": [
      "KIC 1433980\n"
     ]
    },
    {
     "name": "stderr",
     "output_type": "stream",
     "text": [
      "Warning: 21% (878/4203) of the cadences will be ignored due to the quality mask (quality_bitmask=2096639).\n"
     ]
    },
    {
     "name": "stdout",
     "output_type": "stream",
     "text": [
      "KIC 1434660\n"
     ]
    },
    {
     "name": "stderr",
     "output_type": "stream",
     "text": [
      "Warning: 21% (874/4203) of the cadences will be ignored due to the quality mask (quality_bitmask=2096639).\n"
     ]
    },
    {
     "name": "stdout",
     "output_type": "stream",
     "text": [
      "KIC 1724222\n"
     ]
    },
    {
     "name": "stderr",
     "output_type": "stream",
     "text": [
      "Warning: 22% (940/4203) of the cadences will be ignored due to the quality mask (quality_bitmask=2096639).\n"
     ]
    },
    {
     "name": "stdout",
     "output_type": "stream",
     "text": [
      "KIC 1724513\n",
      "KIC 1724719\n"
     ]
    },
    {
     "name": "stderr",
     "output_type": "stream",
     "text": [
      "Warning: 23% (968/4203) of the cadences will be ignored due to the quality mask (quality_bitmask=2096639).\n"
     ]
    },
    {
     "name": "stdout",
     "output_type": "stream",
     "text": [
      "KIC 2011424\n"
     ]
    },
    {
     "name": "stderr",
     "output_type": "stream",
     "text": [
      "Warning: 26% (1076/4203) of the cadences will be ignored due to the quality mask (quality_bitmask=2096639).\n"
     ]
    },
    {
     "name": "stdout",
     "output_type": "stream",
     "text": [
      "KIC 2012722\n"
     ]
    },
    {
     "name": "stderr",
     "output_type": "stream",
     "text": [
      "Warning: 21% (898/4203) of the cadences will be ignored due to the quality mask (quality_bitmask=2096639).\n"
     ]
    },
    {
     "name": "stdout",
     "output_type": "stream",
     "text": [
      "KIC 2163326\n",
      "KIC 2164169\n",
      "KIC 2304168\n"
     ]
    },
    {
     "name": "stderr",
     "output_type": "stream",
     "text": [
      "Warning: 31% (1320/4203) of the cadences will be ignored due to the quality mask (quality_bitmask=2096639).\n"
     ]
    },
    {
     "name": "stdout",
     "output_type": "stream",
     "text": [
      "KIC 2304235\n",
      "KIC 2437804\n"
     ]
    },
    {
     "name": "stderr",
     "output_type": "stream",
     "text": [
      "/Users/aridamansc/opt/anaconda3/lib/python3.9/site-packages/lightkurve/search.py:423: LightkurveWarning: Warning: 2 files available to download. Only the first file has been downloaded. Please use `download_all()` or specify additional criteria (e.g. quarter, campaign, or sector) to limit your search.\n",
      "  warnings.warn(\n",
      "Warning: 26% (1074/4203) of the cadences will be ignored due to the quality mask (quality_bitmask=2096639).\n"
     ]
    },
    {
     "name": "stdout",
     "output_type": "stream",
     "text": [
      "KIC 2438062\n"
     ]
    },
    {
     "name": "stderr",
     "output_type": "stream",
     "text": [
      "Warning: 22% (918/4203) of the cadences will be ignored due to the quality mask (quality_bitmask=2096639).\n"
     ]
    },
    {
     "name": "stdout",
     "output_type": "stream",
     "text": [
      "KIC 2449090\n",
      "KIC 2449101\n"
     ]
    },
    {
     "name": "stderr",
     "output_type": "stream",
     "text": [
      "Warning: 21% (864/4203) of the cadences will be ignored due to the quality mask (quality_bitmask=2096639).\n"
     ]
    },
    {
     "name": "stdout",
     "output_type": "stream",
     "text": [
      "KIC 2574201\n"
     ]
    },
    {
     "name": "stderr",
     "output_type": "stream",
     "text": [
      "/Users/aridamansc/opt/anaconda3/lib/python3.9/site-packages/lightkurve/search.py:418: LightkurveWarning: Cannot download from an empty search result.\n",
      "  warnings.warn(\n",
      "Warning: 24% (996/4203) of the cadences will be ignored due to the quality mask (quality_bitmask=2096639).\n"
     ]
    },
    {
     "name": "stdout",
     "output_type": "stream",
     "text": [
      "KIC 2574338\n",
      "KIC 2574543 had an error: 'NoneType' object has no attribute 'to_lightcurve'\n"
     ]
    },
    {
     "name": "stderr",
     "output_type": "stream",
     "text": [
      "Warning: 70% (2928/4203) of the cadences will be ignored due to the quality mask (quality_bitmask=2096639).\n"
     ]
    },
    {
     "name": "stdout",
     "output_type": "stream",
     "text": [
      "KIC 2583777\n",
      "KIC 2584163\n",
      "KIC 2711123\n"
     ]
    },
    {
     "name": "stderr",
     "output_type": "stream",
     "text": [
      "Warning: 21% (878/4203) of the cadences will be ignored due to the quality mask (quality_bitmask=2096639).\n"
     ]
    },
    {
     "name": "stdout",
     "output_type": "stream",
     "text": [
      "KIC 2711597\n"
     ]
    },
    {
     "name": "stderr",
     "output_type": "stream",
     "text": [
      "Warning: 30% (1247/4203) of the cadences will be ignored due to the quality mask (quality_bitmask=2096639).\n"
     ]
    },
    {
     "name": "stdout",
     "output_type": "stream",
     "text": [
      "KIC 2720514\n",
      "KIC 2720582\n",
      "KIC 2853320\n",
      "KIC 2986833\n"
     ]
    },
    {
     "name": "stderr",
     "output_type": "stream",
     "text": [
      "Warning: 22% (904/4203) of the cadences will be ignored due to the quality mask (quality_bitmask=2096639).\n"
     ]
    },
    {
     "name": "stdout",
     "output_type": "stream",
     "text": [
      "KIC 2987027\n"
     ]
    },
    {
     "name": "stderr",
     "output_type": "stream",
     "text": [
      "Warning: 21% (882/4203) of the cadences will be ignored due to the quality mask (quality_bitmask=2096639).\n"
     ]
    },
    {
     "name": "stdout",
     "output_type": "stream",
     "text": [
      "KIC 2987433\n",
      "KIC 1434800\n"
     ]
    },
    {
     "name": "stderr",
     "output_type": "stream",
     "text": [
      "Warning: 20% (845/4203) of the cadences will be ignored due to the quality mask (quality_bitmask=2096639).\n",
      "Warning: 25% (1065/4203) of the cadences will be ignored due to the quality mask (quality_bitmask=2096639).\n"
     ]
    },
    {
     "name": "stdout",
     "output_type": "stream",
     "text": [
      "KIC 1724961\n"
     ]
    },
    {
     "name": "stderr",
     "output_type": "stream",
     "text": [
      "Warning: 23% (948/4203) of the cadences will be ignored due to the quality mask (quality_bitmask=2096639).\n"
     ]
    },
    {
     "name": "stdout",
     "output_type": "stream",
     "text": [
      "KIC 2013883\n"
     ]
    },
    {
     "name": "stderr",
     "output_type": "stream",
     "text": [
      "Warning: 21% (897/4203) of the cadences will be ignored due to the quality mask (quality_bitmask=2096639).\n"
     ]
    },
    {
     "name": "stdout",
     "output_type": "stream",
     "text": [
      "KIC 2014991\n"
     ]
    },
    {
     "name": "stderr",
     "output_type": "stream",
     "text": [
      "Warning: 30% (1267/4203) of the cadences will be ignored due to the quality mask (quality_bitmask=2096639).\n"
     ]
    },
    {
     "name": "stdout",
     "output_type": "stream",
     "text": [
      "KIC 2015013\n"
     ]
    },
    {
     "name": "stderr",
     "output_type": "stream",
     "text": [
      "Warning: 25% (1030/4203) of the cadences will be ignored due to the quality mask (quality_bitmask=2096639).\n"
     ]
    },
    {
     "name": "stdout",
     "output_type": "stream",
     "text": [
      "KIC 2164884\n"
     ]
    },
    {
     "name": "stderr",
     "output_type": "stream",
     "text": [
      "Warning: 21% (885/4203) of the cadences will be ignored due to the quality mask (quality_bitmask=2096639).\n"
     ]
    },
    {
     "name": "stdout",
     "output_type": "stream",
     "text": [
      "KIC 2165002\n",
      "KIC 2304320\n",
      "KIC 2438070\n",
      "KIC 2438249\n"
     ]
    },
    {
     "name": "stderr",
     "output_type": "stream",
     "text": [
      "Warning: 24% (1024/4203) of the cadences will be ignored due to the quality mask (quality_bitmask=2096639).\n"
     ]
    },
    {
     "name": "stdout",
     "output_type": "stream",
     "text": [
      "KIC 2438264\n"
     ]
    },
    {
     "name": "stderr",
     "output_type": "stream",
     "text": [
      "Warning: 28% (1183/4203) of the cadences will be ignored due to the quality mask (quality_bitmask=2096639).\n"
     ]
    },
    {
     "name": "stdout",
     "output_type": "stream",
     "text": [
      "KIC 2449431\n",
      "KIC 2450944\n"
     ]
    },
    {
     "name": "stderr",
     "output_type": "stream",
     "text": [
      "Warning: 84% (3530/4203) of the cadences will be ignored due to the quality mask (quality_bitmask=2096639).\n",
      "Warning: 49% (2066/4203) of the cadences will be ignored due to the quality mask (quality_bitmask=2096639).\n"
     ]
    },
    {
     "name": "stdout",
     "output_type": "stream",
     "text": [
      "KIC 2584879\n"
     ]
    },
    {
     "name": "stderr",
     "output_type": "stream",
     "text": [
      "Warning: 27% (1138/4203) of the cadences will be ignored due to the quality mask (quality_bitmask=2096639).\n"
     ]
    },
    {
     "name": "stdout",
     "output_type": "stream",
     "text": [
      "KIC 2584908\n",
      "KIC 2585092\n"
     ]
    },
    {
     "name": "stderr",
     "output_type": "stream",
     "text": [
      "Warning: 23% (947/4203) of the cadences will be ignored due to the quality mask (quality_bitmask=2096639).\n"
     ]
    },
    {
     "name": "stdout",
     "output_type": "stream",
     "text": [
      "KIC 2711606\n"
     ]
    },
    {
     "name": "stderr",
     "output_type": "stream",
     "text": [
      "Warning: 24% (1018/4203) of the cadences will be ignored due to the quality mask (quality_bitmask=2096639).\n"
     ]
    },
    {
     "name": "stdout",
     "output_type": "stream",
     "text": [
      "KIC 2720594\n"
     ]
    },
    {
     "name": "stderr",
     "output_type": "stream",
     "text": [
      "Warning: 23% (982/4203) of the cadences will be ignored due to the quality mask (quality_bitmask=2096639).\n"
     ]
    },
    {
     "name": "stdout",
     "output_type": "stream",
     "text": [
      "KIC 2853446\n"
     ]
    },
    {
     "name": "stderr",
     "output_type": "stream",
     "text": [
      "Warning: 28% (1159/4203) of the cadences will be ignored due to the quality mask (quality_bitmask=2096639).\n"
     ]
    },
    {
     "name": "stdout",
     "output_type": "stream",
     "text": [
      "KIC 2853780\n",
      "KIC 2853828\n"
     ]
    },
    {
     "name": "stderr",
     "output_type": "stream",
     "text": [
      "Warning: 22% (921/4203) of the cadences will be ignored due to the quality mask (quality_bitmask=2096639).\n"
     ]
    },
    {
     "name": "stdout",
     "output_type": "stream",
     "text": [
      "KIC 2989706\n"
     ]
    },
    {
     "name": "stderr",
     "output_type": "stream",
     "text": [
      "Warning: 20% (853/4203) of the cadences will be ignored due to the quality mask (quality_bitmask=2096639).\n"
     ]
    },
    {
     "name": "stdout",
     "output_type": "stream",
     "text": [
      "KIC 2990873\n",
      "KIC 1571511\n"
     ]
    },
    {
     "name": "stderr",
     "output_type": "stream",
     "text": [
      "Warning: 21% (895/4203) of the cadences will be ignored due to the quality mask (quality_bitmask=2096639).\n"
     ]
    },
    {
     "name": "stdout",
     "output_type": "stream",
     "text": [
      "KIC 1571717\n"
     ]
    },
    {
     "name": "stderr",
     "output_type": "stream",
     "text": [
      "/Users/aridamansc/opt/anaconda3/lib/python3.9/site-packages/lightkurve/search.py:418: LightkurveWarning: Cannot download from an empty search result.\n",
      "  warnings.warn(\n",
      "Warning: 22% (924/4203) of the cadences will be ignored due to the quality mask (quality_bitmask=2096639).\n"
     ]
    },
    {
     "name": "stdout",
     "output_type": "stream",
     "text": [
      "KIC 1725016\n",
      "KIC 1725193 had an error: 'NoneType' object has no attribute 'to_lightcurve'\n",
      "KIC 1849235\n",
      "KIC 2016979\n"
     ]
    },
    {
     "name": "stderr",
     "output_type": "stream",
     "text": [
      "Warning: 21% (886/4203) of the cadences will be ignored due to the quality mask (quality_bitmask=2096639).\n"
     ]
    },
    {
     "name": "stdout",
     "output_type": "stream",
     "text": [
      "KIC 2018685\n"
     ]
    },
    {
     "name": "stderr",
     "output_type": "stream",
     "text": [
      "Warning: 24% (1026/4203) of the cadences will be ignored due to the quality mask (quality_bitmask=2096639).\n"
     ]
    },
    {
     "name": "stdout",
     "output_type": "stream",
     "text": [
      "KIC 2165352\n"
     ]
    },
    {
     "name": "stderr",
     "output_type": "stream",
     "text": [
      "Warning: 29% (1217/4203) of the cadences will be ignored due to the quality mask (quality_bitmask=2096639).\n"
     ]
    },
    {
     "name": "stdout",
     "output_type": "stream",
     "text": [
      "KIC 2166200\n"
     ]
    },
    {
     "name": "stderr",
     "output_type": "stream",
     "text": [
      "Warning: 22% (907/4203) of the cadences will be ignored due to the quality mask (quality_bitmask=2096639).\n"
     ]
    },
    {
     "name": "stdout",
     "output_type": "stream",
     "text": [
      "KIC 2166206\n"
     ]
    },
    {
     "name": "stderr",
     "output_type": "stream",
     "text": [
      "Warning: 23% (986/4203) of the cadences will be ignored due to the quality mask (quality_bitmask=2096639).\n"
     ]
    },
    {
     "name": "stdout",
     "output_type": "stream",
     "text": [
      "KIC 2305255\n",
      "KIC 2305311\n",
      "KIC 2305543 had an error: 'NoneType' object has no attribute 'to_lightcurve'\n",
      "KIC 2438490 had an error: 'NoneType' object has no attribute 'to_lightcurve'\n"
     ]
    },
    {
     "name": "stderr",
     "output_type": "stream",
     "text": [
      "/Users/aridamansc/opt/anaconda3/lib/python3.9/site-packages/lightkurve/search.py:418: LightkurveWarning: Cannot download from an empty search result.\n",
      "  warnings.warn(\n",
      "/Users/aridamansc/opt/anaconda3/lib/python3.9/site-packages/lightkurve/search.py:423: LightkurveWarning: Warning: 2 files available to download. Only the first file has been downloaded. Please use `download_all()` or specify additional criteria (e.g. quarter, campaign, or sector) to limit your search.\n",
      "  warnings.warn(\n",
      "Warning: 29% (1206/4203) of the cadences will be ignored due to the quality mask (quality_bitmask=2096639).\n"
     ]
    },
    {
     "name": "stdout",
     "output_type": "stream",
     "text": [
      "KIC 2438502\n"
     ]
    },
    {
     "name": "stderr",
     "output_type": "stream",
     "text": [
      "Warning: 24% (1014/4203) of the cadences will be ignored due to the quality mask (quality_bitmask=2096639).\n"
     ]
    },
    {
     "name": "stdout",
     "output_type": "stream",
     "text": [
      "KIC 2452289\n"
     ]
    },
    {
     "name": "stderr",
     "output_type": "stream",
     "text": [
      "Warning: 21% (877/4203) of the cadences will be ignored due to the quality mask (quality_bitmask=2096639).\n"
     ]
    },
    {
     "name": "stdout",
     "output_type": "stream",
     "text": [
      "KIC 2452440\n"
     ]
    },
    {
     "name": "stderr",
     "output_type": "stream",
     "text": [
      "Warning: 30% (1280/4203) of the cadences will be ignored due to the quality mask (quality_bitmask=2096639).\n"
     ]
    },
    {
     "name": "stdout",
     "output_type": "stream",
     "text": [
      "KIC 2575964\n"
     ]
    },
    {
     "name": "stderr",
     "output_type": "stream",
     "text": [
      "Warning: 20% (842/4203) of the cadences will be ignored due to the quality mask (quality_bitmask=2096639).\n"
     ]
    },
    {
     "name": "stdout",
     "output_type": "stream",
     "text": [
      "KIC 2576107\n",
      "KIC 2576197\n"
     ]
    },
    {
     "name": "stderr",
     "output_type": "stream",
     "text": [
      "/Users/aridamansc/opt/anaconda3/lib/python3.9/site-packages/lightkurve/search.py:423: LightkurveWarning: Warning: 4 files available to download. Only the first file has been downloaded. Please use `download_all()` or specify additional criteria (e.g. quarter, campaign, or sector) to limit your search.\n",
      "  warnings.warn(\n"
     ]
    },
    {
     "name": "stdout",
     "output_type": "stream",
     "text": [
      "KIC 2692377\n"
     ]
    },
    {
     "name": "stderr",
     "output_type": "stream",
     "text": [
      "Warning: 28% (1195/4203) of the cadences will be ignored due to the quality mask (quality_bitmask=2096639).\n"
     ]
    },
    {
     "name": "stdout",
     "output_type": "stream",
     "text": [
      "KIC 2713049\n"
     ]
    },
    {
     "name": "stderr",
     "output_type": "stream",
     "text": [
      "Warning: 22% (911/4203) of the cadences will be ignored due to the quality mask (quality_bitmask=2096639).\n"
     ]
    },
    {
     "name": "stdout",
     "output_type": "stream",
     "text": [
      "KIC 2714707\n"
     ]
    },
    {
     "name": "stderr",
     "output_type": "stream",
     "text": [
      "Warning: 23% (968/4203) of the cadences will be ignored due to the quality mask (quality_bitmask=2096639).\n"
     ]
    },
    {
     "name": "stdout",
     "output_type": "stream",
     "text": [
      "KIC 2720828\n"
     ]
    },
    {
     "name": "stderr",
     "output_type": "stream",
     "text": [
      "Warning: 26% (1079/4203) of the cadences will be ignored due to the quality mask (quality_bitmask=2096639).\n"
     ]
    },
    {
     "name": "stdout",
     "output_type": "stream",
     "text": [
      "KIC 2721030\n"
     ]
    },
    {
     "name": "stderr",
     "output_type": "stream",
     "text": [
      "Warning: 20% (853/4203) of the cadences will be ignored due to the quality mask (quality_bitmask=2096639).\n"
     ]
    },
    {
     "name": "stdout",
     "output_type": "stream",
     "text": [
      "KIC 2853889\n"
     ]
    },
    {
     "name": "stderr",
     "output_type": "stream",
     "text": [
      "/Users/aridamansc/opt/anaconda3/lib/python3.9/site-packages/lightkurve/search.py:418: LightkurveWarning: Cannot download from an empty search result.\n",
      "  warnings.warn(\n",
      "Warning: 23% (978/4203) of the cadences will be ignored due to the quality mask (quality_bitmask=2096639).\n"
     ]
    },
    {
     "name": "stdout",
     "output_type": "stream",
     "text": [
      "KIC 2854181\n",
      "KIC 1572948 had an error: 'NoneType' object has no attribute 'to_lightcurve'\n",
      "KIC 1849702\n"
     ]
    },
    {
     "name": "stderr",
     "output_type": "stream",
     "text": [
      "Warning: 25% (1035/4203) of the cadences will be ignored due to the quality mask (quality_bitmask=2096639).\n"
     ]
    },
    {
     "name": "stdout",
     "output_type": "stream",
     "text": [
      "KIC 1865042\n",
      "KIC 2019076\n"
     ]
    },
    {
     "name": "stderr",
     "output_type": "stream",
     "text": [
      "Warning: 58% (2435/4203) of the cadences will be ignored due to the quality mask (quality_bitmask=2096639).\n",
      "Warning: 62% (2604/4203) of the cadences will be ignored due to the quality mask (quality_bitmask=2096639).\n"
     ]
    },
    {
     "name": "stdout",
     "output_type": "stream",
     "text": [
      "KIC 2166218\n",
      "KIC 2305866\n"
     ]
    },
    {
     "name": "stderr",
     "output_type": "stream",
     "text": [
      "/Users/aridamansc/opt/anaconda3/lib/python3.9/site-packages/lightkurve/search.py:423: LightkurveWarning: Warning: 4 files available to download. Only the first file has been downloaded. Please use `download_all()` or specify additional criteria (e.g. quarter, campaign, or sector) to limit your search.\n",
      "  warnings.warn(\n"
     ]
    },
    {
     "name": "stdout",
     "output_type": "stream",
     "text": [
      "KIC 2438513\n"
     ]
    },
    {
     "name": "stderr",
     "output_type": "stream",
     "text": [
      "Warning: 28% (1178/4203) of the cadences will be ignored due to the quality mask (quality_bitmask=2096639).\n"
     ]
    },
    {
     "name": "stdout",
     "output_type": "stream",
     "text": [
      "KIC 2438517\n"
     ]
    },
    {
     "name": "stderr",
     "output_type": "stream",
     "text": [
      "Warning: 26% (1080/4203) of the cadences will be ignored due to the quality mask (quality_bitmask=2096639).\n"
     ]
    },
    {
     "name": "stdout",
     "output_type": "stream",
     "text": [
      "KIC 2452450\n"
     ]
    },
    {
     "name": "stderr",
     "output_type": "stream",
     "text": [
      "Warning: 22% (918/4203) of the cadences will be ignored due to the quality mask (quality_bitmask=2096639).\n"
     ]
    },
    {
     "name": "stdout",
     "output_type": "stream",
     "text": [
      "KIC 2452920\n",
      "KIC 2576224\n",
      "KIC 2576692\n"
     ]
    },
    {
     "name": "stderr",
     "output_type": "stream",
     "text": [
      "Warning: 21% (863/4203) of the cadences will be ignored due to the quality mask (quality_bitmask=2096639).\n"
     ]
    },
    {
     "name": "stdout",
     "output_type": "stream",
     "text": [
      "KIC 2577952\n",
      "KIC 2714807\n",
      "KIC 2714887\n"
     ]
    },
    {
     "name": "stderr",
     "output_type": "stream",
     "text": [
      "Warning: 21% (892/4203) of the cadences will be ignored due to the quality mask (quality_bitmask=2096639).\n"
     ]
    },
    {
     "name": "stdout",
     "output_type": "stream",
     "text": [
      "KIC 3351945\n"
     ]
    },
    {
     "name": "stderr",
     "output_type": "stream",
     "text": [
      "Warning: 21% (901/4203) of the cadences will be ignored due to the quality mask (quality_bitmask=2096639).\n"
     ]
    },
    {
     "name": "stdout",
     "output_type": "stream",
     "text": [
      "KIC 3352122\n",
      "KIC 3440840\n"
     ]
    },
    {
     "name": "stderr",
     "output_type": "stream",
     "text": [
      "Warning: 20% (858/4203) of the cadences will be ignored due to the quality mask (quality_bitmask=2096639).\n"
     ]
    },
    {
     "name": "stdout",
     "output_type": "stream",
     "text": [
      "KIC 3440978\n"
     ]
    },
    {
     "name": "stderr",
     "output_type": "stream",
     "text": [
      "Warning: 23% (961/4203) of the cadences will be ignored due to the quality mask (quality_bitmask=2096639).\n"
     ]
    },
    {
     "name": "stdout",
     "output_type": "stream",
     "text": [
      "KIC 3441159\n"
     ]
    },
    {
     "name": "stderr",
     "output_type": "stream",
     "text": [
      "Warning: 20% (850/4203) of the cadences will be ignored due to the quality mask (quality_bitmask=2096639).\n"
     ]
    },
    {
     "name": "stdout",
     "output_type": "stream",
     "text": [
      "KIC 3449540\n"
     ]
    },
    {
     "name": "stderr",
     "output_type": "stream",
     "text": [
      "Warning: 25% (1039/4203) of the cadences will be ignored due to the quality mask (quality_bitmask=2096639).\n"
     ]
    },
    {
     "name": "stdout",
     "output_type": "stream",
     "text": [
      "KIC 3450040\n"
     ]
    },
    {
     "name": "stderr",
     "output_type": "stream",
     "text": [
      "Warning: 28% (1186/4203) of the cadences will be ignored due to the quality mask (quality_bitmask=2096639).\n"
     ]
    },
    {
     "name": "stdout",
     "output_type": "stream",
     "text": [
      "KIC 3453026\n"
     ]
    },
    {
     "name": "stderr",
     "output_type": "stream",
     "text": [
      "Warning: 31% (1296/4203) of the cadences will be ignored due to the quality mask (quality_bitmask=2096639).\n"
     ]
    },
    {
     "name": "stdout",
     "output_type": "stream",
     "text": [
      "KIC 3534118\n",
      "KIC 3534192\n",
      "KIC 3547014\n"
     ]
    },
    {
     "name": "stderr",
     "output_type": "stream",
     "text": [
      "Warning: 24% (992/4203) of the cadences will be ignored due to the quality mask (quality_bitmask=2096639).\n"
     ]
    },
    {
     "name": "stdout",
     "output_type": "stream",
     "text": [
      "KIC 3547091\n",
      "KIC 3560301\n"
     ]
    },
    {
     "name": "stderr",
     "output_type": "stream",
     "text": [
      "Warning: 21% (903/4203) of the cadences will be ignored due to the quality mask (quality_bitmask=2096639).\n"
     ]
    },
    {
     "name": "stdout",
     "output_type": "stream",
     "text": [
      "KIC 3644071\n"
     ]
    },
    {
     "name": "stderr",
     "output_type": "stream",
     "text": [
      "Warning: 20% (854/4203) of the cadences will be ignored due to the quality mask (quality_bitmask=2096639).\n"
     ]
    },
    {
     "name": "stdout",
     "output_type": "stream",
     "text": [
      "KIC 3644116\n"
     ]
    },
    {
     "name": "stderr",
     "output_type": "stream",
     "text": [
      "Warning: 23% (952/4203) of the cadences will be ignored due to the quality mask (quality_bitmask=2096639).\n"
     ]
    },
    {
     "name": "stdout",
     "output_type": "stream",
     "text": [
      "KIC 3660006\n"
     ]
    },
    {
     "name": "stderr",
     "output_type": "stream",
     "text": [
      "Warning: 22% (938/4203) of the cadences will be ignored due to the quality mask (quality_bitmask=2096639).\n"
     ]
    },
    {
     "name": "stdout",
     "output_type": "stream",
     "text": [
      "KIC 3660392\n"
     ]
    },
    {
     "name": "stderr",
     "output_type": "stream",
     "text": [
      "Warning: 21% (899/4203) of the cadences will be ignored due to the quality mask (quality_bitmask=2096639).\n"
     ]
    },
    {
     "name": "stdout",
     "output_type": "stream",
     "text": [
      "KIC 3748250\n",
      "KIC 3764714\n"
     ]
    },
    {
     "name": "stderr",
     "output_type": "stream",
     "text": [
      "Warning: 21% (893/4203) of the cadences will be ignored due to the quality mask (quality_bitmask=2096639).\n"
     ]
    },
    {
     "name": "stdout",
     "output_type": "stream",
     "text": [
      "KIC 3764879\n"
     ]
    },
    {
     "name": "stderr",
     "output_type": "stream",
     "text": [
      "Warning: 33% (1372/4203) of the cadences will be ignored due to the quality mask (quality_bitmask=2096639).\n"
     ]
    },
    {
     "name": "stdout",
     "output_type": "stream",
     "text": [
      "KIC 3765054\n"
     ]
    },
    {
     "name": "stderr",
     "output_type": "stream",
     "text": [
      "Warning: 22% (945/4203) of the cadences will be ignored due to the quality mask (quality_bitmask=2096639).\n"
     ]
    },
    {
     "name": "stdout",
     "output_type": "stream",
     "text": [
      "KIC 3103227\n",
      "KIC 3103473\n"
     ]
    },
    {
     "name": "stderr",
     "output_type": "stream",
     "text": [
      "/Users/aridamansc/opt/anaconda3/lib/python3.9/site-packages/lightkurve/search.py:423: LightkurveWarning: Warning: 4 files available to download. Only the first file has been downloaded. Please use `download_all()` or specify additional criteria (e.g. quarter, campaign, or sector) to limit your search.\n",
      "  warnings.warn(\n"
     ]
    },
    {
     "name": "stdout",
     "output_type": "stream",
     "text": [
      "KIC 3109550\n",
      "KIC 3128325\n"
     ]
    },
    {
     "name": "stderr",
     "output_type": "stream",
     "text": [
      "Warning: 20% (859/4203) of the cadences will be ignored due to the quality mask (quality_bitmask=2096639).\n"
     ]
    },
    {
     "name": "stdout",
     "output_type": "stream",
     "text": [
      "KIC 3128552\n",
      "KIC 3230578\n"
     ]
    },
    {
     "name": "stderr",
     "output_type": "stream",
     "text": [
      "Warning: 23% (951/4203) of the cadences will be ignored due to the quality mask (quality_bitmask=2096639).\n",
      "Warning: 20% (848/4203) of the cadences will be ignored due to the quality mask (quality_bitmask=2096639).\n"
     ]
    },
    {
     "name": "stdout",
     "output_type": "stream",
     "text": [
      "KIC 3240556\n",
      "KIC 3323168\n",
      "KIC 3323289\n",
      "KIC 3340312\n"
     ]
    },
    {
     "name": "stderr",
     "output_type": "stream",
     "text": [
      "Warning: 22% (913/4203) of the cadences will be ignored due to the quality mask (quality_bitmask=2096639).\n"
     ]
    },
    {
     "name": "stdout",
     "output_type": "stream",
     "text": [
      "KIC 3340313\n"
     ]
    },
    {
     "name": "stderr",
     "output_type": "stream",
     "text": [
      "Warning: 21% (865/4203) of the cadences will be ignored due to the quality mask (quality_bitmask=2096639).\n"
     ]
    },
    {
     "name": "stdout",
     "output_type": "stream",
     "text": [
      "KIC 3340360\n"
     ]
    },
    {
     "name": "stderr",
     "output_type": "stream",
     "text": [
      "/Users/aridamansc/opt/anaconda3/lib/python3.9/site-packages/lightkurve/search.py:418: LightkurveWarning: Cannot download from an empty search result.\n",
      "  warnings.warn(\n",
      "Warning: 25% (1040/4203) of the cadences will be ignored due to the quality mask (quality_bitmask=2096639).\n"
     ]
    },
    {
     "name": "stdout",
     "output_type": "stream",
     "text": [
      "KIC 3353050\n",
      "KIC 3353454 had an error: 'NoneType' object has no attribute 'to_lightcurve'\n",
      "KIC 3354846\n"
     ]
    },
    {
     "name": "stderr",
     "output_type": "stream",
     "text": [
      "Warning: 21% (903/4203) of the cadences will be ignored due to the quality mask (quality_bitmask=2096639).\n"
     ]
    },
    {
     "name": "stdout",
     "output_type": "stream",
     "text": [
      "KIC 3453214\n",
      "KIC 3453272\n",
      "KIC 3539231\n",
      "KIC 3539521\n"
     ]
    },
    {
     "name": "stderr",
     "output_type": "stream",
     "text": [
      "Warning: 21% (863/4203) of the cadences will be ignored due to the quality mask (quality_bitmask=2096639).\n"
     ]
    },
    {
     "name": "stdout",
     "output_type": "stream",
     "text": [
      "KIC 3547178\n",
      "KIC 3560660\n"
     ]
    },
    {
     "name": "stderr",
     "output_type": "stream",
     "text": [
      "Warning: 21% (885/4203) of the cadences will be ignored due to the quality mask (quality_bitmask=2096639).\n"
     ]
    },
    {
     "name": "stdout",
     "output_type": "stream",
     "text": [
      "KIC 3560871\n"
     ]
    },
    {
     "name": "stderr",
     "output_type": "stream",
     "text": [
      "Warning: 20% (845/4203) of the cadences will be ignored due to the quality mask (quality_bitmask=2096639).\n"
     ]
    },
    {
     "name": "stdout",
     "output_type": "stream",
     "text": [
      "KIC 3644128\n",
      "KIC 3644505\n",
      "KIC 3644523\n",
      "KIC 3660924\n",
      "KIC 3749134\n",
      "KIC 3749365\n"
     ]
    },
    {
     "name": "stderr",
     "output_type": "stream",
     "text": [
      "Warning: 21% (896/4203) of the cadences will be ignored due to the quality mask (quality_bitmask=2096639).\n"
     ]
    },
    {
     "name": "stdout",
     "output_type": "stream",
     "text": [
      "KIC 2993589\n",
      "KIC 3109924\n",
      "KIC 3109930\n",
      "KIC 3109937\n"
     ]
    },
    {
     "name": "stderr",
     "output_type": "stream",
     "text": [
      "Warning: 21% (883/4203) of the cadences will be ignored due to the quality mask (quality_bitmask=2096639).\n"
     ]
    },
    {
     "name": "stdout",
     "output_type": "stream",
     "text": [
      "KIC 3110937\n"
     ]
    },
    {
     "name": "stderr",
     "output_type": "stream",
     "text": [
      "Warning: 21% (867/4203) of the cadences will be ignored due to the quality mask (quality_bitmask=2096639).\n"
     ]
    },
    {
     "name": "stdout",
     "output_type": "stream",
     "text": [
      "KIC 3128793\n",
      "KIC 3230753\n",
      "KIC 3230787\n",
      "KIC 3230805\n"
     ]
    },
    {
     "name": "stderr",
     "output_type": "stream",
     "text": [
      "Warning: 26% (1105/4203) of the cadences will be ignored due to the quality mask (quality_bitmask=2096639).\n"
     ]
    },
    {
     "name": "stdout",
     "output_type": "stream",
     "text": [
      "KIC 3240706\n"
     ]
    },
    {
     "name": "stderr",
     "output_type": "stream",
     "text": [
      "Warning: 20% (859/4203) of the cadences will be ignored due to the quality mask (quality_bitmask=2096639).\n"
     ]
    },
    {
     "name": "stdout",
     "output_type": "stream",
     "text": [
      "KIC 3324644\n",
      "KIC 3341760\n",
      "KIC 3354855\n",
      "KIC 3355104\n",
      "KIC 3441340\n"
     ]
    },
    {
     "name": "stderr",
     "output_type": "stream",
     "text": [
      "Warning: 23% (979/4203) of the cadences will be ignored due to the quality mask (quality_bitmask=2096639).\n"
     ]
    },
    {
     "name": "stdout",
     "output_type": "stream",
     "text": [
      "KIC 3441784\n"
     ]
    },
    {
     "name": "stderr",
     "output_type": "stream",
     "text": [
      "Warning: 23% (970/4203) of the cadences will be ignored due to the quality mask (quality_bitmask=2096639).\n"
     ]
    },
    {
     "name": "stdout",
     "output_type": "stream",
     "text": [
      "KIC 3453494\n",
      "KIC 3539869\n",
      "KIC 3547187\n",
      "KIC 3547315\n"
     ]
    },
    {
     "name": "stderr",
     "output_type": "stream",
     "text": [
      "Warning: 23% (954/4203) of the cadences will be ignored due to the quality mask (quality_bitmask=2096639).\n"
     ]
    },
    {
     "name": "stdout",
     "output_type": "stream",
     "text": [
      "KIC 3561464\n",
      "KIC 3561656\n"
     ]
    },
    {
     "name": "stderr",
     "output_type": "stream",
     "text": [
      "/Users/aridamansc/opt/anaconda3/lib/python3.9/site-packages/lightkurve/search.py:423: LightkurveWarning: Warning: 4 files available to download. Only the first file has been downloaded. Please use `download_all()` or specify additional criteria (e.g. quarter, campaign, or sector) to limit your search.\n",
      "  warnings.warn(\n"
     ]
    },
    {
     "name": "stdout",
     "output_type": "stream",
     "text": [
      "KIC 3644542\n"
     ]
    },
    {
     "name": "stderr",
     "output_type": "stream",
     "text": [
      "Warning: 36% (1508/4203) of the cadences will be ignored due to the quality mask (quality_bitmask=2096639).\n"
     ]
    },
    {
     "name": "stdout",
     "output_type": "stream",
     "text": [
      "KIC 3644602\n",
      "KIC 3661361\n",
      "KIC 3749389\n"
     ]
    },
    {
     "name": "stderr",
     "output_type": "stream",
     "text": [
      "Warning: 23% (964/4203) of the cadences will be ignored due to the quality mask (quality_bitmask=2096639).\n"
     ]
    },
    {
     "name": "stdout",
     "output_type": "stream",
     "text": [
      "KIC 3749833\n"
     ]
    },
    {
     "name": "stderr",
     "output_type": "stream",
     "text": [
      "Warning: 62% (2593/4203) of the cadences will be ignored due to the quality mask (quality_bitmask=2096639).\n"
     ]
    },
    {
     "name": "stdout",
     "output_type": "stream",
     "text": [
      "KIC 2994888\n"
     ]
    },
    {
     "name": "stderr",
     "output_type": "stream",
     "text": [
      "Warning: 56% (2350/4203) of the cadences will be ignored due to the quality mask (quality_bitmask=2096639).\n"
     ]
    },
    {
     "name": "stdout",
     "output_type": "stream",
     "text": [
      "KIC 2995392\n",
      "KIC 2995823\n",
      "KIC 3112129\n",
      "KIC 3113266\n",
      "KIC 3130300\n",
      "KIC 3130548\n",
      "KIC 3231120\n"
     ]
    },
    {
     "name": "stderr",
     "output_type": "stream",
     "text": [
      "Warning: 50% (2109/4203) of the cadences will be ignored due to the quality mask (quality_bitmask=2096639).\n"
     ]
    },
    {
     "name": "stdout",
     "output_type": "stream",
     "text": [
      "KIC 3231137\n"
     ]
    },
    {
     "name": "stderr",
     "output_type": "stream",
     "text": [
      "Warning: 27% (1134/4203) of the cadences will be ignored due to the quality mask (quality_bitmask=2096639).\n"
     ]
    },
    {
     "name": "stdout",
     "output_type": "stream",
     "text": [
      "KIC 3241199\n"
     ]
    },
    {
     "name": "stderr",
     "output_type": "stream",
     "text": [
      "Warning: 24% (1021/4203) of the cadences will be ignored due to the quality mask (quality_bitmask=2096639).\n"
     ]
    },
    {
     "name": "stdout",
     "output_type": "stream",
     "text": [
      "KIC 3241248\n"
     ]
    },
    {
     "name": "stderr",
     "output_type": "stream",
     "text": [
      "Warning: 21% (872/4203) of the cadences will be ignored due to the quality mask (quality_bitmask=2096639).\n"
     ]
    },
    {
     "name": "stdout",
     "output_type": "stream",
     "text": [
      "KIC 3324986\n"
     ]
    },
    {
     "name": "stderr",
     "output_type": "stream",
     "text": [
      "Warning: 29% (1198/4203) of the cadences will be ignored due to the quality mask (quality_bitmask=2096639).\n"
     ]
    },
    {
     "name": "stdout",
     "output_type": "stream",
     "text": [
      "KIC 3326377\n",
      "KIC 3326428\n",
      "KIC 3341934\n",
      "KIC 3356799\n",
      "KIC 3454720\n"
     ]
    },
    {
     "name": "stderr",
     "output_type": "stream",
     "text": [
      "Warning: 22% (936/4203) of the cadences will be ignored due to the quality mask (quality_bitmask=2096639).\n",
      "Warning: 22% (915/4203) of the cadences will be ignored due to the quality mask (quality_bitmask=2096639).\n"
     ]
    },
    {
     "name": "stdout",
     "output_type": "stream",
     "text": [
      "KIC 3454731\n",
      "KIC 3541800\n"
     ]
    },
    {
     "name": "stderr",
     "output_type": "stream",
     "text": [
      "Warning: 21% (882/4203) of the cadences will be ignored due to the quality mask (quality_bitmask=2096639).\n"
     ]
    },
    {
     "name": "stdout",
     "output_type": "stream",
     "text": [
      "KIC 3541946\n"
     ]
    },
    {
     "name": "stderr",
     "output_type": "stream",
     "text": [
      "Warning: 20% (844/4203) of the cadences will be ignored due to the quality mask (quality_bitmask=2096639).\n"
     ]
    },
    {
     "name": "stdout",
     "output_type": "stream",
     "text": [
      "KIC 3547523\n",
      "KIC 3547760\n",
      "KIC 3561700 had an error: 'NoneType' object has no attribute 'to_lightcurve'\n"
     ]
    },
    {
     "name": "stderr",
     "output_type": "stream",
     "text": [
      "/Users/aridamansc/opt/anaconda3/lib/python3.9/site-packages/lightkurve/search.py:418: LightkurveWarning: Cannot download from an empty search result.\n",
      "  warnings.warn(\n"
     ]
    },
    {
     "name": "stdout",
     "output_type": "stream",
     "text": [
      "KIC 3644653\n"
     ]
    },
    {
     "name": "stderr",
     "output_type": "stream",
     "text": [
      "Warning: 22% (941/4203) of the cadences will be ignored due to the quality mask (quality_bitmask=2096639).\n"
     ]
    },
    {
     "name": "stdout",
     "output_type": "stream",
     "text": [
      "KIC 3645438\n",
      "KIC 3661886\n",
      "KIC 3662635\n",
      "KIC 3749978\n"
     ]
    },
    {
     "name": "stderr",
     "output_type": "stream",
     "text": [
      "Warning: 47% (1984/4203) of the cadences will be ignored due to the quality mask (quality_bitmask=2096639).\n"
     ]
    },
    {
     "name": "stdout",
     "output_type": "stream",
     "text": [
      "KIC 2996015\n",
      "KIC 3114167\n",
      "KIC 3114661\n",
      "KIC 3114667\n"
     ]
    },
    {
     "name": "stderr",
     "output_type": "stream",
     "text": [
      "Warning: 22% (907/4203) of the cadences will be ignored due to the quality mask (quality_bitmask=2096639).\n"
     ]
    },
    {
     "name": "stdout",
     "output_type": "stream",
     "text": [
      "KIC 3114811\n"
     ]
    },
    {
     "name": "stderr",
     "output_type": "stream",
     "text": [
      "Warning: 22% (905/4203) of the cadences will be ignored due to the quality mask (quality_bitmask=2096639).\n"
     ]
    },
    {
     "name": "stdout",
     "output_type": "stream",
     "text": [
      "KIC 3216518\n",
      "KIC 3216838\n"
     ]
    },
    {
     "name": "stderr",
     "output_type": "stream",
     "text": [
      "/Users/aridamansc/opt/anaconda3/lib/python3.9/site-packages/lightkurve/search.py:423: LightkurveWarning: Warning: 4 files available to download. Only the first file has been downloaded. Please use `download_all()` or specify additional criteria (e.g. quarter, campaign, or sector) to limit your search.\n",
      "  warnings.warn(\n",
      "Warning: 22% (919/4203) of the cadences will be ignored due to the quality mask (quality_bitmask=2096639).\n"
     ]
    },
    {
     "name": "stdout",
     "output_type": "stream",
     "text": [
      "KIC 3231341\n"
     ]
    },
    {
     "name": "stderr",
     "output_type": "stream",
     "text": [
      "Warning: 24% (1026/4203) of the cadences will be ignored due to the quality mask (quality_bitmask=2096639).\n"
     ]
    },
    {
     "name": "stdout",
     "output_type": "stream",
     "text": [
      "KIC 3241344\n"
     ]
    },
    {
     "name": "stderr",
     "output_type": "stream",
     "text": [
      "Warning: 32% (1346/4203) of the cadences will be ignored due to the quality mask (quality_bitmask=2096639).\n"
     ]
    },
    {
     "name": "stdout",
     "output_type": "stream",
     "text": [
      "KIC 3241557\n",
      "KIC 3327992\n",
      "KIC 3342592\n"
     ]
    },
    {
     "name": "stderr",
     "output_type": "stream",
     "text": [
      "Warning: 26% (1103/4203) of the cadences will be ignored due to the quality mask (quality_bitmask=2096639).\n"
     ]
    },
    {
     "name": "stdout",
     "output_type": "stream",
     "text": [
      "KIC 3342628\n"
     ]
    },
    {
     "name": "stderr",
     "output_type": "stream",
     "text": [
      "Warning: 20% (859/4203) of the cadences will be ignored due to the quality mask (quality_bitmask=2096639).\n"
     ]
    },
    {
     "name": "stdout",
     "output_type": "stream",
     "text": [
      "KIC 3425758\n",
      "KIC 3442006\n"
     ]
    },
    {
     "name": "stderr",
     "output_type": "stream",
     "text": [
      "/Users/aridamansc/opt/anaconda3/lib/python3.9/site-packages/lightkurve/search.py:423: LightkurveWarning: Warning: 4 files available to download. Only the first file has been downloaded. Please use `download_all()` or specify additional criteria (e.g. quarter, campaign, or sector) to limit your search.\n",
      "  warnings.warn(\n"
     ]
    },
    {
     "name": "stdout",
     "output_type": "stream",
     "text": [
      "KIC 3548044\n"
     ]
    },
    {
     "name": "stderr",
     "output_type": "stream",
     "text": [
      "Warning: 23% (957/4203) of the cadences will be ignored due to the quality mask (quality_bitmask=2096639).\n"
     ]
    },
    {
     "name": "stdout",
     "output_type": "stream",
     "text": [
      "KIC 3548369\n"
     ]
    },
    {
     "name": "stderr",
     "output_type": "stream",
     "text": [
      "Warning: 21% (864/4203) of the cadences will be ignored due to the quality mask (quality_bitmask=2096639).\n"
     ]
    },
    {
     "name": "stdout",
     "output_type": "stream",
     "text": [
      "KIC 3629100\n"
     ]
    },
    {
     "name": "stderr",
     "output_type": "stream",
     "text": [
      "Warning: 22% (909/4203) of the cadences will be ignored due to the quality mask (quality_bitmask=2096639).\n"
     ]
    },
    {
     "name": "stdout",
     "output_type": "stream",
     "text": [
      "KIC 3629330\n",
      "KIC 3645863\n"
     ]
    },
    {
     "name": "stderr",
     "output_type": "stream",
     "text": [
      "/Users/aridamansc/opt/anaconda3/lib/python3.9/site-packages/lightkurve/search.py:423: LightkurveWarning: Warning: 4 files available to download. Only the first file has been downloaded. Please use `download_all()` or specify additional criteria (e.g. quarter, campaign, or sector) to limit your search.\n",
      "  warnings.warn(\n"
     ]
    },
    {
     "name": "stdout",
     "output_type": "stream",
     "text": [
      "KIC 3662838\n"
     ]
    },
    {
     "name": "stderr",
     "output_type": "stream",
     "text": [
      "Warning: 23% (952/4203) of the cadences will be ignored due to the quality mask (quality_bitmask=2096639).\n"
     ]
    },
    {
     "name": "stdout",
     "output_type": "stream",
     "text": [
      "KIC 3663141\n",
      "KIC 3752110\n"
     ]
    },
    {
     "name": "stderr",
     "output_type": "stream",
     "text": [
      "Warning: 24% (994/4203) of the cadences will be ignored due to the quality mask (quality_bitmask=2096639).\n"
     ]
    },
    {
     "name": "stdout",
     "output_type": "stream",
     "text": [
      "KIC 3756264\n"
     ]
    },
    {
     "name": "stderr",
     "output_type": "stream",
     "text": [
      "Warning: 22% (932/4203) of the cadences will be ignored due to the quality mask (quality_bitmask=2096639).\n"
     ]
    },
    {
     "name": "stdout",
     "output_type": "stream",
     "text": [
      "KIC 2997178\n"
     ]
    },
    {
     "name": "stderr",
     "output_type": "stream",
     "text": [
      "Warning: 24% (1008/4203) of the cadences will be ignored due to the quality mask (quality_bitmask=2096639).\n"
     ]
    },
    {
     "name": "stdout",
     "output_type": "stream",
     "text": [
      "KIC 2997455\n",
      "KIC 2997459\n",
      "KIC 3115272\n"
     ]
    },
    {
     "name": "stderr",
     "output_type": "stream",
     "text": [
      "Warning: 23% (955/4203) of the cadences will be ignored due to the quality mask (quality_bitmask=2096639).\n"
     ]
    },
    {
     "name": "stdout",
     "output_type": "stream",
     "text": [
      "KIC 3115435\n"
     ]
    },
    {
     "name": "stderr",
     "output_type": "stream",
     "text": [
      "Warning: 21% (895/4203) of the cadences will be ignored due to the quality mask (quality_bitmask=2096639).\n"
     ]
    },
    {
     "name": "stdout",
     "output_type": "stream",
     "text": [
      "KIC 3115728\n"
     ]
    },
    {
     "name": "stderr",
     "output_type": "stream",
     "text": [
      "Warning: 21% (878/4203) of the cadences will be ignored due to the quality mask (quality_bitmask=2096639).\n"
     ]
    },
    {
     "name": "stdout",
     "output_type": "stream",
     "text": [
      "KIC 3217264\n",
      "KIC 3231406\n"
     ]
    },
    {
     "name": "stderr",
     "output_type": "stream",
     "text": [
      "Warning: 30% (1247/4203) of the cadences will be ignored due to the quality mask (quality_bitmask=2096639).\n"
     ]
    },
    {
     "name": "stdout",
     "output_type": "stream",
     "text": [
      "KIC 3241604\n"
     ]
    },
    {
     "name": "stderr",
     "output_type": "stream",
     "text": [
      "Warning: 24% (1025/4203) of the cadences will be ignored due to the quality mask (quality_bitmask=2096639).\n"
     ]
    },
    {
     "name": "stdout",
     "output_type": "stream",
     "text": [
      "KIC 3241619\n"
     ]
    },
    {
     "name": "stderr",
     "output_type": "stream",
     "text": [
      "Warning: 20% (843/4203) of the cadences will be ignored due to the quality mask (quality_bitmask=2096639).\n"
     ]
    },
    {
     "name": "stdout",
     "output_type": "stream",
     "text": [
      "KIC 3241662\n"
     ]
    },
    {
     "name": "stderr",
     "output_type": "stream",
     "text": [
      "Warning: 23% (973/4203) of the cadences will be ignored due to the quality mask (quality_bitmask=2096639).\n"
     ]
    },
    {
     "name": "stdout",
     "output_type": "stream",
     "text": [
      "KIC 3241685\n"
     ]
    },
    {
     "name": "stderr",
     "output_type": "stream",
     "text": [
      "Warning: 25% (1065/4203) of the cadences will be ignored due to the quality mask (quality_bitmask=2096639).\n"
     ]
    },
    {
     "name": "stdout",
     "output_type": "stream",
     "text": [
      "KIC 3327993\n"
     ]
    },
    {
     "name": "stderr",
     "output_type": "stream",
     "text": [
      "Warning: 35% (1488/4203) of the cadences will be ignored due to the quality mask (quality_bitmask=2096639).\n"
     ]
    },
    {
     "name": "stdout",
     "output_type": "stream",
     "text": [
      "KIC 3328026\n"
     ]
    },
    {
     "name": "stderr",
     "output_type": "stream",
     "text": [
      "Warning: 21% (879/4203) of the cadences will be ignored due to the quality mask (quality_bitmask=2096639).\n"
     ]
    },
    {
     "name": "stdout",
     "output_type": "stream",
     "text": [
      "KIC 3328027\n",
      "KIC 3342794\n",
      "KIC 3342952\n"
     ]
    },
    {
     "name": "stderr",
     "output_type": "stream",
     "text": [
      "Warning: 30% (1281/4203) of the cadences will be ignored due to the quality mask (quality_bitmask=2096639).\n"
     ]
    },
    {
     "name": "stdout",
     "output_type": "stream",
     "text": [
      "KIC 3342970\n"
     ]
    },
    {
     "name": "stderr",
     "output_type": "stream",
     "text": [
      "Warning: 22% (915/4203) of the cadences will be ignored due to the quality mask (quality_bitmask=2096639).\n"
     ]
    },
    {
     "name": "stdout",
     "output_type": "stream",
     "text": [
      "KIC 3425851\n",
      "KIC 3426367\n"
     ]
    },
    {
     "name": "stderr",
     "output_type": "stream",
     "text": [
      "Warning: 29% (1212/4203) of the cadences will be ignored due to the quality mask (quality_bitmask=2096639).\n",
      "Warning: 21% (895/4203) of the cadences will be ignored due to the quality mask (quality_bitmask=2096639).\n"
     ]
    },
    {
     "name": "stdout",
     "output_type": "stream",
     "text": [
      "KIC 3427727\n"
     ]
    },
    {
     "name": "stderr",
     "output_type": "stream",
     "text": [
      "Warning: 22% (932/4203) of the cadences will be ignored due to the quality mask (quality_bitmask=2096639).\n"
     ]
    },
    {
     "name": "stdout",
     "output_type": "stream",
     "text": [
      "KIC 3442054\n",
      "KIC 3442055\n",
      "KIC 3442058\n"
     ]
    },
    {
     "name": "stderr",
     "output_type": "stream",
     "text": [
      "Warning: 22% (930/4203) of the cadences will be ignored due to the quality mask (quality_bitmask=2096639).\n"
     ]
    },
    {
     "name": "stdout",
     "output_type": "stream",
     "text": [
      "KIC 3455863\n",
      "KIC 3542167\n",
      "KIC 3542222\n",
      "KIC 3542345\n",
      "KIC 3629430\n"
     ]
    },
    {
     "name": "stderr",
     "output_type": "stream",
     "text": [
      "Warning: 21% (884/4203) of the cadences will be ignored due to the quality mask (quality_bitmask=2096639).\n"
     ]
    },
    {
     "name": "stdout",
     "output_type": "stream",
     "text": [
      "KIC 3629473\n",
      "KIC 3646449\n",
      "KIC 3663173\n"
     ]
    },
    {
     "name": "stderr",
     "output_type": "stream",
     "text": [
      "Warning: 20% (841/4203) of the cadences will be ignored due to the quality mask (quality_bitmask=2096639).\n"
     ]
    },
    {
     "name": "stdout",
     "output_type": "stream",
     "text": [
      "KIC 3663904\n"
     ]
    },
    {
     "name": "stderr",
     "output_type": "stream",
     "text": [
      "Warning: 43% (1806/4203) of the cadences will be ignored due to the quality mask (quality_bitmask=2096639).\n"
     ]
    },
    {
     "name": "stdout",
     "output_type": "stream",
     "text": [
      "KIC 3757407\n",
      "KIC 2998124\n",
      "KIC 3115833\n"
     ]
    },
    {
     "name": "stderr",
     "output_type": "stream",
     "text": [
      "Warning: 24% (1007/4203) of the cadences will be ignored due to the quality mask (quality_bitmask=2096639).\n"
     ]
    },
    {
     "name": "stdout",
     "output_type": "stream",
     "text": [
      "KIC 3217554\n",
      "KIC 3231410\n"
     ]
    },
    {
     "name": "stderr",
     "output_type": "stream",
     "text": [
      "Warning: 33% (1405/4203) of the cadences will be ignored due to the quality mask (quality_bitmask=2096639).\n"
     ]
    },
    {
     "name": "stdout",
     "output_type": "stream",
     "text": [
      "KIC 3244792\n"
     ]
    },
    {
     "name": "stderr",
     "output_type": "stream",
     "text": [
      "Warning: 24% (1003/4203) of the cadences will be ignored due to the quality mask (quality_bitmask=2096639).\n"
     ]
    },
    {
     "name": "stdout",
     "output_type": "stream",
     "text": [
      "KIC 3328052\n"
     ]
    },
    {
     "name": "stderr",
     "output_type": "stream",
     "text": [
      "Warning: 20% (847/4203) of the cadences will be ignored due to the quality mask (quality_bitmask=2096639).\n"
     ]
    },
    {
     "name": "stdout",
     "output_type": "stream",
     "text": [
      "KIC 3328080\n",
      "KIC 3329204\n"
     ]
    },
    {
     "name": "stderr",
     "output_type": "stream",
     "text": [
      "Warning: 29% (1227/4203) of the cadences will be ignored due to the quality mask (quality_bitmask=2096639).\n"
     ]
    },
    {
     "name": "stdout",
     "output_type": "stream",
     "text": [
      "KIC 3343281\n"
     ]
    },
    {
     "name": "stderr",
     "output_type": "stream",
     "text": [
      "Warning: 20% (856/4203) of the cadences will be ignored due to the quality mask (quality_bitmask=2096639).\n"
     ]
    },
    {
     "name": "stdout",
     "output_type": "stream",
     "text": [
      "KIC 3427776\n",
      "KIC 3456198\n"
     ]
    },
    {
     "name": "stderr",
     "output_type": "stream",
     "text": [
      "Warning: 20% (856/4203) of the cadences will be ignored due to the quality mask (quality_bitmask=2096639).\n"
     ]
    },
    {
     "name": "stdout",
     "output_type": "stream",
     "text": [
      "KIC 3542574\n",
      "KIC 3548639\n"
     ]
    },
    {
     "name": "stderr",
     "output_type": "stream",
     "text": [
      "Warning: 22% (925/4203) of the cadences will be ignored due to the quality mask (quality_bitmask=2096639).\n"
     ]
    },
    {
     "name": "stdout",
     "output_type": "stream",
     "text": [
      "KIC 3548900\n",
      "KIC 3629474\n"
     ]
    },
    {
     "name": "stderr",
     "output_type": "stream",
     "text": [
      "Warning: 23% (967/4203) of the cadences will be ignored due to the quality mask (quality_bitmask=2096639).\n"
     ]
    },
    {
     "name": "stdout",
     "output_type": "stream",
     "text": [
      "KIC 3629967\n",
      "KIC 3632089\n",
      "KIC 3648437\n"
     ]
    },
    {
     "name": "stderr",
     "output_type": "stream",
     "text": [
      "Warning: 20% (861/4203) of the cadences will be ignored due to the quality mask (quality_bitmask=2096639).\n"
     ]
    },
    {
     "name": "stdout",
     "output_type": "stream",
     "text": [
      "KIC 3649426\n",
      "KIC 3650040\n"
     ]
    },
    {
     "name": "stderr",
     "output_type": "stream",
     "text": [
      "Warning: 26% (1086/4203) of the cadences will be ignored due to the quality mask (quality_bitmask=2096639).\n"
     ]
    },
    {
     "name": "stdout",
     "output_type": "stream",
     "text": [
      "KIC 3728432\n"
     ]
    },
    {
     "name": "stderr",
     "output_type": "stream",
     "text": [
      "Warning: 26% (1107/4203) of the cadences will be ignored due to the quality mask (quality_bitmask=2096639).\n"
     ]
    },
    {
     "name": "stdout",
     "output_type": "stream",
     "text": [
      "KIC 3728701\n",
      "KIC 3730335\n"
     ]
    },
    {
     "name": "stderr",
     "output_type": "stream",
     "text": [
      "Warning: 28% (1187/4203) of the cadences will be ignored due to the quality mask (quality_bitmask=2096639).\n"
     ]
    },
    {
     "name": "stdout",
     "output_type": "stream",
     "text": [
      "KIC 3757588\n",
      "KIC 2998561\n"
     ]
    },
    {
     "name": "stderr",
     "output_type": "stream",
     "text": [
      "Warning: 21% (891/4203) of the cadences will be ignored due to the quality mask (quality_bitmask=2096639).\n"
     ]
    },
    {
     "name": "stdout",
     "output_type": "stream",
     "text": [
      "KIC 3001885\n",
      "KIC 3116412\n"
     ]
    },
    {
     "name": "stderr",
     "output_type": "stream",
     "text": [
      "Warning: 26% (1076/4203) of the cadences will be ignored due to the quality mask (quality_bitmask=2096639).\n"
     ]
    },
    {
     "name": "stdout",
     "output_type": "stream",
     "text": [
      "KIC 3117510\n"
     ]
    },
    {
     "name": "stderr",
     "output_type": "stream",
     "text": [
      "Warning: 21% (899/4203) of the cadences will be ignored due to the quality mask (quality_bitmask=2096639).\n"
     ]
    },
    {
     "name": "stdout",
     "output_type": "stream",
     "text": [
      "KIC 3218688\n",
      "KIC 3218908\n"
     ]
    },
    {
     "name": "stderr",
     "output_type": "stream",
     "text": [
      "Warning: 22% (945/4203) of the cadences will be ignored due to the quality mask (quality_bitmask=2096639).\n"
     ]
    },
    {
     "name": "stdout",
     "output_type": "stream",
     "text": [
      "KIC 3232859\n",
      "KIC 3233043\n"
     ]
    },
    {
     "name": "stderr",
     "output_type": "stream",
     "text": [
      "Warning: 22% (913/4203) of the cadences will be ignored due to the quality mask (quality_bitmask=2096639).\n",
      "Warning: 20% (844/4203) of the cadences will be ignored due to the quality mask (quality_bitmask=2096639).\n"
     ]
    },
    {
     "name": "stdout",
     "output_type": "stream",
     "text": [
      "KIC 3245420\n"
     ]
    },
    {
     "name": "stderr",
     "output_type": "stream",
     "text": [
      "Warning: 26% (1077/4203) of the cadences will be ignored due to the quality mask (quality_bitmask=2096639).\n"
     ]
    },
    {
     "name": "stdout",
     "output_type": "stream",
     "text": [
      "KIC 3329643\n"
     ]
    },
    {
     "name": "stderr",
     "output_type": "stream",
     "text": [
      "Warning: 21% (902/4203) of the cadences will be ignored due to the quality mask (quality_bitmask=2096639).\n"
     ]
    },
    {
     "name": "stdout",
     "output_type": "stream",
     "text": [
      "KIC 3329839\n"
     ]
    },
    {
     "name": "stderr",
     "output_type": "stream",
     "text": [
      "Warning: 34% (1447/4203) of the cadences will be ignored due to the quality mask (quality_bitmask=2096639).\n"
     ]
    },
    {
     "name": "stdout",
     "output_type": "stream",
     "text": [
      "KIC 3330684\n",
      "KIC 3330688\n",
      "KIC 3344419\n"
     ]
    },
    {
     "name": "stderr",
     "output_type": "stream",
     "text": [
      "Warning: 28% (1183/4203) of the cadences will be ignored due to the quality mask (quality_bitmask=2096639).\n"
     ]
    },
    {
     "name": "stdout",
     "output_type": "stream",
     "text": [
      "KIC 3344427\n",
      "KIC 3345675\n"
     ]
    },
    {
     "name": "stderr",
     "output_type": "stream",
     "text": [
      "Warning: 22% (936/4203) of the cadences will be ignored due to the quality mask (quality_bitmask=2096639).\n"
     ]
    },
    {
     "name": "stdout",
     "output_type": "stream",
     "text": [
      "KIC 3428013\n",
      "KIC 3428468\n",
      "KIC 3443127\n"
     ]
    },
    {
     "name": "stderr",
     "output_type": "stream",
     "text": [
      "Warning: 21% (869/4203) of the cadences will be ignored due to the quality mask (quality_bitmask=2096639).\n"
     ]
    },
    {
     "name": "stdout",
     "output_type": "stream",
     "text": [
      "KIC 3443582\n"
     ]
    },
    {
     "name": "stderr",
     "output_type": "stream",
     "text": [
      "Warning: 21% (864/4203) of the cadences will be ignored due to the quality mask (quality_bitmask=2096639).\n"
     ]
    },
    {
     "name": "stdout",
     "output_type": "stream",
     "text": [
      "KIC 3443790\n"
     ]
    },
    {
     "name": "stderr",
     "output_type": "stream",
     "text": [
      "Warning: 20% (842/4203) of the cadences will be ignored due to the quality mask (quality_bitmask=2096639).\n"
     ]
    },
    {
     "name": "stdout",
     "output_type": "stream",
     "text": [
      "KIC 3456945\n",
      "KIC 3542588\n"
     ]
    },
    {
     "name": "stderr",
     "output_type": "stream",
     "text": [
      "Warning: 24% (1012/4203) of the cadences will be ignored due to the quality mask (quality_bitmask=2096639).\n"
     ]
    },
    {
     "name": "stdout",
     "output_type": "stream",
     "text": [
      "KIC 3543070\n"
     ]
    },
    {
     "name": "stderr",
     "output_type": "stream",
     "text": [
      "Warning: 25% (1065/4203) of the cadences will be ignored due to the quality mask (quality_bitmask=2096639).\n"
     ]
    },
    {
     "name": "stdout",
     "output_type": "stream",
     "text": [
      "KIC 3550372\n",
      "KIC 3550434\n"
     ]
    },
    {
     "name": "stderr",
     "output_type": "stream",
     "text": [
      "/Users/aridamansc/opt/anaconda3/lib/python3.9/site-packages/lightkurve/search.py:423: LightkurveWarning: Warning: 4 files available to download. Only the first file has been downloaded. Please use `download_all()` or specify additional criteria (e.g. quarter, campaign, or sector) to limit your search.\n",
      "  warnings.warn(\n",
      "Warning: 69% (5292/7680) of the cadences will be ignored due to the quality mask (quality_bitmask=2096639).\n"
     ]
    },
    {
     "name": "stdout",
     "output_type": "stream",
     "text": [
      "KIC 3632418\n"
     ]
    },
    {
     "name": "stderr",
     "output_type": "stream",
     "text": [
      "Warning: 33% (1404/4203) of the cadences will be ignored due to the quality mask (quality_bitmask=2096639).\n"
     ]
    },
    {
     "name": "stdout",
     "output_type": "stream",
     "text": [
      "KIC 3633889\n"
     ]
    },
    {
     "name": "stderr",
     "output_type": "stream",
     "text": [
      "Warning: 25% (1066/4203) of the cadences will be ignored due to the quality mask (quality_bitmask=2096639).\n"
     ]
    },
    {
     "name": "stdout",
     "output_type": "stream",
     "text": [
      "KIC 3650111\n"
     ]
    },
    {
     "name": "stderr",
     "output_type": "stream",
     "text": [
      "Warning: 27% (1136/4203) of the cadences will be ignored due to the quality mask (quality_bitmask=2096639).\n"
     ]
    },
    {
     "name": "stdout",
     "output_type": "stream",
     "text": [
      "KIC 3730390\n",
      "KIC 3732035\n"
     ]
    },
    {
     "name": "stderr",
     "output_type": "stream",
     "text": [
      "Warning: 24% (1020/4203) of the cadences will be ignored due to the quality mask (quality_bitmask=2096639).\n"
     ]
    },
    {
     "name": "stdout",
     "output_type": "stream",
     "text": [
      "KIC 3757590\n",
      "KIC 3757778\n",
      "KIC 3002478\n"
     ]
    },
    {
     "name": "stderr",
     "output_type": "stream",
     "text": [
      "Warning: 21% (864/4203) of the cadences will be ignored due to the quality mask (quality_bitmask=2096639).\n"
     ]
    },
    {
     "name": "stdout",
     "output_type": "stream",
     "text": [
      "KIC 3003991\n",
      "KIC 3117511\n"
     ]
    },
    {
     "name": "stderr",
     "output_type": "stream",
     "text": [
      "Warning: 20% (841/4203) of the cadences will be ignored due to the quality mask (quality_bitmask=2096639).\n"
     ]
    },
    {
     "name": "stdout",
     "output_type": "stream",
     "text": [
      "KIC 3117514\n"
     ]
    },
    {
     "name": "stderr",
     "output_type": "stream",
     "text": [
      "Warning: 21% (896/4203) of the cadences will be ignored due to the quality mask (quality_bitmask=2096639).\n"
     ]
    },
    {
     "name": "stdout",
     "output_type": "stream",
     "text": [
      "KIC 3118797\n"
     ]
    },
    {
     "name": "stderr",
     "output_type": "stream",
     "text": [
      "Warning: 22% (929/4203) of the cadences will be ignored due to the quality mask (quality_bitmask=2096639).\n"
     ]
    },
    {
     "name": "stdout",
     "output_type": "stream",
     "text": [
      "KIC 3219037\n",
      "KIC 3233302\n",
      "KIC 3234598\n",
      "KIC 3245969\n",
      "KIC 3246083\n",
      "KIC 3246782\n"
     ]
    },
    {
     "name": "stderr",
     "output_type": "stream",
     "text": [
      "Warning: 22% (906/4203) of the cadences will be ignored due to the quality mask (quality_bitmask=2096639).\n"
     ]
    },
    {
     "name": "stdout",
     "output_type": "stream",
     "text": [
      "KIC 3335813\n"
     ]
    },
    {
     "name": "stderr",
     "output_type": "stream",
     "text": [
      "Warning: 30% (1268/4203) of the cadences will be ignored due to the quality mask (quality_bitmask=2096639).\n"
     ]
    },
    {
     "name": "stdout",
     "output_type": "stream",
     "text": [
      "KIC 3336283\n"
     ]
    },
    {
     "name": "stderr",
     "output_type": "stream",
     "text": [
      "Warning: 25% (1064/4203) of the cadences will be ignored due to the quality mask (quality_bitmask=2096639).\n"
     ]
    },
    {
     "name": "stdout",
     "output_type": "stream",
     "text": [
      "KIC 3346027\n",
      "KIC 3346154\n"
     ]
    },
    {
     "name": "stderr",
     "output_type": "stream",
     "text": [
      "Warning: 75% (3146/4203) of the cadences will be ignored due to the quality mask (quality_bitmask=2096639).\n",
      "Warning: 26% (1093/4203) of the cadences will be ignored due to the quality mask (quality_bitmask=2096639).\n"
     ]
    },
    {
     "name": "stdout",
     "output_type": "stream",
     "text": [
      "KIC 3429637\n",
      "KIC 3429973\n",
      "KIC 3444098 had an error: 'NoneType' object has no attribute 'to_lightcurve'\n"
     ]
    },
    {
     "name": "stderr",
     "output_type": "stream",
     "text": [
      "/Users/aridamansc/opt/anaconda3/lib/python3.9/site-packages/lightkurve/search.py:418: LightkurveWarning: Cannot download from an empty search result.\n",
      "  warnings.warn(\n",
      "Warning: 21% (898/4203) of the cadences will be ignored due to the quality mask (quality_bitmask=2096639).\n"
     ]
    },
    {
     "name": "stdout",
     "output_type": "stream",
     "text": [
      "KIC 3444588\n",
      "KIC 3444699\n"
     ]
    },
    {
     "name": "stderr",
     "output_type": "stream",
     "text": [
      "Warning: 21% (884/4203) of the cadences will be ignored due to the quality mask (quality_bitmask=2096639).\n"
     ]
    },
    {
     "name": "stdout",
     "output_type": "stream",
     "text": [
      "KIC 3457172\n",
      "KIC 3457192\n"
     ]
    },
    {
     "name": "stderr",
     "output_type": "stream",
     "text": [
      "Warning: 21% (870/4203) of the cadences will be ignored due to the quality mask (quality_bitmask=2096639).\n"
     ]
    },
    {
     "name": "stdout",
     "output_type": "stream",
     "text": [
      "KIC 3543270\n"
     ]
    },
    {
     "name": "stderr",
     "output_type": "stream",
     "text": [
      "Warning: 20% (852/4203) of the cadences will be ignored due to the quality mask (quality_bitmask=2096639).\n"
     ]
    },
    {
     "name": "stdout",
     "output_type": "stream",
     "text": [
      "KIC 3553413\n",
      "KIC 3553900\n"
     ]
    },
    {
     "name": "stderr",
     "output_type": "stream",
     "text": [
      "Warning: 33% (1371/4203) of the cadences will be ignored due to the quality mask (quality_bitmask=2096639).\n"
     ]
    },
    {
     "name": "stdout",
     "output_type": "stream",
     "text": [
      "KIC 3554031\n",
      "KIC 3634051\n"
     ]
    },
    {
     "name": "stderr",
     "output_type": "stream",
     "text": [
      "Warning: 22% (941/4203) of the cadences will be ignored due to the quality mask (quality_bitmask=2096639).\n"
     ]
    },
    {
     "name": "stdout",
     "output_type": "stream",
     "text": [
      "KIC 3654095\n"
     ]
    },
    {
     "name": "stderr",
     "output_type": "stream",
     "text": [
      "Warning: 20% (848/4203) of the cadences will be ignored due to the quality mask (quality_bitmask=2096639).\n"
     ]
    },
    {
     "name": "stdout",
     "output_type": "stream",
     "text": [
      "KIC 3654515\n"
     ]
    },
    {
     "name": "stderr",
     "output_type": "stream",
     "text": [
      "Warning: 35% (1491/4203) of the cadences will be ignored due to the quality mask (quality_bitmask=2096639).\n"
     ]
    },
    {
     "name": "stdout",
     "output_type": "stream",
     "text": [
      "KIC 3732821\n"
     ]
    },
    {
     "name": "stderr",
     "output_type": "stream",
     "text": [
      "Warning: 26% (1085/4203) of the cadences will be ignored due to the quality mask (quality_bitmask=2096639).\n"
     ]
    },
    {
     "name": "stdout",
     "output_type": "stream",
     "text": [
      "KIC 3732894\n"
     ]
    },
    {
     "name": "stderr",
     "output_type": "stream",
     "text": [
      "Warning: 24% (1018/4203) of the cadences will be ignored due to the quality mask (quality_bitmask=2096639).\n"
     ]
    },
    {
     "name": "stdout",
     "output_type": "stream",
     "text": [
      "KIC 3733346\n"
     ]
    },
    {
     "name": "stderr",
     "output_type": "stream",
     "text": [
      "Warning: 21% (888/4203) of the cadences will be ignored due to the quality mask (quality_bitmask=2096639).\n"
     ]
    },
    {
     "name": "stdout",
     "output_type": "stream",
     "text": [
      "KIC 3733628\n"
     ]
    },
    {
     "name": "stderr",
     "output_type": "stream",
     "text": [
      "Warning: 23% (959/4203) of the cadences will be ignored due to the quality mask (quality_bitmask=2096639).\n"
     ]
    },
    {
     "name": "stdout",
     "output_type": "stream",
     "text": [
      "KIC 3758403\n"
     ]
    },
    {
     "name": "stderr",
     "output_type": "stream",
     "text": [
      "Warning: 22% (904/4203) of the cadences will be ignored due to the quality mask (quality_bitmask=2096639).\n"
     ]
    },
    {
     "name": "stdout",
     "output_type": "stream",
     "text": [
      "KIC 3003992\n",
      "KIC 3097346\n"
     ]
    },
    {
     "name": "stderr",
     "output_type": "stream",
     "text": [
      "Warning: 30% (1264/4203) of the cadences will be ignored due to the quality mask (quality_bitmask=2096639).\n"
     ]
    },
    {
     "name": "stdout",
     "output_type": "stream",
     "text": [
      "KIC 3097352\n",
      "KIC 3119256\n"
     ]
    },
    {
     "name": "stderr",
     "output_type": "stream",
     "text": [
      "/Users/aridamansc/opt/anaconda3/lib/python3.9/site-packages/lightkurve/search.py:423: LightkurveWarning: Warning: 4 files available to download. Only the first file has been downloaded. Please use `download_all()` or specify additional criteria (e.g. quarter, campaign, or sector) to limit your search.\n",
      "  warnings.warn(\n",
      "Warning: 54% (4113/7680) of the cadences will be ignored due to the quality mask (quality_bitmask=2096639).\n"
     ]
    },
    {
     "name": "stdout",
     "output_type": "stream",
     "text": [
      "KIC 3219256\n",
      "KIC 3219643\n",
      "KIC 3234843\n"
     ]
    },
    {
     "name": "stderr",
     "output_type": "stream",
     "text": [
      "Warning: 23% (950/4203) of the cadences will be ignored due to the quality mask (quality_bitmask=2096639).\n"
     ]
    },
    {
     "name": "stdout",
     "output_type": "stream",
     "text": [
      "KIC 3236705\n",
      "KIC 3246890\n"
     ]
    },
    {
     "name": "stderr",
     "output_type": "stream",
     "text": [
      "Warning: 23% (982/4203) of the cadences will be ignored due to the quality mask (quality_bitmask=2096639).\n"
     ]
    },
    {
     "name": "stdout",
     "output_type": "stream",
     "text": [
      "KIC 3336476\n",
      "KIC 3346195\n"
     ]
    },
    {
     "name": "stderr",
     "output_type": "stream",
     "text": [
      "Warning: 34% (1417/4203) of the cadences will be ignored due to the quality mask (quality_bitmask=2096639).\n"
     ]
    },
    {
     "name": "stdout",
     "output_type": "stream",
     "text": [
      "KIC 3431662\n"
     ]
    },
    {
     "name": "stderr",
     "output_type": "stream",
     "text": [
      "Warning: 22% (928/4203) of the cadences will be ignored due to the quality mask (quality_bitmask=2096639).\n"
     ]
    },
    {
     "name": "stdout",
     "output_type": "stream",
     "text": [
      "KIC 3433668\n"
     ]
    },
    {
     "name": "stderr",
     "output_type": "stream",
     "text": [
      "Warning: 20% (851/4203) of the cadences will be ignored due to the quality mask (quality_bitmask=2096639).\n"
     ]
    },
    {
     "name": "stdout",
     "output_type": "stream",
     "text": [
      "KIC 3437557\n",
      "KIC 3445068\n",
      "KIC 3445443\n",
      "KIC 3445812\n"
     ]
    },
    {
     "name": "stderr",
     "output_type": "stream",
     "text": [
      "/Users/aridamansc/opt/anaconda3/lib/python3.9/site-packages/lightkurve/search.py:423: LightkurveWarning: Warning: 4 files available to download. Only the first file has been downloaded. Please use `download_all()` or specify additional criteria (e.g. quarter, campaign, or sector) to limit your search.\n",
      "  warnings.warn(\n"
     ]
    },
    {
     "name": "stdout",
     "output_type": "stream",
     "text": [
      "KIC 3458028\n"
     ]
    },
    {
     "name": "stderr",
     "output_type": "stream",
     "text": [
      "/Users/aridamansc/opt/anaconda3/lib/python3.9/site-packages/lightkurve/search.py:423: LightkurveWarning: Warning: 4 files available to download. Only the first file has been downloaded. Please use `download_all()` or specify additional criteria (e.g. quarter, campaign, or sector) to limit your search.\n",
      "  warnings.warn(\n"
     ]
    },
    {
     "name": "stdout",
     "output_type": "stream",
     "text": [
      "KIC 3544595\n",
      "KIC 3544640\n",
      "KIC 3554600\n"
     ]
    },
    {
     "name": "stderr",
     "output_type": "stream",
     "text": [
      "Warning: 35% (1482/4203) of the cadences will be ignored due to the quality mask (quality_bitmask=2096639).\n"
     ]
    },
    {
     "name": "stdout",
     "output_type": "stream",
     "text": [
      "KIC 3555191\n"
     ]
    },
    {
     "name": "stderr",
     "output_type": "stream",
     "text": [
      "Warning: 35% (1463/4203) of the cadences will be ignored due to the quality mask (quality_bitmask=2096639).\n"
     ]
    },
    {
     "name": "stdout",
     "output_type": "stream",
     "text": [
      "KIC 3634384\n",
      "KIC 3635233\n",
      "KIC 3654719\n",
      "KIC 3654950\n"
     ]
    },
    {
     "name": "stderr",
     "output_type": "stream",
     "text": [
      "Warning: 32% (1359/4203) of the cadences will be ignored due to the quality mask (quality_bitmask=2096639).\n"
     ]
    },
    {
     "name": "stdout",
     "output_type": "stream",
     "text": [
      "KIC 3655115\n"
     ]
    },
    {
     "name": "stderr",
     "output_type": "stream",
     "text": [
      "Warning: 21% (866/4203) of the cadences will be ignored due to the quality mask (quality_bitmask=2096639).\n"
     ]
    },
    {
     "name": "stdout",
     "output_type": "stream",
     "text": [
      "KIC 3734418\n",
      "KIC 3758443\n",
      "KIC 3758499\n",
      "KIC 3759974\n"
     ]
    },
    {
     "name": "stderr",
     "output_type": "stream",
     "text": [
      "Warning: 28% (1162/4203) of the cadences will be ignored due to the quality mask (quality_bitmask=2096639).\n",
      "Warning: 21% (891/4203) of the cadences will be ignored due to the quality mask (quality_bitmask=2096639).\n"
     ]
    },
    {
     "name": "stdout",
     "output_type": "stream",
     "text": [
      "KIC 3097912\n"
     ]
    },
    {
     "name": "stderr",
     "output_type": "stream",
     "text": [
      "Warning: 23% (946/4203) of the cadences will be ignored due to the quality mask (quality_bitmask=2096639).\n"
     ]
    },
    {
     "name": "stdout",
     "output_type": "stream",
     "text": [
      "KIC 3097926\n"
     ]
    },
    {
     "name": "stderr",
     "output_type": "stream",
     "text": [
      "Warning: 28% (1162/4203) of the cadences will be ignored due to the quality mask (quality_bitmask=2096639).\n"
     ]
    },
    {
     "name": "stdout",
     "output_type": "stream",
     "text": [
      "KIC 3119307\n"
     ]
    },
    {
     "name": "stderr",
     "output_type": "stream",
     "text": [
      "Warning: 21% (868/4203) of the cadences will be ignored due to the quality mask (quality_bitmask=2096639).\n"
     ]
    },
    {
     "name": "stdout",
     "output_type": "stream",
     "text": [
      "KIC 3119604\n"
     ]
    },
    {
     "name": "stderr",
     "output_type": "stream",
     "text": [
      "Warning: 27% (1117/4203) of the cadences will be ignored due to the quality mask (quality_bitmask=2096639).\n"
     ]
    },
    {
     "name": "stdout",
     "output_type": "stream",
     "text": [
      "KIC 3219995\n"
     ]
    },
    {
     "name": "stderr",
     "output_type": "stream",
     "text": [
      "Warning: 29% (1229/4203) of the cadences will be ignored due to the quality mask (quality_bitmask=2096639).\n"
     ]
    },
    {
     "name": "stdout",
     "output_type": "stream",
     "text": [
      "KIC 3238059\n"
     ]
    },
    {
     "name": "stderr",
     "output_type": "stream",
     "text": [
      "Warning: 28% (1159/4203) of the cadences will be ignored due to the quality mask (quality_bitmask=2096639).\n"
     ]
    },
    {
     "name": "stdout",
     "output_type": "stream",
     "text": [
      "KIC 3238073\n"
     ]
    },
    {
     "name": "stderr",
     "output_type": "stream",
     "text": [
      "Warning: 21% (864/4203) of the cadences will be ignored due to the quality mask (quality_bitmask=2096639).\n"
     ]
    },
    {
     "name": "stdout",
     "output_type": "stream",
     "text": [
      "KIC 3238245\n",
      "KIC 3246984\n"
     ]
    },
    {
     "name": "stderr",
     "output_type": "stream",
     "text": [
      "Warning: 21% (881/4203) of the cadences will be ignored due to the quality mask (quality_bitmask=2096639).\n"
     ]
    },
    {
     "name": "stdout",
     "output_type": "stream",
     "text": [
      "KIC 3336765\n",
      "KIC 3336845\n"
     ]
    },
    {
     "name": "stderr",
     "output_type": "stream",
     "text": [
      "Warning: 32% (1342/4203) of the cadences will be ignored due to the quality mask (quality_bitmask=2096639).\n"
     ]
    },
    {
     "name": "stdout",
     "output_type": "stream",
     "text": [
      "KIC 3336937\n",
      "KIC 3347258\n"
     ]
    },
    {
     "name": "stderr",
     "output_type": "stream",
     "text": [
      "Warning: 76% (3192/4203) of the cadences will be ignored due to the quality mask (quality_bitmask=2096639).\n"
     ]
    },
    {
     "name": "stdout",
     "output_type": "stream",
     "text": [
      "KIC 3347337\n",
      "KIC 3437739\n"
     ]
    },
    {
     "name": "stderr",
     "output_type": "stream",
     "text": [
      "Warning: 22% (921/4203) of the cadences will be ignored due to the quality mask (quality_bitmask=2096639).\n"
     ]
    },
    {
     "name": "stdout",
     "output_type": "stream",
     "text": [
      "KIC 3437776\n",
      "KIC 3446451\n",
      "KIC 3446471\n"
     ]
    },
    {
     "name": "stderr",
     "output_type": "stream",
     "text": [
      "Warning: 21% (886/4203) of the cadences will be ignored due to the quality mask (quality_bitmask=2096639).\n"
     ]
    },
    {
     "name": "stdout",
     "output_type": "stream",
     "text": [
      "KIC 3458919\n",
      "KIC 3458990\n"
     ]
    },
    {
     "name": "stderr",
     "output_type": "stream",
     "text": [
      "Warning: 24% (1007/4203) of the cadences will be ignored due to the quality mask (quality_bitmask=2096639).\n"
     ]
    },
    {
     "name": "stdout",
     "output_type": "stream",
     "text": [
      "KIC 3459199\n",
      "KIC 3544678\n",
      "KIC 3544689\n"
     ]
    },
    {
     "name": "stderr",
     "output_type": "stream",
     "text": [
      "Warning: 20% (853/4203) of the cadences will be ignored due to the quality mask (quality_bitmask=2096639).\n"
     ]
    },
    {
     "name": "stdout",
     "output_type": "stream",
     "text": [
      "KIC 3544694\n"
     ]
    },
    {
     "name": "stderr",
     "output_type": "stream",
     "text": [
      "Warning: 23% (987/4203) of the cadences will be ignored due to the quality mask (quality_bitmask=2096639).\n"
     ]
    },
    {
     "name": "stdout",
     "output_type": "stream",
     "text": [
      "KIC 3556220\n"
     ]
    },
    {
     "name": "stderr",
     "output_type": "stream",
     "text": [
      "Warning: 20% (846/4203) of the cadences will be ignored due to the quality mask (quality_bitmask=2096639).\n"
     ]
    },
    {
     "name": "stdout",
     "output_type": "stream",
     "text": [
      "KIC 3640832\n"
     ]
    },
    {
     "name": "stderr",
     "output_type": "stream",
     "text": [
      "Warning: 21% (870/4203) of the cadences will be ignored due to the quality mask (quality_bitmask=2096639).\n"
     ]
    },
    {
     "name": "stdout",
     "output_type": "stream",
     "text": [
      "KIC 3655326\n"
     ]
    },
    {
     "name": "stderr",
     "output_type": "stream",
     "text": [
      "Warning: 27% (1148/4203) of the cadences will be ignored due to the quality mask (quality_bitmask=2096639).\n"
     ]
    },
    {
     "name": "stdout",
     "output_type": "stream",
     "text": [
      "KIC 3655332\n"
     ]
    },
    {
     "name": "stderr",
     "output_type": "stream",
     "text": [
      "Warning: 26% (1094/4203) of the cadences will be ignored due to the quality mask (quality_bitmask=2096639).\n"
     ]
    },
    {
     "name": "stdout",
     "output_type": "stream",
     "text": [
      "KIC 3734868\n"
     ]
    },
    {
     "name": "stderr",
     "output_type": "stream",
     "text": [
      "Warning: 27% (1144/4203) of the cadences will be ignored due to the quality mask (quality_bitmask=2096639).\n"
     ]
    },
    {
     "name": "stdout",
     "output_type": "stream",
     "text": [
      "KIC 3735629\n"
     ]
    },
    {
     "name": "stderr",
     "output_type": "stream",
     "text": [
      "Warning: 21% (869/4203) of the cadences will be ignored due to the quality mask (quality_bitmask=2096639).\n"
     ]
    },
    {
     "name": "stdout",
     "output_type": "stream",
     "text": [
      "KIC 3735634\n"
     ]
    },
    {
     "name": "stderr",
     "output_type": "stream",
     "text": [
      "Warning: 22% (945/4203) of the cadences will be ignored due to the quality mask (quality_bitmask=2096639).\n"
     ]
    },
    {
     "name": "stdout",
     "output_type": "stream",
     "text": [
      "KIC 3742855\n"
     ]
    },
    {
     "name": "stderr",
     "output_type": "stream",
     "text": [
      "Warning: 30% (1269/4203) of the cadences will be ignored due to the quality mask (quality_bitmask=2096639).\n"
     ]
    },
    {
     "name": "stdout",
     "output_type": "stream",
     "text": [
      "KIC 3760002\n"
     ]
    },
    {
     "name": "stderr",
     "output_type": "stream",
     "text": [
      "Warning: 24% (1029/4203) of the cadences will be ignored due to the quality mask (quality_bitmask=2096639).\n"
     ]
    },
    {
     "name": "stdout",
     "output_type": "stream",
     "text": [
      "KIC 3098015\n"
     ]
    },
    {
     "name": "stderr",
     "output_type": "stream",
     "text": [
      "Warning: 31% (1296/4203) of the cadences will be ignored due to the quality mask (quality_bitmask=2096639).\n"
     ]
    },
    {
     "name": "stdout",
     "output_type": "stream",
     "text": [
      "KIC 3120057\n"
     ]
    },
    {
     "name": "stderr",
     "output_type": "stream",
     "text": [
      "Warning: 21% (899/4203) of the cadences will be ignored due to the quality mask (quality_bitmask=2096639).\n"
     ]
    },
    {
     "name": "stdout",
     "output_type": "stream",
     "text": [
      "KIC 3222183\n"
     ]
    },
    {
     "name": "stderr",
     "output_type": "stream",
     "text": [
      "Warning: 24% (1012/4203) of the cadences will be ignored due to the quality mask (quality_bitmask=2096639).\n"
     ]
    },
    {
     "name": "stdout",
     "output_type": "stream",
     "text": [
      "KIC 3238686\n",
      "KIC 3239171\n",
      "KIC 3247039\n"
     ]
    },
    {
     "name": "stderr",
     "output_type": "stream",
     "text": [
      "Warning: 24% (1002/4203) of the cadences will be ignored due to the quality mask (quality_bitmask=2096639).\n"
     ]
    },
    {
     "name": "stdout",
     "output_type": "stream",
     "text": [
      "KIC 3337002\n",
      "KIC 3337061\n"
     ]
    },
    {
     "name": "stderr",
     "output_type": "stream",
     "text": [
      "Warning: 67% (2826/4203) of the cadences will be ignored due to the quality mask (quality_bitmask=2096639).\n"
     ]
    },
    {
     "name": "stdout",
     "output_type": "stream",
     "text": [
      "KIC 3337351\n",
      "KIC 3347485\n"
     ]
    },
    {
     "name": "stderr",
     "output_type": "stream",
     "text": [
      "Warning: 28% (1183/4203) of the cadences will be ignored due to the quality mask (quality_bitmask=2096639).\n"
     ]
    },
    {
     "name": "stdout",
     "output_type": "stream",
     "text": [
      "KIC 3437940\n",
      "KIC 3446746\n"
     ]
    },
    {
     "name": "stderr",
     "output_type": "stream",
     "text": [
      "Warning: 22% (919/4203) of the cadences will be ignored due to the quality mask (quality_bitmask=2096639).\n"
     ]
    },
    {
     "name": "stdout",
     "output_type": "stream",
     "text": [
      "KIC 3446837\n"
     ]
    },
    {
     "name": "stderr",
     "output_type": "stream",
     "text": [
      "Warning: 24% (991/4203) of the cadences will be ignored due to the quality mask (quality_bitmask=2096639).\n"
     ]
    },
    {
     "name": "stdout",
     "output_type": "stream",
     "text": [
      "KIC 3459261\n"
     ]
    },
    {
     "name": "stderr",
     "output_type": "stream",
     "text": [
      "Warning: 21% (871/4203) of the cadences will be ignored due to the quality mask (quality_bitmask=2096639).\n"
     ]
    },
    {
     "name": "stdout",
     "output_type": "stream",
     "text": [
      "KIC 3526331\n"
     ]
    },
    {
     "name": "stderr",
     "output_type": "stream",
     "text": [
      "Warning: 21% (885/4203) of the cadences will be ignored due to the quality mask (quality_bitmask=2096639).\n"
     ]
    },
    {
     "name": "stdout",
     "output_type": "stream",
     "text": [
      "KIC 3529147\n",
      "KIC 3544878\n",
      "KIC 3544900\n"
     ]
    },
    {
     "name": "stderr",
     "output_type": "stream",
     "text": [
      "Warning: 21% (886/4203) of the cadences will be ignored due to the quality mask (quality_bitmask=2096639).\n"
     ]
    },
    {
     "name": "stdout",
     "output_type": "stream",
     "text": [
      "KIC 3545038\n",
      "KIC 3557043\n",
      "KIC 3557273\n"
     ]
    },
    {
     "name": "stderr",
     "output_type": "stream",
     "text": [
      "/Users/aridamansc/opt/anaconda3/lib/python3.9/site-packages/lightkurve/search.py:423: LightkurveWarning: Warning: 4 files available to download. Only the first file has been downloaded. Please use `download_all()` or specify additional criteria (e.g. quarter, campaign, or sector) to limit your search.\n",
      "  warnings.warn(\n",
      "Warning: 21% (862/4203) of the cadences will be ignored due to the quality mask (quality_bitmask=2096639).\n"
     ]
    },
    {
     "name": "stdout",
     "output_type": "stream",
     "text": [
      "KIC 3640905\n",
      "KIC 3641023\n"
     ]
    },
    {
     "name": "stderr",
     "output_type": "stream",
     "text": [
      "Warning: 21% (862/4203) of the cadences will be ignored due to the quality mask (quality_bitmask=2096639).\n",
      "Warning: 21% (902/4203) of the cadences will be ignored due to the quality mask (quality_bitmask=2096639).\n"
     ]
    },
    {
     "name": "stdout",
     "output_type": "stream",
     "text": [
      "KIC 3655513\n",
      "KIC 3744309\n",
      "KIC 3761175\n"
     ]
    },
    {
     "name": "stderr",
     "output_type": "stream",
     "text": [
      "Warning: 23% (957/4203) of the cadences will be ignored due to the quality mask (quality_bitmask=2096639).\n"
     ]
    },
    {
     "name": "stdout",
     "output_type": "stream",
     "text": [
      "KIC 3761319\n",
      "KIC 3761641\n"
     ]
    },
    {
     "name": "stderr",
     "output_type": "stream",
     "text": [
      "Warning: 22% (922/4203) of the cadences will be ignored due to the quality mask (quality_bitmask=2096639).\n"
     ]
    },
    {
     "name": "stdout",
     "output_type": "stream",
     "text": [
      "KIC 3098194\n"
     ]
    },
    {
     "name": "stderr",
     "output_type": "stream",
     "text": [
      "Warning: 22% (923/4203) of the cadences will be ignored due to the quality mask (quality_bitmask=2096639).\n"
     ]
    },
    {
     "name": "stdout",
     "output_type": "stream",
     "text": [
      "KIC 3120276\n"
     ]
    },
    {
     "name": "stderr",
     "output_type": "stream",
     "text": [
      "Warning: 23% (976/4203) of the cadences will be ignored due to the quality mask (quality_bitmask=2096639).\n"
     ]
    },
    {
     "name": "stdout",
     "output_type": "stream",
     "text": [
      "KIC 3120308\n"
     ]
    },
    {
     "name": "stderr",
     "output_type": "stream",
     "text": [
      "/Users/aridamansc/opt/anaconda3/lib/python3.9/site-packages/lightkurve/search.py:418: LightkurveWarning: Cannot download from an empty search result.\n",
      "  warnings.warn(\n",
      "Warning: 38% (1603/4203) of the cadences will be ignored due to the quality mask (quality_bitmask=2096639).\n"
     ]
    },
    {
     "name": "stdout",
     "output_type": "stream",
     "text": [
      "KIC 3120355\n",
      "KIC 3222680 had an error: 'NoneType' object has no attribute 'to_lightcurve'\n",
      "KIC 3223460\n",
      "KIC 3228740\n"
     ]
    },
    {
     "name": "stderr",
     "output_type": "stream",
     "text": [
      "Warning: 31% (1291/4203) of the cadences will be ignored due to the quality mask (quality_bitmask=2096639).\n"
     ]
    },
    {
     "name": "stdout",
     "output_type": "stream",
     "text": [
      "KIC 3228804\n"
     ]
    },
    {
     "name": "stderr",
     "output_type": "stream",
     "text": [
      "Warning: 43% (1822/4203) of the cadences will be ignored due to the quality mask (quality_bitmask=2096639).\n"
     ]
    },
    {
     "name": "stdout",
     "output_type": "stream",
     "text": [
      "KIC 3239636\n"
     ]
    },
    {
     "name": "stderr",
     "output_type": "stream",
     "text": [
      "Warning: 23% (952/4203) of the cadences will be ignored due to the quality mask (quality_bitmask=2096639).\n"
     ]
    },
    {
     "name": "stdout",
     "output_type": "stream",
     "text": [
      "KIC 3239671\n",
      "KIC 3239926\n"
     ]
    },
    {
     "name": "stderr",
     "output_type": "stream",
     "text": [
      "/Users/aridamansc/opt/anaconda3/lib/python3.9/site-packages/lightkurve/search.py:423: LightkurveWarning: Warning: 2 files available to download. Only the first file has been downloaded. Please use `download_all()` or specify additional criteria (e.g. quarter, campaign, or sector) to limit your search.\n",
      "  warnings.warn(\n",
      "Warning: 21% (898/4203) of the cadences will be ignored due to the quality mask (quality_bitmask=2096639).\n"
     ]
    },
    {
     "name": "stdout",
     "output_type": "stream",
     "text": [
      "KIC 3247268\n"
     ]
    },
    {
     "name": "stderr",
     "output_type": "stream",
     "text": [
      "Warning: 20% (856/4203) of the cadences will be ignored due to the quality mask (quality_bitmask=2096639).\n"
     ]
    },
    {
     "name": "stdout",
     "output_type": "stream",
     "text": [
      "KIC 3247294\n",
      "KIC 3247306\n"
     ]
    },
    {
     "name": "stderr",
     "output_type": "stream",
     "text": [
      "Warning: 42% (1749/4203) of the cadences will be ignored due to the quality mask (quality_bitmask=2096639).\n"
     ]
    },
    {
     "name": "stdout",
     "output_type": "stream",
     "text": [
      "KIC 3347643\n"
     ]
    },
    {
     "name": "stderr",
     "output_type": "stream",
     "text": [
      "Warning: 22% (914/4203) of the cadences will be ignored due to the quality mask (quality_bitmask=2096639).\n"
     ]
    },
    {
     "name": "stdout",
     "output_type": "stream",
     "text": [
      "KIC 3438507\n",
      "KIC 3438975\n"
     ]
    },
    {
     "name": "stderr",
     "output_type": "stream",
     "text": [
      "Warning: 24% (996/4203) of the cadences will be ignored due to the quality mask (quality_bitmask=2096639).\n"
     ]
    },
    {
     "name": "stdout",
     "output_type": "stream",
     "text": [
      "KIC 3438976\n"
     ]
    },
    {
     "name": "stderr",
     "output_type": "stream",
     "text": [
      "Warning: 28% (1157/4203) of the cadences will be ignored due to the quality mask (quality_bitmask=2096639).\n"
     ]
    },
    {
     "name": "stdout",
     "output_type": "stream",
     "text": [
      "KIC 3439031\n"
     ]
    },
    {
     "name": "stderr",
     "output_type": "stream",
     "text": [
      "Warning: 20% (857/4203) of the cadences will be ignored due to the quality mask (quality_bitmask=2096639).\n"
     ]
    },
    {
     "name": "stdout",
     "output_type": "stream",
     "text": [
      "KIC 3447701\n"
     ]
    },
    {
     "name": "stderr",
     "output_type": "stream",
     "text": [
      "Warning: 22% (941/4203) of the cadences will be ignored due to the quality mask (quality_bitmask=2096639).\n"
     ]
    },
    {
     "name": "stdout",
     "output_type": "stream",
     "text": [
      "KIC 3529242\n"
     ]
    },
    {
     "name": "stderr",
     "output_type": "stream",
     "text": [
      "Warning: 22% (925/4203) of the cadences will be ignored due to the quality mask (quality_bitmask=2096639).\n"
     ]
    },
    {
     "name": "stdout",
     "output_type": "stream",
     "text": [
      "KIC 3529290\n"
     ]
    },
    {
     "name": "stderr",
     "output_type": "stream",
     "text": [
      "Warning: 20% (855/4203) of the cadences will be ignored due to the quality mask (quality_bitmask=2096639).\n"
     ]
    },
    {
     "name": "stdout",
     "output_type": "stream",
     "text": [
      "KIC 3545135\n"
     ]
    },
    {
     "name": "stderr",
     "output_type": "stream",
     "text": [
      "Warning: 20% (850/4203) of the cadences will be ignored due to the quality mask (quality_bitmask=2096639).\n"
     ]
    },
    {
     "name": "stdout",
     "output_type": "stream",
     "text": [
      "KIC 3557526\n",
      "KIC 3557560\n",
      "KIC 3656121\n",
      "KIC 3656648\n",
      "KIC 3745559\n"
     ]
    },
    {
     "name": "stderr",
     "output_type": "stream",
     "text": [
      "Warning: 20% (842/4203) of the cadences will be ignored due to the quality mask (quality_bitmask=2096639).\n"
     ]
    },
    {
     "name": "stdout",
     "output_type": "stream",
     "text": [
      "KIC 3745690\n",
      "KIC 3762468\n"
     ]
    },
    {
     "name": "stderr",
     "output_type": "stream",
     "text": [
      "Warning: 22% (922/4203) of the cadences will be ignored due to the quality mask (quality_bitmask=2096639).\n"
     ]
    },
    {
     "name": "stdout",
     "output_type": "stream",
     "text": [
      "KIC 3098197\n"
     ]
    },
    {
     "name": "stderr",
     "output_type": "stream",
     "text": [
      "Warning: 32% (1349/4203) of the cadences will be ignored due to the quality mask (quality_bitmask=2096639).\n"
     ]
    },
    {
     "name": "stdout",
     "output_type": "stream",
     "text": [
      "KIC 3120397\n"
     ]
    },
    {
     "name": "stderr",
     "output_type": "stream",
     "text": [
      "Warning: 23% (986/4203) of the cadences will be ignored due to the quality mask (quality_bitmask=2096639).\n"
     ]
    },
    {
     "name": "stdout",
     "output_type": "stream",
     "text": [
      "KIC 3120431\n",
      "KIC 3120889\n"
     ]
    },
    {
     "name": "stderr",
     "output_type": "stream",
     "text": [
      "Warning: 22% (921/4203) of the cadences will be ignored due to the quality mask (quality_bitmask=2096639).\n"
     ]
    },
    {
     "name": "stdout",
     "output_type": "stream",
     "text": [
      "KIC 3228824\n",
      "KIC 3228825\n",
      "KIC 3228918\n"
     ]
    },
    {
     "name": "stderr",
     "output_type": "stream",
     "text": [
      "/Users/aridamansc/opt/anaconda3/lib/python3.9/site-packages/lightkurve/search.py:423: LightkurveWarning: Warning: 4 files available to download. Only the first file has been downloaded. Please use `download_all()` or specify additional criteria (e.g. quarter, campaign, or sector) to limit your search.\n",
      "  warnings.warn(\n",
      "Warning: 21% (890/4203) of the cadences will be ignored due to the quality mask (quality_bitmask=2096639).\n"
     ]
    },
    {
     "name": "stdout",
     "output_type": "stream",
     "text": [
      "KIC 3239945\n"
     ]
    },
    {
     "name": "stderr",
     "output_type": "stream",
     "text": [
      "Warning: 21% (866/4203) of the cadences will be ignored due to the quality mask (quality_bitmask=2096639).\n"
     ]
    },
    {
     "name": "stdout",
     "output_type": "stream",
     "text": [
      "KIC 3240049\n",
      "KIC 3247396\n",
      "KIC 3247404\n"
     ]
    },
    {
     "name": "stderr",
     "output_type": "stream",
     "text": [
      "Warning: 27% (1117/4203) of the cadences will be ignored due to the quality mask (quality_bitmask=2096639).\n"
     ]
    },
    {
     "name": "stdout",
     "output_type": "stream",
     "text": [
      "KIC 3337425\n"
     ]
    },
    {
     "name": "stderr",
     "output_type": "stream",
     "text": [
      "Warning: 25% (1036/4203) of the cadences will be ignored due to the quality mask (quality_bitmask=2096639).\n"
     ]
    },
    {
     "name": "stdout",
     "output_type": "stream",
     "text": [
      "KIC 3337432\n",
      "KIC 3337438\n",
      "KIC 3337548\n"
     ]
    },
    {
     "name": "stderr",
     "output_type": "stream",
     "text": [
      "/Users/aridamansc/opt/anaconda3/lib/python3.9/site-packages/lightkurve/search.py:418: LightkurveWarning: Cannot download from an empty search result.\n",
      "  warnings.warn(\n",
      "Warning: 23% (953/4203) of the cadences will be ignored due to the quality mask (quality_bitmask=2096639).\n"
     ]
    },
    {
     "name": "stdout",
     "output_type": "stream",
     "text": [
      "KIC 3348082\n",
      "KIC 3439096 had an error: 'NoneType' object has no attribute 'to_lightcurve'\n",
      "KIC 3439374\n"
     ]
    },
    {
     "name": "stderr",
     "output_type": "stream",
     "text": [
      "/Users/aridamansc/opt/anaconda3/lib/python3.9/site-packages/lightkurve/search.py:423: LightkurveWarning: Warning: 4 files available to download. Only the first file has been downloaded. Please use `download_all()` or specify additional criteria (e.g. quarter, campaign, or sector) to limit your search.\n",
      "  warnings.warn(\n",
      "Warning: 24% (1010/4203) of the cadences will be ignored due to the quality mask (quality_bitmask=2096639).\n"
     ]
    },
    {
     "name": "stdout",
     "output_type": "stream",
     "text": [
      "KIC 3447722\n"
     ]
    },
    {
     "name": "stderr",
     "output_type": "stream",
     "text": [
      "Warning: 27% (1141/4203) of the cadences will be ignored due to the quality mask (quality_bitmask=2096639).\n"
     ]
    },
    {
     "name": "stdout",
     "output_type": "stream",
     "text": [
      "KIC 3448130\n"
     ]
    },
    {
     "name": "stderr",
     "output_type": "stream",
     "text": [
      "Warning: 20% (841/4203) of the cadences will be ignored due to the quality mask (quality_bitmask=2096639).\n"
     ]
    },
    {
     "name": "stdout",
     "output_type": "stream",
     "text": [
      "KIC 3530245\n",
      "KIC 3530668\n"
     ]
    },
    {
     "name": "stderr",
     "output_type": "stream",
     "text": [
      "Warning: 22% (923/4203) of the cadences will be ignored due to the quality mask (quality_bitmask=2096639).\n"
     ]
    },
    {
     "name": "stdout",
     "output_type": "stream",
     "text": [
      "KIC 3545457\n",
      "KIC 3545478\n",
      "KIC 3558803 had an error: 'NoneType' object has no attribute 'to_lightcurve'\n"
     ]
    },
    {
     "name": "stderr",
     "output_type": "stream",
     "text": [
      "/Users/aridamansc/opt/anaconda3/lib/python3.9/site-packages/lightkurve/search.py:418: LightkurveWarning: Cannot download from an empty search result.\n",
      "  warnings.warn(\n"
     ]
    },
    {
     "name": "stdout",
     "output_type": "stream",
     "text": [
      "KIC 3558849\n"
     ]
    },
    {
     "name": "stderr",
     "output_type": "stream",
     "text": [
      "Warning: 20% (845/4203) of the cadences will be ignored due to the quality mask (quality_bitmask=2096639).\n"
     ]
    },
    {
     "name": "stdout",
     "output_type": "stream",
     "text": [
      "KIC 3641726\n",
      "KIC 3642289\n"
     ]
    },
    {
     "name": "stderr",
     "output_type": "stream",
     "text": [
      "Warning: 25% (1064/4203) of the cadences will be ignored due to the quality mask (quality_bitmask=2096639).\n",
      "Warning: 21% (872/4203) of the cadences will be ignored due to the quality mask (quality_bitmask=2096639).\n"
     ]
    },
    {
     "name": "stdout",
     "output_type": "stream",
     "text": [
      "KIC 3656913\n",
      "KIC 3746248\n"
     ]
    },
    {
     "name": "stderr",
     "output_type": "stream",
     "text": [
      "Warning: 22% (933/4203) of the cadences will be ignored due to the quality mask (quality_bitmask=2096639).\n"
     ]
    },
    {
     "name": "stdout",
     "output_type": "stream",
     "text": [
      "KIC 3762553\n"
     ]
    },
    {
     "name": "stderr",
     "output_type": "stream",
     "text": [
      "Warning: 20% (851/4203) of the cadences will be ignored due to the quality mask (quality_bitmask=2096639).\n"
     ]
    },
    {
     "name": "stdout",
     "output_type": "stream",
     "text": [
      "KIC 3762741\n"
     ]
    },
    {
     "name": "stderr",
     "output_type": "stream",
     "text": [
      "Warning: 22% (917/4203) of the cadences will be ignored due to the quality mask (quality_bitmask=2096639).\n"
     ]
    },
    {
     "name": "stdout",
     "output_type": "stream",
     "text": [
      "KIC 3763579\n"
     ]
    },
    {
     "name": "stderr",
     "output_type": "stream",
     "text": [
      "Warning: 21% (897/4203) of the cadences will be ignored due to the quality mask (quality_bitmask=2096639).\n"
     ]
    },
    {
     "name": "stdout",
     "output_type": "stream",
     "text": [
      "KIC 3098810\n"
     ]
    },
    {
     "name": "stderr",
     "output_type": "stream",
     "text": [
      "Warning: 25% (1032/4203) of the cadences will be ignored due to the quality mask (quality_bitmask=2096639).\n"
     ]
    },
    {
     "name": "stdout",
     "output_type": "stream",
     "text": [
      "KIC 3098843\n",
      "KIC 3120904\n",
      "KIC 3121340\n",
      "KIC 3228945\n",
      "KIC 3228959\n",
      "KIC 3228986\n",
      "KIC 3240158\n",
      "KIC 3240159\n"
     ]
    },
    {
     "name": "stderr",
     "output_type": "stream",
     "text": [
      "Warning: 23% (976/4203) of the cadences will be ignored due to the quality mask (quality_bitmask=2096639).\n"
     ]
    },
    {
     "name": "stdout",
     "output_type": "stream",
     "text": [
      "KIC 3247503\n",
      "KIC 3247616\n",
      "KIC 3338608\n"
     ]
    },
    {
     "name": "stderr",
     "output_type": "stream",
     "text": [
      "Warning: 21% (873/4203) of the cadences will be ignored due to the quality mask (quality_bitmask=2096639).\n"
     ]
    },
    {
     "name": "stdout",
     "output_type": "stream",
     "text": [
      "KIC 3338660\n",
      "KIC 3348090\n",
      "KIC 3348093\n",
      "KIC 3348216\n",
      "KIC 3348285\n"
     ]
    },
    {
     "name": "stderr",
     "output_type": "stream",
     "text": [
      "Warning: 25% (1066/4203) of the cadences will be ignored due to the quality mask (quality_bitmask=2096639).\n"
     ]
    },
    {
     "name": "stdout",
     "output_type": "stream",
     "text": [
      "KIC 3348288\n",
      "KIC 3440074\n"
     ]
    },
    {
     "name": "stderr",
     "output_type": "stream",
     "text": [
      "Warning: 22% (910/4203) of the cadences will be ignored due to the quality mask (quality_bitmask=2096639).\n"
     ]
    },
    {
     "name": "stdout",
     "output_type": "stream",
     "text": [
      "KIC 3440118\n"
     ]
    },
    {
     "name": "stderr",
     "output_type": "stream",
     "text": [
      "Warning: 28% (1178/4203) of the cadences will be ignored due to the quality mask (quality_bitmask=2096639).\n"
     ]
    },
    {
     "name": "stdout",
     "output_type": "stream",
     "text": [
      "KIC 3448230\n",
      "KIC 3448299\n"
     ]
    },
    {
     "name": "stderr",
     "output_type": "stream",
     "text": [
      "Warning: 23% (965/4203) of the cadences will be ignored due to the quality mask (quality_bitmask=2096639).\n"
     ]
    },
    {
     "name": "stdout",
     "output_type": "stream",
     "text": [
      "KIC 3448323\n"
     ]
    },
    {
     "name": "stderr",
     "output_type": "stream",
     "text": [
      "Warning: 25% (1053/4203) of the cadences will be ignored due to the quality mask (quality_bitmask=2096639).\n"
     ]
    },
    {
     "name": "stdout",
     "output_type": "stream",
     "text": [
      "KIC 3448456\n"
     ]
    },
    {
     "name": "stderr",
     "output_type": "stream",
     "text": [
      "Warning: 25% (1050/4203) of the cadences will be ignored due to the quality mask (quality_bitmask=2096639).\n"
     ]
    },
    {
     "name": "stdout",
     "output_type": "stream",
     "text": [
      "KIC 3531558\n"
     ]
    },
    {
     "name": "stderr",
     "output_type": "stream",
     "text": [
      "Warning: 35% (1456/4203) of the cadences will be ignored due to the quality mask (quality_bitmask=2096639).\n"
     ]
    },
    {
     "name": "stdout",
     "output_type": "stream",
     "text": [
      "KIC 3532510\n"
     ]
    },
    {
     "name": "stderr",
     "output_type": "stream",
     "text": [
      "Warning: 21% (895/4203) of the cadences will be ignored due to the quality mask (quality_bitmask=2096639).\n"
     ]
    },
    {
     "name": "stdout",
     "output_type": "stream",
     "text": [
      "KIC 3532982\n",
      "KIC 3545840\n",
      "KIC 3546060\n"
     ]
    },
    {
     "name": "stderr",
     "output_type": "stream",
     "text": [
      "Warning: 20% (846/4203) of the cadences will be ignored due to the quality mask (quality_bitmask=2096639).\n"
     ]
    },
    {
     "name": "stdout",
     "output_type": "stream",
     "text": [
      "KIC 3546419\n",
      "KIC 3558981\n",
      "KIC 3559860\n",
      "KIC 3642324\n",
      "KIC 3642335\n",
      "KIC 3657176\n",
      "KIC 3657547\n",
      "KIC 3657758\n",
      "KIC 3747262\n"
     ]
    },
    {
     "name": "stderr",
     "output_type": "stream",
     "text": [
      "Warning: 35% (1487/4203) of the cadences will be ignored due to the quality mask (quality_bitmask=2096639).\n"
     ]
    },
    {
     "name": "stdout",
     "output_type": "stream",
     "text": [
      "KIC 3747641\n"
     ]
    },
    {
     "name": "stderr",
     "output_type": "stream",
     "text": [
      "Warning: 30% (1273/4203) of the cadences will be ignored due to the quality mask (quality_bitmask=2096639).\n"
     ]
    },
    {
     "name": "stdout",
     "output_type": "stream",
     "text": [
      "KIC 3101923\n"
     ]
    },
    {
     "name": "stderr",
     "output_type": "stream",
     "text": [
      "Warning: 47% (1955/4203) of the cadences will be ignored due to the quality mask (quality_bitmask=2096639).\n"
     ]
    },
    {
     "name": "stdout",
     "output_type": "stream",
     "text": [
      "KIC 3102000\n"
     ]
    },
    {
     "name": "stderr",
     "output_type": "stream",
     "text": [
      "Warning: 28% (1192/4203) of the cadences will be ignored due to the quality mask (quality_bitmask=2096639).\n"
     ]
    },
    {
     "name": "stdout",
     "output_type": "stream",
     "text": [
      "KIC 3122188\n",
      "KIC 3122872\n"
     ]
    },
    {
     "name": "stderr",
     "output_type": "stream",
     "text": [
      "Warning: 26% (1110/4203) of the cadences will be ignored due to the quality mask (quality_bitmask=2096639).\n"
     ]
    },
    {
     "name": "stdout",
     "output_type": "stream",
     "text": [
      "KIC 3228988\n",
      "KIC 3229028\n",
      "KIC 3229150\n"
     ]
    },
    {
     "name": "stderr",
     "output_type": "stream",
     "text": [
      "Warning: 21% (895/4203) of the cadences will be ignored due to the quality mask (quality_bitmask=2096639).\n"
     ]
    },
    {
     "name": "stdout",
     "output_type": "stream",
     "text": [
      "KIC 3240231\n",
      "KIC 3240406\n",
      "KIC 3248019\n",
      "KIC 3338674\n"
     ]
    },
    {
     "name": "stderr",
     "output_type": "stream",
     "text": [
      "/Users/aridamansc/opt/anaconda3/lib/python3.9/site-packages/lightkurve/search.py:423: LightkurveWarning: Warning: 4 files available to download. Only the first file has been downloaded. Please use `download_all()` or specify additional criteria (e.g. quarter, campaign, or sector) to limit your search.\n",
      "  warnings.warn(\n"
     ]
    },
    {
     "name": "stdout",
     "output_type": "stream",
     "text": [
      "KIC 3338885\n"
     ]
    },
    {
     "name": "stderr",
     "output_type": "stream",
     "text": [
      "Warning: 20% (849/4203) of the cadences will be ignored due to the quality mask (quality_bitmask=2096639).\n"
     ]
    },
    {
     "name": "stdout",
     "output_type": "stream",
     "text": [
      "KIC 3348533\n"
     ]
    },
    {
     "name": "stderr",
     "output_type": "stream",
     "text": [
      "Warning: 23% (953/4203) of the cadences will be ignored due to the quality mask (quality_bitmask=2096639).\n"
     ]
    },
    {
     "name": "stdout",
     "output_type": "stream",
     "text": [
      "KIC 3440230\n"
     ]
    },
    {
     "name": "stderr",
     "output_type": "stream",
     "text": [
      "Warning: 41% (1725/4203) of the cadences will be ignored due to the quality mask (quality_bitmask=2096639).\n"
     ]
    },
    {
     "name": "stdout",
     "output_type": "stream",
     "text": [
      "KIC 3448777\n"
     ]
    },
    {
     "name": "stderr",
     "output_type": "stream",
     "text": [
      "Warning: 23% (950/4203) of the cadences will be ignored due to the quality mask (quality_bitmask=2096639).\n"
     ]
    },
    {
     "name": "stdout",
     "output_type": "stream",
     "text": [
      "KIC 3532985\n",
      "KIC 3533469\n",
      "KIC 3546765\n"
     ]
    },
    {
     "name": "stderr",
     "output_type": "stream",
     "text": [
      "Warning: 20% (853/4203) of the cadences will be ignored due to the quality mask (quality_bitmask=2096639).\n"
     ]
    },
    {
     "name": "stdout",
     "output_type": "stream",
     "text": [
      "KIC 3559933\n"
     ]
    },
    {
     "name": "stderr",
     "output_type": "stream",
     "text": [
      "Warning: 25% (1057/4203) of the cadences will be ignored due to the quality mask (quality_bitmask=2096639).\n"
     ]
    },
    {
     "name": "stdout",
     "output_type": "stream",
     "text": [
      "KIC 3559935\n",
      "KIC 3642713\n"
     ]
    },
    {
     "name": "stderr",
     "output_type": "stream",
     "text": [
      "Warning: 21% (882/4203) of the cadences will be ignored due to the quality mask (quality_bitmask=2096639).\n"
     ]
    },
    {
     "name": "stdout",
     "output_type": "stream",
     "text": [
      "KIC 3642741\n",
      "KIC 3659012\n",
      "KIC 3747817\n"
     ]
    },
    {
     "name": "stderr",
     "output_type": "stream",
     "text": [
      "Warning: 33% (1394/4203) of the cadences will be ignored due to the quality mask (quality_bitmask=2096639).\n"
     ]
    },
    {
     "name": "stdout",
     "output_type": "stream",
     "text": [
      "KIC 3764411\n",
      "KIC 3102024\n"
     ]
    },
    {
     "name": "stderr",
     "output_type": "stream",
     "text": [
      "/Users/aridamansc/opt/anaconda3/lib/python3.9/site-packages/lightkurve/search.py:423: LightkurveWarning: Warning: 4 files available to download. Only the first file has been downloaded. Please use `download_all()` or specify additional criteria (e.g. quarter, campaign, or sector) to limit your search.\n",
      "  warnings.warn(\n",
      "Warning: 21% (877/4203) of the cadences will be ignored due to the quality mask (quality_bitmask=2096639).\n"
     ]
    },
    {
     "name": "stdout",
     "output_type": "stream",
     "text": [
      "KIC 3102384\n"
     ]
    },
    {
     "name": "stderr",
     "output_type": "stream",
     "text": [
      "Warning: 23% (979/4203) of the cadences will be ignored due to the quality mask (quality_bitmask=2096639).\n"
     ]
    },
    {
     "name": "stdout",
     "output_type": "stream",
     "text": [
      "KIC 3103212\n"
     ]
    },
    {
     "name": "stderr",
     "output_type": "stream",
     "text": [
      "Warning: 24% (1010/4203) of the cadences will be ignored due to the quality mask (quality_bitmask=2096639).\n"
     ]
    },
    {
     "name": "stdout",
     "output_type": "stream",
     "text": [
      "KIC 3122913\n"
     ]
    },
    {
     "name": "stderr",
     "output_type": "stream",
     "text": [
      "Warning: 28% (1156/4203) of the cadences will be ignored due to the quality mask (quality_bitmask=2096639).\n"
     ]
    },
    {
     "name": "stdout",
     "output_type": "stream",
     "text": [
      "KIC 3122985\n",
      "KIC 3124598\n",
      "KIC 3230206\n"
     ]
    },
    {
     "name": "stderr",
     "output_type": "stream",
     "text": [
      "Warning: 29% (1237/4203) of the cadences will be ignored due to the quality mask (quality_bitmask=2096639).\n",
      "Warning: 21% (885/4203) of the cadences will be ignored due to the quality mask (quality_bitmask=2096639).\n"
     ]
    },
    {
     "name": "stdout",
     "output_type": "stream",
     "text": [
      "KIC 3230227\n",
      "KIC 3240411\n",
      "KIC 3248033\n"
     ]
    },
    {
     "name": "stderr",
     "output_type": "stream",
     "text": [
      "Warning: 20% (843/4203) of the cadences will be ignored due to the quality mask (quality_bitmask=2096639).\n"
     ]
    },
    {
     "name": "stdout",
     "output_type": "stream",
     "text": [
      "KIC 3248501\n"
     ]
    },
    {
     "name": "stderr",
     "output_type": "stream",
     "text": [
      "Warning: 21% (881/4203) of the cadences will be ignored due to the quality mask (quality_bitmask=2096639).\n"
     ]
    },
    {
     "name": "stdout",
     "output_type": "stream",
     "text": [
      "KIC 3339823\n",
      "KIC 3340165\n",
      "KIC 3351888\n",
      "KIC 4664743\n"
     ]
    },
    {
     "name": "stderr",
     "output_type": "stream",
     "text": [
      "Warning: 21% (873/4203) of the cadences will be ignored due to the quality mask (quality_bitmask=2096639).\n"
     ]
    },
    {
     "name": "stdout",
     "output_type": "stream",
     "text": [
      "KIC 4664847\n"
     ]
    },
    {
     "name": "stderr",
     "output_type": "stream",
     "text": [
      "Warning: 22% (904/4203) of the cadences will be ignored due to the quality mask (quality_bitmask=2096639).\n"
     ]
    },
    {
     "name": "stdout",
     "output_type": "stream",
     "text": [
      "KIC 4679687\n"
     ]
    },
    {
     "name": "stderr",
     "output_type": "stream",
     "text": [
      "Warning: 21% (884/4203) of the cadences will be ignored due to the quality mask (quality_bitmask=2096639).\n"
     ]
    },
    {
     "name": "stdout",
     "output_type": "stream",
     "text": [
      "KIC 4679769\n"
     ]
    },
    {
     "name": "stderr",
     "output_type": "stream",
     "text": [
      "Warning: 20% (842/4203) of the cadences will be ignored due to the quality mask (quality_bitmask=2096639).\n"
     ]
    },
    {
     "name": "stdout",
     "output_type": "stream",
     "text": [
      "KIC 4740125\n",
      "KIC 4740676\n",
      "KIC 4740688\n",
      "KIC 4758350\n"
     ]
    },
    {
     "name": "stderr",
     "output_type": "stream",
     "text": [
      "/Users/aridamansc/opt/anaconda3/lib/python3.9/site-packages/lightkurve/search.py:423: LightkurveWarning: Warning: 4 files available to download. Only the first file has been downloaded. Please use `download_all()` or specify additional criteria (e.g. quarter, campaign, or sector) to limit your search.\n",
      "  warnings.warn(\n",
      "Warning: 22% (927/4203) of the cadences will be ignored due to the quality mask (quality_bitmask=2096639).\n"
     ]
    },
    {
     "name": "stdout",
     "output_type": "stream",
     "text": [
      "KIC 4758368\n"
     ]
    },
    {
     "name": "stderr",
     "output_type": "stream",
     "text": [
      "Warning: 22% (907/4203) of the cadences will be ignored due to the quality mask (quality_bitmask=2096639).\n"
     ]
    },
    {
     "name": "stdout",
     "output_type": "stream",
     "text": [
      "KIC 4773851\n"
     ]
    },
    {
     "name": "stderr",
     "output_type": "stream",
     "text": [
      "Warning: 21% (871/4203) of the cadences will be ignored due to the quality mask (quality_bitmask=2096639).\n"
     ]
    },
    {
     "name": "stdout",
     "output_type": "stream",
     "text": [
      "KIC 4774194\n"
     ]
    },
    {
     "name": "stderr",
     "output_type": "stream",
     "text": [
      "Warning: 22% (907/4203) of the cadences will be ignored due to the quality mask (quality_bitmask=2096639).\n"
     ]
    },
    {
     "name": "stdout",
     "output_type": "stream",
     "text": [
      "KIC 4840327\n",
      "KIC 4840401\n"
     ]
    },
    {
     "name": "stderr",
     "output_type": "stream",
     "text": [
      "Warning: 21% (896/4203) of the cadences will be ignored due to the quality mask (quality_bitmask=2096639).\n"
     ]
    },
    {
     "name": "stdout",
     "output_type": "stream",
     "text": [
      "KIC 4840513\n",
      "KIC 4850809\n",
      "KIC 4850961\n",
      "KIC 4850965\n",
      "KIC 4861791\n"
     ]
    },
    {
     "name": "stderr",
     "output_type": "stream",
     "text": [
      "/Users/aridamansc/opt/anaconda3/lib/python3.9/site-packages/lightkurve/search.py:423: LightkurveWarning: Warning: 4 files available to download. Only the first file has been downloaded. Please use `download_all()` or specify additional criteria (e.g. quarter, campaign, or sector) to limit your search.\n",
      "  warnings.warn(\n",
      "Warning: 20% (852/4203) of the cadences will be ignored due to the quality mask (quality_bitmask=2096639).\n"
     ]
    },
    {
     "name": "stdout",
     "output_type": "stream",
     "text": [
      "KIC 4862625\n",
      "KIC 4918309\n",
      "KIC 4919550\n",
      "KIC 4935594\n"
     ]
    },
    {
     "name": "stderr",
     "output_type": "stream",
     "text": [
      "Warning: 22% (931/4203) of the cadences will be ignored due to the quality mask (quality_bitmask=2096639).\n"
     ]
    },
    {
     "name": "stdout",
     "output_type": "stream",
     "text": [
      "KIC 4935813\n",
      "KIC 4458109\n"
     ]
    },
    {
     "name": "stderr",
     "output_type": "stream",
     "text": [
      "Warning: 32% (1337/4203) of the cadences will be ignored due to the quality mask (quality_bitmask=2096639).\n"
     ]
    },
    {
     "name": "stdout",
     "output_type": "stream",
     "text": [
      "KIC 4458172\n"
     ]
    },
    {
     "name": "stderr",
     "output_type": "stream",
     "text": [
      "Warning: 21% (881/4203) of the cadences will be ignored due to the quality mask (quality_bitmask=2096639).\n"
     ]
    },
    {
     "name": "stdout",
     "output_type": "stream",
     "text": [
      "KIC 4476011\n"
     ]
    },
    {
     "name": "stderr",
     "output_type": "stream",
     "text": [
      "Warning: 22% (918/4203) of the cadences will be ignored due to the quality mask (quality_bitmask=2096639).\n"
     ]
    },
    {
     "name": "stdout",
     "output_type": "stream",
     "text": [
      "KIC 4488796\n"
     ]
    },
    {
     "name": "stderr",
     "output_type": "stream",
     "text": [
      "Warning: 20% (855/4203) of the cadences will be ignored due to the quality mask (quality_bitmask=2096639).\n"
     ]
    },
    {
     "name": "stdout",
     "output_type": "stream",
     "text": [
      "KIC 4556345\n"
     ]
    },
    {
     "name": "stderr",
     "output_type": "stream",
     "text": [
      "Warning: 21% (887/4203) of the cadences will be ignored due to the quality mask (quality_bitmask=2096639).\n"
     ]
    },
    {
     "name": "stdout",
     "output_type": "stream",
     "text": [
      "KIC 4556468\n",
      "KIC 4557777\n"
     ]
    },
    {
     "name": "stderr",
     "output_type": "stream",
     "text": [
      "Warning: 22% (921/4203) of the cadences will be ignored due to the quality mask (quality_bitmask=2096639).\n"
     ]
    },
    {
     "name": "stdout",
     "output_type": "stream",
     "text": [
      "KIC 4579651\n"
     ]
    },
    {
     "name": "stderr",
     "output_type": "stream",
     "text": [
      "Warning: 22% (917/4203) of the cadences will be ignored due to the quality mask (quality_bitmask=2096639).\n"
     ]
    },
    {
     "name": "stdout",
     "output_type": "stream",
     "text": [
      "KIC 4647715\n",
      "KIC 4647763\n",
      "KIC 4665571\n",
      "KIC 4665989\n"
     ]
    },
    {
     "name": "stderr",
     "output_type": "stream",
     "text": [
      "Warning: 21% (862/4203) of the cadences will be ignored due to the quality mask (quality_bitmask=2096639).\n"
     ]
    },
    {
     "name": "stdout",
     "output_type": "stream",
     "text": [
      "KIC 4665991\n"
     ]
    },
    {
     "name": "stderr",
     "output_type": "stream",
     "text": [
      "Warning: 20% (859/4203) of the cadences will be ignored due to the quality mask (quality_bitmask=2096639).\n"
     ]
    },
    {
     "name": "stdout",
     "output_type": "stream",
     "text": [
      "KIC 4679988\n"
     ]
    },
    {
     "name": "stderr",
     "output_type": "stream",
     "text": [
      "Warning: 20% (859/4203) of the cadences will be ignored due to the quality mask (quality_bitmask=2096639).\n"
     ]
    },
    {
     "name": "stdout",
     "output_type": "stream",
     "text": [
      "KIC 4741126\n"
     ]
    },
    {
     "name": "stderr",
     "output_type": "stream",
     "text": [
      "Warning: 23% (947/4203) of the cadences will be ignored due to the quality mask (quality_bitmask=2096639).\n"
     ]
    },
    {
     "name": "stdout",
     "output_type": "stream",
     "text": [
      "KIC 4742414\n",
      "KIC 4742436\n",
      "KIC 4760478\n"
     ]
    },
    {
     "name": "stderr",
     "output_type": "stream",
     "text": [
      "Warning: 20% (858/4203) of the cadences will be ignored due to the quality mask (quality_bitmask=2096639).\n"
     ]
    },
    {
     "name": "stdout",
     "output_type": "stream",
     "text": [
      "KIC 4760746\n"
     ]
    },
    {
     "name": "stderr",
     "output_type": "stream",
     "text": [
      "Warning: 24% (1007/4203) of the cadences will be ignored due to the quality mask (quality_bitmask=2096639).\n"
     ]
    },
    {
     "name": "stdout",
     "output_type": "stream",
     "text": [
      "KIC 4760946\n",
      "KIC 4774208\n"
     ]
    },
    {
     "name": "stderr",
     "output_type": "stream",
     "text": [
      "Warning: 26% (1095/4203) of the cadences will be ignored due to the quality mask (quality_bitmask=2096639).\n"
     ]
    },
    {
     "name": "stdout",
     "output_type": "stream",
     "text": [
      "KIC 4840675\n",
      "KIC 4851145\n",
      "KIC 4851168\n",
      "KIC 4851173\n"
     ]
    },
    {
     "name": "stderr",
     "output_type": "stream",
     "text": [
      "Warning: 23% (973/4203) of the cadences will be ignored due to the quality mask (quality_bitmask=2096639).\n"
     ]
    },
    {
     "name": "stdout",
     "output_type": "stream",
     "text": [
      "KIC 4851182\n"
     ]
    },
    {
     "name": "stderr",
     "output_type": "stream",
     "text": [
      "Warning: 23% (967/4203) of the cadences will be ignored due to the quality mask (quality_bitmask=2096639).\n"
     ]
    },
    {
     "name": "stdout",
     "output_type": "stream",
     "text": [
      "KIC 4919814\n"
     ]
    },
    {
     "name": "stderr",
     "output_type": "stream",
     "text": [
      "Warning: 21% (883/4203) of the cadences will be ignored due to the quality mask (quality_bitmask=2096639).\n"
     ]
    },
    {
     "name": "stdout",
     "output_type": "stream",
     "text": [
      "KIC 4919818\n"
     ]
    },
    {
     "name": "stderr",
     "output_type": "stream",
     "text": [
      "Warning: 21% (863/4203) of the cadences will be ignored due to the quality mask (quality_bitmask=2096639).\n"
     ]
    },
    {
     "name": "stdout",
     "output_type": "stream",
     "text": [
      "KIC 4384398\n",
      "KIC 4384652\n",
      "KIC 4458346\n",
      "KIC 4476123\n"
     ]
    },
    {
     "name": "stderr",
     "output_type": "stream",
     "text": [
      "Warning: 21% (869/4203) of the cadences will be ignored due to the quality mask (quality_bitmask=2096639).\n"
     ]
    },
    {
     "name": "stdout",
     "output_type": "stream",
     "text": [
      "KIC 4476186\n",
      "KIC 4488840\n",
      "KIC 4562317\n"
     ]
    },
    {
     "name": "stderr",
     "output_type": "stream",
     "text": [
      "Warning: 22% (924/4203) of the cadences will be ignored due to the quality mask (quality_bitmask=2096639).\n"
     ]
    },
    {
     "name": "stdout",
     "output_type": "stream",
     "text": [
      "KIC 4562615\n",
      "KIC 4584865\n",
      "KIC 4649173\n"
     ]
    },
    {
     "name": "stderr",
     "output_type": "stream",
     "text": [
      "Warning: 21% (876/4203) of the cadences will be ignored due to the quality mask (quality_bitmask=2096639).\n"
     ]
    },
    {
     "name": "stdout",
     "output_type": "stream",
     "text": [
      "KIC 4666008\n",
      "KIC 4667989\n",
      "KIC 4680002\n"
     ]
    },
    {
     "name": "stderr",
     "output_type": "stream",
     "text": [
      "Warning: 25% (1052/4203) of the cadences will be ignored due to the quality mask (quality_bitmask=2096639).\n"
     ]
    },
    {
     "name": "stdout",
     "output_type": "stream",
     "text": [
      "KIC 4742461\n",
      "KIC 4743125\n"
     ]
    },
    {
     "name": "stderr",
     "output_type": "stream",
     "text": [
      "Warning: 21% (887/4203) of the cadences will be ignored due to the quality mask (quality_bitmask=2096639).\n"
     ]
    },
    {
     "name": "stdout",
     "output_type": "stream",
     "text": [
      "KIC 4743188\n",
      "KIC 4761060\n"
     ]
    },
    {
     "name": "stderr",
     "output_type": "stream",
     "text": [
      "Warning: 21% (892/4203) of the cadences will be ignored due to the quality mask (quality_bitmask=2096639).\n"
     ]
    },
    {
     "name": "stdout",
     "output_type": "stream",
     "text": [
      "KIC 4774321\n"
     ]
    },
    {
     "name": "stderr",
     "output_type": "stream",
     "text": [
      "Warning: 21% (881/4203) of the cadences will be ignored due to the quality mask (quality_bitmask=2096639).\n"
     ]
    },
    {
     "name": "stdout",
     "output_type": "stream",
     "text": [
      "KIC 4813563\n",
      "KIC 4813750\n"
     ]
    },
    {
     "name": "stderr",
     "output_type": "stream",
     "text": [
      "Warning: 21% (878/4203) of the cadences will be ignored due to the quality mask (quality_bitmask=2096639).\n"
     ]
    },
    {
     "name": "stdout",
     "output_type": "stream",
     "text": [
      "KIC 4841314\n"
     ]
    },
    {
     "name": "stderr",
     "output_type": "stream",
     "text": [
      "Warning: 20% (842/4203) of the cadences will be ignored due to the quality mask (quality_bitmask=2096639).\n"
     ]
    },
    {
     "name": "stdout",
     "output_type": "stream",
     "text": [
      "KIC 4841374\n",
      "KIC 4842166\n"
     ]
    },
    {
     "name": "stderr",
     "output_type": "stream",
     "text": [
      "Warning: 21% (862/4203) of the cadences will be ignored due to the quality mask (quality_bitmask=2096639).\n"
     ]
    },
    {
     "name": "stdout",
     "output_type": "stream",
     "text": [
      "KIC 4851195\n"
     ]
    },
    {
     "name": "stderr",
     "output_type": "stream",
     "text": [
      "Warning: 21% (901/4203) of the cadences will be ignored due to the quality mask (quality_bitmask=2096639).\n"
     ]
    },
    {
     "name": "stdout",
     "output_type": "stream",
     "text": [
      "KIC 4862730\n",
      "KIC 4920125\n",
      "KIC 4384675\n"
     ]
    },
    {
     "name": "stderr",
     "output_type": "stream",
     "text": [
      "Warning: 20% (850/4203) of the cadences will be ignored due to the quality mask (quality_bitmask=2096639).\n"
     ]
    },
    {
     "name": "stdout",
     "output_type": "stream",
     "text": [
      "KIC 4384793\n",
      "KIC 4458918\n"
     ]
    },
    {
     "name": "stderr",
     "output_type": "stream",
     "text": [
      "Warning: 22% (920/4203) of the cadences will be ignored due to the quality mask (quality_bitmask=2096639).\n"
     ]
    },
    {
     "name": "stdout",
     "output_type": "stream",
     "text": [
      "KIC 4458984\n",
      "KIC 4459068\n"
     ]
    },
    {
     "name": "stderr",
     "output_type": "stream",
     "text": [
      "Warning: 22% (919/4203) of the cadences will be ignored due to the quality mask (quality_bitmask=2096639).\n"
     ]
    },
    {
     "name": "stdout",
     "output_type": "stream",
     "text": [
      "KIC 4476392\n",
      "KIC 4477104\n",
      "KIC 4540632\n",
      "KIC 4563268\n"
     ]
    },
    {
     "name": "stderr",
     "output_type": "stream",
     "text": [
      "Warning: 28% (1162/4203) of the cadences will be ignored due to the quality mask (quality_bitmask=2096639).\n"
     ]
    },
    {
     "name": "stdout",
     "output_type": "stream",
     "text": [
      "KIC 4565985\n",
      "KIC 4586482\n"
     ]
    },
    {
     "name": "stderr",
     "output_type": "stream",
     "text": [
      "Warning: 21% (900/4203) of the cadences will be ignored due to the quality mask (quality_bitmask=2096639).\n"
     ]
    },
    {
     "name": "stdout",
     "output_type": "stream",
     "text": [
      "KIC 4587135\n",
      "KIC 4649238\n",
      "KIC 4668393\n"
     ]
    },
    {
     "name": "stderr",
     "output_type": "stream",
     "text": [
      "Warning: 22% (913/4203) of the cadences will be ignored due to the quality mask (quality_bitmask=2096639).\n"
     ]
    },
    {
     "name": "stdout",
     "output_type": "stream",
     "text": [
      "KIC 4680543\n"
     ]
    },
    {
     "name": "stderr",
     "output_type": "stream",
     "text": [
      "Warning: 22% (932/4203) of the cadences will be ignored due to the quality mask (quality_bitmask=2096639).\n"
     ]
    },
    {
     "name": "stdout",
     "output_type": "stream",
     "text": [
      "KIC 4680597\n"
     ]
    },
    {
     "name": "stderr",
     "output_type": "stream",
     "text": [
      "Warning: 21% (898/4203) of the cadences will be ignored due to the quality mask (quality_bitmask=2096639).\n"
     ]
    },
    {
     "name": "stdout",
     "output_type": "stream",
     "text": [
      "KIC 4743189\n"
     ]
    },
    {
     "name": "stderr",
     "output_type": "stream",
     "text": [
      "Warning: 22% (933/4203) of the cadences will be ignored due to the quality mask (quality_bitmask=2096639).\n"
     ]
    },
    {
     "name": "stdout",
     "output_type": "stream",
     "text": [
      "KIC 4761269\n"
     ]
    },
    {
     "name": "stderr",
     "output_type": "stream",
     "text": [
      "Warning: 23% (973/4203) of the cadences will be ignored due to the quality mask (quality_bitmask=2096639).\n"
     ]
    },
    {
     "name": "stdout",
     "output_type": "stream",
     "text": [
      "KIC 4814502\n",
      "KIC 4815520\n",
      "KIC 4815612 had an error: 'NoneType' object has no attribute 'to_lightcurve'\n"
     ]
    },
    {
     "name": "stderr",
     "output_type": "stream",
     "text": [
      "/Users/aridamansc/opt/anaconda3/lib/python3.9/site-packages/lightkurve/search.py:418: LightkurveWarning: Cannot download from an empty search result.\n",
      "  warnings.warn(\n"
     ]
    },
    {
     "name": "stdout",
     "output_type": "stream",
     "text": [
      "KIC 4842623\n"
     ]
    },
    {
     "name": "stderr",
     "output_type": "stream",
     "text": [
      "Warning: 21% (871/4203) of the cadences will be ignored due to the quality mask (quality_bitmask=2096639).\n"
     ]
    },
    {
     "name": "stdout",
     "output_type": "stream",
     "text": [
      "KIC 4851239\n",
      "KIC 4851283 had an error: list index out of range\n",
      "KIC 4862924\n"
     ]
    },
    {
     "name": "stderr",
     "output_type": "stream",
     "text": [
      "Warning: 21% (869/4203) of the cadences will be ignored due to the quality mask (quality_bitmask=2096639).\n"
     ]
    },
    {
     "name": "stdout",
     "output_type": "stream",
     "text": [
      "KIC 4862968\n",
      "KIC 4927192\n",
      "KIC 4385148 had an error: list index out of range\n"
     ]
    },
    {
     "name": "stderr",
     "output_type": "stream",
     "text": [
      "Warning: 20% (859/4203) of the cadences will be ignored due to the quality mask (quality_bitmask=2096639).\n"
     ]
    },
    {
     "name": "stdout",
     "output_type": "stream",
     "text": [
      "KIC 4386047\n",
      "KIC 4459285 had an error: list index out of range\n"
     ]
    },
    {
     "name": "stderr",
     "output_type": "stream",
     "text": [
      "Warning: 21% (884/4203) of the cadences will be ignored due to the quality mask (quality_bitmask=2096639).\n"
     ]
    },
    {
     "name": "stdout",
     "output_type": "stream",
     "text": [
      "KIC 4459924\n"
     ]
    },
    {
     "name": "stderr",
     "output_type": "stream",
     "text": [
      "Warning: 36% (1509/4203) of the cadences will be ignored due to the quality mask (quality_bitmask=2096639).\n"
     ]
    },
    {
     "name": "stdout",
     "output_type": "stream",
     "text": [
      "KIC 4477747\n",
      "KIC 4477871\n",
      "KIC 4544571\n"
     ]
    },
    {
     "name": "stderr",
     "output_type": "stream",
     "text": [
      "Warning: 20% (841/4203) of the cadences will be ignored due to the quality mask (quality_bitmask=2096639).\n"
     ]
    },
    {
     "name": "stdout",
     "output_type": "stream",
     "text": [
      "KIC 4566740\n"
     ]
    },
    {
     "name": "stderr",
     "output_type": "stream",
     "text": [
      "Warning: 20% (859/4203) of the cadences will be ignored due to the quality mask (quality_bitmask=2096639).\n"
     ]
    },
    {
     "name": "stdout",
     "output_type": "stream",
     "text": [
      "KIC 4566848\n"
     ]
    },
    {
     "name": "stderr",
     "output_type": "stream",
     "text": [
      "Warning: 23% (951/4203) of the cadences will be ignored due to the quality mask (quality_bitmask=2096639).\n"
     ]
    },
    {
     "name": "stdout",
     "output_type": "stream",
     "text": [
      "KIC 4587448\n",
      "KIC 4587528\n"
     ]
    },
    {
     "name": "stderr",
     "output_type": "stream",
     "text": [
      "Warning: 22% (904/4203) of the cadences will be ignored due to the quality mask (quality_bitmask=2096639).\n"
     ]
    },
    {
     "name": "stdout",
     "output_type": "stream",
     "text": [
      "KIC 4649305\n",
      "KIC 4669058\n"
     ]
    },
    {
     "name": "stderr",
     "output_type": "stream",
     "text": [
      "Warning: 21% (901/4203) of the cadences will be ignored due to the quality mask (quality_bitmask=2096639).\n"
     ]
    },
    {
     "name": "stdout",
     "output_type": "stream",
     "text": [
      "KIC 4669402\n"
     ]
    },
    {
     "name": "stderr",
     "output_type": "stream",
     "text": [
      "Warning: 22% (911/4203) of the cadences will be ignored due to the quality mask (quality_bitmask=2096639).\n"
     ]
    },
    {
     "name": "stdout",
     "output_type": "stream",
     "text": [
      "KIC 4680745\n",
      "KIC 4680772\n"
     ]
    },
    {
     "name": "stderr",
     "output_type": "stream",
     "text": [
      "Warning: 20% (855/4203) of the cadences will be ignored due to the quality mask (quality_bitmask=2096639).\n"
     ]
    },
    {
     "name": "stdout",
     "output_type": "stream",
     "text": [
      "KIC 4743508\n",
      "KIC 4743513\n"
     ]
    },
    {
     "name": "stderr",
     "output_type": "stream",
     "text": [
      "Warning: 21% (896/4203) of the cadences will be ignored due to the quality mask (quality_bitmask=2096639).\n"
     ]
    },
    {
     "name": "stdout",
     "output_type": "stream",
     "text": [
      "KIC 4763381\n",
      "KIC 4819950\n",
      "KIC 4820550\n",
      "KIC 4843037\n",
      "KIC 4843592\n",
      "KIC 4851338\n"
     ]
    },
    {
     "name": "stderr",
     "output_type": "stream",
     "text": [
      "Warning: 21% (892/4203) of the cadences will be ignored due to the quality mask (quality_bitmask=2096639).\n"
     ]
    },
    {
     "name": "stdout",
     "output_type": "stream",
     "text": [
      "KIC 4851356\n",
      "KIC 4851457\n"
     ]
    },
    {
     "name": "stderr",
     "output_type": "stream",
     "text": [
      "Warning: 22% (909/4203) of the cadences will be ignored due to the quality mask (quality_bitmask=2096639).\n"
     ]
    },
    {
     "name": "stdout",
     "output_type": "stream",
     "text": [
      "KIC 4863077\n",
      "KIC 4863260\n",
      "KIC 4927315\n"
     ]
    },
    {
     "name": "stderr",
     "output_type": "stream",
     "text": [
      "Warning: 28% (1175/4203) of the cadences will be ignored due to the quality mask (quality_bitmask=2096639).\n"
     ]
    },
    {
     "name": "stdout",
     "output_type": "stream",
     "text": [
      "KIC 4927495\n"
     ]
    },
    {
     "name": "stderr",
     "output_type": "stream",
     "text": [
      "Warning: 23% (948/4203) of the cadences will be ignored due to the quality mask (quality_bitmask=2096639).\n"
     ]
    },
    {
     "name": "stdout",
     "output_type": "stream",
     "text": [
      "KIC 4386059\n"
     ]
    },
    {
     "name": "stderr",
     "output_type": "stream",
     "text": [
      "Warning: 26% (1074/4203) of the cadences will be ignored due to the quality mask (quality_bitmask=2096639).\n"
     ]
    },
    {
     "name": "stdout",
     "output_type": "stream",
     "text": [
      "KIC 4386091\n"
     ]
    },
    {
     "name": "stderr",
     "output_type": "stream",
     "text": [
      "Warning: 21% (875/4203) of the cadences will be ignored due to the quality mask (quality_bitmask=2096639).\n"
     ]
    },
    {
     "name": "stdout",
     "output_type": "stream",
     "text": [
      "KIC 4386121\n"
     ]
    },
    {
     "name": "stderr",
     "output_type": "stream",
     "text": [
      "Warning: 20% (856/4203) of the cadences will be ignored due to the quality mask (quality_bitmask=2096639).\n"
     ]
    },
    {
     "name": "stdout",
     "output_type": "stream",
     "text": [
      "KIC 4459939\n"
     ]
    },
    {
     "name": "stderr",
     "output_type": "stream",
     "text": [
      "Warning: 21% (874/4203) of the cadences will be ignored due to the quality mask (quality_bitmask=2096639).\n"
     ]
    },
    {
     "name": "stdout",
     "output_type": "stream",
     "text": [
      "KIC 4464287\n"
     ]
    },
    {
     "name": "stderr",
     "output_type": "stream",
     "text": [
      "Warning: 21% (871/4203) of the cadences will be ignored due to the quality mask (quality_bitmask=2096639).\n"
     ]
    },
    {
     "name": "stdout",
     "output_type": "stream",
     "text": [
      "KIC 4478168\n",
      "KIC 4479633\n",
      "KIC 4544572\n"
     ]
    },
    {
     "name": "stderr",
     "output_type": "stream",
     "text": [
      "Warning: 23% (981/4203) of the cadences will be ignored due to the quality mask (quality_bitmask=2096639).\n"
     ]
    },
    {
     "name": "stdout",
     "output_type": "stream",
     "text": [
      "KIC 4567400\n"
     ]
    },
    {
     "name": "stderr",
     "output_type": "stream",
     "text": [
      "Warning: 21% (869/4203) of the cadences will be ignored due to the quality mask (quality_bitmask=2096639).\n"
     ]
    },
    {
     "name": "stdout",
     "output_type": "stream",
     "text": [
      "KIC 4567531\n",
      "KIC 4568117\n"
     ]
    },
    {
     "name": "stderr",
     "output_type": "stream",
     "text": [
      "Warning: 21% (887/4203) of the cadences will be ignored due to the quality mask (quality_bitmask=2096639).\n"
     ]
    },
    {
     "name": "stdout",
     "output_type": "stream",
     "text": [
      "KIC 4588115\n",
      "KIC 4649440\n",
      "KIC 4670217\n",
      "KIC 4670267\n"
     ]
    },
    {
     "name": "stderr",
     "output_type": "stream",
     "text": [
      "/Users/aridamansc/opt/anaconda3/lib/python3.9/site-packages/lightkurve/search.py:423: LightkurveWarning: Warning: 4 files available to download. Only the first file has been downloaded. Please use `download_all()` or specify additional criteria (e.g. quarter, campaign, or sector) to limit your search.\n",
      "  warnings.warn(\n"
     ]
    },
    {
     "name": "stdout",
     "output_type": "stream",
     "text": [
      "KIC 4725681\n"
     ]
    },
    {
     "name": "stderr",
     "output_type": "stream",
     "text": [
      "Warning: 28% (1157/4203) of the cadences will be ignored due to the quality mask (quality_bitmask=2096639).\n"
     ]
    },
    {
     "name": "stdout",
     "output_type": "stream",
     "text": [
      "KIC 4749989\n",
      "KIC 4750341\n",
      "KIC 4764523\n"
     ]
    },
    {
     "name": "stderr",
     "output_type": "stream",
     "text": [
      "Warning: 22% (911/4203) of the cadences will be ignored due to the quality mask (quality_bitmask=2096639).\n"
     ]
    },
    {
     "name": "stdout",
     "output_type": "stream",
     "text": [
      "KIC 4824268\n",
      "KIC 4825872\n",
      "KIC 4844004\n",
      "KIC 4844367\n"
     ]
    },
    {
     "name": "stderr",
     "output_type": "stream",
     "text": [
      "Warning: 20% (860/4203) of the cadences will be ignored due to the quality mask (quality_bitmask=2096639).\n"
     ]
    },
    {
     "name": "stdout",
     "output_type": "stream",
     "text": [
      "KIC 4851464\n"
     ]
    },
    {
     "name": "stderr",
     "output_type": "stream",
     "text": [
      "Warning: 21% (896/4203) of the cadences will be ignored due to the quality mask (quality_bitmask=2096639).\n"
     ]
    },
    {
     "name": "stdout",
     "output_type": "stream",
     "text": [
      "KIC 4863614\n"
     ]
    },
    {
     "name": "stderr",
     "output_type": "stream",
     "text": [
      "Warning: 22% (913/4203) of the cadences will be ignored due to the quality mask (quality_bitmask=2096639).\n"
     ]
    },
    {
     "name": "stdout",
     "output_type": "stream",
     "text": [
      "KIC 4927734\n",
      "KIC 4927985\n"
     ]
    },
    {
     "name": "stderr",
     "output_type": "stream",
     "text": [
      "Warning: 21% (881/4203) of the cadences will be ignored due to the quality mask (quality_bitmask=2096639).\n"
     ]
    },
    {
     "name": "stdout",
     "output_type": "stream",
     "text": [
      "KIC 4464394\n"
     ]
    },
    {
     "name": "stderr",
     "output_type": "stream",
     "text": [
      "Warning: 21% (876/4203) of the cadences will be ignored due to the quality mask (quality_bitmask=2096639).\n"
     ]
    },
    {
     "name": "stdout",
     "output_type": "stream",
     "text": [
      "KIC 4479949\n",
      "KIC 4544620\n"
     ]
    },
    {
     "name": "stderr",
     "output_type": "stream",
     "text": [
      "Warning: 21% (889/4203) of the cadences will be ignored due to the quality mask (quality_bitmask=2096639).\n"
     ]
    },
    {
     "name": "stdout",
     "output_type": "stream",
     "text": [
      "KIC 4568298\n",
      "KIC 4568729\n"
     ]
    },
    {
     "name": "stderr",
     "output_type": "stream",
     "text": [
      "Warning: 24% (1003/4203) of the cadences will be ignored due to the quality mask (quality_bitmask=2096639).\n"
     ]
    },
    {
     "name": "stdout",
     "output_type": "stream",
     "text": [
      "KIC 4633434\n",
      "KIC 4633454\n",
      "KIC 4649462\n"
     ]
    },
    {
     "name": "stderr",
     "output_type": "stream",
     "text": [
      "Warning: 26% (1073/4203) of the cadences will be ignored due to the quality mask (quality_bitmask=2096639).\n"
     ]
    },
    {
     "name": "stdout",
     "output_type": "stream",
     "text": [
      "KIC 4649476\n"
     ]
    },
    {
     "name": "stderr",
     "output_type": "stream",
     "text": [
      "Warning: 25% (1036/4203) of the cadences will be ignored due to the quality mask (quality_bitmask=2096639).\n"
     ]
    },
    {
     "name": "stdout",
     "output_type": "stream",
     "text": [
      "KIC 4670388\n"
     ]
    },
    {
     "name": "stderr",
     "output_type": "stream",
     "text": [
      "Warning: 31% (1311/4203) of the cadences will be ignored due to the quality mask (quality_bitmask=2096639).\n"
     ]
    },
    {
     "name": "stdout",
     "output_type": "stream",
     "text": [
      "KIC 4670846\n"
     ]
    },
    {
     "name": "stderr",
     "output_type": "stream",
     "text": [
      "Warning: 22% (918/4203) of the cadences will be ignored due to the quality mask (quality_bitmask=2096639).\n"
     ]
    },
    {
     "name": "stdout",
     "output_type": "stream",
     "text": [
      "KIC 4725882\n",
      "KIC 4726268\n",
      "KIC 4750669\n"
     ]
    },
    {
     "name": "stderr",
     "output_type": "stream",
     "text": [
      "Warning: 21% (864/4203) of the cadences will be ignored due to the quality mask (quality_bitmask=2096639).\n"
     ]
    },
    {
     "name": "stdout",
     "output_type": "stream",
     "text": [
      "KIC 4751083\n",
      "KIC 4752451\n"
     ]
    },
    {
     "name": "stderr",
     "output_type": "stream",
     "text": [
      "Warning: 22% (931/4203) of the cadences will be ignored due to the quality mask (quality_bitmask=2096639).\n"
     ]
    },
    {
     "name": "stdout",
     "output_type": "stream",
     "text": [
      "KIC 4764774\n"
     ]
    },
    {
     "name": "stderr",
     "output_type": "stream",
     "text": [
      "Warning: 21% (891/4203) of the cadences will be ignored due to the quality mask (quality_bitmask=2096639).\n"
     ]
    },
    {
     "name": "stdout",
     "output_type": "stream",
     "text": [
      "KIC 4764969\n"
     ]
    },
    {
     "name": "stderr",
     "output_type": "stream",
     "text": [
      "Warning: 21% (884/4203) of the cadences will be ignored due to the quality mask (quality_bitmask=2096639).\n"
     ]
    },
    {
     "name": "stdout",
     "output_type": "stream",
     "text": [
      "KIC 4826031\n",
      "KIC 4845555\n"
     ]
    },
    {
     "name": "stderr",
     "output_type": "stream",
     "text": [
      "/Users/aridamansc/opt/anaconda3/lib/python3.9/site-packages/lightkurve/search.py:423: LightkurveWarning: Warning: 4 files available to download. Only the first file has been downloaded. Please use `download_all()` or specify additional criteria (e.g. quarter, campaign, or sector) to limit your search.\n",
      "  warnings.warn(\n",
      "Warning: 20% (852/4203) of the cadences will be ignored due to the quality mask (quality_bitmask=2096639).\n"
     ]
    },
    {
     "name": "stdout",
     "output_type": "stream",
     "text": [
      "KIC 4851530\n"
     ]
    },
    {
     "name": "stderr",
     "output_type": "stream",
     "text": [
      "Warning: 21% (890/4203) of the cadences will be ignored due to the quality mask (quality_bitmask=2096639).\n"
     ]
    },
    {
     "name": "stdout",
     "output_type": "stream",
     "text": [
      "KIC 4852297\n",
      "KIC 4852455\n",
      "KIC 4863836\n",
      "KIC 4863956\n"
     ]
    },
    {
     "name": "stderr",
     "output_type": "stream",
     "text": [
      "Warning: 20% (861/4203) of the cadences will be ignored due to the quality mask (quality_bitmask=2096639).\n"
     ]
    },
    {
     "name": "stdout",
     "output_type": "stream",
     "text": [
      "KIC 4928119\n"
     ]
    },
    {
     "name": "stderr",
     "output_type": "stream",
     "text": [
      "Warning: 21% (883/4203) of the cadences will be ignored due to the quality mask (quality_bitmask=2096639).\n"
     ]
    },
    {
     "name": "stdout",
     "output_type": "stream",
     "text": [
      "KIC 4391348\n",
      "KIC 4464689\n",
      "KIC 4465188\n"
     ]
    },
    {
     "name": "stderr",
     "output_type": "stream",
     "text": [
      "Warning: 21% (883/4203) of the cadences will be ignored due to the quality mask (quality_bitmask=2096639).\n"
     ]
    },
    {
     "name": "stdout",
     "output_type": "stream",
     "text": [
      "KIC 4480676\n",
      "KIC 4481426\n"
     ]
    },
    {
     "name": "stderr",
     "output_type": "stream",
     "text": [
      "Warning: 21% (862/4203) of the cadences will be ignored due to the quality mask (quality_bitmask=2096639).\n"
     ]
    },
    {
     "name": "stdout",
     "output_type": "stream",
     "text": [
      "KIC 4544623\n",
      "KIC 4569590\n"
     ]
    },
    {
     "name": "stderr",
     "output_type": "stream",
     "text": [
      "/Users/aridamansc/opt/anaconda3/lib/python3.9/site-packages/lightkurve/search.py:423: LightkurveWarning: Warning: 4 files available to download. Only the first file has been downloaded. Please use `download_all()` or specify additional criteria (e.g. quarter, campaign, or sector) to limit your search.\n",
      "  warnings.warn(\n"
     ]
    },
    {
     "name": "stdout",
     "output_type": "stream",
     "text": [
      "KIC 4633570\n",
      "KIC 4634135\n",
      "KIC 4650327\n",
      "KIC 4650674\n"
     ]
    },
    {
     "name": "stderr",
     "output_type": "stream",
     "text": [
      "Warning: 22% (941/4203) of the cadences will be ignored due to the quality mask (quality_bitmask=2096639).\n",
      "Warning: 20% (859/4203) of the cadences will be ignored due to the quality mask (quality_bitmask=2096639).\n"
     ]
    },
    {
     "name": "stdout",
     "output_type": "stream",
     "text": [
      "KIC 4671225\n"
     ]
    },
    {
     "name": "stderr",
     "output_type": "stream",
     "text": [
      "Warning: 23% (951/4203) of the cadences will be ignored due to the quality mask (quality_bitmask=2096639).\n"
     ]
    },
    {
     "name": "stdout",
     "output_type": "stream",
     "text": [
      "KIC 4729553\n",
      "KIC 4731303\n",
      "KIC 4731916\n",
      "KIC 4753561\n"
     ]
    },
    {
     "name": "stderr",
     "output_type": "stream",
     "text": [
      "Warning: 23% (963/4203) of the cadences will be ignored due to the quality mask (quality_bitmask=2096639).\n"
     ]
    },
    {
     "name": "stdout",
     "output_type": "stream",
     "text": [
      "KIC 4768668\n"
     ]
    },
    {
     "name": "stderr",
     "output_type": "stream",
     "text": [
      "Warning: 23% (972/4203) of the cadences will be ignored due to the quality mask (quality_bitmask=2096639).\n"
     ]
    },
    {
     "name": "stdout",
     "output_type": "stream",
     "text": [
      "KIC 4826110\n",
      "KIC 4826439\n",
      "KIC 4827662\n",
      "KIC 4845590\n",
      "KIC 4845862\n",
      "KIC 4846150\n"
     ]
    },
    {
     "name": "stderr",
     "output_type": "stream",
     "text": [
      "/Users/aridamansc/opt/anaconda3/lib/python3.9/site-packages/lightkurve/search.py:423: LightkurveWarning: Warning: 4 files available to download. Only the first file has been downloaded. Please use `download_all()` or specify additional criteria (e.g. quarter, campaign, or sector) to limit your search.\n",
      "  warnings.warn(\n"
     ]
    },
    {
     "name": "stdout",
     "output_type": "stream",
     "text": [
      "KIC 4852528\n",
      "KIC 4864734 had an error: 'NoneType' object has no attribute 'to_lightcurve'\n"
     ]
    },
    {
     "name": "stderr",
     "output_type": "stream",
     "text": [
      "/Users/aridamansc/opt/anaconda3/lib/python3.9/site-packages/lightkurve/search.py:418: LightkurveWarning: Cannot download from an empty search result.\n",
      "  warnings.warn(\n"
     ]
    },
    {
     "name": "stdout",
     "output_type": "stream",
     "text": [
      "KIC 4929092\n",
      "KIC 4929299\n"
     ]
    },
    {
     "name": "stderr",
     "output_type": "stream",
     "text": [
      "Warning: 22% (927/4203) of the cadences will be ignored due to the quality mask (quality_bitmask=2096639).\n"
     ]
    },
    {
     "name": "stdout",
     "output_type": "stream",
     "text": [
      "KIC 4929615\n"
     ]
    },
    {
     "name": "stderr",
     "output_type": "stream",
     "text": [
      "Warning: 22% (943/4203) of the cadences will be ignored due to the quality mask (quality_bitmask=2096639).\n"
     ]
    },
    {
     "name": "stdout",
     "output_type": "stream",
     "text": [
      "KIC 4391466\n",
      "KIC 4446044\n"
     ]
    },
    {
     "name": "stderr",
     "output_type": "stream",
     "text": [
      "Warning: 23% (946/4203) of the cadences will be ignored due to the quality mask (quality_bitmask=2096639).\n"
     ]
    },
    {
     "name": "stdout",
     "output_type": "stream",
     "text": [
      "KIC 4466180\n"
     ]
    },
    {
     "name": "stderr",
     "output_type": "stream",
     "text": [
      "Warning: 25% (1058/4203) of the cadences will be ignored due to the quality mask (quality_bitmask=2096639).\n"
     ]
    },
    {
     "name": "stdout",
     "output_type": "stream",
     "text": [
      "KIC 4481700\n",
      "KIC 4544628\n"
     ]
    },
    {
     "name": "stderr",
     "output_type": "stream",
     "text": [
      "Warning: 22% (938/4203) of the cadences will be ignored due to the quality mask (quality_bitmask=2096639).\n"
     ]
    },
    {
     "name": "stdout",
     "output_type": "stream",
     "text": [
      "KIC 4544670\n",
      "KIC 4544684\n"
     ]
    },
    {
     "name": "stderr",
     "output_type": "stream",
     "text": [
      "/Users/aridamansc/opt/anaconda3/lib/python3.9/site-packages/lightkurve/search.py:423: LightkurveWarning: Warning: 4 files available to download. Only the first file has been downloaded. Please use `download_all()` or specify additional criteria (e.g. quarter, campaign, or sector) to limit your search.\n",
      "  warnings.warn(\n"
     ]
    },
    {
     "name": "stdout",
     "output_type": "stream",
     "text": [
      "KIC 4570555\n",
      "KIC 4570931\n"
     ]
    },
    {
     "name": "stderr",
     "output_type": "stream",
     "text": [
      "Warning: 24% (1026/4203) of the cadences will be ignored due to the quality mask (quality_bitmask=2096639).\n"
     ]
    },
    {
     "name": "stdout",
     "output_type": "stream",
     "text": [
      "KIC 4570949\n"
     ]
    },
    {
     "name": "stderr",
     "output_type": "stream",
     "text": [
      "Warning: 29% (1226/4203) of the cadences will be ignored due to the quality mask (quality_bitmask=2096639).\n"
     ]
    },
    {
     "name": "stdout",
     "output_type": "stream",
     "text": [
      "KIC 4636464\n",
      "KIC 4650686\n"
     ]
    },
    {
     "name": "stderr",
     "output_type": "stream",
     "text": [
      "Warning: 22% (906/4203) of the cadences will be ignored due to the quality mask (quality_bitmask=2096639).\n"
     ]
    },
    {
     "name": "stdout",
     "output_type": "stream",
     "text": [
      "KIC 4650733\n"
     ]
    },
    {
     "name": "stderr",
     "output_type": "stream",
     "text": [
      "Warning: 21% (896/4203) of the cadences will be ignored due to the quality mask (quality_bitmask=2096639).\n"
     ]
    },
    {
     "name": "stdout",
     "output_type": "stream",
     "text": [
      "KIC 4650995\n",
      "KIC 4672045\n"
     ]
    },
    {
     "name": "stderr",
     "output_type": "stream",
     "text": [
      "Warning: 28% (1169/4203) of the cadences will be ignored due to the quality mask (quality_bitmask=2096639).\n",
      "Warning: 21% (894/4203) of the cadences will be ignored due to the quality mask (quality_bitmask=2096639).\n"
     ]
    },
    {
     "name": "stdout",
     "output_type": "stream",
     "text": [
      "KIC 4732015\n"
     ]
    },
    {
     "name": "stderr",
     "output_type": "stream",
     "text": [
      "Warning: 21% (883/4203) of the cadences will be ignored due to the quality mask (quality_bitmask=2096639).\n"
     ]
    },
    {
     "name": "stdout",
     "output_type": "stream",
     "text": [
      "KIC 4754310\n"
     ]
    },
    {
     "name": "stderr",
     "output_type": "stream",
     "text": [
      "Warning: 26% (1112/4203) of the cadences will be ignored due to the quality mask (quality_bitmask=2096639).\n"
     ]
    },
    {
     "name": "stdout",
     "output_type": "stream",
     "text": [
      "KIC 4754831\n",
      "KIC 4768756\n"
     ]
    },
    {
     "name": "stderr",
     "output_type": "stream",
     "text": [
      "Warning: 23% (955/4203) of the cadences will be ignored due to the quality mask (quality_bitmask=2096639).\n",
      "Warning: 21% (898/4203) of the cadences will be ignored due to the quality mask (quality_bitmask=2096639).\n"
     ]
    },
    {
     "name": "stdout",
     "output_type": "stream",
     "text": [
      "KIC 4768846\n",
      "KIC 4827723\n",
      "KIC 4828341\n"
     ]
    },
    {
     "name": "stderr",
     "output_type": "stream",
     "text": [
      "Warning: 22% (929/4203) of the cadences will be ignored due to the quality mask (quality_bitmask=2096639).\n"
     ]
    },
    {
     "name": "stdout",
     "output_type": "stream",
     "text": [
      "KIC 4846856\n"
     ]
    },
    {
     "name": "stderr",
     "output_type": "stream",
     "text": [
      "Warning: 29% (1234/4203) of the cadences will be ignored due to the quality mask (quality_bitmask=2096639).\n"
     ]
    },
    {
     "name": "stdout",
     "output_type": "stream",
     "text": [
      "KIC 4908774\n",
      "KIC 4909697\n",
      "KIC 4930578\n",
      "KIC 4930913\n"
     ]
    },
    {
     "name": "stderr",
     "output_type": "stream",
     "text": [
      "Warning: 31% (1301/4203) of the cadences will be ignored due to the quality mask (quality_bitmask=2096639).\n",
      "Warning: 26% (1075/4203) of the cadences will be ignored due to the quality mask (quality_bitmask=2096639).\n"
     ]
    },
    {
     "name": "stdout",
     "output_type": "stream",
     "text": [
      "KIC 4446135\n",
      "KIC 4446299\n",
      "KIC 4466356\n",
      "KIC 4466677\n"
     ]
    },
    {
     "name": "stderr",
     "output_type": "stream",
     "text": [
      "Warning: 23% (946/4203) of the cadences will be ignored due to the quality mask (quality_bitmask=2096639).\n"
     ]
    },
    {
     "name": "stdout",
     "output_type": "stream",
     "text": [
      "KIC 4482231\n"
     ]
    },
    {
     "name": "stderr",
     "output_type": "stream",
     "text": [
      "Warning: 24% (1022/4203) of the cadences will be ignored due to the quality mask (quality_bitmask=2096639).\n"
     ]
    },
    {
     "name": "stdout",
     "output_type": "stream",
     "text": [
      "KIC 4482348\n"
     ]
    },
    {
     "name": "stderr",
     "output_type": "stream",
     "text": [
      "Warning: 23% (967/4203) of the cadences will be ignored due to the quality mask (quality_bitmask=2096639).\n"
     ]
    },
    {
     "name": "stdout",
     "output_type": "stream",
     "text": [
      "KIC 4544757\n"
     ]
    },
    {
     "name": "stderr",
     "output_type": "stream",
     "text": [
      "Warning: 20% (847/4203) of the cadences will be ignored due to the quality mask (quality_bitmask=2096639).\n"
     ]
    },
    {
     "name": "stdout",
     "output_type": "stream",
     "text": [
      "KIC 4544907\n"
     ]
    },
    {
     "name": "stderr",
     "output_type": "stream",
     "text": [
      "Warning: 22% (939/4203) of the cadences will be ignored due to the quality mask (quality_bitmask=2096639).\n"
     ]
    },
    {
     "name": "stdout",
     "output_type": "stream",
     "text": [
      "KIC 4545187\n",
      "KIC 4636565\n"
     ]
    },
    {
     "name": "stderr",
     "output_type": "stream",
     "text": [
      "/Users/aridamansc/opt/anaconda3/lib/python3.9/site-packages/lightkurve/search.py:423: LightkurveWarning: Warning: 4 files available to download. Only the first file has been downloaded. Please use `download_all()` or specify additional criteria (e.g. quarter, campaign, or sector) to limit your search.\n",
      "  warnings.warn(\n"
     ]
    },
    {
     "name": "stdout",
     "output_type": "stream",
     "text": [
      "KIC 4636578\n",
      "KIC 4656049\n"
     ]
    },
    {
     "name": "stderr",
     "output_type": "stream",
     "text": [
      "Warning: 20% (856/4203) of the cadences will be ignored due to the quality mask (quality_bitmask=2096639).\n"
     ]
    },
    {
     "name": "stdout",
     "output_type": "stream",
     "text": [
      "KIC 4658336\n"
     ]
    },
    {
     "name": "stderr",
     "output_type": "stream",
     "text": [
      "Warning: 20% (856/4203) of the cadences will be ignored due to the quality mask (quality_bitmask=2096639).\n"
     ]
    },
    {
     "name": "stdout",
     "output_type": "stream",
     "text": [
      "KIC 4672512\n",
      "KIC 4673628\n",
      "KIC 4676964\n"
     ]
    },
    {
     "name": "stderr",
     "output_type": "stream",
     "text": [
      "Warning: 26% (1091/4203) of the cadences will be ignored due to the quality mask (quality_bitmask=2096639).\n"
     ]
    },
    {
     "name": "stdout",
     "output_type": "stream",
     "text": [
      "KIC 4733003\n"
     ]
    },
    {
     "name": "stderr",
     "output_type": "stream",
     "text": [
      "Warning: 21% (870/4203) of the cadences will be ignored due to the quality mask (quality_bitmask=2096639).\n"
     ]
    },
    {
     "name": "stdout",
     "output_type": "stream",
     "text": [
      "KIC 4733318\n"
     ]
    },
    {
     "name": "stderr",
     "output_type": "stream",
     "text": [
      "Warning: 20% (858/4203) of the cadences will be ignored due to the quality mask (quality_bitmask=2096639).\n"
     ]
    },
    {
     "name": "stdout",
     "output_type": "stream",
     "text": [
      "KIC 4755450\n"
     ]
    },
    {
     "name": "stderr",
     "output_type": "stream",
     "text": [
      "Warning: 21% (864/4203) of the cadences will be ignored due to the quality mask (quality_bitmask=2096639).\n"
     ]
    },
    {
     "name": "stdout",
     "output_type": "stream",
     "text": [
      "KIC 4755510\n"
     ]
    },
    {
     "name": "stderr",
     "output_type": "stream",
     "text": [
      "Warning: 20% (860/4203) of the cadences will be ignored due to the quality mask (quality_bitmask=2096639).\n"
     ]
    },
    {
     "name": "stdout",
     "output_type": "stream",
     "text": [
      "KIC 4769007\n",
      "KIC 4829935\n",
      "KIC 4830605\n"
     ]
    },
    {
     "name": "stderr",
     "output_type": "stream",
     "text": [
      "Warning: 25% (1054/4203) of the cadences will be ignored due to the quality mask (quality_bitmask=2096639).\n"
     ]
    },
    {
     "name": "stdout",
     "output_type": "stream",
     "text": [
      "KIC 4831251\n"
     ]
    },
    {
     "name": "stderr",
     "output_type": "stream",
     "text": [
      "Warning: 21% (883/4203) of the cadences will be ignored due to the quality mask (quality_bitmask=2096639).\n"
     ]
    },
    {
     "name": "stdout",
     "output_type": "stream",
     "text": [
      "KIC 4847371\n",
      "KIC 4857058\n"
     ]
    },
    {
     "name": "stderr",
     "output_type": "stream",
     "text": [
      "Warning: 22% (935/4203) of the cadences will be ignored due to the quality mask (quality_bitmask=2096639).\n"
     ]
    },
    {
     "name": "stdout",
     "output_type": "stream",
     "text": [
      "KIC 4857213\n",
      "KIC 4909707\n",
      "KIC 4912650\n"
     ]
    },
    {
     "name": "stderr",
     "output_type": "stream",
     "text": [
      "Warning: 20% (861/4203) of the cadences will be ignored due to the quality mask (quality_bitmask=2096639).\n"
     ]
    },
    {
     "name": "stdout",
     "output_type": "stream",
     "text": [
      "KIC 4931073\n"
     ]
    },
    {
     "name": "stderr",
     "output_type": "stream",
     "text": [
      "Warning: 21% (894/4203) of the cadences will be ignored due to the quality mask (quality_bitmask=2096639).\n"
     ]
    },
    {
     "name": "stdout",
     "output_type": "stream",
     "text": [
      "KIC 4448848\n"
     ]
    },
    {
     "name": "stderr",
     "output_type": "stream",
     "text": [
      "Warning: 22% (932/4203) of the cadences will be ignored due to the quality mask (quality_bitmask=2096639).\n"
     ]
    },
    {
     "name": "stdout",
     "output_type": "stream",
     "text": [
      "KIC 4449034\n"
     ]
    },
    {
     "name": "stderr",
     "output_type": "stream",
     "text": [
      "Warning: 21% (894/4203) of the cadences will be ignored due to the quality mask (quality_bitmask=2096639).\n"
     ]
    },
    {
     "name": "stdout",
     "output_type": "stream",
     "text": [
      "KIC 4450028\n",
      "KIC 4471379\n"
     ]
    },
    {
     "name": "stderr",
     "output_type": "stream",
     "text": [
      "Warning: 20% (852/4203) of the cadences will be ignored due to the quality mask (quality_bitmask=2096639).\n"
     ]
    },
    {
     "name": "stdout",
     "output_type": "stream",
     "text": [
      "KIC 4482641\n",
      "KIC 4482738\n"
     ]
    },
    {
     "name": "stderr",
     "output_type": "stream",
     "text": [
      "Warning: 22% (913/4203) of the cadences will be ignored due to the quality mask (quality_bitmask=2096639).\n"
     ]
    },
    {
     "name": "stdout",
     "output_type": "stream",
     "text": [
      "KIC 4483138\n"
     ]
    },
    {
     "name": "stderr",
     "output_type": "stream",
     "text": [
      "Warning: 25% (1057/4203) of the cadences will be ignored due to the quality mask (quality_bitmask=2096639).\n"
     ]
    },
    {
     "name": "stdout",
     "output_type": "stream",
     "text": [
      "KIC 4545570\n",
      "KIC 4545926\n",
      "KIC 4547321\n",
      "KIC 4571004\n",
      "KIC 4571536\n"
     ]
    },
    {
     "name": "stderr",
     "output_type": "stream",
     "text": [
      "Warning: 22% (926/4203) of the cadences will be ignored due to the quality mask (quality_bitmask=2096639).\n",
      "Warning: 25% (1033/4203) of the cadences will be ignored due to the quality mask (quality_bitmask=2096639).\n"
     ]
    },
    {
     "name": "stdout",
     "output_type": "stream",
     "text": [
      "KIC 4571780\n"
     ]
    },
    {
     "name": "stderr",
     "output_type": "stream",
     "text": [
      "Warning: 23% (947/4203) of the cadences will be ignored due to the quality mask (quality_bitmask=2096639).\n"
     ]
    },
    {
     "name": "stdout",
     "output_type": "stream",
     "text": [
      "KIC 4638237\n",
      "KIC 4639291\n",
      "KIC 4659255\n"
     ]
    },
    {
     "name": "stderr",
     "output_type": "stream",
     "text": [
      "Warning: 23% (965/4203) of the cadences will be ignored due to the quality mask (quality_bitmask=2096639).\n"
     ]
    },
    {
     "name": "stdout",
     "output_type": "stream",
     "text": [
      "KIC 4659405\n"
     ]
    },
    {
     "name": "stderr",
     "output_type": "stream",
     "text": [
      "Warning: 22% (941/4203) of the cadences will be ignored due to the quality mask (quality_bitmask=2096639).\n"
     ]
    },
    {
     "name": "stdout",
     "output_type": "stream",
     "text": [
      "KIC 4677282\n",
      "KIC 4677446\n"
     ]
    },
    {
     "name": "stderr",
     "output_type": "stream",
     "text": [
      "Warning: 25% (1055/4203) of the cadences will be ignored due to the quality mask (quality_bitmask=2096639).\n"
     ]
    },
    {
     "name": "stdout",
     "output_type": "stream",
     "text": [
      "KIC 4733344\n"
     ]
    },
    {
     "name": "stderr",
     "output_type": "stream",
     "text": [
      "Warning: 20% (843/4203) of the cadences will be ignored due to the quality mask (quality_bitmask=2096639).\n"
     ]
    },
    {
     "name": "stdout",
     "output_type": "stream",
     "text": [
      "KIC 4831616\n",
      "KIC 4831728\n"
     ]
    },
    {
     "name": "stderr",
     "output_type": "stream",
     "text": [
      "Warning: 22% (914/4203) of the cadences will be ignored due to the quality mask (quality_bitmask=2096639).\n"
     ]
    },
    {
     "name": "stdout",
     "output_type": "stream",
     "text": [
      "KIC 4847411\n"
     ]
    },
    {
     "name": "stderr",
     "output_type": "stream",
     "text": [
      "Warning: 21% (896/4203) of the cadences will be ignored due to the quality mask (quality_bitmask=2096639).\n"
     ]
    },
    {
     "name": "stdout",
     "output_type": "stream",
     "text": [
      "KIC 4847534\n"
     ]
    },
    {
     "name": "stderr",
     "output_type": "stream",
     "text": [
      "Warning: 20% (854/4203) of the cadences will be ignored due to the quality mask (quality_bitmask=2096639).\n"
     ]
    },
    {
     "name": "stdout",
     "output_type": "stream",
     "text": [
      "KIC 4847691\n"
     ]
    },
    {
     "name": "stderr",
     "output_type": "stream",
     "text": [
      "Warning: 20% (857/4203) of the cadences will be ignored due to the quality mask (quality_bitmask=2096639).\n"
     ]
    },
    {
     "name": "stdout",
     "output_type": "stream",
     "text": [
      "KIC 4858525\n",
      "KIC 4912991\n",
      "KIC 4913000\n",
      "KIC 4913852\n",
      "KIC 4913858\n"
     ]
    },
    {
     "name": "stderr",
     "output_type": "stream",
     "text": [
      "/Users/aridamansc/opt/anaconda3/lib/python3.9/site-packages/lightkurve/search.py:423: LightkurveWarning: Warning: 4 files available to download. Only the first file has been downloaded. Please use `download_all()` or specify additional criteria (e.g. quarter, campaign, or sector) to limit your search.\n",
      "  warnings.warn(\n",
      "Warning: 26% (1107/4203) of the cadences will be ignored due to the quality mask (quality_bitmask=2096639).\n"
     ]
    },
    {
     "name": "stdout",
     "output_type": "stream",
     "text": [
      "KIC 4450844\n",
      "KIC 4451755\n"
     ]
    },
    {
     "name": "stderr",
     "output_type": "stream",
     "text": [
      "Warning: 22% (914/4203) of the cadences will be ignored due to the quality mask (quality_bitmask=2096639).\n"
     ]
    },
    {
     "name": "stdout",
     "output_type": "stream",
     "text": [
      "KIC 4471747\n",
      "KIC 4472465\n"
     ]
    },
    {
     "name": "stderr",
     "output_type": "stream",
     "text": [
      "Warning: 20% (843/4203) of the cadences will be ignored due to the quality mask (quality_bitmask=2096639).\n"
     ]
    },
    {
     "name": "stdout",
     "output_type": "stream",
     "text": [
      "KIC 4483235\n"
     ]
    },
    {
     "name": "stderr",
     "output_type": "stream",
     "text": [
      "Warning: 20% (855/4203) of the cadences will be ignored due to the quality mask (quality_bitmask=2096639).\n"
     ]
    },
    {
     "name": "stdout",
     "output_type": "stream",
     "text": [
      "KIC 4483262\n",
      "KIC 4547480\n",
      "KIC 4547603 had an error: Not recognized as a supported data product:\n",
      "/Users/aridamansc/.lightkurve/cache/mastDownload/Kepler/kplr004547603_lc_Q011111111111111111/kplr004547603-2013098041711_lpd-targ.fits.gz\n",
      "This file may be corrupt due to an interrupted download. Please remove it from your disk and try again.\n"
     ]
    },
    {
     "name": "stderr",
     "output_type": "stream",
     "text": [
      "Warning: 29% (1200/4203) of the cadences will be ignored due to the quality mask (quality_bitmask=2096639).\n",
      "/Users/aridamansc/opt/anaconda3/lib/python3.9/site-packages/lightkurve/search.py:418: LightkurveWarning: Cannot download from an empty search result.\n",
      "  warnings.warn(\n",
      "Warning: 21% (889/4203) of the cadences will be ignored due to the quality mask (quality_bitmask=2096639).\n"
     ]
    },
    {
     "name": "stdout",
     "output_type": "stream",
     "text": [
      "KIC 4547830\n",
      "KIC 4571844 had an error: 'NoneType' object has no attribute 'to_lightcurve'\n"
     ]
    },
    {
     "name": "stderr",
     "output_type": "stream",
     "text": [
      "Warning: 23% (967/4203) of the cadences will be ignored due to the quality mask (quality_bitmask=2096639).\n"
     ]
    },
    {
     "name": "stdout",
     "output_type": "stream",
     "text": [
      "KIC 4639868\n"
     ]
    },
    {
     "name": "stderr",
     "output_type": "stream",
     "text": [
      "Warning: 22% (940/4203) of the cadences will be ignored due to the quality mask (quality_bitmask=2096639).\n"
     ]
    },
    {
     "name": "stdout",
     "output_type": "stream",
     "text": [
      "KIC 4640914\n"
     ]
    },
    {
     "name": "stderr",
     "output_type": "stream",
     "text": [
      "Warning: 22% (933/4203) of the cadences will be ignored due to the quality mask (quality_bitmask=2096639).\n"
     ]
    },
    {
     "name": "stdout",
     "output_type": "stream",
     "text": [
      "KIC 4640983\n",
      "KIC 4660027\n",
      "KIC 4661634\n"
     ]
    },
    {
     "name": "stderr",
     "output_type": "stream",
     "text": [
      "Warning: 22% (934/4203) of the cadences will be ignored due to the quality mask (quality_bitmask=2096639).\n"
     ]
    },
    {
     "name": "stdout",
     "output_type": "stream",
     "text": [
      "KIC 4678171\n",
      "KIC 4735826\n"
     ]
    },
    {
     "name": "stderr",
     "output_type": "stream",
     "text": [
      "Warning: 21% (882/4203) of the cadences will be ignored due to the quality mask (quality_bitmask=2096639).\n"
     ]
    },
    {
     "name": "stdout",
     "output_type": "stream",
     "text": [
      "KIC 4736208\n",
      "KIC 4736561\n"
     ]
    },
    {
     "name": "stderr",
     "output_type": "stream",
     "text": [
      "Warning: 22% (941/4203) of the cadences will be ignored due to the quality mask (quality_bitmask=2096639).\n"
     ]
    },
    {
     "name": "stdout",
     "output_type": "stream",
     "text": [
      "KIC 4736562\n"
     ]
    },
    {
     "name": "stderr",
     "output_type": "stream",
     "text": [
      "Warning: 20% (841/4203) of the cadences will be ignored due to the quality mask (quality_bitmask=2096639).\n"
     ]
    },
    {
     "name": "stdout",
     "output_type": "stream",
     "text": [
      "KIC 4756040\n"
     ]
    },
    {
     "name": "stderr",
     "output_type": "stream",
     "text": [
      "Warning: 24% (996/4203) of the cadences will be ignored due to the quality mask (quality_bitmask=2096639).\n"
     ]
    },
    {
     "name": "stdout",
     "output_type": "stream",
     "text": [
      "KIC 4756171\n"
     ]
    },
    {
     "name": "stderr",
     "output_type": "stream",
     "text": [
      "Warning: 21% (896/4203) of the cadences will be ignored due to the quality mask (quality_bitmask=2096639).\n"
     ]
    },
    {
     "name": "stdout",
     "output_type": "stream",
     "text": [
      "KIC 4769799\n",
      "KIC 4769824\n",
      "KIC 4769931\n"
     ]
    },
    {
     "name": "stderr",
     "output_type": "stream",
     "text": [
      "/Users/aridamansc/opt/anaconda3/lib/python3.9/site-packages/lightkurve/search.py:423: LightkurveWarning: Warning: 4 files available to download. Only the first file has been downloaded. Please use `download_all()` or specify additional criteria (e.g. quarter, campaign, or sector) to limit your search.\n",
      "  warnings.warn(\n",
      "Warning: 33% (2505/7680) of the cadences will be ignored due to the quality mask (quality_bitmask=2096639).\n"
     ]
    },
    {
     "name": "stdout",
     "output_type": "stream",
     "text": [
      "KIC 4831769\n"
     ]
    },
    {
     "name": "stderr",
     "output_type": "stream",
     "text": [
      "Warning: 21% (886/4203) of the cadences will be ignored due to the quality mask (quality_bitmask=2096639).\n"
     ]
    },
    {
     "name": "stdout",
     "output_type": "stream",
     "text": [
      "KIC 4832175\n",
      "KIC 4832197\n",
      "KIC 4847782\n"
     ]
    },
    {
     "name": "stderr",
     "output_type": "stream",
     "text": [
      "Warning: 20% (859/4203) of the cadences will be ignored due to the quality mask (quality_bitmask=2096639).\n"
     ]
    },
    {
     "name": "stdout",
     "output_type": "stream",
     "text": [
      "KIC 4847832\n",
      "KIC 4858610\n"
     ]
    },
    {
     "name": "stderr",
     "output_type": "stream",
     "text": [
      "/Users/aridamansc/opt/anaconda3/lib/python3.9/site-packages/lightkurve/search.py:418: LightkurveWarning: Cannot download from an empty search result.\n",
      "  warnings.warn(\n",
      "Warning: 22% (928/4203) of the cadences will be ignored due to the quality mask (quality_bitmask=2096639).\n"
     ]
    },
    {
     "name": "stdout",
     "output_type": "stream",
     "text": [
      "KIC 4859557\n",
      "KIC 4914399 had an error: 'NoneType' object has no attribute 'to_lightcurve'\n",
      "KIC 4914423\n"
     ]
    },
    {
     "name": "stderr",
     "output_type": "stream",
     "text": [
      "Warning: 20% (853/4203) of the cadences will be ignored due to the quality mask (quality_bitmask=2096639).\n"
     ]
    },
    {
     "name": "stdout",
     "output_type": "stream",
     "text": [
      "KIC 4931864\n",
      "KIC 4932348\n",
      "KIC 4932417\n",
      "KIC 4454752\n",
      "KIC 4454934\n"
     ]
    },
    {
     "name": "stderr",
     "output_type": "stream",
     "text": [
      "Warning: 23% (973/4203) of the cadences will be ignored due to the quality mask (quality_bitmask=2096639).\n"
     ]
    },
    {
     "name": "stdout",
     "output_type": "stream",
     "text": [
      "KIC 4472818\n"
     ]
    },
    {
     "name": "stderr",
     "output_type": "stream",
     "text": [
      "Warning: 22% (907/4203) of the cadences will be ignored due to the quality mask (quality_bitmask=2096639).\n"
     ]
    },
    {
     "name": "stdout",
     "output_type": "stream",
     "text": [
      "KIC 4473083\n",
      "KIC 4548011\n"
     ]
    },
    {
     "name": "stderr",
     "output_type": "stream",
     "text": [
      "Warning: 22% (945/4203) of the cadences will be ignored due to the quality mask (quality_bitmask=2096639).\n"
     ]
    },
    {
     "name": "stdout",
     "output_type": "stream",
     "text": [
      "KIC 4574310\n"
     ]
    },
    {
     "name": "stderr",
     "output_type": "stream",
     "text": [
      "Warning: 21% (867/4203) of the cadences will be ignored due to the quality mask (quality_bitmask=2096639).\n"
     ]
    },
    {
     "name": "stdout",
     "output_type": "stream",
     "text": [
      "KIC 4641419\n"
     ]
    },
    {
     "name": "stderr",
     "output_type": "stream",
     "text": [
      "Warning: 20% (843/4203) of the cadences will be ignored due to the quality mask (quality_bitmask=2096639).\n"
     ]
    },
    {
     "name": "stdout",
     "output_type": "stream",
     "text": [
      "KIC 4641555\n",
      "KIC 4661660\n",
      "KIC 4678873\n",
      "KIC 4678875\n",
      "KIC 4678919\n"
     ]
    },
    {
     "name": "stderr",
     "output_type": "stream",
     "text": [
      "Warning: 21% (876/4203) of the cadences will be ignored due to the quality mask (quality_bitmask=2096639).\n"
     ]
    },
    {
     "name": "stdout",
     "output_type": "stream",
     "text": [
      "KIC 4736569\n"
     ]
    },
    {
     "name": "stderr",
     "output_type": "stream",
     "text": [
      "Warning: 21% (879/4203) of the cadences will be ignored due to the quality mask (quality_bitmask=2096639).\n"
     ]
    },
    {
     "name": "stdout",
     "output_type": "stream",
     "text": [
      "KIC 4756243\n",
      "KIC 4770174\n",
      "KIC 4770365\n"
     ]
    },
    {
     "name": "stderr",
     "output_type": "stream",
     "text": [
      "Warning: 27% (1144/4203) of the cadences will be ignored due to the quality mask (quality_bitmask=2096639).\n"
     ]
    },
    {
     "name": "stdout",
     "output_type": "stream",
     "text": [
      "KIC 4832225\n",
      "KIC 4832837\n",
      "KIC 4847843\n",
      "KIC 4848115\n",
      "KIC 4848216\n",
      "KIC 4859559\n"
     ]
    },
    {
     "name": "stderr",
     "output_type": "stream",
     "text": [
      "Warning: 21% (891/4203) of the cadences will be ignored due to the quality mask (quality_bitmask=2096639).\n"
     ]
    },
    {
     "name": "stdout",
     "output_type": "stream",
     "text": [
      "KIC 4860444\n",
      "KIC 4914566\n",
      "KIC 4914709\n"
     ]
    },
    {
     "name": "stderr",
     "output_type": "stream",
     "text": [
      "/Users/aridamansc/opt/anaconda3/lib/python3.9/site-packages/lightkurve/search.py:423: LightkurveWarning: Warning: 4 files available to download. Only the first file has been downloaded. Please use `download_all()` or specify additional criteria (e.g. quarter, campaign, or sector) to limit your search.\n",
      "  warnings.warn(\n"
     ]
    },
    {
     "name": "stdout",
     "output_type": "stream",
     "text": [
      "KIC 4932442\n",
      "KIC 4932657\n",
      "KIC 4455231\n"
     ]
    },
    {
     "name": "stderr",
     "output_type": "stream",
     "text": [
      "Warning: 20% (851/4203) of the cadences will be ignored due to the quality mask (quality_bitmask=2096639).\n"
     ]
    },
    {
     "name": "stdout",
     "output_type": "stream",
     "text": [
      "KIC 4473226\n",
      "KIC 4473450\n",
      "KIC 4483781\n"
     ]
    },
    {
     "name": "stderr",
     "output_type": "stream",
     "text": [
      "Warning: 23% (950/4203) of the cadences will be ignored due to the quality mask (quality_bitmask=2096639).\n"
     ]
    },
    {
     "name": "stdout",
     "output_type": "stream",
     "text": [
      "KIC 4484128\n"
     ]
    },
    {
     "name": "stderr",
     "output_type": "stream",
     "text": [
      "Warning: 21% (903/4203) of the cadences will be ignored due to the quality mask (quality_bitmask=2096639).\n"
     ]
    },
    {
     "name": "stdout",
     "output_type": "stream",
     "text": [
      "KIC 4548098\n",
      "KIC 4576280\n"
     ]
    },
    {
     "name": "stderr",
     "output_type": "stream",
     "text": [
      "Warning: 27% (1134/4203) of the cadences will be ignored due to the quality mask (quality_bitmask=2096639).\n"
     ]
    },
    {
     "name": "stdout",
     "output_type": "stream",
     "text": [
      "KIC 4644604\n",
      "KIC 4644922\n"
     ]
    },
    {
     "name": "stderr",
     "output_type": "stream",
     "text": [
      "/Users/aridamansc/opt/anaconda3/lib/python3.9/site-packages/lightkurve/search.py:423: LightkurveWarning: Warning: 4 files available to download. Only the first file has been downloaded. Please use `download_all()` or specify additional criteria (e.g. quarter, campaign, or sector) to limit your search.\n",
      "  warnings.warn(\n"
     ]
    },
    {
     "name": "stdout",
     "output_type": "stream",
     "text": [
      "KIC 4644952\n",
      "KIC 4662336\n",
      "KIC 4679242\n",
      "KIC 4679314\n"
     ]
    },
    {
     "name": "stderr",
     "output_type": "stream",
     "text": [
      "Warning: 21% (895/4203) of the cadences will be ignored due to the quality mask (quality_bitmask=2096639).\n"
     ]
    },
    {
     "name": "stdout",
     "output_type": "stream",
     "text": [
      "KIC 4736644\n"
     ]
    },
    {
     "name": "stderr",
     "output_type": "stream",
     "text": [
      "Warning: 20% (848/4203) of the cadences will be ignored due to the quality mask (quality_bitmask=2096639).\n"
     ]
    },
    {
     "name": "stdout",
     "output_type": "stream",
     "text": [
      "KIC 4737720\n"
     ]
    },
    {
     "name": "stderr",
     "output_type": "stream",
     "text": [
      "Warning: 21% (893/4203) of the cadences will be ignored due to the quality mask (quality_bitmask=2096639).\n"
     ]
    },
    {
     "name": "stdout",
     "output_type": "stream",
     "text": [
      "KIC 4756725\n",
      "KIC 4756776\n",
      "KIC 4770617\n",
      "KIC 4833050\n"
     ]
    },
    {
     "name": "stderr",
     "output_type": "stream",
     "text": [
      "/Users/aridamansc/opt/anaconda3/lib/python3.9/site-packages/lightkurve/search.py:423: LightkurveWarning: Warning: 4 files available to download. Only the first file has been downloaded. Please use `download_all()` or specify additional criteria (e.g. quarter, campaign, or sector) to limit your search.\n",
      "  warnings.warn(\n"
     ]
    },
    {
     "name": "stdout",
     "output_type": "stream",
     "text": [
      "KIC 4833421\n"
     ]
    },
    {
     "name": "stderr",
     "output_type": "stream",
     "text": [
      "Warning: 22% (938/4203) of the cadences will be ignored due to the quality mask (quality_bitmask=2096639).\n"
     ]
    },
    {
     "name": "stdout",
     "output_type": "stream",
     "text": [
      "KIC 4848321\n",
      "KIC 4848423\n",
      "KIC 4848424\n"
     ]
    },
    {
     "name": "stderr",
     "output_type": "stream",
     "text": [
      "Warning: 21% (868/4203) of the cadences will be ignored due to the quality mask (quality_bitmask=2096639).\n"
     ]
    },
    {
     "name": "stdout",
     "output_type": "stream",
     "text": [
      "KIC 4848532\n",
      "KIC 4860678\n",
      "KIC 4914737\n",
      "KIC 4914771\n",
      "KIC 4932689\n",
      "KIC 4932691\n",
      "KIC 4455763\n",
      "KIC 4456107\n",
      "KIC 4473613\n"
     ]
    },
    {
     "name": "stderr",
     "output_type": "stream",
     "text": [
      "Warning: 21% (879/4203) of the cadences will be ignored due to the quality mask (quality_bitmask=2096639).\n"
     ]
    },
    {
     "name": "stdout",
     "output_type": "stream",
     "text": [
      "KIC 4473933\n",
      "KIC 4484251\n"
     ]
    },
    {
     "name": "stderr",
     "output_type": "stream",
     "text": [
      "Warning: 21% (865/4203) of the cadences will be ignored due to the quality mask (quality_bitmask=2096639).\n"
     ]
    },
    {
     "name": "stdout",
     "output_type": "stream",
     "text": [
      "KIC 4551328\n"
     ]
    },
    {
     "name": "stderr",
     "output_type": "stream",
     "text": [
      "Warning: 22% (923/4203) of the cadences will be ignored due to the quality mask (quality_bitmask=2096639).\n"
     ]
    },
    {
     "name": "stdout",
     "output_type": "stream",
     "text": [
      "KIC 4551663\n"
     ]
    },
    {
     "name": "stderr",
     "output_type": "stream",
     "text": [
      "Warning: 20% (855/4203) of the cadences will be ignored due to the quality mask (quality_bitmask=2096639).\n"
     ]
    },
    {
     "name": "stdout",
     "output_type": "stream",
     "text": [
      "KIC 4577324\n",
      "KIC 4577969\n"
     ]
    },
    {
     "name": "stderr",
     "output_type": "stream",
     "text": [
      "Warning: 21% (885/4203) of the cadences will be ignored due to the quality mask (quality_bitmask=2096639).\n"
     ]
    },
    {
     "name": "stdout",
     "output_type": "stream",
     "text": [
      "KIC 4645174\n"
     ]
    },
    {
     "name": "stderr",
     "output_type": "stream",
     "text": [
      "Warning: 21% (865/4203) of the cadences will be ignored due to the quality mask (quality_bitmask=2096639).\n"
     ]
    },
    {
     "name": "stdout",
     "output_type": "stream",
     "text": [
      "KIC 4663185\n"
     ]
    },
    {
     "name": "stderr",
     "output_type": "stream",
     "text": [
      "Warning: 22% (917/4203) of the cadences will be ignored due to the quality mask (quality_bitmask=2096639).\n"
     ]
    },
    {
     "name": "stdout",
     "output_type": "stream",
     "text": [
      "KIC 4679369\n"
     ]
    },
    {
     "name": "stderr",
     "output_type": "stream",
     "text": [
      "Warning: 21% (883/4203) of the cadences will be ignored due to the quality mask (quality_bitmask=2096639).\n"
     ]
    },
    {
     "name": "stdout",
     "output_type": "stream",
     "text": [
      "KIC 4738155\n",
      "KIC 4739229\n"
     ]
    },
    {
     "name": "stderr",
     "output_type": "stream",
     "text": [
      "Warning: 21% (901/4203) of the cadences will be ignored due to the quality mask (quality_bitmask=2096639).\n"
     ]
    },
    {
     "name": "stdout",
     "output_type": "stream",
     "text": [
      "KIC 4757437\n"
     ]
    },
    {
     "name": "stderr",
     "output_type": "stream",
     "text": [
      "Warning: 22% (913/4203) of the cadences will be ignored due to the quality mask (quality_bitmask=2096639).\n"
     ]
    },
    {
     "name": "stdout",
     "output_type": "stream",
     "text": [
      "KIC 4771707\n"
     ]
    },
    {
     "name": "stderr",
     "output_type": "stream",
     "text": [
      "Warning: 23% (950/4203) of the cadences will be ignored due to the quality mask (quality_bitmask=2096639).\n"
     ]
    },
    {
     "name": "stdout",
     "output_type": "stream",
     "text": [
      "KIC 4773155\n"
     ]
    },
    {
     "name": "stderr",
     "output_type": "stream",
     "text": [
      "Warning: 20% (853/4203) of the cadences will be ignored due to the quality mask (quality_bitmask=2096639).\n"
     ]
    },
    {
     "name": "stdout",
     "output_type": "stream",
     "text": [
      "KIC 4848695\n"
     ]
    },
    {
     "name": "stderr",
     "output_type": "stream",
     "text": [
      "Warning: 20% (855/4203) of the cadences will be ignored due to the quality mask (quality_bitmask=2096639).\n"
     ]
    },
    {
     "name": "stdout",
     "output_type": "stream",
     "text": [
      "KIC 4860932\n",
      "KIC 4861527\n"
     ]
    },
    {
     "name": "stderr",
     "output_type": "stream",
     "text": [
      "Warning: 22% (905/4203) of the cadences will be ignored due to the quality mask (quality_bitmask=2096639).\n"
     ]
    },
    {
     "name": "stdout",
     "output_type": "stream",
     "text": [
      "KIC 4915638\n",
      "KIC 4915765\n",
      "KIC 4916845\n"
     ]
    },
    {
     "name": "stderr",
     "output_type": "stream",
     "text": [
      "Warning: 20% (852/4203) of the cadences will be ignored due to the quality mask (quality_bitmask=2096639).\n"
     ]
    },
    {
     "name": "stdout",
     "output_type": "stream",
     "text": [
      "KIC 4933476\n",
      "KIC 4934893\n"
     ]
    },
    {
     "name": "stderr",
     "output_type": "stream",
     "text": [
      "Warning: 28% (1184/4203) of the cadences will be ignored due to the quality mask (quality_bitmask=2096639).\n"
     ]
    },
    {
     "name": "stdout",
     "output_type": "stream",
     "text": [
      "KIC 4456622\n"
     ]
    },
    {
     "name": "stderr",
     "output_type": "stream",
     "text": [
      "Warning: 20% (856/4203) of the cadences will be ignored due to the quality mask (quality_bitmask=2096639).\n"
     ]
    },
    {
     "name": "stdout",
     "output_type": "stream",
     "text": [
      "KIC 4456940\n",
      "KIC 4474407\n"
     ]
    },
    {
     "name": "stderr",
     "output_type": "stream",
     "text": [
      "Warning: 21% (886/4203) of the cadences will be ignored due to the quality mask (quality_bitmask=2096639).\n"
     ]
    },
    {
     "name": "stdout",
     "output_type": "stream",
     "text": [
      "KIC 4474462\n"
     ]
    },
    {
     "name": "stderr",
     "output_type": "stream",
     "text": [
      "Warning: 21% (887/4203) of the cadences will be ignored due to the quality mask (quality_bitmask=2096639).\n"
     ]
    },
    {
     "name": "stdout",
     "output_type": "stream",
     "text": [
      "KIC 4484271\n"
     ]
    },
    {
     "name": "stderr",
     "output_type": "stream",
     "text": [
      "/Users/aridamansc/opt/anaconda3/lib/python3.9/site-packages/lightkurve/search.py:418: LightkurveWarning: Cannot download from an empty search result.\n",
      "  warnings.warn(\n",
      "Warning: 34% (1445/4203) of the cadences will be ignored due to the quality mask (quality_bitmask=2096639).\n"
     ]
    },
    {
     "name": "stdout",
     "output_type": "stream",
     "text": [
      "KIC 4552395\n",
      "KIC 4552514 had an error: 'NoneType' object has no attribute 'to_lightcurve'\n"
     ]
    },
    {
     "name": "stderr",
     "output_type": "stream",
     "text": [
      "Warning: 21% (866/4203) of the cadences will be ignored due to the quality mask (quality_bitmask=2096639).\n"
     ]
    },
    {
     "name": "stdout",
     "output_type": "stream",
     "text": [
      "KIC 4578644\n",
      "KIC 4579313\n"
     ]
    },
    {
     "name": "stderr",
     "output_type": "stream",
     "text": [
      "Warning: 21% (864/4203) of the cadences will be ignored due to the quality mask (quality_bitmask=2096639).\n"
     ]
    },
    {
     "name": "stdout",
     "output_type": "stream",
     "text": [
      "KIC 4645823\n",
      "KIC 4645833\n",
      "KIC 4664046\n"
     ]
    },
    {
     "name": "stderr",
     "output_type": "stream",
     "text": [
      "Warning: 22% (905/4203) of the cadences will be ignored due to the quality mask (quality_bitmask=2096639).\n"
     ]
    },
    {
     "name": "stdout",
     "output_type": "stream",
     "text": [
      "KIC 4664466\n",
      "KIC 4679528\n"
     ]
    },
    {
     "name": "stderr",
     "output_type": "stream",
     "text": [
      "/Users/aridamansc/opt/anaconda3/lib/python3.9/site-packages/lightkurve/search.py:418: LightkurveWarning: Cannot download from an empty search result.\n",
      "  warnings.warn(\n",
      "Warning: 21% (887/4203) of the cadences will be ignored due to the quality mask (quality_bitmask=2096639).\n"
     ]
    },
    {
     "name": "stdout",
     "output_type": "stream",
     "text": [
      "KIC 4739565\n",
      "KIC 4739791 had an error: 'NoneType' object has no attribute 'to_lightcurve'\n",
      "KIC 4757997\n",
      "KIC 4773392\n"
     ]
    },
    {
     "name": "stderr",
     "output_type": "stream",
     "text": [
      "Warning: 20% (843/4203) of the cadences will be ignored due to the quality mask (quality_bitmask=2096639).\n"
     ]
    },
    {
     "name": "stdout",
     "output_type": "stream",
     "text": [
      "KIC 4839411\n",
      "KIC 4850046\n",
      "KIC 4850661\n",
      "KIC 4850677\n"
     ]
    },
    {
     "name": "stderr",
     "output_type": "stream",
     "text": [
      "Warning: 21% (887/4203) of the cadences will be ignored due to the quality mask (quality_bitmask=2096639).\n"
     ]
    },
    {
     "name": "stdout",
     "output_type": "stream",
     "text": [
      "KIC 4850763\n",
      "KIC 4861736\n"
     ]
    },
    {
     "name": "stderr",
     "output_type": "stream",
     "text": [
      "Warning: 20% (860/4203) of the cadences will be ignored due to the quality mask (quality_bitmask=2096639).\n"
     ]
    },
    {
     "name": "stdout",
     "output_type": "stream",
     "text": [
      "KIC 4861784\n",
      "KIC 4917014\n"
     ]
    },
    {
     "name": "stderr",
     "output_type": "stream",
     "text": [
      "Warning: 25% (1047/4203) of the cadences will be ignored due to the quality mask (quality_bitmask=2096639).\n"
     ]
    },
    {
     "name": "stdout",
     "output_type": "stream",
     "text": [
      "KIC 4917596\n",
      "KIC 4918303\n",
      "KIC 4935172\n",
      "KIC 4935198\n"
     ]
    },
    {
     "name": "stderr",
     "output_type": "stream",
     "text": [
      "Warning: 22% (914/4203) of the cadences will be ignored due to the quality mask (quality_bitmask=2096639).\n"
     ]
    },
    {
     "name": "stdout",
     "output_type": "stream",
     "text": [
      "KIC 4458082\n",
      "KIC 4474484\n",
      "KIC 4474637\n"
     ]
    },
    {
     "name": "stderr",
     "output_type": "stream",
     "text": [
      "Warning: 21% (869/4203) of the cadences will be ignored due to the quality mask (quality_bitmask=2096639).\n"
     ]
    },
    {
     "name": "stdout",
     "output_type": "stream",
     "text": [
      "KIC 4474645\n"
     ]
    },
    {
     "name": "stderr",
     "output_type": "stream",
     "text": [
      "Warning: 21% (863/4203) of the cadences will be ignored due to the quality mask (quality_bitmask=2096639).\n"
     ]
    },
    {
     "name": "stdout",
     "output_type": "stream",
     "text": [
      "KIC 4484312\n",
      "KIC 4484336\n"
     ]
    },
    {
     "name": "stderr",
     "output_type": "stream",
     "text": [
      "Warning: 20% (847/4203) of the cadences will be ignored due to the quality mask (quality_bitmask=2096639).\n"
     ]
    },
    {
     "name": "stdout",
     "output_type": "stream",
     "text": [
      "KIC 4552729\n"
     ]
    },
    {
     "name": "stderr",
     "output_type": "stream",
     "text": [
      "Warning: 22% (939/4203) of the cadences will be ignored due to the quality mask (quality_bitmask=2096639).\n"
     ]
    },
    {
     "name": "stdout",
     "output_type": "stream",
     "text": [
      "KIC 4555642\n"
     ]
    },
    {
     "name": "stderr",
     "output_type": "stream",
     "text": [
      "Warning: 21% (874/4203) of the cadences will be ignored due to the quality mask (quality_bitmask=2096639).\n"
     ]
    },
    {
     "name": "stdout",
     "output_type": "stream",
     "text": [
      "KIC 4555954\n",
      "KIC 4579321\n"
     ]
    },
    {
     "name": "stderr",
     "output_type": "stream",
     "text": [
      "Warning: 20% (842/4203) of the cadences will be ignored due to the quality mask (quality_bitmask=2096639).\n"
     ]
    },
    {
     "name": "stdout",
     "output_type": "stream",
     "text": [
      "KIC 4579598\n",
      "KIC 4050017\n"
     ]
    },
    {
     "name": "stderr",
     "output_type": "stream",
     "text": [
      "Warning: 25% (1070/4203) of the cadences will be ignored due to the quality mask (quality_bitmask=2096639).\n"
     ]
    },
    {
     "name": "stdout",
     "output_type": "stream",
     "text": [
      "KIC 4054968\n",
      "KIC 4073730\n",
      "KIC 4136253\n",
      "KIC 4136285 had an error: 'NoneType' object has no attribute 'to_lightcurve'\n"
     ]
    },
    {
     "name": "stderr",
     "output_type": "stream",
     "text": [
      "/Users/aridamansc/opt/anaconda3/lib/python3.9/site-packages/lightkurve/search.py:418: LightkurveWarning: Cannot download from an empty search result.\n",
      "  warnings.warn(\n"
     ]
    },
    {
     "name": "stdout",
     "output_type": "stream",
     "text": [
      "KIC 4150539\n"
     ]
    },
    {
     "name": "stderr",
     "output_type": "stream",
     "text": [
      "Warning: 37% (1572/4203) of the cadences will be ignored due to the quality mask (quality_bitmask=2096639).\n",
      "Warning: 20% (848/4203) of the cadences will be ignored due to the quality mask (quality_bitmask=2096639).\n"
     ]
    },
    {
     "name": "stdout",
     "output_type": "stream",
     "text": [
      "KIC 4150611\n"
     ]
    },
    {
     "name": "stderr",
     "output_type": "stream",
     "text": [
      "Warning: 22% (942/4203) of the cadences will be ignored due to the quality mask (quality_bitmask=2096639).\n"
     ]
    },
    {
     "name": "stdout",
     "output_type": "stream",
     "text": [
      "KIC 4171302\n"
     ]
    },
    {
     "name": "stderr",
     "output_type": "stream",
     "text": [
      "Warning: 29% (1228/4203) of the cadences will be ignored due to the quality mask (quality_bitmask=2096639).\n"
     ]
    },
    {
     "name": "stdout",
     "output_type": "stream",
     "text": [
      "KIC 4171441\n"
     ]
    },
    {
     "name": "stderr",
     "output_type": "stream",
     "text": [
      "Warning: 26% (1081/4203) of the cadences will be ignored due to the quality mask (quality_bitmask=2096639).\n"
     ]
    },
    {
     "name": "stdout",
     "output_type": "stream",
     "text": [
      "KIC 4243984\n"
     ]
    },
    {
     "name": "stderr",
     "output_type": "stream",
     "text": [
      "Warning: 22% (929/4203) of the cadences will be ignored due to the quality mask (quality_bitmask=2096639).\n"
     ]
    },
    {
     "name": "stdout",
     "output_type": "stream",
     "text": [
      "KIC 4244642\n"
     ]
    },
    {
     "name": "stderr",
     "output_type": "stream",
     "text": [
      "Warning: 21% (869/4203) of the cadences will be ignored due to the quality mask (quality_bitmask=2096639).\n"
     ]
    },
    {
     "name": "stdout",
     "output_type": "stream",
     "text": [
      "KIC 4269337\n",
      "KIC 4372282\n",
      "KIC 4383955\n",
      "KIC 3846515 had an error: 'NoneType' object has no attribute 'to_lightcurve'\n"
     ]
    },
    {
     "name": "stderr",
     "output_type": "stream",
     "text": [
      "/Users/aridamansc/opt/anaconda3/lib/python3.9/site-packages/lightkurve/search.py:418: LightkurveWarning: Cannot download from an empty search result.\n",
      "  warnings.warn(\n"
     ]
    },
    {
     "name": "stdout",
     "output_type": "stream",
     "text": [
      "KIC 3847138\n"
     ]
    },
    {
     "name": "stderr",
     "output_type": "stream",
     "text": [
      "Warning: 21% (871/4203) of the cadences will be ignored due to the quality mask (quality_bitmask=2096639).\n"
     ]
    },
    {
     "name": "stdout",
     "output_type": "stream",
     "text": [
      "KIC 3847563\n"
     ]
    },
    {
     "name": "stderr",
     "output_type": "stream",
     "text": [
      "Warning: 20% (844/4203) of the cadences will be ignored due to the quality mask (quality_bitmask=2096639).\n"
     ]
    },
    {
     "name": "stdout",
     "output_type": "stream",
     "text": [
      "KIC 3847660\n",
      "KIC 3858804\n",
      "KIC 3858824\n",
      "KIC 3858851\n"
     ]
    },
    {
     "name": "stderr",
     "output_type": "stream",
     "text": [
      "Warning: 24% (1019/4203) of the cadences will be ignored due to the quality mask (quality_bitmask=2096639).\n"
     ]
    },
    {
     "name": "stdout",
     "output_type": "stream",
     "text": [
      "KIC 3867256\n",
      "KIC 3945791\n",
      "KIC 3964109\n"
     ]
    },
    {
     "name": "stderr",
     "output_type": "stream",
     "text": [
      "Warning: 22% (933/4203) of the cadences will be ignored due to the quality mask (quality_bitmask=2096639).\n"
     ]
    },
    {
     "name": "stdout",
     "output_type": "stream",
     "text": [
      "KIC 3964128\n",
      "KIC 3971315\n"
     ]
    },
    {
     "name": "stderr",
     "output_type": "stream",
     "text": [
      "Warning: 32% (1329/4203) of the cadences will be ignored due to the quality mask (quality_bitmask=2096639).\n"
     ]
    },
    {
     "name": "stdout",
     "output_type": "stream",
     "text": [
      "KIC 4055092\n"
     ]
    },
    {
     "name": "stderr",
     "output_type": "stream",
     "text": [
      "Warning: 30% (1245/4203) of the cadences will be ignored due to the quality mask (quality_bitmask=2096639).\n"
     ]
    },
    {
     "name": "stdout",
     "output_type": "stream",
     "text": [
      "KIC 4074294\n",
      "KIC 4074388\n",
      "KIC 4136314\n",
      "KIC 4136396\n",
      "KIC 4172013\n",
      "KIC 4172746\n"
     ]
    },
    {
     "name": "stderr",
     "output_type": "stream",
     "text": [
      "Warning: 20% (841/4203) of the cadences will be ignored due to the quality mask (quality_bitmask=2096639).\n"
     ]
    },
    {
     "name": "stdout",
     "output_type": "stream",
     "text": [
      "KIC 4172805\n"
     ]
    },
    {
     "name": "stderr",
     "output_type": "stream",
     "text": [
      "Warning: 28% (1197/4203) of the cadences will be ignored due to the quality mask (quality_bitmask=2096639).\n"
     ]
    },
    {
     "name": "stdout",
     "output_type": "stream",
     "text": [
      "KIC 4173026\n",
      "KIC 4245701\n",
      "KIC 4270253\n",
      "KIC 4270565\n"
     ]
    },
    {
     "name": "stderr",
     "output_type": "stream",
     "text": [
      "Warning: 21% (903/4203) of the cadences will be ignored due to the quality mask (quality_bitmask=2096639).\n"
     ]
    },
    {
     "name": "stdout",
     "output_type": "stream",
     "text": [
      "KIC 4270799\n"
     ]
    },
    {
     "name": "stderr",
     "output_type": "stream",
     "text": [
      "Warning: 28% (1173/4203) of the cadences will be ignored due to the quality mask (quality_bitmask=2096639).\n"
     ]
    },
    {
     "name": "stdout",
     "output_type": "stream",
     "text": [
      "KIC 4285087\n",
      "KIC 4285107\n"
     ]
    },
    {
     "name": "stderr",
     "output_type": "stream",
     "text": [
      "Warning: 21% (888/4203) of the cadences will be ignored due to the quality mask (quality_bitmask=2096639).\n"
     ]
    },
    {
     "name": "stdout",
     "output_type": "stream",
     "text": [
      "KIC 4285359\n",
      "KIC 4372410\n"
     ]
    },
    {
     "name": "stderr",
     "output_type": "stream",
     "text": [
      "Warning: 20% (860/4203) of the cadences will be ignored due to the quality mask (quality_bitmask=2096639).\n"
     ]
    },
    {
     "name": "stdout",
     "output_type": "stream",
     "text": [
      "KIC 3765771\n",
      "KIC 3765917\n",
      "KIC 3847678\n",
      "KIC 3847708\n",
      "KIC 3858879\n"
     ]
    },
    {
     "name": "stderr",
     "output_type": "stream",
     "text": [
      "Warning: 23% (984/4203) of the cadences will be ignored due to the quality mask (quality_bitmask=2096639).\n"
     ]
    },
    {
     "name": "stdout",
     "output_type": "stream",
     "text": [
      "KIC 3858884\n"
     ]
    },
    {
     "name": "stderr",
     "output_type": "stream",
     "text": [
      "Warning: 20% (844/4203) of the cadences will be ignored due to the quality mask (quality_bitmask=2096639).\n"
     ]
    },
    {
     "name": "stdout",
     "output_type": "stream",
     "text": [
      "KIC 3867593\n",
      "KIC 3867615\n"
     ]
    },
    {
     "name": "stderr",
     "output_type": "stream",
     "text": [
      "Warning: 23% (950/4203) of the cadences will be ignored due to the quality mask (quality_bitmask=2096639).\n"
     ]
    },
    {
     "name": "stdout",
     "output_type": "stream",
     "text": [
      "KIC 3945802\n"
     ]
    },
    {
     "name": "stderr",
     "output_type": "stream",
     "text": [
      "Warning: 21% (878/4203) of the cadences will be ignored due to the quality mask (quality_bitmask=2096639).\n"
     ]
    },
    {
     "name": "stdout",
     "output_type": "stream",
     "text": [
      "KIC 3945818\n",
      "KIC 3964318\n"
     ]
    },
    {
     "name": "stderr",
     "output_type": "stream",
     "text": [
      "Warning: 23% (965/4203) of the cadences will be ignored due to the quality mask (quality_bitmask=2096639).\n"
     ]
    },
    {
     "name": "stdout",
     "output_type": "stream",
     "text": [
      "KIC 3964545\n"
     ]
    },
    {
     "name": "stderr",
     "output_type": "stream",
     "text": [
      "Warning: 21% (898/4203) of the cadences will be ignored due to the quality mask (quality_bitmask=2096639).\n"
     ]
    },
    {
     "name": "stdout",
     "output_type": "stream",
     "text": [
      "KIC 3972123\n"
     ]
    },
    {
     "name": "stderr",
     "output_type": "stream",
     "text": [
      "Warning: 22% (904/4203) of the cadences will be ignored due to the quality mask (quality_bitmask=2096639).\n"
     ]
    },
    {
     "name": "stdout",
     "output_type": "stream",
     "text": [
      "KIC 3972391\n",
      "KIC 4055304 had an error: Not recognized as a supported data product:\n",
      "/Users/aridamansc/.lightkurve/cache/mastDownload/Kepler/kplr004055304_lc_Q011111111111111111/kplr004055304-2013098041711_lpd-targ.fits.gz\n",
      "This file may be corrupt due to an interrupted download. Please remove it from your disk and try again.\n"
     ]
    },
    {
     "name": "stderr",
     "output_type": "stream",
     "text": [
      "Warning: 26% (1107/4203) of the cadences will be ignored due to the quality mask (quality_bitmask=2096639).\n"
     ]
    },
    {
     "name": "stdout",
     "output_type": "stream",
     "text": [
      "KIC 4055765\n"
     ]
    },
    {
     "name": "stderr",
     "output_type": "stream",
     "text": [
      "Warning: 24% (1029/4203) of the cadences will be ignored due to the quality mask (quality_bitmask=2096639).\n"
     ]
    },
    {
     "name": "stdout",
     "output_type": "stream",
     "text": [
      "KIC 4074736\n",
      "KIC 4136466\n",
      "KIC 4136749\n",
      "KIC 4137903\n",
      "KIC 4150624\n",
      "KIC 4150701\n",
      "KIC 4150703\n"
     ]
    },
    {
     "name": "stderr",
     "output_type": "stream",
     "text": [
      "Warning: 25% (1062/4203) of the cadences will be ignored due to the quality mask (quality_bitmask=2096639).\n"
     ]
    },
    {
     "name": "stdout",
     "output_type": "stream",
     "text": [
      "KIC 4174472\n",
      "KIC 4245861\n"
     ]
    },
    {
     "name": "stderr",
     "output_type": "stream",
     "text": [
      "Warning: 20% (852/4203) of the cadences will be ignored due to the quality mask (quality_bitmask=2096639).\n"
     ]
    },
    {
     "name": "stdout",
     "output_type": "stream",
     "text": [
      "KIC 4245933\n"
     ]
    },
    {
     "name": "stderr",
     "output_type": "stream",
     "text": [
      "Warning: 20% (849/4203) of the cadences will be ignored due to the quality mask (quality_bitmask=2096639).\n"
     ]
    },
    {
     "name": "stdout",
     "output_type": "stream",
     "text": [
      "KIC 4247092\n",
      "KIC 4270987\n",
      "KIC 4346178\n",
      "KIC 4346875\n",
      "KIC 4372765\n"
     ]
    },
    {
     "name": "stderr",
     "output_type": "stream",
     "text": [
      "Warning: 20% (858/4203) of the cadences will be ignored due to the quality mask (quality_bitmask=2096639).\n"
     ]
    },
    {
     "name": "stdout",
     "output_type": "stream",
     "text": [
      "KIC 4372768\n",
      "KIC 3766353\n",
      "KIC 3847907\n",
      "KIC 3848275\n",
      "KIC 3858917\n"
     ]
    },
    {
     "name": "stderr",
     "output_type": "stream",
     "text": [
      "Warning: 21% (864/4203) of the cadences will be ignored due to the quality mask (quality_bitmask=2096639).\n"
     ]
    },
    {
     "name": "stdout",
     "output_type": "stream",
     "text": [
      "KIC 3867794\n",
      "KIC 3868284\n"
     ]
    },
    {
     "name": "stderr",
     "output_type": "stream",
     "text": [
      "Warning: 31% (1312/4203) of the cadences will be ignored due to the quality mask (quality_bitmask=2096639).\n"
     ]
    },
    {
     "name": "stdout",
     "output_type": "stream",
     "text": [
      "KIC 3945892\n"
     ]
    },
    {
     "name": "stderr",
     "output_type": "stream",
     "text": [
      "Warning: 20% (858/4203) of the cadences will be ignored due to the quality mask (quality_bitmask=2096639).\n"
     ]
    },
    {
     "name": "stdout",
     "output_type": "stream",
     "text": [
      "KIC 3964562\n",
      "KIC 3965201\n"
     ]
    },
    {
     "name": "stderr",
     "output_type": "stream",
     "text": [
      "Warning: 21% (886/4203) of the cadences will be ignored due to the quality mask (quality_bitmask=2096639).\n"
     ]
    },
    {
     "name": "stdout",
     "output_type": "stream",
     "text": [
      "KIC 3973504\n",
      "KIC 3973549\n",
      "KIC 4055774\n"
     ]
    },
    {
     "name": "stderr",
     "output_type": "stream",
     "text": [
      "Warning: 20% (853/4203) of the cadences will be ignored due to the quality mask (quality_bitmask=2096639).\n"
     ]
    },
    {
     "name": "stdout",
     "output_type": "stream",
     "text": [
      "KIC 4056616\n",
      "KIC 4058169\n",
      "KIC 4075015\n",
      "KIC 4075064\n"
     ]
    },
    {
     "name": "stderr",
     "output_type": "stream",
     "text": [
      "Warning: 20% (844/4203) of the cadences will be ignored due to the quality mask (quality_bitmask=2096639).\n"
     ]
    },
    {
     "name": "stdout",
     "output_type": "stream",
     "text": [
      "KIC 4075067\n"
     ]
    },
    {
     "name": "stderr",
     "output_type": "stream",
     "text": [
      "Warning: 22% (919/4203) of the cadences will be ignored due to the quality mask (quality_bitmask=2096639).\n"
     ]
    },
    {
     "name": "stdout",
     "output_type": "stream",
     "text": [
      "KIC 4138008\n"
     ]
    },
    {
     "name": "stderr",
     "output_type": "stream",
     "text": [
      "Warning: 20% (857/4203) of the cadences will be ignored due to the quality mask (quality_bitmask=2096639).\n"
     ]
    },
    {
     "name": "stdout",
     "output_type": "stream",
     "text": [
      "KIC 4150804\n",
      "KIC 4155328\n"
     ]
    },
    {
     "name": "stderr",
     "output_type": "stream",
     "text": [
      "Warning: 22% (926/4203) of the cadences will be ignored due to the quality mask (quality_bitmask=2096639).\n"
     ]
    },
    {
     "name": "stdout",
     "output_type": "stream",
     "text": [
      "KIC 4156254\n",
      "KIC 4174754\n"
     ]
    },
    {
     "name": "stderr",
     "output_type": "stream",
     "text": [
      "Warning: 23% (962/4203) of the cadences will be ignored due to the quality mask (quality_bitmask=2096639).\n"
     ]
    },
    {
     "name": "stdout",
     "output_type": "stream",
     "text": [
      "KIC 4175105\n",
      "KIC 4247791\n"
     ]
    },
    {
     "name": "stderr",
     "output_type": "stream",
     "text": [
      "Warning: 21% (903/4203) of the cadences will be ignored due to the quality mask (quality_bitmask=2096639).\n"
     ]
    },
    {
     "name": "stdout",
     "output_type": "stream",
     "text": [
      "KIC 4247807\n",
      "KIC 4247811\n",
      "KIC 4271063\n",
      "KIC 4271474\n"
     ]
    },
    {
     "name": "stderr",
     "output_type": "stream",
     "text": [
      "Warning: 33% (1373/4203) of the cadences will be ignored due to the quality mask (quality_bitmask=2096639).\n",
      "Warning: 20% (851/4203) of the cadences will be ignored due to the quality mask (quality_bitmask=2096639).\n"
     ]
    },
    {
     "name": "stdout",
     "output_type": "stream",
     "text": [
      "KIC 4373195\n",
      "KIC 4374339\n",
      "KIC 4374610\n"
     ]
    },
    {
     "name": "stderr",
     "output_type": "stream",
     "text": [
      "Warning: 25% (1051/4203) of the cadences will be ignored due to the quality mask (quality_bitmask=2096639).\n"
     ]
    },
    {
     "name": "stdout",
     "output_type": "stream",
     "text": [
      "KIC 3830820\n",
      "KIC 3831053\n",
      "KIC 3848665\n",
      "KIC 3848919\n"
     ]
    },
    {
     "name": "stderr",
     "output_type": "stream",
     "text": [
      "Warning: 24% (999/4203) of the cadences will be ignored due to the quality mask (quality_bitmask=2096639).\n"
     ]
    },
    {
     "name": "stdout",
     "output_type": "stream",
     "text": [
      "KIC 3848948\n",
      "KIC 3848966\n"
     ]
    },
    {
     "name": "stderr",
     "output_type": "stream",
     "text": [
      "Warning: 21% (870/4203) of the cadences will be ignored due to the quality mask (quality_bitmask=2096639).\n"
     ]
    },
    {
     "name": "stdout",
     "output_type": "stream",
     "text": [
      "KIC 3858919\n",
      "KIC 3858926\n"
     ]
    },
    {
     "name": "stderr",
     "output_type": "stream",
     "text": [
      "Warning: 26% (1096/4203) of the cadences will be ignored due to the quality mask (quality_bitmask=2096639).\n",
      "Warning: 20% (856/4203) of the cadences will be ignored due to the quality mask (quality_bitmask=2096639).\n"
     ]
    },
    {
     "name": "stdout",
     "output_type": "stream",
     "text": [
      "KIC 3868420\n"
     ]
    },
    {
     "name": "stderr",
     "output_type": "stream",
     "text": [
      "Warning: 22% (922/4203) of the cadences will be ignored due to the quality mask (quality_bitmask=2096639).\n"
     ]
    },
    {
     "name": "stdout",
     "output_type": "stream",
     "text": [
      "KIC 3946023\n",
      "KIC 3951334\n"
     ]
    },
    {
     "name": "stderr",
     "output_type": "stream",
     "text": [
      "Warning: 20% (857/4203) of the cadences will be ignored due to the quality mask (quality_bitmask=2096639).\n"
     ]
    },
    {
     "name": "stdout",
     "output_type": "stream",
     "text": [
      "KIC 3965242\n"
     ]
    },
    {
     "name": "stderr",
     "output_type": "stream",
     "text": [
      "Warning: 22% (928/4203) of the cadences will be ignored due to the quality mask (quality_bitmask=2096639).\n"
     ]
    },
    {
     "name": "stdout",
     "output_type": "stream",
     "text": [
      "KIC 3974401\n",
      "KIC 3975085\n"
     ]
    },
    {
     "name": "stderr",
     "output_type": "stream",
     "text": [
      "Warning: 22% (922/4203) of the cadences will be ignored due to the quality mask (quality_bitmask=2096639).\n"
     ]
    },
    {
     "name": "stdout",
     "output_type": "stream",
     "text": [
      "KIC 4058206\n"
     ]
    },
    {
     "name": "stderr",
     "output_type": "stream",
     "text": [
      "Warning: 21% (892/4203) of the cadences will be ignored due to the quality mask (quality_bitmask=2096639).\n"
     ]
    },
    {
     "name": "stdout",
     "output_type": "stream",
     "text": [
      "KIC 4138848\n"
     ]
    },
    {
     "name": "stderr",
     "output_type": "stream",
     "text": [
      "Warning: 26% (1074/4203) of the cadences will be ignored due to the quality mask (quality_bitmask=2096639).\n"
     ]
    },
    {
     "name": "stdout",
     "output_type": "stream",
     "text": [
      "KIC 4138951\n",
      "KIC 4139254\n",
      "KIC 4156309\n"
     ]
    },
    {
     "name": "stderr",
     "output_type": "stream",
     "text": [
      "/Users/aridamansc/opt/anaconda3/lib/python3.9/site-packages/lightkurve/search.py:423: LightkurveWarning: Warning: 4 files available to download. Only the first file has been downloaded. Please use `download_all()` or specify additional criteria (e.g. quarter, campaign, or sector) to limit your search.\n",
      "  warnings.warn(\n"
     ]
    },
    {
     "name": "stdout",
     "output_type": "stream",
     "text": [
      "KIC 4157325\n"
     ]
    },
    {
     "name": "stderr",
     "output_type": "stream",
     "text": [
      "Warning: 24% (1009/4203) of the cadences will be ignored due to the quality mask (quality_bitmask=2096639).\n"
     ]
    },
    {
     "name": "stdout",
     "output_type": "stream",
     "text": [
      "KIC 4175630\n",
      "KIC 4176455\n"
     ]
    },
    {
     "name": "stderr",
     "output_type": "stream",
     "text": [
      "/Users/aridamansc/opt/anaconda3/lib/python3.9/site-packages/lightkurve/search.py:423: LightkurveWarning: Warning: 4 files available to download. Only the first file has been downloaded. Please use `download_all()` or specify additional criteria (e.g. quarter, campaign, or sector) to limit your search.\n",
      "  warnings.warn(\n"
     ]
    },
    {
     "name": "stdout",
     "output_type": "stream",
     "text": [
      "KIC 4247991\n",
      "KIC 4248120\n",
      "KIC 4249611\n"
     ]
    },
    {
     "name": "stderr",
     "output_type": "stream",
     "text": [
      "/Users/aridamansc/opt/anaconda3/lib/python3.9/site-packages/lightkurve/search.py:423: LightkurveWarning: Warning: 4 files available to download. Only the first file has been downloaded. Please use `download_all()` or specify additional criteria (e.g. quarter, campaign, or sector) to limit your search.\n",
      "  warnings.warn(\n",
      "Warning: 21% (894/4203) of the cadences will be ignored due to the quality mask (quality_bitmask=2096639).\n"
     ]
    },
    {
     "name": "stdout",
     "output_type": "stream",
     "text": [
      "KIC 4249725\n"
     ]
    },
    {
     "name": "stderr",
     "output_type": "stream",
     "text": [
      "Warning: 22% (922/4203) of the cadences will be ignored due to the quality mask (quality_bitmask=2096639).\n"
     ]
    },
    {
     "name": "stdout",
     "output_type": "stream",
     "text": [
      "KIC 4271930\n"
     ]
    },
    {
     "name": "stderr",
     "output_type": "stream",
     "text": [
      "Warning: 20% (843/4203) of the cadences will be ignored due to the quality mask (quality_bitmask=2096639).\n"
     ]
    },
    {
     "name": "stdout",
     "output_type": "stream",
     "text": [
      "KIC 4273425\n",
      "KIC 4349442\n"
     ]
    },
    {
     "name": "stderr",
     "output_type": "stream",
     "text": [
      "/Users/aridamansc/opt/anaconda3/lib/python3.9/site-packages/lightkurve/search.py:423: LightkurveWarning: Warning: 4 files available to download. Only the first file has been downloaded. Please use `download_all()` or specify additional criteria (e.g. quarter, campaign, or sector) to limit your search.\n",
      "  warnings.warn(\n",
      "Warning: 22% (933/4203) of the cadences will be ignored due to the quality mask (quality_bitmask=2096639).\n"
     ]
    },
    {
     "name": "stdout",
     "output_type": "stream",
     "text": [
      "KIC 4349452\n"
     ]
    },
    {
     "name": "stderr",
     "output_type": "stream",
     "text": [
      "Warning: 30% (1247/4203) of the cadences will be ignored due to the quality mask (quality_bitmask=2096639).\n"
     ]
    },
    {
     "name": "stdout",
     "output_type": "stream",
     "text": [
      "KIC 4374812\n"
     ]
    },
    {
     "name": "stderr",
     "output_type": "stream",
     "text": [
      "Warning: 24% (1029/4203) of the cadences will be ignored due to the quality mask (quality_bitmask=2096639).\n"
     ]
    },
    {
     "name": "stdout",
     "output_type": "stream",
     "text": [
      "KIC 3831523\n",
      "KIC 3831746\n",
      "KIC 3848972\n",
      "KIC 3849014\n"
     ]
    },
    {
     "name": "stderr",
     "output_type": "stream",
     "text": [
      "Warning: 20% (850/4203) of the cadences will be ignored due to the quality mask (quality_bitmask=2096639).\n"
     ]
    },
    {
     "name": "stdout",
     "output_type": "stream",
     "text": [
      "KIC 3849155\n",
      "KIC 3858949\n"
     ]
    },
    {
     "name": "stderr",
     "output_type": "stream",
     "text": [
      "Warning: 21% (894/4203) of the cadences will be ignored due to the quality mask (quality_bitmask=2096639).\n"
     ]
    },
    {
     "name": "stdout",
     "output_type": "stream",
     "text": [
      "KIC 3858988\n"
     ]
    },
    {
     "name": "stderr",
     "output_type": "stream",
     "text": [
      "Warning: 21% (877/4203) of the cadences will be ignored due to the quality mask (quality_bitmask=2096639).\n"
     ]
    },
    {
     "name": "stdout",
     "output_type": "stream",
     "text": [
      "KIC 3868442\n"
     ]
    },
    {
     "name": "stderr",
     "output_type": "stream",
     "text": [
      "Warning: 23% (968/4203) of the cadences will be ignored due to the quality mask (quality_bitmask=2096639).\n"
     ]
    },
    {
     "name": "stdout",
     "output_type": "stream",
     "text": [
      "KIC 3868759\n",
      "KIC 3869014\n",
      "KIC 3952431\n",
      "KIC 3965879\n",
      "KIC 4035640\n"
     ]
    },
    {
     "name": "stderr",
     "output_type": "stream",
     "text": [
      "Warning: 24% (1024/4203) of the cadences will be ignored due to the quality mask (quality_bitmask=2096639).\n"
     ]
    },
    {
     "name": "stdout",
     "output_type": "stream",
     "text": [
      "KIC 4035667\n",
      "KIC 4058881\n"
     ]
    },
    {
     "name": "stderr",
     "output_type": "stream",
     "text": [
      "Warning: 30% (1241/4203) of the cadences will be ignored due to the quality mask (quality_bitmask=2096639).\n"
     ]
    },
    {
     "name": "stdout",
     "output_type": "stream",
     "text": [
      "KIC 4059007\n"
     ]
    },
    {
     "name": "stderr",
     "output_type": "stream",
     "text": [
      "Warning: 25% (1055/4203) of the cadences will be ignored due to the quality mask (quality_bitmask=2096639).\n"
     ]
    },
    {
     "name": "stdout",
     "output_type": "stream",
     "text": [
      "KIC 4075172\n",
      "KIC 4139351\n",
      "KIC 4178173\n",
      "KIC 4252226\n"
     ]
    },
    {
     "name": "stderr",
     "output_type": "stream",
     "text": [
      "Warning: 21% (876/4203) of the cadences will be ignored due to the quality mask (quality_bitmask=2096639).\n"
     ]
    },
    {
     "name": "stdout",
     "output_type": "stream",
     "text": [
      "KIC 4252322\n"
     ]
    },
    {
     "name": "stderr",
     "output_type": "stream",
     "text": [
      "Warning: 21% (870/4203) of the cadences will be ignored due to the quality mask (quality_bitmask=2096639).\n"
     ]
    },
    {
     "name": "stdout",
     "output_type": "stream",
     "text": [
      "KIC 4274480\n",
      "KIC 4349612\n"
     ]
    },
    {
     "name": "stderr",
     "output_type": "stream",
     "text": [
      "Warning: 20% (842/4203) of the cadences will be ignored due to the quality mask (quality_bitmask=2096639).\n"
     ]
    },
    {
     "name": "stdout",
     "output_type": "stream",
     "text": [
      "KIC 4375101\n",
      "KIC 3831911\n",
      "KIC 3849187\n",
      "KIC 3849354\n"
     ]
    },
    {
     "name": "stderr",
     "output_type": "stream",
     "text": [
      "/Users/aridamansc/opt/anaconda3/lib/python3.9/site-packages/lightkurve/search.py:423: LightkurveWarning: Warning: 4 files available to download. Only the first file has been downloaded. Please use `download_all()` or specify additional criteria (e.g. quarter, campaign, or sector) to limit your search.\n",
      "  warnings.warn(\n"
     ]
    },
    {
     "name": "stdout",
     "output_type": "stream",
     "text": [
      "KIC 3859079\n",
      "KIC 3859151\n",
      "KIC 3859363\n"
     ]
    },
    {
     "name": "stderr",
     "output_type": "stream",
     "text": [
      "Warning: 23% (951/4203) of the cadences will be ignored due to the quality mask (quality_bitmask=2096639).\n"
     ]
    },
    {
     "name": "stdout",
     "output_type": "stream",
     "text": [
      "KIC 3869322\n"
     ]
    },
    {
     "name": "stderr",
     "output_type": "stream",
     "text": [
      "Warning: 21% (889/4203) of the cadences will be ignored due to the quality mask (quality_bitmask=2096639).\n"
     ]
    },
    {
     "name": "stdout",
     "output_type": "stream",
     "text": [
      "KIC 3869326\n",
      "KIC 3952651\n",
      "KIC 3953106 had an error: 'NoneType' object has no attribute 'to_lightcurve'\n"
     ]
    },
    {
     "name": "stderr",
     "output_type": "stream",
     "text": [
      "/Users/aridamansc/opt/anaconda3/lib/python3.9/site-packages/lightkurve/search.py:418: LightkurveWarning: Cannot download from an empty search result.\n",
      "  warnings.warn(\n"
     ]
    },
    {
     "name": "stdout",
     "output_type": "stream",
     "text": [
      "KIC 3953173\n",
      "KIC 3966262\n"
     ]
    },
    {
     "name": "stderr",
     "output_type": "stream",
     "text": [
      "Warning: 20% (842/4203) of the cadences will be ignored due to the quality mask (quality_bitmask=2096639).\n"
     ]
    },
    {
     "name": "stdout",
     "output_type": "stream",
     "text": [
      "KIC 3966273\n"
     ]
    },
    {
     "name": "stderr",
     "output_type": "stream",
     "text": [
      "Warning: 21% (896/4203) of the cadences will be ignored due to the quality mask (quality_bitmask=2096639).\n"
     ]
    },
    {
     "name": "stdout",
     "output_type": "stream",
     "text": [
      "KIC 4035675\n"
     ]
    },
    {
     "name": "stderr",
     "output_type": "stream",
     "text": [
      "Warning: 20% (844/4203) of the cadences will be ignored due to the quality mask (quality_bitmask=2096639).\n"
     ]
    },
    {
     "name": "stdout",
     "output_type": "stream",
     "text": [
      "KIC 4037428\n",
      "KIC 4059887\n",
      "KIC 4060229\n",
      "KIC 4060976\n"
     ]
    },
    {
     "name": "stderr",
     "output_type": "stream",
     "text": [
      "Warning: 20% (858/4203) of the cadences will be ignored due to the quality mask (quality_bitmask=2096639).\n"
     ]
    },
    {
     "name": "stdout",
     "output_type": "stream",
     "text": [
      "KIC 4061149\n",
      "KIC 4076098\n",
      "KIC 4139673 had an error: 'NoneType' object has no attribute 'to_lightcurve'\n"
     ]
    },
    {
     "name": "stderr",
     "output_type": "stream",
     "text": [
      "/Users/aridamansc/opt/anaconda3/lib/python3.9/site-packages/lightkurve/search.py:418: LightkurveWarning: Cannot download from an empty search result.\n",
      "  warnings.warn(\n",
      "/Users/aridamansc/opt/anaconda3/lib/python3.9/site-packages/lightkurve/search.py:423: LightkurveWarning: Warning: 3 files available to download. Only the first file has been downloaded. Please use `download_all()` or specify additional criteria (e.g. quarter, campaign, or sector) to limit your search.\n",
      "  warnings.warn(\n",
      "Warning: 21% (874/4203) of the cadences will be ignored due to the quality mask (quality_bitmask=2096639).\n"
     ]
    },
    {
     "name": "stdout",
     "output_type": "stream",
     "text": [
      "KIC 4139816\n"
     ]
    },
    {
     "name": "stderr",
     "output_type": "stream",
     "text": [
      "Warning: 22% (915/4203) of the cadences will be ignored due to the quality mask (quality_bitmask=2096639).\n"
     ]
    },
    {
     "name": "stdout",
     "output_type": "stream",
     "text": [
      "KIC 4158822\n",
      "KIC 4158876\n"
     ]
    },
    {
     "name": "stderr",
     "output_type": "stream",
     "text": [
      "Warning: 22% (931/4203) of the cadences will be ignored due to the quality mask (quality_bitmask=2096639).\n"
     ]
    },
    {
     "name": "stdout",
     "output_type": "stream",
     "text": [
      "KIC 4178376\n"
     ]
    },
    {
     "name": "stderr",
     "output_type": "stream",
     "text": [
      "Warning: 20% (846/4203) of the cadences will be ignored due to the quality mask (quality_bitmask=2096639).\n"
     ]
    },
    {
     "name": "stdout",
     "output_type": "stream",
     "text": [
      "KIC 4178389\n",
      "KIC 4178606\n"
     ]
    },
    {
     "name": "stderr",
     "output_type": "stream",
     "text": [
      "Warning: 21% (883/4203) of the cadences will be ignored due to the quality mask (quality_bitmask=2096639).\n"
     ]
    },
    {
     "name": "stdout",
     "output_type": "stream",
     "text": [
      "KIC 4252716\n",
      "KIC 4252757\n"
     ]
    },
    {
     "name": "stderr",
     "output_type": "stream",
     "text": [
      "Warning: 20% (852/4203) of the cadences will be ignored due to the quality mask (quality_bitmask=2096639).\n"
     ]
    },
    {
     "name": "stdout",
     "output_type": "stream",
     "text": [
      "KIC 4274548\n",
      "KIC 4274730\n",
      "KIC 4376629\n"
     ]
    },
    {
     "name": "stderr",
     "output_type": "stream",
     "text": [
      "Warning: 22% (925/4203) of the cadences will be ignored due to the quality mask (quality_bitmask=2096639).\n"
     ]
    },
    {
     "name": "stdout",
     "output_type": "stream",
     "text": [
      "KIC 4376644\n",
      "KIC 4377638\n"
     ]
    },
    {
     "name": "stderr",
     "output_type": "stream",
     "text": [
      "/Users/aridamansc/opt/anaconda3/lib/python3.9/site-packages/lightkurve/search.py:423: LightkurveWarning: Warning: 4 files available to download. Only the first file has been downloaded. Please use `download_all()` or specify additional criteria (e.g. quarter, campaign, or sector) to limit your search.\n",
      "  warnings.warn(\n",
      "Warning: 21% (881/4203) of the cadences will be ignored due to the quality mask (quality_bitmask=2096639).\n"
     ]
    },
    {
     "name": "stdout",
     "output_type": "stream",
     "text": [
      "KIC 3832474\n",
      "KIC 3832716\n"
     ]
    },
    {
     "name": "stderr",
     "output_type": "stream",
     "text": [
      "Warning: 20% (861/4203) of the cadences will be ignored due to the quality mask (quality_bitmask=2096639).\n"
     ]
    },
    {
     "name": "stdout",
     "output_type": "stream",
     "text": [
      "KIC 3849415\n"
     ]
    },
    {
     "name": "stderr",
     "output_type": "stream",
     "text": [
      "Warning: 20% (850/4203) of the cadences will be ignored due to the quality mask (quality_bitmask=2096639).\n"
     ]
    },
    {
     "name": "stdout",
     "output_type": "stream",
     "text": [
      "KIC 3859628\n"
     ]
    },
    {
     "name": "stderr",
     "output_type": "stream",
     "text": [
      "Warning: 22% (918/4203) of the cadences will be ignored due to the quality mask (quality_bitmask=2096639).\n"
     ]
    },
    {
     "name": "stdout",
     "output_type": "stream",
     "text": [
      "KIC 3860441\n",
      "KIC 3869794\n",
      "KIC 3869825\n"
     ]
    },
    {
     "name": "stderr",
     "output_type": "stream",
     "text": [
      "Warning: 21% (869/4203) of the cadences will be ignored due to the quality mask (quality_bitmask=2096639).\n"
     ]
    },
    {
     "name": "stdout",
     "output_type": "stream",
     "text": [
      "KIC 3954136\n"
     ]
    },
    {
     "name": "stderr",
     "output_type": "stream",
     "text": [
      "Warning: 22% (914/4203) of the cadences will be ignored due to the quality mask (quality_bitmask=2096639).\n"
     ]
    },
    {
     "name": "stdout",
     "output_type": "stream",
     "text": [
      "KIC 3966491\n"
     ]
    },
    {
     "name": "stderr",
     "output_type": "stream",
     "text": [
      "Warning: 22% (936/4203) of the cadences will be ignored due to the quality mask (quality_bitmask=2096639).\n"
     ]
    },
    {
     "name": "stdout",
     "output_type": "stream",
     "text": [
      "KIC 4038095\n"
     ]
    },
    {
     "name": "stderr",
     "output_type": "stream",
     "text": [
      "Warning: 21% (865/4203) of the cadences will be ignored due to the quality mask (quality_bitmask=2096639).\n"
     ]
    },
    {
     "name": "stdout",
     "output_type": "stream",
     "text": [
      "KIC 4064365\n",
      "KIC 4076976\n",
      "KIC 4077006\n",
      "KIC 4140813\n"
     ]
    },
    {
     "name": "stderr",
     "output_type": "stream",
     "text": [
      "/Users/aridamansc/opt/anaconda3/lib/python3.9/site-packages/lightkurve/search.py:423: LightkurveWarning: Warning: 4 files available to download. Only the first file has been downloaded. Please use `download_all()` or specify additional criteria (e.g. quarter, campaign, or sector) to limit your search.\n",
      "  warnings.warn(\n",
      "Warning: 20% (849/4203) of the cadences will be ignored due to the quality mask (quality_bitmask=2096639).\n"
     ]
    },
    {
     "name": "stdout",
     "output_type": "stream",
     "text": [
      "KIC 4141376\n"
     ]
    },
    {
     "name": "stderr",
     "output_type": "stream",
     "text": [
      "/Users/aridamansc/opt/anaconda3/lib/python3.9/site-packages/lightkurve/search.py:418: LightkurveWarning: Cannot download from an empty search result.\n",
      "  warnings.warn(\n",
      "Warning: 20% (850/4203) of the cadences will be ignored due to the quality mask (quality_bitmask=2096639).\n"
     ]
    },
    {
     "name": "stdout",
     "output_type": "stream",
     "text": [
      "KIC 4159347\n",
      "KIC 4160006 had an error: 'NoneType' object has no attribute 'to_lightcurve'\n"
     ]
    },
    {
     "name": "stderr",
     "output_type": "stream",
     "text": [
      "Warning: 23% (955/4203) of the cadences will be ignored due to the quality mask (quality_bitmask=2096639).\n"
     ]
    },
    {
     "name": "stdout",
     "output_type": "stream",
     "text": [
      "KIC 4178654\n",
      "KIC 4179599\n"
     ]
    },
    {
     "name": "stderr",
     "output_type": "stream",
     "text": [
      "Warning: 22% (925/4203) of the cadences will be ignored due to the quality mask (quality_bitmask=2096639).\n"
     ]
    },
    {
     "name": "stdout",
     "output_type": "stream",
     "text": [
      "KIC 4253413\n"
     ]
    },
    {
     "name": "stderr",
     "output_type": "stream",
     "text": [
      "Warning: 21% (898/4203) of the cadences will be ignored due to the quality mask (quality_bitmask=2096639).\n"
     ]
    },
    {
     "name": "stdout",
     "output_type": "stream",
     "text": [
      "KIC 4253860\n",
      "KIC 4274748\n"
     ]
    },
    {
     "name": "stderr",
     "output_type": "stream",
     "text": [
      "Warning: 30% (1257/4203) of the cadences will be ignored due to the quality mask (quality_bitmask=2096639).\n"
     ]
    },
    {
     "name": "stdout",
     "output_type": "stream",
     "text": [
      "KIC 4275117\n"
     ]
    },
    {
     "name": "stderr",
     "output_type": "stream",
     "text": [
      "Warning: 23% (978/4203) of the cadences will be ignored due to the quality mask (quality_bitmask=2096639).\n"
     ]
    },
    {
     "name": "stdout",
     "output_type": "stream",
     "text": [
      "KIC 4352168\n"
     ]
    },
    {
     "name": "stderr",
     "output_type": "stream",
     "text": [
      "Warning: 35% (1478/4203) of the cadences will be ignored due to the quality mask (quality_bitmask=2096639).\n"
     ]
    },
    {
     "name": "stdout",
     "output_type": "stream",
     "text": [
      "KIC 4355012\n"
     ]
    },
    {
     "name": "stderr",
     "output_type": "stream",
     "text": [
      "Warning: 20% (861/4203) of the cadences will be ignored due to the quality mask (quality_bitmask=2096639).\n"
     ]
    },
    {
     "name": "stdout",
     "output_type": "stream",
     "text": [
      "KIC 4378863\n"
     ]
    },
    {
     "name": "stderr",
     "output_type": "stream",
     "text": [
      "Warning: 21% (862/4203) of the cadences will be ignored due to the quality mask (quality_bitmask=2096639).\n"
     ]
    },
    {
     "name": "stdout",
     "output_type": "stream",
     "text": [
      "KIC 4379599\n",
      "KIC 3833007\n",
      "KIC 3850331\n",
      "KIC 3850551\n"
     ]
    },
    {
     "name": "stderr",
     "output_type": "stream",
     "text": [
      "Warning: 22% (905/4203) of the cadences will be ignored due to the quality mask (quality_bitmask=2096639).\n",
      "Warning: 23% (946/4203) of the cadences will be ignored due to the quality mask (quality_bitmask=2096639).\n"
     ]
    },
    {
     "name": "stdout",
     "output_type": "stream",
     "text": [
      "KIC 3850810\n"
     ]
    },
    {
     "name": "stderr",
     "output_type": "stream",
     "text": [
      "Warning: 21% (885/4203) of the cadences will be ignored due to the quality mask (quality_bitmask=2096639).\n"
     ]
    },
    {
     "name": "stdout",
     "output_type": "stream",
     "text": [
      "KIC 3861139\n",
      "KIC 3861414\n",
      "KIC 3954227\n",
      "KIC 3954798\n"
     ]
    },
    {
     "name": "stderr",
     "output_type": "stream",
     "text": [
      "Warning: 26% (1102/4203) of the cadences will be ignored due to the quality mask (quality_bitmask=2096639).\n"
     ]
    },
    {
     "name": "stdout",
     "output_type": "stream",
     "text": [
      "KIC 3955026\n",
      "KIC 3966801\n"
     ]
    },
    {
     "name": "stderr",
     "output_type": "stream",
     "text": [
      "Warning: 22% (911/4203) of the cadences will be ignored due to the quality mask (quality_bitmask=2096639).\n"
     ]
    },
    {
     "name": "stdout",
     "output_type": "stream",
     "text": [
      "KIC 3966912\n",
      "KIC 4066066\n"
     ]
    },
    {
     "name": "stderr",
     "output_type": "stream",
     "text": [
      "Warning: 23% (951/4203) of the cadences will be ignored due to the quality mask (quality_bitmask=2096639).\n",
      "Warning: 22% (921/4203) of the cadences will be ignored due to the quality mask (quality_bitmask=2096639).\n"
     ]
    },
    {
     "name": "stdout",
     "output_type": "stream",
     "text": [
      "KIC 4077032\n"
     ]
    },
    {
     "name": "stderr",
     "output_type": "stream",
     "text": [
      "Warning: 24% (1027/4203) of the cadences will be ignored due to the quality mask (quality_bitmask=2096639).\n"
     ]
    },
    {
     "name": "stdout",
     "output_type": "stream",
     "text": [
      "KIC 4077252\n",
      "KIC 4141464\n"
     ]
    },
    {
     "name": "stderr",
     "output_type": "stream",
     "text": [
      "Warning: 22% (939/4203) of the cadences will be ignored due to the quality mask (quality_bitmask=2096639).\n"
     ]
    },
    {
     "name": "stdout",
     "output_type": "stream",
     "text": [
      "KIC 4160676\n",
      "KIC 4180099\n"
     ]
    },
    {
     "name": "stderr",
     "output_type": "stream",
     "text": [
      "Warning: 23% (971/4203) of the cadences will be ignored due to the quality mask (quality_bitmask=2096639).\n"
     ]
    },
    {
     "name": "stdout",
     "output_type": "stream",
     "text": [
      "KIC 4180199\n"
     ]
    },
    {
     "name": "stderr",
     "output_type": "stream",
     "text": [
      "Warning: 21% (862/4203) of the cadences will be ignored due to the quality mask (quality_bitmask=2096639).\n"
     ]
    },
    {
     "name": "stdout",
     "output_type": "stream",
     "text": [
      "KIC 4254466\n"
     ]
    },
    {
     "name": "stderr",
     "output_type": "stream",
     "text": [
      "Warning: 21% (876/4203) of the cadences will be ignored due to the quality mask (quality_bitmask=2096639).\n"
     ]
    },
    {
     "name": "stdout",
     "output_type": "stream",
     "text": [
      "KIC 4254741\n",
      "KIC 4275186\n",
      "KIC 4275191\n"
     ]
    },
    {
     "name": "stderr",
     "output_type": "stream",
     "text": [
      "Warning: 20% (843/4203) of the cadences will be ignored due to the quality mask (quality_bitmask=2096639).\n"
     ]
    },
    {
     "name": "stdout",
     "output_type": "stream",
     "text": [
      "KIC 4275328\n",
      "KIC 4356621\n"
     ]
    },
    {
     "name": "stderr",
     "output_type": "stream",
     "text": [
      "Warning: 21% (863/4203) of the cadences will be ignored due to the quality mask (quality_bitmask=2096639).\n"
     ]
    },
    {
     "name": "stdout",
     "output_type": "stream",
     "text": [
      "KIC 4380558\n"
     ]
    },
    {
     "name": "stderr",
     "output_type": "stream",
     "text": [
      "Warning: 25% (1049/4203) of the cadences will be ignored due to the quality mask (quality_bitmask=2096639).\n"
     ]
    },
    {
     "name": "stdout",
     "output_type": "stream",
     "text": [
      "KIC 3834322\n",
      "KIC 3834360\n",
      "KIC 3851130\n"
     ]
    },
    {
     "name": "stderr",
     "output_type": "stream",
     "text": [
      "Warning: 22% (941/4203) of the cadences will be ignored due to the quality mask (quality_bitmask=2096639).\n"
     ]
    },
    {
     "name": "stdout",
     "output_type": "stream",
     "text": [
      "KIC 3851134\n",
      "KIC 3861595\n",
      "KIC 3861611\n",
      "KIC 3935914\n",
      "KIC 3955817\n"
     ]
    },
    {
     "name": "stderr",
     "output_type": "stream",
     "text": [
      "Warning: 21% (903/4203) of the cadences will be ignored due to the quality mask (quality_bitmask=2096639).\n"
     ]
    },
    {
     "name": "stdout",
     "output_type": "stream",
     "text": [
      "KIC 3955867\n",
      "KIC 3967085\n"
     ]
    },
    {
     "name": "stderr",
     "output_type": "stream",
     "text": [
      "Warning: 22% (914/4203) of the cadences will be ignored due to the quality mask (quality_bitmask=2096639).\n"
     ]
    },
    {
     "name": "stdout",
     "output_type": "stream",
     "text": [
      "KIC 3967219\n"
     ]
    },
    {
     "name": "stderr",
     "output_type": "stream",
     "text": [
      "Warning: 27% (1135/4203) of the cadences will be ignored due to the quality mask (quality_bitmask=2096639).\n"
     ]
    },
    {
     "name": "stdout",
     "output_type": "stream",
     "text": [
      "KIC 3967268\n"
     ]
    },
    {
     "name": "stderr",
     "output_type": "stream",
     "text": [
      "Warning: 33% (1373/4203) of the cadences will be ignored due to the quality mask (quality_bitmask=2096639).\n"
     ]
    },
    {
     "name": "stdout",
     "output_type": "stream",
     "text": [
      "KIC 4042026\n"
     ]
    },
    {
     "name": "stderr",
     "output_type": "stream",
     "text": [
      "Warning: 23% (950/4203) of the cadences will be ignored due to the quality mask (quality_bitmask=2096639).\n"
     ]
    },
    {
     "name": "stdout",
     "output_type": "stream",
     "text": [
      "KIC 4042088\n"
     ]
    },
    {
     "name": "stderr",
     "output_type": "stream",
     "text": [
      "Warning: 21% (868/4203) of the cadences will be ignored due to the quality mask (quality_bitmask=2096639).\n"
     ]
    },
    {
     "name": "stdout",
     "output_type": "stream",
     "text": [
      "KIC 4042590\n",
      "KIC 4067110\n",
      "KIC 4077275\n"
     ]
    },
    {
     "name": "stderr",
     "output_type": "stream",
     "text": [
      "Warning: 22% (925/4203) of the cadences will be ignored due to the quality mask (quality_bitmask=2096639).\n"
     ]
    },
    {
     "name": "stdout",
     "output_type": "stream",
     "text": [
      "KIC 4077526\n"
     ]
    },
    {
     "name": "stderr",
     "output_type": "stream",
     "text": [
      "Warning: 22% (929/4203) of the cadences will be ignored due to the quality mask (quality_bitmask=2096639).\n"
     ]
    },
    {
     "name": "stdout",
     "output_type": "stream",
     "text": [
      "KIC 4141670\n"
     ]
    },
    {
     "name": "stderr",
     "output_type": "stream",
     "text": [
      "Warning: 25% (1030/4203) of the cadences will be ignored due to the quality mask (quality_bitmask=2096639).\n"
     ]
    },
    {
     "name": "stdout",
     "output_type": "stream",
     "text": [
      "KIC 4141760\n",
      "KIC 4142768\n"
     ]
    },
    {
     "name": "stderr",
     "output_type": "stream",
     "text": [
      "Warning: 21% (885/4203) of the cadences will be ignored due to the quality mask (quality_bitmask=2096639).\n"
     ]
    },
    {
     "name": "stdout",
     "output_type": "stream",
     "text": [
      "KIC 4160683\n"
     ]
    },
    {
     "name": "stderr",
     "output_type": "stream",
     "text": [
      "Warning: 22% (916/4203) of the cadences will be ignored due to the quality mask (quality_bitmask=2096639).\n"
     ]
    },
    {
     "name": "stdout",
     "output_type": "stream",
     "text": [
      "KIC 4180280\n",
      "KIC 4255422\n",
      "KIC 4275721\n",
      "KIC 4275739\n",
      "KIC 4356766\n",
      "KIC 4357960\n"
     ]
    },
    {
     "name": "stderr",
     "output_type": "stream",
     "text": [
      "Warning: 21% (899/4203) of the cadences will be ignored due to the quality mask (quality_bitmask=2096639).\n"
     ]
    },
    {
     "name": "stdout",
     "output_type": "stream",
     "text": [
      "KIC 4380834\n"
     ]
    },
    {
     "name": "stderr",
     "output_type": "stream",
     "text": [
      "Warning: 34% (1420/4203) of the cadences will be ignored due to the quality mask (quality_bitmask=2096639).\n"
     ]
    },
    {
     "name": "stdout",
     "output_type": "stream",
     "text": [
      "KIC 4380951\n"
     ]
    },
    {
     "name": "stderr",
     "output_type": "stream",
     "text": [
      "Warning: 30% (1253/4203) of the cadences will be ignored due to the quality mask (quality_bitmask=2096639).\n"
     ]
    },
    {
     "ename": "",
     "evalue": "",
     "output_type": "error",
     "traceback": [
      "\u001b[1;31mCanceled future for execute_request message before replies were done"
     ]
    },
    {
     "ename": "",
     "evalue": "",
     "output_type": "error",
     "traceback": [
      "\u001b[1;31mThe Kernel crashed while executing code in the the current cell or a previous cell. Please review the code in the cell(s) to identify a possible cause of the failure. Click <a href='https://aka.ms/vscodeJupyterKernelCrash'>here</a> for more info. View Jupyter <a href='command:jupyter.viewOutput'>log</a> for further details."
     ]
    }
   ],
   "source": [
    "#GENERATING THE ENTIRE DATA WITH PREPROCESSING\n",
    "csv_file = \"final_exop_data.csv\"\n",
    "\n",
    "# Write data to the CSV file\n",
    "with open(csv_file, mode='a', newline='') as file:\n",
    "    writer = csv.writer(file)\n",
    "    #writer.writerow(['kepid','raw_time','raw_flux','global_view','local_view'])\n",
    "    for id in kepid:   # done from 9360 to 9820\n",
    "        if id not in stored_ids:\n",
    "            try:\n",
    "                #search_result = lk.search_lightcurve(\"KIC 8462852\", cadence='long')\n",
    "                # Download all available Kepler light curves\n",
    "                #lc_collection = search_result.download_all()\n",
    "                pixelfile = search_targetpixelfile(id, quarter=16).download(quality_bitmask='hardest'); \n",
    "                lc = pixelfile.to_lightcurve(aperture_mask='all')#.remove_outliers();\n",
    "                flattened_lc=lc.flatten(window_length=901)\n",
    "                #lc = lc_collection.stitch().flatten(window_length=901).remove_outliers()\n",
    "                # Create array of periods to search\n",
    "                period = np.linspace(1, 20, 10000)\n",
    "                # Create a BLSPeriodogram\n",
    "                bls = flattened_lc.to_periodogram(method='bls', period=period, frequency_factor=500);\n",
    "                planet_b_period = bls.period_at_max_power\n",
    "                planet_b_t0 = bls.transit_time_at_max_power\n",
    "                planet_b_dur = bls.duration_at_max_power\n",
    "                folded_lc= flattened_lc.fold(period=planet_b_period, epoch_time=planet_b_t0)\n",
    "                #binned_lc=folded_lc.bin(binsize=10) \n",
    "                global_vie=global_view(folded_lc['time'].value, folded_lc['flux'].value, period=planet_b_period.value, num_bins=2001, bin_width_factor=1 / 2001)\n",
    "                local_vie=local_view(folded_lc['time'].value, folded_lc['flux'].value, period=planet_b_period.value,\n",
    "                duration=planet_b_dur.value,\n",
    "                num_bins=201,\n",
    "                bin_width_factor=0.16,\n",
    "                num_durations=4)\n",
    "                #NORMALIZING THE VIEWS WITH MEDIAN 0 AND MIN VALUE OF -1\n",
    "                norm_glo=normalize_light_curve(global_vie)\n",
    "                norm_loc=normalize_light_curve(local_vie)\n",
    "                writer.writerow([id,lc['time'].value,lc['flux'].value,norm_glo,norm_loc])\n",
    "                print(id)\n",
    "            except Exception as e:\n",
    "                print(f\"{id} had an error:\", str(e))\n",
    "                continue\n",
    "        \n",
    "        \n",
    "    "
   ]
  },
  {
   "cell_type": "code",
   "execution_count": 132,
   "id": "cc850335",
   "metadata": {},
   "outputs": [
    {
     "name": "stderr",
     "output_type": "stream",
     "text": [
      "Warning: 21% (871/4203) of the cadences will be ignored due to the quality mask (quality_bitmask=2096639).\n"
     ]
    }
   ],
   "source": [
    "#search_result = lk.search_lightcurve(\"KIC 8462852\", cadence='long')\n",
    "# Download all available Kepler light curves\n",
    "#lc_collection = search_result.download_all()\n",
    "pixelfile = search_targetpixelfile('KIC 8191672', quarter=16).download(quality_bitmask='hardest'); \n",
    "lc = pixelfile.to_lightcurve(aperture_mask='all').flatten(window_length=901)#.remove_outliers();\n",
    "          \n",
    "#lc = lc_collection.stitch().flatten(window_length=901).remove_outliers()\n",
    " # Create array of periods to search\n",
    "period = np.linspace(1, 20, 10000)\n",
    "# Create a BLSPeriodogram\n",
    "bls = lc.to_periodogram(method='bls', period=period, frequency_factor=500);\n",
    "planet_b_period = bls.period_at_max_power\n",
    "planet_b_t0 = bls.transit_time_at_max_power\n",
    "planet_b_dur = bls.duration_at_max_power\n",
    "folded_lc= lc.fold(period=planet_b_period, epoch_time=planet_b_t0)\n",
    "#binned_lc=folded_lc.bin(binsize=10) \n",
    "            "
   ]
  },
  {
   "cell_type": "code",
   "execution_count": 83,
   "id": "01ec9671",
   "metadata": {},
   "outputs": [
    {
     "data": {
      "text/plain": [
       "<matplotlib.collections.PathCollection at 0x7f9acc875b50>"
      ]
     },
     "execution_count": 83,
     "metadata": {},
     "output_type": "execute_result"
    },
    {
     "data": {
      "image/png": "[encoded data removed]",
      "text/plain": [
       "<Figure size 640x480 with 1 Axes>"
      ]
     },
     "metadata": {},
     "output_type": "display_data"
    }
   ],
   "source": [
    "len(folded_lc['time'].value)\n",
    "x=np.array([i for i in range(501)])\n",
    "y=global_view(folded_lc['time'].value, folded_lc['flux'].value, period=planet_b_period.value, num_bins=501, bin_width_factor=1 / 501)\n",
    "plt.scatter(x,y,s=0.2)"
   ]
  },
  {
   "cell_type": "code",
   "execution_count": 84,
   "id": "739df1e3",
   "metadata": {},
   "outputs": [
    {
     "data": {
      "text/plain": [
       "<matplotlib.collections.PathCollection at 0x7f9b19ffdf70>"
      ]
     },
     "execution_count": 84,
     "metadata": {},
     "output_type": "execute_result"
    },
    {
     "data": {
      "image/png": "[encoded data removed]",
      "text/plain": [
       "<Figure size 640x480 with 1 Axes>"
      ]
     },
     "metadata": {},
     "output_type": "display_data"
    }
   ],
   "source": [
    "y2=local_view(folded_lc['time'].value, folded_lc['flux'].value, period=planet_b_period.value,\n",
    "            duration=planet_b_dur.value,\n",
    "            num_bins=201,\n",
    "            bin_width_factor=0.16,\n",
    "            num_durations=4)\n",
    "x2=np.array([i for i in range(201)])\n",
    "plt.scatter(x2,y2,s=0.2)"
   ]
  },
  {
   "cell_type": "code",
   "execution_count": 45,
   "id": "2ab79313",
   "metadata": {},
   "outputs": [
    {
     "data": {
      "text/plain": [
       "<Figure size 1000x600 with 0 Axes>"
      ]
     },
     "metadata": {},
     "output_type": "display_data"
    },
    {
     "data": {
      "image/png": "[encoded data removed]",
      "text/plain": [
       "<Figure size 848.5x400 with 1 Axes>"
      ]
     },
     "metadata": {},
     "output_type": "display_data"
    },
    {
     "data": {
      "text/plain": [
       "337"
      ]
     },
     "execution_count": 45,
     "metadata": {},
     "output_type": "execute_result"
    }
   ],
   "source": [
    "import matplotlib.pyplot as plt\n",
    "\n",
    "# Plot the binned light curve\n",
    "plt.figure(figsize=(10, 6))\n",
    "binned_lc.plot(linewidth=1, label='Binned data', color='blue')\n",
    "plt.title('Binned Folded Light Curve of KIC 8462852')\n",
    "plt.xlabel('Phase')\n",
    "plt.ylabel('Normalized Flux')\n",
    "plt.legend()\n",
    "plt.show()\n",
    "len(binned_lc['flux'])\n"
   ]
  },
  {
   "cell_type": "code",
   "execution_count": 152,
   "id": "c85156b8",
   "metadata": {},
   "outputs": [
    {
     "data": {
      "text/plain": [
       "9359"
      ]
     },
     "execution_count": 152,
     "metadata": {},
     "output_type": "execute_result"
    }
   ],
   "source": [
    "kepid.index('KIC 12554634')"
   ]
  },
  {
   "cell_type": "code",
   "execution_count": 595,
   "id": "7fdafec2",
   "metadata": {},
   "outputs": [
    {
     "data": {
      "text/plain": [
       "8886"
      ]
     },
     "execution_count": 595,
     "metadata": {},
     "output_type": "execute_result"
    }
   ],
   "source": [
    "data2= data2.drop_duplicates()\n",
    "\n",
    "len(data2)"
   ]
  },
  {
   "cell_type": "code",
   "execution_count": 596,
   "id": "aa2d2919",
   "metadata": {},
   "outputs": [],
   "source": [
    "data2['labels']=None"
   ]
  },
  {
   "cell_type": "code",
   "execution_count": 597,
   "id": "8d70fdeb",
   "metadata": {},
   "outputs": [],
   "source": [
    "for id in data2['kepid']:\n",
    "    # Check if the 'id' exists in data['kepid']\n",
    "    if id in data['kepid']:\n",
    "        # Find the corresponding label in data and assign it to data2\n",
    "        label = data[data['kepid'] == id]['labels'].values[0]\n",
    "        data2.loc[data2['kepid'] == id, 'labels'] = label"
   ]
  },
  {
   "cell_type": "code",
   "execution_count": 598,
   "id": "123f17a5",
   "metadata": {},
   "outputs": [
    {
     "data": {
      "text/plain": [
       "0       None\n",
       "1       None\n",
       "2       None\n",
       "3       None\n",
       "4       None\n",
       "        ... \n",
       "8881    None\n",
       "8882    None\n",
       "8883    None\n",
       "8884    None\n",
       "8885    None\n",
       "Name: labels, Length: 8886, dtype: object"
      ]
     },
     "execution_count": 598,
     "metadata": {},
     "output_type": "execute_result"
    }
   ],
   "source": [
    "data2['labels']"
   ]
  },
  {
   "cell_type": "code",
   "execution_count": 599,
   "id": "65da28fc",
   "metadata": {},
   "outputs": [
    {
     "data": {
      "image/png": "[encoded data removed]",
      "text/plain": [
       "<Figure size 640x480 with 1 Axes>"
      ]
     },
     "metadata": {},
     "output_type": "display_data"
    }
   ],
   "source": [
    "x=data2['flux'][0][1:-1].split(',')\n",
    "# Convert the list of strings to a list of integers\n",
    "x= [float(item) for item in x]\n",
    "plt.plot(ast.literal_eval(data2['time'][0]),x)\n",
    "plt.show()"
   ]
  },
  {
   "cell_type": "code",
   "execution_count": 600,
   "id": "35e54632",
   "metadata": {},
   "outputs": [
    {
     "data": {
      "text/plain": [
       "[290573.1875,\n",
       " 290615.40625,\n",
       " 290711.09375,\n",
       " 290697.0625,\n",
       " 290749.46875,\n",
       " 290780.5,\n",
       " 290763.4375,\n",
       " 290826.96875,\n",
       " 290803.375,\n",
       " 290771.09375,\n",
       " 290747.5625,\n",
       " 290729.78125,\n",
       " 290671.1875,\n",
       " 290630.65625,\n",
       " 290669.4375,\n",
       " 290611.84375,\n",
       " 290644.21875,\n",
       " 290722.84375,\n",
       " 290649.59375,\n",
       " 290674.1875,\n",
       " 290627.40625,\n",
       " 290574.8125,\n",
       " 290674.125,\n",
       " 290650.5,\n",
       " 290705.6875,\n",
       " 290686.65625,\n",
       " 290649.0,\n",
       " 290674.15625,\n",
       " 290691.6875,\n",
       " 290632.3125,\n",
       " 290662.625,\n",
       " 290685.03125,\n",
       " 290708.8125,\n",
       " 290748.125,\n",
       " 290707.65625,\n",
       " 290721.8125,\n",
       " 290715.75,\n",
       " 290626.65625,\n",
       " 290645.875,\n",
       " 290558.15625,\n",
       " 290486.59375,\n",
       " 290449.40625,\n",
       " 290483.96875,\n",
       " 290515.71875,\n",
       " 290499.03125,\n",
       " 290543.65625,\n",
       " 290512.9375,\n",
       " 290509.59375,\n",
       " 290628.96875,\n",
       " 290650.0625,\n",
       " 290645.09375,\n",
       " 290628.09375,\n",
       " 290611.75,\n",
       " 290625.59375,\n",
       " 290618.9375,\n",
       " 290613.90625,\n",
       " 290595.09375,\n",
       " 290657.90625,\n",
       " 290687.8125,\n",
       " 290727.90625,\n",
       " 290678.90625,\n",
       " 290653.53125,\n",
       " 290645.5,\n",
       " 290621.03125,\n",
       " 290598.5,\n",
       " 290541.40625,\n",
       " 290591.5,\n",
       " 290596.28125,\n",
       " 290606.46875,\n",
       " 290663.0625,\n",
       " 290602.4375,\n",
       " 290617.25,\n",
       " 290647.90625,\n",
       " 290759.4375,\n",
       " 290664.71875,\n",
       " 290703.5,\n",
       " 290704.15625,\n",
       " 290709.875,\n",
       " 290666.21875,\n",
       " 290658.34375,\n",
       " 290693.34375,\n",
       " 290677.125,\n",
       " 290633.6875,\n",
       " 290678.59375,\n",
       " 290660.8125,\n",
       " 290659.6875,\n",
       " 290610.5625,\n",
       " 290588.875,\n",
       " 290570.71875,\n",
       " 290527.40625,\n",
       " 290474.59375,\n",
       " 290479.0625,\n",
       " 290453.96875,\n",
       " 290512.59375,\n",
       " 290528.25,\n",
       " 290534.71875,\n",
       " 290517.78125,\n",
       " 290547.46875,\n",
       " 290568.875,\n",
       " 290537.625,\n",
       " 290524.21875,\n",
       " 290463.5625,\n",
       " 290584.3125,\n",
       " 290583.875,\n",
       " 290597.84375,\n",
       " 290608.21875,\n",
       " 290601.59375,\n",
       " 290577.125,\n",
       " 290590.4375,\n",
       " 290590.59375,\n",
       " 290591.53125,\n",
       " 290584.6875,\n",
       " 290607.6875,\n",
       " 290572.28125,\n",
       " 290545.3125,\n",
       " 290543.46875,\n",
       " 290573.84375,\n",
       " 290624.1875,\n",
       " 290559.75,\n",
       " 290556.28125,\n",
       " 290634.5,\n",
       " 290659.53125,\n",
       " 290611.28125,\n",
       " 290657.5625,\n",
       " 290636.0,\n",
       " 290667.40625,\n",
       " 290689.71875,\n",
       " 290676.53125,\n",
       " 290716.28125,\n",
       " 290728.25,\n",
       " 290705.40625,\n",
       " 290655.9375,\n",
       " 290687.8125,\n",
       " 290700.625,\n",
       " 290672.3125,\n",
       " 290695.375,\n",
       " 290626.875,\n",
       " 290615.0625,\n",
       " 290630.96875,\n",
       " 290618.90625,\n",
       " 290685.8125,\n",
       " 290653.28125,\n",
       " 290615.53125,\n",
       " 290612.875,\n",
       " 290567.375,\n",
       " 290618.8125,\n",
       " 290653.46875,\n",
       " 290663.0,\n",
       " 290594.40625,\n",
       " 290591.53125,\n",
       " 290565.125,\n",
       " 290573.0625,\n",
       " 290563.0625,\n",
       " 290573.34375,\n",
       " 290553.3125,\n",
       " 290472.34375,\n",
       " 290514.84375,\n",
       " 290515.28125,\n",
       " 290547.09375,\n",
       " 290500.75,\n",
       " 290539.65625,\n",
       " 290466.6875,\n",
       " 290497.125,\n",
       " 290482.40625,\n",
       " 290522.53125,\n",
       " 290550.75,\n",
       " 290650.53125,\n",
       " 290603.5625,\n",
       " 290648.8125,\n",
       " 290654.09375,\n",
       " 290651.03125,\n",
       " 290675.34375,\n",
       " 290637.875,\n",
       " 290648.1875,\n",
       " 290660.9375,\n",
       " 290641.875,\n",
       " 290691.96875,\n",
       " 290691.75,\n",
       " 290654.53125,\n",
       " 290590.21875,\n",
       " 290613.53125,\n",
       " 290597.03125,\n",
       " 290625.40625,\n",
       " 290637.25,\n",
       " 290601.53125,\n",
       " 290582.8125,\n",
       " 290582.8125,\n",
       " 290537.0,\n",
       " 290559.03125,\n",
       " 290630.15625,\n",
       " 290651.625,\n",
       " 290632.25,\n",
       " 290636.4375,\n",
       " 290624.09375,\n",
       " 290676.15625,\n",
       " 290640.125,\n",
       " 290595.4375,\n",
       " 290609.3125,\n",
       " 290594.84375,\n",
       " 290628.03125,\n",
       " 290580.75,\n",
       " 290590.4375,\n",
       " 290601.71875,\n",
       " 290586.875,\n",
       " 290607.25,\n",
       " 290576.6875,\n",
       " 290575.53125,\n",
       " 290537.3125,\n",
       " 290569.15625,\n",
       " 290577.8125,\n",
       " 290559.4375,\n",
       " 290521.34375,\n",
       " 290510.03125,\n",
       " 290552.28125,\n",
       " 290476.21875,\n",
       " 290486.09375,\n",
       " 290558.8125,\n",
       " 290534.25,\n",
       " 290577.09375,\n",
       " 290558.125,\n",
       " 290537.96875,\n",
       " 290536.65625,\n",
       " 290510.4375,\n",
       " 290474.9375,\n",
       " 290569.84375,\n",
       " 290529.8125,\n",
       " 290598.4375,\n",
       " 290631.09375,\n",
       " 290629.90625,\n",
       " 290573.28125,\n",
       " 290646.5,\n",
       " 290621.75,\n",
       " 290630.34375,\n",
       " 290624.90625,\n",
       " 290651.03125,\n",
       " 290688.5,\n",
       " 290657.78125,\n",
       " 290653.59375,\n",
       " 290653.375,\n",
       " 290690.375,\n",
       " 290656.53125,\n",
       " 290671.25,\n",
       " 290661.90625,\n",
       " 290649.28125,\n",
       " 290602.40625,\n",
       " 290623.625,\n",
       " 290632.40625,\n",
       " 290609.0625,\n",
       " 290588.75,\n",
       " 290619.625,\n",
       " 290614.78125,\n",
       " 290606.96875,\n",
       " 290549.96875,\n",
       " 290556.90625,\n",
       " 290555.3125,\n",
       " 290565.34375,\n",
       " 290570.90625,\n",
       " 290606.71875,\n",
       " 290678.40625,\n",
       " 290666.09375,\n",
       " 290645.0625,\n",
       " 290758.3125,\n",
       " 290720.375,\n",
       " 290747.0625,\n",
       " 290762.71875,\n",
       " 290737.59375,\n",
       " 290757.34375,\n",
       " 290755.03125,\n",
       " 290744.90625,\n",
       " 290724.34375,\n",
       " 290774.5,\n",
       " 290783.59375,\n",
       " 290692.53125,\n",
       " 290646.25,\n",
       " 290614.5625,\n",
       " 290581.28125,\n",
       " 290608.46875,\n",
       " 290598.09375,\n",
       " 290547.875,\n",
       " 290604.4375,\n",
       " 290604.125,\n",
       " 290638.53125,\n",
       " 290660.4375,\n",
       " 290616.5,\n",
       " 290663.53125,\n",
       " 290702.15625,\n",
       " 290722.1875,\n",
       " 290760.34375,\n",
       " 290691.53125,\n",
       " 290671.15625,\n",
       " 290660.125,\n",
       " 290693.53125,\n",
       " 290643.15625,\n",
       " 290661.25,\n",
       " 290687.65625,\n",
       " 290695.3125,\n",
       " 290734.78125,\n",
       " 290718.125,\n",
       " 290688.1875,\n",
       " 290672.6875,\n",
       " 290635.5,\n",
       " 290603.875,\n",
       " 290569.5,\n",
       " 290541.9375,\n",
       " 290515.375,\n",
       " 290507.625,\n",
       " 290513.0625,\n",
       " 290524.96875,\n",
       " 290578.3125,\n",
       " 290632.53125,\n",
       " 290648.6875,\n",
       " 290711.96875,\n",
       " 290694.09375,\n",
       " 290616.625,\n",
       " 290673.59375,\n",
       " 290655.59375,\n",
       " 290684.71875,\n",
       " 290653.8125,\n",
       " 290699.875,\n",
       " 290638.25,\n",
       " 290624.59375,\n",
       " 290634.5,\n",
       " 290656.5,\n",
       " 290694.84375,\n",
       " 290609.6875,\n",
       " 290708.75,\n",
       " 290674.375,\n",
       " 290657.40625,\n",
       " 290670.34375,\n",
       " 290682.125,\n",
       " 290694.5,\n",
       " 290707.65625,\n",
       " 290692.8125,\n",
       " 290632.25,\n",
       " 290694.15625,\n",
       " 290814.09375,\n",
       " 290823.9375,\n",
       " 290809.3125,\n",
       " 290772.09375,\n",
       " 290838.96875,\n",
       " 290820.125,\n",
       " 290763.21875,\n",
       " 290786.5,\n",
       " 290725.625,\n",
       " 290730.09375,\n",
       " 290696.25,\n",
       " 290733.9375,\n",
       " 290646.09375,\n",
       " 290659.65625,\n",
       " 290585.09375,\n",
       " 290582.25,\n",
       " 290588.96875,\n",
       " 290628.375,\n",
       " 290621.84375,\n",
       " 290580.9375,\n",
       " 290528.21875,\n",
       " 290564.53125,\n",
       " 290577.25,\n",
       " 290595.375,\n",
       " 290612.78125,\n",
       " 290629.75,\n",
       " 290691.4375,\n",
       " 290709.65625,\n",
       " 290648.15625,\n",
       " 290703.5625,\n",
       " 290785.59375,\n",
       " 290778.25,\n",
       " 290630.78125,\n",
       " 290602.59375,\n",
       " 290610.75,\n",
       " 290600.53125,\n",
       " 290607.5625,\n",
       " 290577.21875,\n",
       " 290565.53125,\n",
       " 290601.1875,\n",
       " 290528.09375,\n",
       " 290557.59375,\n",
       " 290609.6875,\n",
       " 290600.65625,\n",
       " 290662.0625,\n",
       " 290676.0,\n",
       " 290645.375,\n",
       " 290655.4375,\n",
       " 290720.75,\n",
       " 290746.375,\n",
       " 290745.4375,\n",
       " 290717.03125,\n",
       " 290755.03125,\n",
       " 290762.09375,\n",
       " 290714.25,\n",
       " 290716.28125,\n",
       " 290680.78125,\n",
       " 290702.15625,\n",
       " 290743.375,\n",
       " 290707.03125,\n",
       " 290717.8125,\n",
       " 290695.625,\n",
       " 290654.9375,\n",
       " 290645.5625,\n",
       " 290623.0,\n",
       " 290564.09375,\n",
       " 290619.875,\n",
       " 290623.15625,\n",
       " 290556.0,\n",
       " 290593.75,\n",
       " 290729.25,\n",
       " 290769.8125,\n",
       " 290663.84375,\n",
       " 290696.46875,\n",
       " 290733.3125,\n",
       " 290750.0625,\n",
       " 290707.5625,\n",
       " 290696.3125,\n",
       " 290647.9375,\n",
       " 290685.34375,\n",
       " 290678.0,\n",
       " 290645.9375,\n",
       " 290678.1875,\n",
       " 290707.28125,\n",
       " 290613.9375,\n",
       " 290624.4375,\n",
       " 290634.21875,\n",
       " 290512.1875,\n",
       " 290511.5,\n",
       " 290550.34375,\n",
       " 290555.03125,\n",
       " 290501.40625,\n",
       " 290499.78125,\n",
       " 290514.34375,\n",
       " 290600.4375,\n",
       " 290609.9375,\n",
       " 290609.15625,\n",
       " 290676.75,\n",
       " 290666.75,\n",
       " 290737.3125,\n",
       " 290755.1875,\n",
       " 290742.90625,\n",
       " 290703.03125,\n",
       " 290666.71875,\n",
       " 290669.59375,\n",
       " 290643.90625,\n",
       " 290671.5,\n",
       " 290692.34375,\n",
       " 290668.65625,\n",
       " 290704.1875,\n",
       " 290697.875,\n",
       " 290705.65625,\n",
       " 290711.0625,\n",
       " 290651.21875,\n",
       " 290696.46875,\n",
       " 290692.9375,\n",
       " 290663.90625,\n",
       " 290637.03125,\n",
       " 290598.5625,\n",
       " 290597.46875,\n",
       " 290594.0,\n",
       " 290585.0,\n",
       " 290631.09375,\n",
       " 290649.3125,\n",
       " 290708.34375,\n",
       " 290671.1875,\n",
       " 290686.28125,\n",
       " 290676.75,\n",
       " 290596.84375,\n",
       " 290495.90625,\n",
       " 290543.8125,\n",
       " 290524.0,\n",
       " 290547.46875,\n",
       " 290499.625,\n",
       " 290531.8125,\n",
       " 290605.6875,\n",
       " 290611.5,\n",
       " 290625.1875,\n",
       " 290548.03125,\n",
       " 290604.84375,\n",
       " 290565.40625,\n",
       " 290563.9375,\n",
       " 290542.09375,\n",
       " 290579.8125,\n",
       " 290600.28125,\n",
       " 290534.28125,\n",
       " 290560.625,\n",
       " 290567.3125,\n",
       " 290572.75,\n",
       " 290560.6875,\n",
       " 290664.65625,\n",
       " 290708.8125,\n",
       " 290734.40625,\n",
       " 290726.0625,\n",
       " 290685.40625,\n",
       " 290631.5625,\n",
       " 290643.46875,\n",
       " 290696.1875,\n",
       " 290637.3125,\n",
       " 290603.34375,\n",
       " 290619.78125,\n",
       " 290642.0,\n",
       " 290658.28125,\n",
       " 290730.53125,\n",
       " 290721.75,\n",
       " 290733.5,\n",
       " 290696.75,\n",
       " 290712.875,\n",
       " 290724.625,\n",
       " 290742.28125,\n",
       " 290716.3125,\n",
       " 290643.59375,\n",
       " 290643.25,\n",
       " 290602.96875,\n",
       " 290658.53125,\n",
       " 290662.46875,\n",
       " 290669.0625,\n",
       " 290687.75,\n",
       " 290688.96875,\n",
       " 290680.46875,\n",
       " 290694.71875,\n",
       " 290661.25,\n",
       " 290690.1875,\n",
       " 290697.15625,\n",
       " 290652.0625,\n",
       " 290670.53125,\n",
       " 290652.53125,\n",
       " 290615.59375,\n",
       " 290558.59375,\n",
       " 290517.6875,\n",
       " 290549.71875,\n",
       " 290616.65625,\n",
       " 290586.21875,\n",
       " 290572.9375,\n",
       " 290566.3125,\n",
       " 290516.03125,\n",
       " 290564.46875,\n",
       " 290524.71875,\n",
       " 290530.875,\n",
       " 290598.625,\n",
       " 290632.125,\n",
       " 290614.375,\n",
       " 290616.03125,\n",
       " 290647.25,\n",
       " 290635.5625,\n",
       " 290627.75,\n",
       " 290585.21875,\n",
       " 290583.78125,\n",
       " 290654.65625,\n",
       " 290608.84375,\n",
       " 290625.21875,\n",
       " 290658.8125,\n",
       " 290583.5,\n",
       " 290577.25,\n",
       " 290579.625,\n",
       " 290576.625,\n",
       " 290642.625,\n",
       " 290595.15625,\n",
       " 290600.03125,\n",
       " 290697.75,\n",
       " 290680.34375,\n",
       " 290738.78125,\n",
       " 290677.875,\n",
       " 290694.53125,\n",
       " 290676.65625,\n",
       " 290691.3125,\n",
       " 290580.625,\n",
       " 290611.53125,\n",
       " 290582.375,\n",
       " 290567.46875,\n",
       " 290595.0,\n",
       " 290596.4375,\n",
       " 290639.53125,\n",
       " 290621.0,\n",
       " 290648.3125,\n",
       " 290633.8125,\n",
       " 290677.03125,\n",
       " 290596.34375,\n",
       " 290564.78125,\n",
       " 290575.15625,\n",
       " 290482.875,\n",
       " 290557.21875,\n",
       " 290588.34375,\n",
       " 290608.21875,\n",
       " 290576.625,\n",
       " 290538.53125,\n",
       " 290573.5,\n",
       " 290635.03125,\n",
       " 290624.625,\n",
       " 290575.375,\n",
       " 290562.15625,\n",
       " 290468.40625,\n",
       " 290497.5625,\n",
       " 290512.78125,\n",
       " 290515.625,\n",
       " 290499.4375,\n",
       " 290537.75,\n",
       " 290552.625,\n",
       " 290577.96875,\n",
       " 290634.125,\n",
       " 290631.625,\n",
       " 290566.0,\n",
       " 290570.5625,\n",
       " 290558.03125,\n",
       " 290597.65625,\n",
       " 290545.40625,\n",
       " 290552.3125,\n",
       " 290533.5,\n",
       " 290510.25,\n",
       " 290582.21875,\n",
       " 290577.65625,\n",
       " 290599.25,\n",
       " 290630.375,\n",
       " 290606.4375,\n",
       " 290685.84375,\n",
       " 290629.96875,\n",
       " 290698.9375,\n",
       " 290670.40625,\n",
       " 290627.71875,\n",
       " 290580.84375,\n",
       " 290645.5,\n",
       " 290611.3125,\n",
       " 290629.28125,\n",
       " 290640.21875,\n",
       " 290633.90625,\n",
       " 290667.25,\n",
       " 290659.65625,\n",
       " 290665.4375,\n",
       " 290603.6875,\n",
       " 290609.9375,\n",
       " 290566.125,\n",
       " 290614.96875,\n",
       " 290576.53125,\n",
       " 290528.15625,\n",
       " 290578.71875,\n",
       " 290562.1875,\n",
       " 290586.09375,\n",
       " 290641.6875,\n",
       " 290652.5,\n",
       " 290628.6875,\n",
       " 290686.8125,\n",
       " 290627.625,\n",
       " 290605.28125,\n",
       " 290671.125,\n",
       " 290588.96875,\n",
       " 290561.375,\n",
       " 290579.21875,\n",
       " 290562.5625,\n",
       " 290519.625,\n",
       " 290509.5,\n",
       " 290516.40625,\n",
       " 290518.96875,\n",
       " 290578.71875,\n",
       " 290453.34375,\n",
       " 290479.15625,\n",
       " 290504.9375,\n",
       " 290525.03125,\n",
       " 290527.96875,\n",
       " 290503.40625,\n",
       " 290508.65625,\n",
       " 290569.09375,\n",
       " 290517.25,\n",
       " 290521.84375,\n",
       " 290574.40625,\n",
       " 290582.90625,\n",
       " 290597.5625,\n",
       " 290603.25,\n",
       " 290644.96875,\n",
       " 290588.84375,\n",
       " 290595.28125,\n",
       " 290588.28125,\n",
       " 290622.34375,\n",
       " 290665.03125,\n",
       " 290667.625,\n",
       " 290680.0625,\n",
       " 290658.28125,\n",
       " 290648.4375,\n",
       " 290619.90625,\n",
       " 290667.59375,\n",
       " 290624.8125,\n",
       " 290660.03125,\n",
       " 290637.53125,\n",
       " 290610.875,\n",
       " 290597.40625,\n",
       " 290524.75,\n",
       " 290546.09375,\n",
       " 290481.28125,\n",
       " 290516.78125,\n",
       " 290504.625,\n",
       " 290548.375,\n",
       " 290583.03125,\n",
       " 290604.53125,\n",
       " 290555.875,\n",
       " 290559.5625,\n",
       " 290629.53125,\n",
       " 290650.78125,\n",
       " 290648.96875,\n",
       " 290624.78125,\n",
       " 290633.1875,\n",
       " 290555.8125,\n",
       " 290559.84375,\n",
       " 290618.03125,\n",
       " 290612.40625,\n",
       " 290550.0625,\n",
       " 290594.59375,\n",
       " 290597.15625,\n",
       " 290525.8125,\n",
       " 290570.625,\n",
       " 290524.28125,\n",
       " 290532.53125,\n",
       " 290487.8125,\n",
       " 290513.53125,\n",
       " 290528.75,\n",
       " 290478.6875,\n",
       " 290544.1875,\n",
       " 290569.09375,\n",
       " 290598.65625,\n",
       " 290614.5625,\n",
       " 290598.1875,\n",
       " 290683.4375,\n",
       " 290645.125,\n",
       " 290597.96875,\n",
       " 290594.09375,\n",
       " 290645.25,\n",
       " 290584.40625,\n",
       " 290628.4375,\n",
       " 290573.5625,\n",
       " 290546.5625,\n",
       " 290617.1875,\n",
       " 290638.9375,\n",
       " 290614.375,\n",
       " 290618.6875,\n",
       " 290670.40625,\n",
       " 290652.46875,\n",
       " 290687.34375,\n",
       " 290644.125,\n",
       " 290655.03125,\n",
       " 290673.34375,\n",
       " 290655.5625,\n",
       " 290736.25,\n",
       " 290713.65625,\n",
       " 290663.0,\n",
       " 290675.5,\n",
       " 290678.125,\n",
       " 290696.09375,\n",
       " 290601.71875,\n",
       " 290603.03125,\n",
       " 290612.65625,\n",
       " 290569.5625,\n",
       " 290553.40625,\n",
       " 290607.21875,\n",
       " 290540.625,\n",
       " 290587.90625,\n",
       " 290592.03125,\n",
       " 290564.125,\n",
       " 290554.5,\n",
       " 290572.4375,\n",
       " 290525.59375,\n",
       " 290519.40625,\n",
       " 290579.1875,\n",
       " 290633.375,\n",
       " 290652.15625,\n",
       " 290691.125,\n",
       " 290713.03125,\n",
       " 290721.65625,\n",
       " 290675.90625,\n",
       " 290623.9375,\n",
       " 290590.6875,\n",
       " 290559.5625,\n",
       " 290617.40625,\n",
       " 290558.75,\n",
       " 290643.0,\n",
       " 290608.1875,\n",
       " 290583.1875,\n",
       " 290558.8125,\n",
       " 290612.875,\n",
       " 290649.46875,\n",
       " 290623.46875,\n",
       " 290697.90625,\n",
       " 290715.84375,\n",
       " 290745.21875,\n",
       " 290713.875,\n",
       " 290728.09375,\n",
       " 290737.78125,\n",
       " 290672.625,\n",
       " 290657.96875,\n",
       " 290662.75,\n",
       " 290679.9375,\n",
       " 290712.875,\n",
       " 290703.78125,\n",
       " 290613.03125,\n",
       " 290659.71875,\n",
       " 290705.3125,\n",
       " 290664.65625,\n",
       " 290625.21875,\n",
       " 290650.0,\n",
       " 290579.875,\n",
       " 290566.125,\n",
       " 290591.46875,\n",
       " 290638.40625,\n",
       " 290586.125,\n",
       " 290606.125,\n",
       " 290663.125,\n",
       " 290607.15625,\n",
       " 290704.1875,\n",
       " 290686.40625,\n",
       " 290663.53125,\n",
       " 290642.8125,\n",
       " 290605.6875,\n",
       " 290534.1875,\n",
       " 290559.875,\n",
       " 290558.125,\n",
       " 290534.90625,\n",
       " 290524.59375,\n",
       " 290534.75,\n",
       " 290560.84375,\n",
       " 290534.5,\n",
       " 290529.875,\n",
       " 290539.40625,\n",
       " 290552.15625,\n",
       " 290541.625,\n",
       " 290578.21875,\n",
       " 290515.375,\n",
       " 290510.0625,\n",
       " 290501.84375,\n",
       " 290505.15625,\n",
       " 290559.625,\n",
       " 290612.40625,\n",
       " 290602.6875,\n",
       " 290647.65625,\n",
       " 290627.6875,\n",
       " 290615.6875,\n",
       " 290653.40625,\n",
       " 290701.4375,\n",
       " 290780.4375,\n",
       " 290727.03125,\n",
       " 290698.15625,\n",
       " 290689.5,\n",
       " 290663.40625,\n",
       " 290662.40625,\n",
       " 290625.46875,\n",
       " 290681.40625,\n",
       " 290669.59375,\n",
       " 290598.375,\n",
       " 290581.15625,\n",
       " 290579.09375,\n",
       " 290567.90625,\n",
       " 290625.34375,\n",
       " 290651.34375,\n",
       " 290622.09375,\n",
       " 290650.65625,\n",
       " 290608.5625,\n",
       " 290585.0625,\n",
       " 290637.84375,\n",
       " 290590.875,\n",
       " 290601.03125,\n",
       " 290649.9375,\n",
       " 290621.34375,\n",
       " 290628.46875,\n",
       " 290708.5625,\n",
       " 290743.78125,\n",
       " 290677.6875,\n",
       " 290621.0625,\n",
       " 290629.46875,\n",
       " 290582.9375,\n",
       " 290483.78125,\n",
       " 290462.09375,\n",
       " 290469.0,\n",
       " 290393.90625,\n",
       " 290479.40625,\n",
       " 290475.1875,\n",
       " 290487.15625,\n",
       " 290509.9375,\n",
       " 290548.0,\n",
       " 290552.53125,\n",
       " 290586.96875,\n",
       " 290577.28125,\n",
       " 290566.6875,\n",
       " 290576.84375,\n",
       " 290641.40625,\n",
       " 290665.34375,\n",
       " 290687.125,\n",
       " 290635.28125,\n",
       " 290686.46875,\n",
       " 290700.34375,\n",
       " 290700.03125,\n",
       " 290681.15625,\n",
       " 290686.6875,\n",
       " 290698.8125,\n",
       " 290654.0,\n",
       " 290645.0625,\n",
       " 290680.5,\n",
       " 290610.03125,\n",
       " 290561.78125,\n",
       " 290583.25,\n",
       " 290613.96875,\n",
       " 290613.65625,\n",
       " 290632.65625,\n",
       " 290609.84375,\n",
       " 290639.59375,\n",
       " 290633.375,\n",
       " 290629.375,\n",
       " 290666.90625,\n",
       " 290687.78125,\n",
       " 290665.09375,\n",
       " 290702.78125,\n",
       " 290719.09375,\n",
       " 290723.0,\n",
       " 290754.96875,\n",
       " 290755.125,\n",
       " 290717.40625,\n",
       " 290713.46875,\n",
       " 290651.03125,\n",
       " 290649.0625,\n",
       " 290645.71875,\n",
       " 290627.40625,\n",
       " 290561.96875,\n",
       " 290549.125,\n",
       " 290522.21875,\n",
       " 290475.0,\n",
       " 290552.4375,\n",
       " 290589.3125,\n",
       " 290569.9375,\n",
       " 290573.1875,\n",
       " 290647.5625,\n",
       " 290625.9375,\n",
       " 290695.28125,\n",
       " 290724.3125,\n",
       " 290673.25,\n",
       " 290686.59375,\n",
       " 290673.84375,\n",
       " 290670.90625,\n",
       " 290656.46875,\n",
       " 290557.8125,\n",
       " 290555.625,\n",
       " 290531.0,\n",
       " 290551.0,\n",
       " 290549.21875,\n",
       " 290599.5625,\n",
       " 290613.9375,\n",
       " 290585.03125,\n",
       " 290552.21875,\n",
       " 290541.53125,\n",
       " 290521.46875,\n",
       " 290485.21875,\n",
       " 290510.09375,\n",
       " 290580.9375,\n",
       " 290622.46875,\n",
       " 290587.3125,\n",
       " 290568.34375,\n",
       " 290645.21875,\n",
       " 290704.3125,\n",
       " 290777.40625,\n",
       " 290776.0625,\n",
       " 290725.375,\n",
       " 290784.75,\n",
       " 290737.03125,\n",
       " 290711.28125,\n",
       " 290675.0625,\n",
       " 290658.0625,\n",
       " 290682.8125,\n",
       " 290687.0625,\n",
       " 290635.375,\n",
       " 290614.90625,\n",
       " 290629.375,\n",
       " 290604.375,\n",
       " 290569.78125,\n",
       " 290537.46875,\n",
       " 290600.8125,\n",
       " 290597.4375,\n",
       " 290657.375,\n",
       " 290665.96875,\n",
       " 290703.1875,\n",
       " 290705.21875,\n",
       " 290675.3125,\n",
       " 290628.75,\n",
       " 290652.46875,\n",
       " 290712.96875,\n",
       " 290678.96875,\n",
       " 290701.46875,\n",
       " 290765.125,\n",
       " 290739.8125,\n",
       " 290780.84375,\n",
       " 290708.40625,\n",
       " 290620.65625,\n",
       " 290539.8125,\n",
       " 290530.84375,\n",
       " 290533.21875,\n",
       " 290586.59375,\n",
       " 290455.75,\n",
       " 290495.21875,\n",
       " 290452.8125,\n",
       " 290466.375,\n",
       " 290508.59375,\n",
       " 290589.53125,\n",
       " 290590.375,\n",
       " 290582.8125,\n",
       " 290601.0,\n",
       " 290592.96875,\n",
       " 290586.375,\n",
       " 290591.6875,\n",
       " 290578.1875,\n",
       " 290613.84375,\n",
       " 290667.03125,\n",
       " 290670.71875,\n",
       " ...]"
      ]
     },
     "execution_count": 600,
     "metadata": {},
     "output_type": "execute_result"
    }
   ],
   "source": [
    "x=data2['flux'][0][1:-1].split(',')\n",
    "# Convert the list of strings to a list of integers\n",
    "x= [float(item) for item in x]\n",
    "x"
   ]
  },
  {
   "cell_type": "code",
   "execution_count": 601,
   "id": "0f1a5b81",
   "metadata": {},
   "outputs": [
    {
     "data": {
      "text/plain": [
       "[1472.1167966736903,\n",
       " 1472.1372297143098,\n",
       " 1472.1576625552843,\n",
       " 1472.1780955964932,\n",
       " 1472.1985285380433,\n",
       " 1472.2189613799492,\n",
       " 1472.2393944220894,\n",
       " 1472.2598273645708,\n",
       " 1472.2802602075244,\n",
       " 1472.300693250596,\n",
       " 1472.321126194125,\n",
       " 1472.3415591380108,\n",
       " 1472.3619920821293,\n",
       " 1472.3824250265898,\n",
       " 1472.4028580714075,\n",
       " 1472.4232909164566,\n",
       " 1472.4437238619648,\n",
       " 1472.464156907714,\n",
       " 1472.4845898538042,\n",
       " 1472.5050227002503,\n",
       " 1472.5254557469307,\n",
       " 1472.545888694076,\n",
       " 1472.5663216414468,\n",
       " 1472.5867545891742,\n",
       " 1472.6071875372436,\n",
       " 1472.627620485553,\n",
       " 1472.6480534342118,\n",
       " 1472.6684863833361,\n",
       " 1472.6889193325696,\n",
       " 1472.709352282276,\n",
       " 1472.729785132331,\n",
       " 1472.750218182613,\n",
       " 1472.7706511332508,\n",
       " 1472.7910841842313,\n",
       " 1472.8115170355668,\n",
       " 1472.8319499871359,\n",
       " 1472.8523830391641,\n",
       " 1472.872815891431,\n",
       " 1472.8932488440478,\n",
       " 1472.913681896891,\n",
       " 1472.9341147502055,\n",
       " 1472.974980757761,\n",
       " 1472.9954137118912,\n",
       " 1473.015846666487,\n",
       " 1473.036279621425,\n",
       " 1473.0567125766029,\n",
       " 1473.07714553213,\n",
       " 1473.0975784879993,\n",
       " 1473.118011444225,\n",
       " 1473.1384445008007,\n",
       " 1473.1588773576004,\n",
       " 1473.1793104148746,\n",
       " 1473.199743372381,\n",
       " 1473.2201762302284,\n",
       " 1473.2406092883175,\n",
       " 1473.2610422468715,\n",
       " 1473.2814751056503,\n",
       " 1473.3019081647872,\n",
       " 1473.3223411242725,\n",
       " 1473.342773984099,\n",
       " 1473.3632070442836,\n",
       " 1473.3836399046995,\n",
       " 1473.4040729655753,\n",
       " 1473.4245059266905,\n",
       " 1473.444938788154,\n",
       " 1473.4653718498448,\n",
       " 1473.4858048120077,\n",
       " 1473.5062377744034,\n",
       " 1473.5266707372575,\n",
       " 1473.5471037003517,\n",
       " 1473.5675367637887,\n",
       " 1473.5879696274642,\n",
       " 1473.6084025916061,\n",
       " 1473.6492686206984,\n",
       " 1473.669701485771,\n",
       " 1473.690134551187,\n",
       " 1473.7105675169587,\n",
       " 1473.731000383079,\n",
       " 1473.7514334494335,\n",
       " 1473.7718664161293,\n",
       " 1473.7922993831817,\n",
       " 1473.812732350576,\n",
       " 1473.8331653183268,\n",
       " 1473.8535983863112,\n",
       " 1473.8740312547598,\n",
       " 1473.8944642234346,\n",
       " 1473.914897192466,\n",
       " 1473.9353301618394,\n",
       " 1473.95576323157,\n",
       " 1473.976196101532,\n",
       " 1473.996629071953,\n",
       " 1474.017062142615,\n",
       " 1474.0374950136247,\n",
       " 1474.0579279849771,\n",
       " 1474.0783610566868,\n",
       " 1474.0987939287443,\n",
       " 1474.119226901028,\n",
       " 1474.1396599737855,\n",
       " 1474.1600928467742,\n",
       " 1474.1805259201064,\n",
       " 1474.2009588937944,\n",
       " 1474.2213918678317,\n",
       " 1474.2418248420945,\n",
       " 1474.2622578168302,\n",
       " 1474.2826907917988,\n",
       " 1474.3031238671101,\n",
       " 1474.3235567427764,\n",
       " 1474.3439898187935,\n",
       " 1474.3644227951518,\n",
       " 1474.3848556718658,\n",
       " 1474.405288748807,\n",
       " 1474.4257217261038,\n",
       " 1474.4461546038656,\n",
       " 1474.4665876818617,\n",
       " 1474.4870206600826,\n",
       " 1474.5074535387757,\n",
       " 1474.5278866178123,\n",
       " 1474.5483195970883,\n",
       " 1474.5687525768299,\n",
       " 1474.5891855568043,\n",
       " 1474.6096185371207,\n",
       " 1474.6300515177936,\n",
       " 1474.6504844988085,\n",
       " 1474.67091748018,\n",
       " 1474.6913504617842,\n",
       " 1474.711783443854,\n",
       " 1474.7322165261503,\n",
       " 1474.7526494088015,\n",
       " 1474.7730823917955,\n",
       " 1474.7935154751467,\n",
       " 1474.8139483588457,\n",
       " 1474.8343813427782,\n",
       " 1474.85481442717,\n",
       " 1474.875247411801,\n",
       " 1474.8956802968896,\n",
       " 1474.91611338222,\n",
       " 1474.9365463678987,\n",
       " 1474.9569793539195,\n",
       " 1474.9774123401803,\n",
       " 1474.9978453269068,\n",
       " 1475.018278413976,\n",
       " 1475.038711301284,\n",
       " 1475.0591442889418,\n",
       " 1475.0795773770587,\n",
       " 1475.1000102654143,\n",
       " 1475.1204433540042,\n",
       " 1475.1408763430518,\n",
       " 1475.161309232455,\n",
       " 1475.1817423222092,\n",
       " 1475.202175312188,\n",
       " 1475.222608202639,\n",
       " 1475.2430412933245,\n",
       " 1475.2634741843503,\n",
       " 1475.2839071757335,\n",
       " 1475.3043402674666,\n",
       " 1475.3247731595402,\n",
       " 1475.3452062518554,\n",
       " 1475.3656392446355,\n",
       " 1475.3860722376412,\n",
       " 1475.4065052311198,\n",
       " 1475.4269382248312,\n",
       " 1475.4473712188847,\n",
       " 1475.4678042132946,\n",
       " 1475.4882372080538,\n",
       " 1475.5086703031557,\n",
       " 1475.5291032986133,\n",
       " 1475.549536194303,\n",
       " 1475.5699692904527,\n",
       " 1475.5904022868417,\n",
       " 1475.6108351836956,\n",
       " 1475.6312682807766,\n",
       " 1475.6517012782133,\n",
       " 1475.6721341759985,\n",
       " 1475.6925672741272,\n",
       " 1475.7130002726117,\n",
       " 1475.7334333713225,\n",
       " 1475.7538662705047,\n",
       " 1475.7742992700369,\n",
       " 1475.7947323697954,\n",
       " 1475.815165269909,\n",
       " 1475.8355982704888,\n",
       " 1475.8560312712943,\n",
       " 1475.8764642724564,\n",
       " 1475.8968972739676,\n",
       " 1475.9173302758281,\n",
       " 1475.9377632780306,\n",
       " 1475.958196380474,\n",
       " 1475.9786292833742,\n",
       " 1475.9990622866317,\n",
       " 1476.0194953901228,\n",
       " 1476.0399282939616,\n",
       " 1476.0603612982595,\n",
       " 1476.0807944027983,\n",
       " 1476.1012274076784,\n",
       " 1476.121660412915,\n",
       " 1476.1420934185007,\n",
       " 1476.1625264244285,\n",
       " 1476.1829595305971,\n",
       " 1476.20339243723,\n",
       " 1476.2238254442054,\n",
       " 1476.2442585514218,\n",
       " 1476.2646914591023,\n",
       " 1476.2851244670092,\n",
       " 1476.3055575752733,\n",
       " 1476.3259904840015,\n",
       " 1476.3464235929569,\n",
       " 1476.366856602268,\n",
       " 1476.3872895119275,\n",
       " 1476.4077226219306,\n",
       " 1476.4281556322894,\n",
       " 1476.4485885428803,\n",
       " 1476.4690216539311,\n",
       " 1476.4894546653377,\n",
       " 1476.509887676977,\n",
       " 1476.5303206890749,\n",
       " 1476.5507537014128,\n",
       " 1476.5711867141,\n",
       " 1476.5916197272454,\n",
       " 1476.632485754366,\n",
       " 1476.6529187684428,\n",
       " 1476.6733517828761,\n",
       " 1476.6937848976522,\n",
       " 1476.7142178127833,\n",
       " 1476.7346509282652,\n",
       " 1476.7550839440883,\n",
       " 1476.7755168601507,\n",
       " 1476.7959499766803,\n",
       " 1476.8163829934347,\n",
       " 1476.8368159106612,\n",
       " 1476.8572490281222,\n",
       " 1476.8776820460407,\n",
       " 1476.8981151642001,\n",
       " 1476.9185480827073,\n",
       " 1476.9389811016736,\n",
       " 1476.9594142208807,\n",
       " 1476.9798471404356,\n",
       " 1477.0002801603332,\n",
       " 1477.020713280588,\n",
       " 1477.0411462011907,\n",
       " 1477.061579222136,\n",
       " 1477.0820123433223,\n",
       " 1477.1024452649726,\n",
       " 1477.1228783869665,\n",
       " 1477.143311409316,\n",
       " 1477.1637444318985,\n",
       " 1477.1841774549393,\n",
       " 1477.2046103782195,\n",
       " 1477.225043401966,\n",
       " 1477.245476525939,\n",
       " 1477.265909550384,\n",
       " 1477.286342575062,\n",
       " 1477.306775600082,\n",
       " 1488.6880238795566,\n",
       " 1488.708457206798,\n",
       " 1488.7288903342705,\n",
       " 1488.749323662436,\n",
       " 1488.7697568906078,\n",
       " 1488.7901900194702,\n",
       " 1488.8106233485742,\n",
       " 1488.8310565779102,\n",
       " 1488.851489707944,\n",
       " 1488.8719230382048,\n",
       " 1488.892356268705,\n",
       " 1488.9127893996629,\n",
       " 1488.9332227310952,\n",
       " 1488.9536559627595,\n",
       " 1488.974089294883,\n",
       " 1488.994522427478,\n",
       " 1489.0149556603064,\n",
       " 1489.0353888935933,\n",
       " 1489.0558221273532,\n",
       " 1489.0762553613458,\n",
       " 1489.0966885957969,\n",
       " 1489.117121830488,\n",
       " 1489.1375551656456,\n",
       " 1489.1579884012608,\n",
       " 1489.1784215371154,\n",
       " 1489.198854873437,\n",
       " 1489.2192881102164,\n",
       " 1489.2397212472351,\n",
       " 1489.260154584721,\n",
       " 1489.2805878224317,\n",
       " 1489.3010209606146,\n",
       " 1489.3214542992646,\n",
       " 1489.3418875381394,\n",
       " 1489.362320877488,\n",
       " 1489.3827540173006,\n",
       " 1489.4031872573396,\n",
       " 1489.4236205978523,\n",
       " 1489.4440537385963,\n",
       " 1489.4644869797994,\n",
       " 1489.4849203214762,\n",
       " 1489.5053534633844,\n",
       " 1489.5257867057517,\n",
       " 1489.5462200485927,\n",
       " 1489.566653191665,\n",
       " 1489.5870865351972,\n",
       " 1489.6075197789687,\n",
       " 1489.6279530234315,\n",
       " 1489.6483862679015,\n",
       " 1489.66881951307,\n",
       " 1489.6892527584714,\n",
       " 1489.7096860040983,\n",
       " 1489.730119250431,\n",
       " 1489.7505524969893,\n",
       " 1489.7709857437876,\n",
       " 1489.8118522387813,\n",
       " 1489.8322854869693,\n",
       " 1489.8527187353975,\n",
       " 1489.873152084052,\n",
       " 1489.8935852334107,\n",
       " 1489.914018483003,\n",
       " 1489.9344518328217,\n",
       " 1489.9548849833445,\n",
       " 1489.9753183341018,\n",
       " 1489.9957515850838,\n",
       " 1490.016184736538,\n",
       " 1490.0366180884594,\n",
       " 1490.0570513406055,\n",
       " 1490.077484493224,\n",
       " 1490.0979178463094,\n",
       " 1490.1183510998526,\n",
       " 1490.1387844534038,\n",
       " 1490.159217607652,\n",
       " 1490.1796508621264,\n",
       " 1490.2000842170746,\n",
       " 1490.220517372487,\n",
       " 1490.2409506281256,\n",
       " 1490.261383984238,\n",
       " 1490.2818172405823,\n",
       " 1490.3022503973843,\n",
       " 1490.32268365466,\n",
       " 1490.343117012162,\n",
       " 1490.3635502701363,\n",
       " 1490.3839835285762,\n",
       " 1490.4044166872482,\n",
       " 1490.42485004638,\n",
       " 1490.445283305984,\n",
       " 1490.4657164658202,\n",
       " 1490.4861498258833,\n",
       " 1490.5065830866515,\n",
       " 1490.5270162476518,\n",
       " 1490.547449609112,\n",
       " 1490.5678828708114,\n",
       " 1490.58831623297,\n",
       " 1490.6087493956002,\n",
       " 1490.6291826584638,\n",
       " 1490.6496160217866,\n",
       " 1490.6700491855809,\n",
       " 1490.6904824496087,\n",
       " 1490.7109158140956,\n",
       " 1490.7313489788212,\n",
       " 1490.751782344014,\n",
       " 1490.7722156096643,\n",
       " 1490.792648775554,\n",
       " 1490.8130821419109,\n",
       " 1490.8335154087254,\n",
       " 1490.85394867578,\n",
       " 1490.8743819433002,\n",
       " 1490.894815211279,\n",
       " 1490.9152484794977,\n",
       " 1490.935681748182,\n",
       " 1490.956115017325,\n",
       " 1490.9765482867078,\n",
       " 1490.9969815565564,\n",
       " 1491.0174148266306,\n",
       " 1491.0378481971784,\n",
       " 1491.0582813681904,\n",
       " 1491.0787146394287,\n",
       " 1491.0991480113735,\n",
       " 1491.1195811833168,\n",
       " 1491.1400145559528,\n",
       " 1491.1604478288282,\n",
       " 1491.1808810019356,\n",
       " 1491.201314375503,\n",
       " 1491.2217476495425,\n",
       " 1491.242180824047,\n",
       " 1491.2626141987785,\n",
       " 1491.2830474739822,\n",
       " 1491.3034806496507,\n",
       " 1491.3239140255464,\n",
       " 1491.3443473016814,\n",
       " 1491.3647806785157,\n",
       " 1491.385213855574,\n",
       " 1491.405647133106,\n",
       " 1491.4260805108643,\n",
       " 1491.446513689094,\n",
       " 1491.4669469677901,\n",
       " 1491.4873803467199,\n",
       " 1491.5078136261072,\n",
       " 1491.5282469059675,\n",
       " 1491.5486801860534,\n",
       " 1491.5691134666122,\n",
       " 1491.5895467474038,\n",
       " 1491.609980028894,\n",
       " 1491.6304133103768,\n",
       " 1491.6508465925654,\n",
       " 1491.6712798749795,\n",
       " 1491.6917130578659,\n",
       " 1491.7121464409865,\n",
       " 1491.7325797245721,\n",
       " 1491.7530131086169,\n",
       " 1491.7734462929002,\n",
       " 1491.7938795778755,\n",
       " 1491.8143129628588,\n",
       " 1491.8347461485391,\n",
       " 1491.855179434453,\n",
       " 1491.8756128205932,\n",
       " 1491.8960460072049,\n",
       " 1491.9164792942756,\n",
       " 1491.93691268182,\n",
       " 1491.9573458695959,\n",
       " 1491.9777792578316,\n",
       " 1491.9982125465394,\n",
       " 1492.0186458354801,\n",
       " 1492.0390791248792,\n",
       " 1492.0595124145184,\n",
       " 1492.0799457046232,\n",
       " 1492.1003789951865,\n",
       " 1492.1208122862226,\n",
       " 1492.1412456774924,\n",
       " 1492.161678968987,\n",
       " 1492.1821121611865,\n",
       " 1492.2025455536204,\n",
       " 1492.222978846512,\n",
       " 1492.2434120396429,\n",
       " 1492.263845433241,\n",
       " 1492.2842787272966,\n",
       " 1492.3047119215917,\n",
       " 1492.3251453163539,\n",
       " 1492.345578511573,\n",
       " 1492.3660119070337,\n",
       " 1492.3864452029593,\n",
       " 1492.4068783991097,\n",
       " 1492.4273117959674,\n",
       " 1492.4477450930572,\n",
       " 1492.4681782903717,\n",
       " 1492.4886116881607,\n",
       " 1492.5090449864147,\n",
       " 1492.5294783851277,\n",
       " 1492.5499115840794,\n",
       " 1492.5703448834975,\n",
       " 1492.5907782831418,\n",
       " 1492.6112114832576,\n",
       " 1492.6316447838326,\n",
       " 1492.6520781848812,\n",
       " 1492.6725113861612,\n",
       " 1492.6929446876748,\n",
       " 1492.7133780898803,\n",
       " 1492.7338113923252,\n",
       " 1492.7542446952284,\n",
       " 1492.7951113019808,\n",
       " 1492.815544706049,\n",
       " 1492.8359779103557,\n",
       " 1492.856411215129,\n",
       " 1492.8768445203605,\n",
       " 1492.8972778258321,\n",
       " 1492.9177112317702,\n",
       " 1492.9381444381652,\n",
       " 1492.958577744801,\n",
       " 1492.9790111519033,\n",
       " 1492.9994443594624,\n",
       " 1493.0198776672623,\n",
       " 1493.0403110755287,\n",
       " 1493.060744284252,\n",
       " 1493.0811775932161,\n",
       " 1493.1016110026467,\n",
       " 1493.1220442123013,\n",
       " 1493.1424776226631,\n",
       " 1493.1629109330242,\n",
       " 1493.1833442440766,\n",
       " 1493.203777555369,\n",
       " 1493.224210867127,\n",
       " 1493.2446441793436,\n",
       " 1493.2650774918002,\n",
       " 1493.2855108047224,\n",
       " 1493.305944217871,\n",
       " 1493.3263775314917,\n",
       " 1493.3468107455774,\n",
       " 1493.367244160123,\n",
       " 1493.3876774749078,\n",
       " 1493.4081106901576,\n",
       " 1493.4285441056345,\n",
       " 1493.4489774215835,\n",
       " 1493.4694106379975,\n",
       " 1493.4898440548714,\n",
       " 1493.5102773719846,\n",
       " 1493.5307106895634,\n",
       " 1493.5511440073678,\n",
       " 1493.5715773256452,\n",
       " 1493.592010644381,\n",
       " 1493.6124439633568,\n",
       " 1493.6328771827975,\n",
       " 1493.6533106027055,\n",
       " 1493.673743923071,\n",
       " 1493.6941773436774,\n",
       " 1493.714610564508,\n",
       " 1493.7350438860449,\n",
       " 1493.7554773078155,\n",
       " 1493.7759105300502,\n",
       " 1493.7963438525112,\n",
       " 1493.816777275446,\n",
       " 1493.8372104988375,\n",
       " 1493.85764382247,\n",
       " 1493.8780772465689,\n",
       " 1493.8985105711254,\n",
       " 1493.918943895922,\n",
       " 1493.939377221417,\n",
       " 1493.959810546905,\n",
       " 1493.9802438730985,\n",
       " 1494.000677199525,\n",
       " 1494.021110526177,\n",
       " 1494.0415439535354,\n",
       " 1494.0619771811253,\n",
       " 1494.082410609175,\n",
       " 1494.102843937464,\n",
       " 1494.123277166218,\n",
       " 1494.143710595432,\n",
       " 1494.1641438248844,\n",
       " 1494.1845771548033,\n",
       " 1494.2050105851813,\n",
       " 1494.2254439157987,\n",
       " 1494.245877146881,\n",
       " 1494.2663105784231,\n",
       " 1494.286743810204,\n",
       " 1494.3071772424519,\n",
       " 1494.3276105751575,\n",
       " 1494.3480438083352,\n",
       " 1494.3684772415145,\n",
       " 1494.3889105753842,\n",
       " 1494.4093439097269,\n",
       " 1494.4297772443024,\n",
       " 1494.4502105791034,\n",
       " 1494.470644014611,\n",
       " 1494.49107725035,\n",
       " 1494.511510586548,\n",
       " 1494.5319440229869,\n",
       " 1494.5523773598834,\n",
       " 1494.572810597252,\n",
       " 1494.5932440348552,\n",
       " 1494.6136773729231,\n",
       " 1494.6341106114487,\n",
       " 1494.654544050216,\n",
       " 1494.6749773894408,\n",
       " 1494.6954108291393,\n",
       " 1494.715844069302,\n",
       " 1494.7362774096982,\n",
       " 1494.7567108503208,\n",
       " 1494.7771440916476,\n",
       " 1494.7975774332008,\n",
       " 1494.8180107752269,\n",
       " 1494.8384441174858,\n",
       " 1494.8588775602038,\n",
       " 1494.8793108033933,\n",
       " 1494.8997441468164,\n",
       " 1494.9201775909314,\n",
       " 1494.9406108350522,\n",
       " 1494.9610441798723,\n",
       " 1494.9814776249186,\n",
       " 1495.0019108704364,\n",
       " 1495.0223442161878,\n",
       " 1495.0427776623983,\n",
       " 1495.063211009081,\n",
       " 1495.0836443562293,\n",
       " 1495.1040777036033,\n",
       " 1495.12451105145,\n",
       " 1495.1449443995298,\n",
       " 1495.1653777480678,\n",
       " 1495.1858110970788,\n",
       " 1495.2062445465563,\n",
       " 1495.2266777962577,\n",
       " 1495.2471112464336,\n",
       " 1495.2675445968416,\n",
       " 1495.2879778477072,\n",
       " 1495.3084112990473,\n",
       " 1495.3288446508523,\n",
       " 1495.349277902882,\n",
       " 1495.3697113553862,\n",
       " 1495.390144708348,\n",
       " 1495.4105779615493,\n",
       " 1495.4310114152177,\n",
       " 1495.451444769118,\n",
       " 1495.4718781237098,\n",
       " 1495.4923114785415,\n",
       " 1495.5127448335988,\n",
       " 1495.533178189129,\n",
       " 1495.553611545125,\n",
       " 1495.5740449015866,\n",
       " 1495.5944782582737,\n",
       " 1495.6149116154338,\n",
       " 1495.635345073053,\n",
       " 1495.6557783309108,\n",
       " 1495.676211689235,\n",
       " 1495.6966451480184,\n",
       " 1495.7170784070404,\n",
       " 1495.7375117667616,\n",
       " 1495.778378586896,\n",
       " 1495.7988118475478,\n",
       " 1495.8192453084266,\n",
       " 1495.8396786700105,\n",
       " 1495.8601120318272,\n",
       " 1495.8805453941022,\n",
       " 1495.9009787566174,\n",
       " 1495.921412219599,\n",
       " 1495.9418454830375,\n",
       " 1495.9622788469496,\n",
       " 1495.9827123110954,\n",
       " 1496.003145575698,\n",
       " 1496.0235790405422,\n",
       " 1496.0440124058514,\n",
       " 1496.0644456716182,\n",
       " 1496.0848791378594,\n",
       " 1496.105312404332,\n",
       " 1496.1257457712636,\n",
       " 1496.1461792384362,\n",
       " 1496.1666125063057,\n",
       " 1496.1870458744015,\n",
       " 1496.2074793427382,\n",
       " 1496.227912611539,\n",
       " 1496.2483460807998,\n",
       " 1496.2687794505327,\n",
       " 1496.2892128204985,\n",
       " 1496.3096461909226,\n",
       " 1496.3300795618197,\n",
       " 1496.3505129329496,\n",
       " 1496.370946304538,\n",
       " 1496.3913796765992,\n",
       " 1496.411813148894,\n",
       " 1496.4322465218793,\n",
       " 1496.452679794871,\n",
       " 1496.4731132685556,\n",
       " 1496.4935466424795,\n",
       " 1496.5139799152385,\n",
       " 1496.5344133898616,\n",
       " 1496.5548467649423,\n",
       " 1496.5752800404953,\n",
       " 1496.595713516508,\n",
       " 1496.6161468927603,\n",
       " 1496.636580369479,\n",
       " 1496.6570136464288,\n",
       " 1496.6774470238379,\n",
       " 1496.6978805017206,\n",
       " 1496.7183137800603,\n",
       " 1496.7387471586408,\n",
       " 1496.759180537687,\n",
       " 1496.7796139171987,\n",
       " 1496.8000473969369,\n",
       " 1496.8204806771464,\n",
       " 1496.840914057815,\n",
       " 1496.8613475387247,\n",
       " 1496.8817808200984,\n",
       " 1496.9022142019385,\n",
       " 1496.922647684005,\n",
       " 1496.9430810665435,\n",
       " 1496.9635144495405,\n",
       " 1496.9839478327776,\n",
       " 1497.0043812164804,\n",
       " 1497.0248146006415,\n",
       " 1497.0452479852756,\n",
       " 1497.0656813701426,\n",
       " 1497.0861148554686,\n",
       " 1497.1065481410333,\n",
       " 1497.1269815270643,\n",
       " 1497.1474150135546,\n",
       " 1497.1678483005162,\n",
       " 1497.1882817877122,\n",
       " 1497.2087151753658,\n",
       " 1497.2291484634916,\n",
       " 1497.2495819518517,\n",
       " 1497.2700153406695,\n",
       " 1497.2904486299594,\n",
       " 1497.3108821194837,\n",
       " 1497.3313155094656,\n",
       " 1497.3517489999213,\n",
       " 1497.3721822906082,\n",
       " 1497.3926156817543,\n",
       " 1497.4130490733733,\n",
       " 1497.433482465458,\n",
       " 1497.4539158577682,\n",
       " 1497.4743492505513,\n",
       " 1497.4947826435673,\n",
       " 1497.5152160370417,\n",
       " 1497.535649430989,\n",
       " 1497.556082825402,\n",
       " 1497.5765163200413,\n",
       " 1497.5969497151527,\n",
       " 1497.6173830104963,\n",
       " 1497.6378165065325,\n",
       " 1497.6582499028082,\n",
       " 1497.6786831993159,\n",
       " 1497.6991166965163,\n",
       " 1497.719550093956,\n",
       " 1497.7399834918615,\n",
       " 1497.7604168899925,\n",
       " 1497.7808502885964,\n",
       " 1497.8012837876595,\n",
       " 1497.8217170869611,\n",
       " 1497.8421504867292,\n",
       " 1497.8625839869565,\n",
       " 1497.883017287655,\n",
       " 1497.9034506885873,\n",
       " 1497.9238841899787,\n",
       " 1497.9443174918415,\n",
       " 1497.9647509939387,\n",
       " 1497.9851843964934,\n",
       " 1498.0056176992875,\n",
       " 1498.0260512027817,\n",
       " 1498.1077847199995,\n",
       " 1498.1282182253562,\n",
       " 1498.148651630945,\n",
       " 1498.1690850369923,\n",
       " 1498.1895184435125,\n",
       " 1498.2099518504983,\n",
       " 1498.2303852577097,\n",
       " 1498.2508187653948,\n",
       " 1498.2712520733112,\n",
       " 1498.2916855816875,\n",
       " 1498.312118990536,\n",
       " 1498.3529858093898,\n",
       " 1498.3734192194024,\n",
       " 1498.39385252988,\n",
       " 1498.4142860405846,\n",
       " 1498.4347194519942,\n",
       " 1498.455152763403,\n",
       " 1498.4755862755046,\n",
       " 1498.4960196878455,\n",
       " 1498.5164532006456,\n",
       " 1498.5368865136843,\n",
       " 1498.5573199271894,\n",
       " 1498.5777534411536,\n",
       " 1498.5981867555893,\n",
       " 1498.7003538331192,\n",
       " 1498.741220766875,\n",
       " 1498.76165408433,\n",
       " 1498.782087502259,\n",
       " 1498.8025210206542,\n",
       " 1498.8229544392743,\n",
       " 1498.8433877583666,\n",
       " 1498.8842546974774,\n",
       " 1498.9046881177346,\n",
       " 1498.9251215384575,\n",
       " 1498.9455549594059,\n",
       " 1498.9864218027142,\n",
       " 1499.0068552248267,\n",
       " 1499.027288747413,\n",
       " 1499.0477220704634,\n",
       " 1499.0681555937408,\n",
       " 1499.0885890174904,\n",
       " 1499.109022341705,\n",
       " 1499.1294558663794,\n",
       " 1499.1498892912932,\n",
       " 1499.170322616672,\n",
       " 1499.1907561425105,\n",
       " 1499.2111895685885,\n",
       " 1499.2316230951255,\n",
       " 1499.2520564219012,\n",
       " 1499.2724898493761,\n",
       " 1499.2929233770847,\n",
       " 1499.3133567050172,\n",
       " 1499.3337901336563,\n",
       " 1499.3542235625282,\n",
       " 1499.3746569918585,\n",
       " 1499.395090421429,\n",
       " 1499.415523851465,\n",
       " 1499.4359572819594,\n",
       " 1499.4563908129276,\n",
       " 1499.4768242441205,\n",
       " 1499.4972575757856,\n",
       " 1499.517691107918,\n",
       " 1499.5381245402823,\n",
       " 1499.5585578731043,\n",
       " 1499.5789914064007,\n",
       " 1499.599424839922,\n",
       " 1499.619858373917,\n",
       " 1499.640291708376,\n",
       " 1499.6607251433015,\n",
       " 1499.6811586784534,\n",
       " 1499.7015920140766,\n",
       " 1499.7220254499262,\n",
       " 1499.7424589864822,\n",
       " 1499.7628923230368,\n",
       " 1499.7833257602906,\n",
       " 1499.8037592977707,\n",
       " 1499.8241926357223,\n",
       " 1499.8446261741337,\n",
       " 1499.8650596130174,\n",
       " 1499.885492952133,\n",
       " 1499.9059264914758,\n",
       " 1499.9263599315236,\n",
       " 1499.9467933718042,\n",
       " 1499.9672268125432,\n",
       " 1499.9876602537552,\n",
       " 1500.0080936952,\n",
       " 1500.028527137103,\n",
       " 1500.0489605792463,\n",
       " 1500.069394022088,\n",
       " 1500.0898274651554,\n",
       " 1500.1102609086956,\n",
       " 1500.1306944524695,\n",
       " 1500.1511277967002,\n",
       " 1500.1715612414046,\n",
       " 1500.1919947863425,\n",
       " 1500.2124281319702,\n",
       " 1500.2328616778395,\n",
       " 1500.253295123941,\n",
       " 1500.2737284705,\n",
       " 1500.2941620175334,\n",
       " 1500.3145954650317,\n",
       " 1500.335028812755,\n",
       " 1500.3554623609525,\n",
       " 1500.375895809615,\n",
       " 1500.3963293587367,\n",
       " 1500.416762708097,\n",
       " 1500.4371961579236,\n",
       " 1500.4576297079766,\n",
       " 1500.478063058501,\n",
       " 1500.4984965094918,\n",
       " 1500.5189300609418,\n",
       " 1500.5393634126303,\n",
       " 1500.5597968647853,\n",
       " 1500.5802304173994,\n",
       " 1500.600663870253,\n",
       " 1500.6210973235648,\n",
       " 1500.6415307773495,\n",
       " 1500.6619641315992,\n",
       " 1500.682397686076,\n",
       " 1500.702831141025,\n",
       " 1500.723264496206,\n",
       " 1500.7436980520797,\n",
       " 1500.7641315081928,\n",
       " 1500.7845649645387,\n",
       " 1500.804998421343,\n",
       " 1500.8254318788531,\n",
       " 1500.845865436364,\n",
       " 1500.8662987945645,\n",
       " 1500.886732253006,\n",
       " 1500.9071658119137,\n",
       " 1500.9275991710456,\n",
       " 1500.9480326306511,\n",
       " 1500.9684661907231,\n",
       " 1500.988899551252,\n",
       " 1501.0093331120224,\n",
       " 1501.0297665732578,\n",
       " 1501.0501999349508,\n",
       " 1501.0706334968854,\n",
       " 1501.091066959285,\n",
       " 1501.1115004221429,\n",
       " 1501.1319338854737,\n",
       " 1501.1523673490374,\n",
       " 1501.1728009130602,\n",
       " 1501.1932342773216,\n",
       " 1501.2136677422823,\n",
       " 1501.2341013072364,\n",
       " 1501.2545346728948,\n",
       " 1501.2749681390196,\n",
       " 1501.29540160537,\n",
       " 1501.3158350719605,\n",
       " 1501.3362685392494,\n",
       " 1501.3567021067647,\n",
       " 1501.3771354747514,\n",
       " 1501.3975690429652,\n",
       " 1501.418002511884,\n",
       " 1501.438435880802,\n",
       " 1501.45886945042,\n",
       " 1501.4793029202629,\n",
       " 1501.4997362905779,\n",
       " 1501.5201698613528,\n",
       " 1501.5406033325999,\n",
       " 1501.5610369040805,\n",
       " 1501.5814702757925,\n",
       " 1501.6019037481965,\n",
       " 1501.6223373208413,\n",
       " 1501.642770693943,\n",
       " 1501.6632041675184,\n",
       " 1501.6836377413274,\n",
       " 1501.7245045903328,\n",
       " 1501.744938165306,\n",
       " 1501.765371540736,\n",
       " 1501.7858051166404,\n",
       " 1501.806238592777,\n",
       " 1501.8266720696047,\n",
       " 1501.8471055464397,\n",
       " 1501.8675390239732,\n",
       " 1501.8879725017323,\n",
       " 1501.9084059799643,\n",
       " 1501.928839458662,\n",
       " 1501.9492729375852,\n",
       " 1501.9697064169814,\n",
       " 1501.9901398968432,\n",
       " 1502.0105734771641,\n",
       " 1502.0310068577237,\n",
       " 1502.0514403387497,\n",
       " 1502.071873920002,\n",
       " 1502.0923073017257,\n",
       " 1502.1127407839158,\n",
       " 1502.133174366565,\n",
       " 1502.153607749453,\n",
       " 1502.174041332808,\n",
       " 1502.1944748166206,\n",
       " 1502.2149082006727,\n",
       " 1502.2353417854247,\n",
       " 1502.2557752701687,\n",
       " 1502.2762086556177,\n",
       " 1502.296642241301,\n",
       " 1502.317075727442,\n",
       " 1502.3375093140567,\n",
       " 1502.3579427009026,\n",
       " 1502.3783761882078,\n",
       " 1502.3988097759866,\n",
       " 1502.4192431639967,\n",
       " 1502.439676652466,\n",
       " 1502.460110241409,\n",
       " 1502.4805437308096,\n",
       " 1502.5009771204495,\n",
       " 1502.5214107105567,\n",
       " 1502.5418442011287,\n",
       " 1502.5622776919263,\n",
       " 1502.5827111831968,\n",
       " 1502.6031445749322,\n",
       " 1502.6235781668947,\n",
       " 1502.6440116593294,\n",
       " 1502.664445052229,\n",
       " 1502.6848786453556,\n",
       " 1502.7053121391873,\n",
       " 1502.7257457332453,\n",
       " 1502.7461791275418,\n",
       " 1502.7666126223048,\n",
       " 1502.787046217527,\n",
       " 1502.8074796132205,\n",
       " 1502.8279131093805,\n",
       " 1502.8483467057667,\n",
       " 1502.8687801023916,\n",
       " 1502.8892135997157,\n",
       " 1502.9096471972662,\n",
       " 1502.930080595288,\n",
       " 1502.950514193777,\n",
       " 1502.9709476924909,\n",
       " 1502.9913811916776,\n",
       " 1503.01181469133,\n",
       " 1503.032248191208,\n",
       " 1503.052681691559,\n",
       " 1503.0731151923756,\n",
       " 1503.0935486934177,\n",
       " 1503.1139822951664,\n",
       " 1503.134415797147,\n",
       " 1503.1548491993526,\n",
       " 1503.1752828020326,\n",
       " 1503.1957162051767,\n",
       " 1503.21614970878,\n",
       " 1503.2365833126241,\n",
       " 1503.2570167171652,\n",
       " 1503.2774502216998,\n",
       " 1503.297883826941,\n",
       " 1503.3183172324134,\n",
       " 1503.3387508383457,\n",
       " 1503.3591843447502,\n",
       " 1503.3796177513868,\n",
       " 1503.4000513584833,\n",
       " 1503.420484866052,\n",
       " 1503.4409182738527,\n",
       " 1503.4613518821134,\n",
       " 1503.4817853908462,\n",
       " 1503.5022189998053,\n",
       " 1503.522652409236,\n",
       " 1503.5430859191329,\n",
       " 1503.563519529489,\n",
       " 1503.5839529400837,\n",
       " 1503.6043864511448,\n",
       " 1503.624820062665,\n",
       " 1503.645253474424,\n",
       " 1503.6656869866492,\n",
       " 1503.6861205993337,\n",
       " 1503.7065541124903,\n",
       " 1503.7269876258797,\n",
       " 1503.7474211397275,\n",
       " 1503.7678546538154,\n",
       " 1503.7882882686026,\n",
       " 1503.8087216836138,\n",
       " 1503.829155198866,\n",
       " 1503.8495887148165,\n",
       " 1503.8700222309926,\n",
       " 1503.8904558476424,\n",
       " 1503.9108892645236,\n",
       " 1503.9313227818639,\n",
       " 1503.9517563996778,\n",
       " 1503.972189817956,\n",
       " 1503.9926233364604,\n",
       " 1504.0130569554385,\n",
       " 1504.0334903748808,\n",
       " 1504.0539239945501,\n",
       " 1504.0743575146917,\n",
       " 1504.094790935298,\n",
       " 1504.1152245563644,\n",
       " 1504.13565807767,\n",
       " 1504.1560915994414,\n",
       " 1504.1765251214383,\n",
       " 1504.196958644141,\n",
       " 1504.2173921670765,\n",
       " 1504.2378256902375,\n",
       " 1504.2582592141043,\n",
       " ...]"
      ]
     },
     "execution_count": 601,
     "metadata": {},
     "output_type": "execute_result"
    }
   ],
   "source": [
    "ast.literal_eval(data2['time'][0])"
   ]
  },
  {
   "cell_type": "code",
   "execution_count": 602,
   "id": "03cb87a3",
   "metadata": {},
   "outputs": [
    {
     "data": {
      "text/plain": [
       "0       [290573.1875, 290615.40625, 290711.09375, 2906...\n",
       "1       [11482.1005859375, 11476.09765625, 11474.22949...\n",
       "2       [76636.7421875, 76644.0390625, 76627.0859375, ...\n",
       "3       [12183.046875, 12195.359375, 12198.2783203125,...\n",
       "4       [119163.3046875, 119160.125, 119167.234375, 11...\n",
       "                              ...                        \n",
       "8881    [564531.3125, 564531.5, 564517.875, 564634.562...\n",
       "8882    [8410.2421875, 8407.896484375, 8421.0, 8405.93...\n",
       "8883    [54430.8984375, 54404.71484375, 54399.80859375...\n",
       "8884    [46273.203125, 46290.1875, 46293.23828125, 463...\n",
       "8885    [19512.216796875, 19538.76171875, 19522.939453...\n",
       "Name: flux, Length: 8886, dtype: object"
      ]
     },
     "execution_count": 602,
     "metadata": {},
     "output_type": "execute_result"
    }
   ],
   "source": [
    "data2.flux"
   ]
  },
  {
   "cell_type": "code",
   "execution_count": 603,
   "id": "bdcf4d5c",
   "metadata": {},
   "outputs": [
    {
     "data": {
      "text/html": [
       "<div>\n",
       "<style scoped>\n",
       "    .dataframe tbody tr th:only-of-type {\n",
       "        vertical-align: middle;\n",
       "    }\n",
       "\n",
       "    .dataframe tbody tr th {\n",
       "        vertical-align: top;\n",
       "    }\n",
       "\n",
       "    .dataframe thead th {\n",
       "        text-align: right;\n",
       "    }\n",
       "</style>\n",
       "<table border=\"1\" class=\"dataframe\">\n",
       "  <thead>\n",
       "    <tr style=\"text-align: right;\">\n",
       "      <th></th>\n",
       "      <th>index</th>\n",
       "      <th>Unnamed: 0</th>\n",
       "      <th>kepid</th>\n",
       "      <th>time</th>\n",
       "      <th>flux</th>\n",
       "      <th>labels</th>\n",
       "    </tr>\n",
       "  </thead>\n",
       "  <tbody>\n",
       "    <tr>\n",
       "      <th>0</th>\n",
       "      <td>0</td>\n",
       "      <td>0</td>\n",
       "      <td>KIC 1162345</td>\n",
       "      <td>[1472.1167966736903, 1472.1372297143098, 1472....</td>\n",
       "      <td>[290573.1875, 290615.40625, 290711.09375, 2906...</td>\n",
       "      <td>None</td>\n",
       "    </tr>\n",
       "    <tr>\n",
       "      <th>1</th>\n",
       "      <td>1</td>\n",
       "      <td>1</td>\n",
       "      <td>KIC 757450</td>\n",
       "      <td>[1472.11677061738, 1472.1372036586981, 1472.15...</td>\n",
       "      <td>[11482.1005859375, 11476.09765625, 11474.22949...</td>\n",
       "      <td>None</td>\n",
       "    </tr>\n",
       "    <tr>\n",
       "      <th>2</th>\n",
       "      <td>2</td>\n",
       "      <td>2</td>\n",
       "      <td>KIC 892667</td>\n",
       "      <td>[1472.116773827649, 1472.137206869782, 1472.15...</td>\n",
       "      <td>[76636.7421875, 76644.0390625, 76627.0859375, ...</td>\n",
       "      <td>None</td>\n",
       "    </tr>\n",
       "    <tr>\n",
       "      <th>3</th>\n",
       "      <td>3</td>\n",
       "      <td>3</td>\n",
       "      <td>KIC 892772</td>\n",
       "      <td>[1472.1167791773987, 1472.1372122192988, 1472....</td>\n",
       "      <td>[12183.046875, 12195.359375, 12198.2783203125,...</td>\n",
       "      <td>None</td>\n",
       "    </tr>\n",
       "    <tr>\n",
       "      <th>4</th>\n",
       "      <td>4</td>\n",
       "      <td>4</td>\n",
       "      <td>KIC 1026957</td>\n",
       "      <td>[1472.1167874504536, 1472.1372204903746, 1472....</td>\n",
       "      <td>[119163.3046875, 119160.125, 119167.234375, 11...</td>\n",
       "      <td>None</td>\n",
       "    </tr>\n",
       "    <tr>\n",
       "      <th>...</th>\n",
       "      <td>...</td>\n",
       "      <td>...</td>\n",
       "      <td>...</td>\n",
       "      <td>...</td>\n",
       "      <td>...</td>\n",
       "      <td>...</td>\n",
       "    </tr>\n",
       "    <tr>\n",
       "      <th>8881</th>\n",
       "      <td>8881</td>\n",
       "      <td>8885</td>\n",
       "      <td>KIC 12833566</td>\n",
       "      <td>[1472.1180650266251, 1472.1384982777527, 1472....</td>\n",
       "      <td>[564531.3125, 564531.5, 564517.875, 564634.562...</td>\n",
       "      <td>None</td>\n",
       "    </tr>\n",
       "    <tr>\n",
       "      <th>8882</th>\n",
       "      <td>8882</td>\n",
       "      <td>8886</td>\n",
       "      <td>KIC 12833701</td>\n",
       "      <td>[1472.118060263172, 1472.138493511913, 1472.15...</td>\n",
       "      <td>[8410.2421875, 8407.896484375, 8421.0, 8405.93...</td>\n",
       "      <td>None</td>\n",
       "    </tr>\n",
       "    <tr>\n",
       "      <th>8883</th>\n",
       "      <td>8883</td>\n",
       "      <td>8887</td>\n",
       "      <td>KIC 12554212</td>\n",
       "      <td>[1472.1179938854839, 1472.1384271403658, 1472....</td>\n",
       "      <td>[54430.8984375, 54404.71484375, 54399.80859375...</td>\n",
       "      <td>None</td>\n",
       "    </tr>\n",
       "    <tr>\n",
       "      <th>8884</th>\n",
       "      <td>8884</td>\n",
       "      <td>8888</td>\n",
       "      <td>KIC 12554510</td>\n",
       "      <td>[1472.117998412934, 1472.1384316637705, 1472.1...</td>\n",
       "      <td>[46273.203125, 46290.1875, 46293.23828125, 463...</td>\n",
       "      <td>None</td>\n",
       "    </tr>\n",
       "    <tr>\n",
       "      <th>8885</th>\n",
       "      <td>8885</td>\n",
       "      <td>8889</td>\n",
       "      <td>KIC 12834874</td>\n",
       "      <td>[1472.1180781281219, 1472.138511362602, 1472.1...</td>\n",
       "      <td>[19512.216796875, 19538.76171875, 19522.939453...</td>\n",
       "      <td>None</td>\n",
       "    </tr>\n",
       "  </tbody>\n",
       "</table>\n",
       "<p>8886 rows × 6 columns</p>\n",
       "</div>"
      ],
      "text/plain": [
       "      index  Unnamed: 0         kepid  \\\n",
       "0         0           0   KIC 1162345   \n",
       "1         1           1    KIC 757450   \n",
       "2         2           2    KIC 892667   \n",
       "3         3           3    KIC 892772   \n",
       "4         4           4   KIC 1026957   \n",
       "...     ...         ...           ...   \n",
       "8881   8881        8885  KIC 12833566   \n",
       "8882   8882        8886  KIC 12833701   \n",
       "8883   8883        8887  KIC 12554212   \n",
       "8884   8884        8888  KIC 12554510   \n",
       "8885   8885        8889  KIC 12834874   \n",
       "\n",
       "                                                   time  \\\n",
       "0     [1472.1167966736903, 1472.1372297143098, 1472....   \n",
       "1     [1472.11677061738, 1472.1372036586981, 1472.15...   \n",
       "2     [1472.116773827649, 1472.137206869782, 1472.15...   \n",
       "3     [1472.1167791773987, 1472.1372122192988, 1472....   \n",
       "4     [1472.1167874504536, 1472.1372204903746, 1472....   \n",
       "...                                                 ...   \n",
       "8881  [1472.1180650266251, 1472.1384982777527, 1472....   \n",
       "8882  [1472.118060263172, 1472.138493511913, 1472.15...   \n",
       "8883  [1472.1179938854839, 1472.1384271403658, 1472....   \n",
       "8884  [1472.117998412934, 1472.1384316637705, 1472.1...   \n",
       "8885  [1472.1180781281219, 1472.138511362602, 1472.1...   \n",
       "\n",
       "                                                   flux labels  \n",
       "0     [290573.1875, 290615.40625, 290711.09375, 2906...   None  \n",
       "1     [11482.1005859375, 11476.09765625, 11474.22949...   None  \n",
       "2     [76636.7421875, 76644.0390625, 76627.0859375, ...   None  \n",
       "3     [12183.046875, 12195.359375, 12198.2783203125,...   None  \n",
       "4     [119163.3046875, 119160.125, 119167.234375, 11...   None  \n",
       "...                                                 ...    ...  \n",
       "8881  [564531.3125, 564531.5, 564517.875, 564634.562...   None  \n",
       "8882  [8410.2421875, 8407.896484375, 8421.0, 8405.93...   None  \n",
       "8883  [54430.8984375, 54404.71484375, 54399.80859375...   None  \n",
       "8884  [46273.203125, 46290.1875, 46293.23828125, 463...   None  \n",
       "8885  [19512.216796875, 19538.76171875, 19522.939453...   None  \n",
       "\n",
       "[8886 rows x 6 columns]"
      ]
     },
     "execution_count": 603,
     "metadata": {},
     "output_type": "execute_result"
    }
   ],
   "source": [
    "data2.reset_index()"
   ]
  },
  {
   "cell_type": "code",
   "execution_count": 546,
   "id": "cf4fcd2a",
   "metadata": {},
   "outputs": [
    {
     "data": {
      "text/html": [
       "<div>\n",
       "<style scoped>\n",
       "    .dataframe tbody tr th:only-of-type {\n",
       "        vertical-align: middle;\n",
       "    }\n",
       "\n",
       "    .dataframe tbody tr th {\n",
       "        vertical-align: top;\n",
       "    }\n",
       "\n",
       "    .dataframe thead th {\n",
       "        text-align: right;\n",
       "    }\n",
       "</style>\n",
       "<table border=\"1\" class=\"dataframe\">\n",
       "  <thead>\n",
       "    <tr style=\"text-align: right;\">\n",
       "      <th></th>\n",
       "      <th>loc_rowid</th>\n",
       "      <th>kepid</th>\n",
       "      <th>tce_plnt_num</th>\n",
       "      <th>tce_period</th>\n",
       "      <th>tce_period_err</th>\n",
       "      <th>tce_time0bk</th>\n",
       "      <th>tce_time0bk_err</th>\n",
       "      <th>tce_impact</th>\n",
       "      <th>tce_impact_err</th>\n",
       "      <th>tce_duration</th>\n",
       "      <th>...</th>\n",
       "      <th>tce_eqt_err</th>\n",
       "      <th>tce_insol</th>\n",
       "      <th>tce_insol_err</th>\n",
       "      <th>tce_steff</th>\n",
       "      <th>tce_steff_err</th>\n",
       "      <th>tce_slogg</th>\n",
       "      <th>tce_slogg_err</th>\n",
       "      <th>tce_sradius</th>\n",
       "      <th>tce_sradius_err</th>\n",
       "      <th>av_training_set</th>\n",
       "    </tr>\n",
       "  </thead>\n",
       "  <tbody>\n",
       "    <tr>\n",
       "      <th>0</th>\n",
       "      <td>1</td>\n",
       "      <td>1162345</td>\n",
       "      <td>2</td>\n",
       "      <td>0.831850</td>\n",
       "      <td>6.693070e-05</td>\n",
       "      <td>132.227</td>\n",
       "      <td>0.035197</td>\n",
       "      <td>0.92600</td>\n",
       "      <td>1.471000</td>\n",
       "      <td>2.392</td>\n",
       "      <td>...</td>\n",
       "      <td>637.0</td>\n",
       "      <td>NaN</td>\n",
       "      <td>NaN</td>\n",
       "      <td>6510.0</td>\n",
       "      <td>207.0</td>\n",
       "      <td>4.07</td>\n",
       "      <td>0.26</td>\n",
       "      <td>1.728</td>\n",
       "      <td>0.791</td>\n",
       "      <td>AFP</td>\n",
       "    </tr>\n",
       "    <tr>\n",
       "      <th>3</th>\n",
       "      <td>4</td>\n",
       "      <td>1162345</td>\n",
       "      <td>3</td>\n",
       "      <td>0.831833</td>\n",
       "      <td>9.431020e-06</td>\n",
       "      <td>131.919</td>\n",
       "      <td>0.002209</td>\n",
       "      <td>0.09536</td>\n",
       "      <td>51.770000</td>\n",
       "      <td>2.181</td>\n",
       "      <td>...</td>\n",
       "      <td>637.0</td>\n",
       "      <td>NaN</td>\n",
       "      <td>NaN</td>\n",
       "      <td>6510.0</td>\n",
       "      <td>207.0</td>\n",
       "      <td>4.07</td>\n",
       "      <td>0.26</td>\n",
       "      <td>1.728</td>\n",
       "      <td>0.791</td>\n",
       "      <td>AFP</td>\n",
       "    </tr>\n",
       "    <tr>\n",
       "      <th>5</th>\n",
       "      <td>6</td>\n",
       "      <td>757450</td>\n",
       "      <td>1</td>\n",
       "      <td>8.884920</td>\n",
       "      <td>1.186150e-06</td>\n",
       "      <td>134.452</td>\n",
       "      <td>0.000101</td>\n",
       "      <td>0.05677</td>\n",
       "      <td>0.950200</td>\n",
       "      <td>2.078</td>\n",
       "      <td>...</td>\n",
       "      <td>27.6</td>\n",
       "      <td>NaN</td>\n",
       "      <td>NaN</td>\n",
       "      <td>5332.0</td>\n",
       "      <td>102.0</td>\n",
       "      <td>4.50</td>\n",
       "      <td>0.04</td>\n",
       "      <td>0.843</td>\n",
       "      <td>0.051</td>\n",
       "      <td>PC</td>\n",
       "    </tr>\n",
       "    <tr>\n",
       "      <th>6</th>\n",
       "      <td>7</td>\n",
       "      <td>892667</td>\n",
       "      <td>1</td>\n",
       "      <td>2.262110</td>\n",
       "      <td>2.726600e-05</td>\n",
       "      <td>132.171</td>\n",
       "      <td>0.006531</td>\n",
       "      <td>0.30000</td>\n",
       "      <td>10.610000</td>\n",
       "      <td>7.509</td>\n",
       "      <td>...</td>\n",
       "      <td>486.0</td>\n",
       "      <td>NaN</td>\n",
       "      <td>NaN</td>\n",
       "      <td>6609.0</td>\n",
       "      <td>236.0</td>\n",
       "      <td>4.11</td>\n",
       "      <td>0.28</td>\n",
       "      <td>1.654</td>\n",
       "      <td>0.811</td>\n",
       "      <td>NTP</td>\n",
       "    </tr>\n",
       "    <tr>\n",
       "      <th>7</th>\n",
       "      <td>8</td>\n",
       "      <td>892772</td>\n",
       "      <td>1</td>\n",
       "      <td>5.092600</td>\n",
       "      <td>3.144550e-05</td>\n",
       "      <td>133.451</td>\n",
       "      <td>0.004821</td>\n",
       "      <td>0.30000</td>\n",
       "      <td>16.090000</td>\n",
       "      <td>3.399</td>\n",
       "      <td>...</td>\n",
       "      <td>78.6</td>\n",
       "      <td>NaN</td>\n",
       "      <td>NaN</td>\n",
       "      <td>5037.0</td>\n",
       "      <td>197.0</td>\n",
       "      <td>4.55</td>\n",
       "      <td>0.12</td>\n",
       "      <td>0.751</td>\n",
       "      <td>0.127</td>\n",
       "      <td>AFP</td>\n",
       "    </tr>\n",
       "    <tr>\n",
       "      <th>...</th>\n",
       "      <td>...</td>\n",
       "      <td>...</td>\n",
       "      <td>...</td>\n",
       "      <td>...</td>\n",
       "      <td>...</td>\n",
       "      <td>...</td>\n",
       "      <td>...</td>\n",
       "      <td>...</td>\n",
       "      <td>...</td>\n",
       "      <td>...</td>\n",
       "      <td>...</td>\n",
       "      <td>...</td>\n",
       "      <td>...</td>\n",
       "      <td>...</td>\n",
       "      <td>...</td>\n",
       "      <td>...</td>\n",
       "      <td>...</td>\n",
       "      <td>...</td>\n",
       "      <td>...</td>\n",
       "      <td>...</td>\n",
       "      <td>...</td>\n",
       "    </tr>\n",
       "    <tr>\n",
       "      <th>20361</th>\n",
       "      <td>20362</td>\n",
       "      <td>11905761</td>\n",
       "      <td>2</td>\n",
       "      <td>3.580330</td>\n",
       "      <td>6.525820e-05</td>\n",
       "      <td>133.312</td>\n",
       "      <td>0.012868</td>\n",
       "      <td>0.08263</td>\n",
       "      <td>68.700000</td>\n",
       "      <td>13.260</td>\n",
       "      <td>...</td>\n",
       "      <td>406.0</td>\n",
       "      <td>NaN</td>\n",
       "      <td>NaN</td>\n",
       "      <td>6745.0</td>\n",
       "      <td>308.0</td>\n",
       "      <td>3.93</td>\n",
       "      <td>0.24</td>\n",
       "      <td>2.346</td>\n",
       "      <td>0.954</td>\n",
       "      <td>AFP</td>\n",
       "    </tr>\n",
       "    <tr>\n",
       "      <th>20363</th>\n",
       "      <td>20364</td>\n",
       "      <td>11908559</td>\n",
       "      <td>1</td>\n",
       "      <td>0.716006</td>\n",
       "      <td>1.242640e-05</td>\n",
       "      <td>132.019</td>\n",
       "      <td>0.002549</td>\n",
       "      <td>0.70000</td>\n",
       "      <td>0.626200</td>\n",
       "      <td>2.069</td>\n",
       "      <td>...</td>\n",
       "      <td>774.0</td>\n",
       "      <td>NaN</td>\n",
       "      <td>NaN</td>\n",
       "      <td>7224.0</td>\n",
       "      <td>309.0</td>\n",
       "      <td>3.89</td>\n",
       "      <td>0.24</td>\n",
       "      <td>2.508</td>\n",
       "      <td>1.039</td>\n",
       "      <td>AFP</td>\n",
       "    </tr>\n",
       "    <tr>\n",
       "      <th>20364</th>\n",
       "      <td>20365</td>\n",
       "      <td>11923562</td>\n",
       "      <td>2</td>\n",
       "      <td>0.739472</td>\n",
       "      <td>1.068170e-05</td>\n",
       "      <td>131.618</td>\n",
       "      <td>0.001399</td>\n",
       "      <td>0.28480</td>\n",
       "      <td>6.828000</td>\n",
       "      <td>2.146</td>\n",
       "      <td>...</td>\n",
       "      <td>997.0</td>\n",
       "      <td>NaN</td>\n",
       "      <td>NaN</td>\n",
       "      <td>7191.0</td>\n",
       "      <td>318.0</td>\n",
       "      <td>4.23</td>\n",
       "      <td>0.38</td>\n",
       "      <td>1.473</td>\n",
       "      <td>1.005</td>\n",
       "      <td>AFP</td>\n",
       "    </tr>\n",
       "    <tr>\n",
       "      <th>20365</th>\n",
       "      <td>20366</td>\n",
       "      <td>11923819</td>\n",
       "      <td>1</td>\n",
       "      <td>33.159500</td>\n",
       "      <td>9.532960e-07</td>\n",
       "      <td>159.812</td>\n",
       "      <td>0.000023</td>\n",
       "      <td>0.74720</td>\n",
       "      <td>0.019810</td>\n",
       "      <td>9.132</td>\n",
       "      <td>...</td>\n",
       "      <td>200.0</td>\n",
       "      <td>NaN</td>\n",
       "      <td>NaN</td>\n",
       "      <td>7968.0</td>\n",
       "      <td>323.0</td>\n",
       "      <td>3.95</td>\n",
       "      <td>0.23</td>\n",
       "      <td>2.390</td>\n",
       "      <td>0.854</td>\n",
       "      <td>AFP</td>\n",
       "    </tr>\n",
       "    <tr>\n",
       "      <th>20366</th>\n",
       "      <td>20367</td>\n",
       "      <td>11923819</td>\n",
       "      <td>2</td>\n",
       "      <td>33.159200</td>\n",
       "      <td>9.280150e-07</td>\n",
       "      <td>137.774</td>\n",
       "      <td>0.000024</td>\n",
       "      <td>0.91810</td>\n",
       "      <td>0.009575</td>\n",
       "      <td>11.940</td>\n",
       "      <td>...</td>\n",
       "      <td>200.0</td>\n",
       "      <td>NaN</td>\n",
       "      <td>NaN</td>\n",
       "      <td>7968.0</td>\n",
       "      <td>323.0</td>\n",
       "      <td>3.95</td>\n",
       "      <td>0.23</td>\n",
       "      <td>2.390</td>\n",
       "      <td>0.854</td>\n",
       "      <td>AFP</td>\n",
       "    </tr>\n",
       "  </tbody>\n",
       "</table>\n",
       "<p>15737 rows × 27 columns</p>\n",
       "</div>"
      ],
      "text/plain": [
       "       loc_rowid     kepid  tce_plnt_num  tce_period  tce_period_err  \\\n",
       "0              1   1162345             2    0.831850    6.693070e-05   \n",
       "3              4   1162345             3    0.831833    9.431020e-06   \n",
       "5              6    757450             1    8.884920    1.186150e-06   \n",
       "6              7    892667             1    2.262110    2.726600e-05   \n",
       "7              8    892772             1    5.092600    3.144550e-05   \n",
       "...          ...       ...           ...         ...             ...   \n",
       "20361      20362  11905761             2    3.580330    6.525820e-05   \n",
       "20363      20364  11908559             1    0.716006    1.242640e-05   \n",
       "20364      20365  11923562             2    0.739472    1.068170e-05   \n",
       "20365      20366  11923819             1   33.159500    9.532960e-07   \n",
       "20366      20367  11923819             2   33.159200    9.280150e-07   \n",
       "\n",
       "       tce_time0bk  tce_time0bk_err  tce_impact  tce_impact_err  tce_duration  \\\n",
       "0          132.227         0.035197     0.92600        1.471000         2.392   \n",
       "3          131.919         0.002209     0.09536       51.770000         2.181   \n",
       "5          134.452         0.000101     0.05677        0.950200         2.078   \n",
       "6          132.171         0.006531     0.30000       10.610000         7.509   \n",
       "7          133.451         0.004821     0.30000       16.090000         3.399   \n",
       "...            ...              ...         ...             ...           ...   \n",
       "20361      133.312         0.012868     0.08263       68.700000        13.260   \n",
       "20363      132.019         0.002549     0.70000        0.626200         2.069   \n",
       "20364      131.618         0.001399     0.28480        6.828000         2.146   \n",
       "20365      159.812         0.000023     0.74720        0.019810         9.132   \n",
       "20366      137.774         0.000024     0.91810        0.009575        11.940   \n",
       "\n",
       "       ...  tce_eqt_err  tce_insol  tce_insol_err  tce_steff  tce_steff_err  \\\n",
       "0      ...        637.0        NaN            NaN     6510.0          207.0   \n",
       "3      ...        637.0        NaN            NaN     6510.0          207.0   \n",
       "5      ...         27.6        NaN            NaN     5332.0          102.0   \n",
       "6      ...        486.0        NaN            NaN     6609.0          236.0   \n",
       "7      ...         78.6        NaN            NaN     5037.0          197.0   \n",
       "...    ...          ...        ...            ...        ...            ...   \n",
       "20361  ...        406.0        NaN            NaN     6745.0          308.0   \n",
       "20363  ...        774.0        NaN            NaN     7224.0          309.0   \n",
       "20364  ...        997.0        NaN            NaN     7191.0          318.0   \n",
       "20365  ...        200.0        NaN            NaN     7968.0          323.0   \n",
       "20366  ...        200.0        NaN            NaN     7968.0          323.0   \n",
       "\n",
       "       tce_slogg  tce_slogg_err  tce_sradius  tce_sradius_err  av_training_set  \n",
       "0           4.07           0.26        1.728            0.791              AFP  \n",
       "3           4.07           0.26        1.728            0.791              AFP  \n",
       "5           4.50           0.04        0.843            0.051               PC  \n",
       "6           4.11           0.28        1.654            0.811              NTP  \n",
       "7           4.55           0.12        0.751            0.127              AFP  \n",
       "...          ...            ...          ...              ...              ...  \n",
       "20361       3.93           0.24        2.346            0.954              AFP  \n",
       "20363       3.89           0.24        2.508            1.039              AFP  \n",
       "20364       4.23           0.38        1.473            1.005              AFP  \n",
       "20365       3.95           0.23        2.390            0.854              AFP  \n",
       "20366       3.95           0.23        2.390            0.854              AFP  \n",
       "\n",
       "[15737 rows x 27 columns]"
      ]
     },
     "execution_count": 546,
     "metadata": {},
     "output_type": "execute_result"
    }
   ],
   "source": [
    "data"
   ]
  },
  {
   "cell_type": "code",
   "execution_count": 606,
   "id": "a90b7614",
   "metadata": {},
   "outputs": [],
   "source": [
    "for i in range(len(data2['kepid'])):\n",
    "    kepid=int(list(data2['kepid'])[i][4:])\n",
    "    label=data[data['kepid']==kepid]['av_training_set']\n",
    "    label=list(label)[0]\n",
    "    data2.loc[i,'labels']=label"
   ]
  },
  {
   "cell_type": "code",
   "execution_count": 607,
   "id": "96b7a69f",
   "metadata": {},
   "outputs": [
    {
     "data": {
      "text/html": [
       "<div>\n",
       "<style scoped>\n",
       "    .dataframe tbody tr th:only-of-type {\n",
       "        vertical-align: middle;\n",
       "    }\n",
       "\n",
       "    .dataframe tbody tr th {\n",
       "        vertical-align: top;\n",
       "    }\n",
       "\n",
       "    .dataframe thead th {\n",
       "        text-align: right;\n",
       "    }\n",
       "</style>\n",
       "<table border=\"1\" class=\"dataframe\">\n",
       "  <thead>\n",
       "    <tr style=\"text-align: right;\">\n",
       "      <th></th>\n",
       "      <th>Unnamed: 0</th>\n",
       "      <th>kepid</th>\n",
       "      <th>time</th>\n",
       "      <th>flux</th>\n",
       "      <th>labels</th>\n",
       "    </tr>\n",
       "  </thead>\n",
       "  <tbody>\n",
       "    <tr>\n",
       "      <th>0</th>\n",
       "      <td>0</td>\n",
       "      <td>KIC 1162345</td>\n",
       "      <td>[1472.1167966736903, 1472.1372297143098, 1472....</td>\n",
       "      <td>[290573.1875, 290615.40625, 290711.09375, 2906...</td>\n",
       "      <td>AFP</td>\n",
       "    </tr>\n",
       "    <tr>\n",
       "      <th>1</th>\n",
       "      <td>1</td>\n",
       "      <td>KIC 757450</td>\n",
       "      <td>[1472.11677061738, 1472.1372036586981, 1472.15...</td>\n",
       "      <td>[11482.1005859375, 11476.09765625, 11474.22949...</td>\n",
       "      <td>PC</td>\n",
       "    </tr>\n",
       "    <tr>\n",
       "      <th>2</th>\n",
       "      <td>2</td>\n",
       "      <td>KIC 892667</td>\n",
       "      <td>[1472.116773827649, 1472.137206869782, 1472.15...</td>\n",
       "      <td>[76636.7421875, 76644.0390625, 76627.0859375, ...</td>\n",
       "      <td>NTP</td>\n",
       "    </tr>\n",
       "    <tr>\n",
       "      <th>3</th>\n",
       "      <td>3</td>\n",
       "      <td>KIC 892772</td>\n",
       "      <td>[1472.1167791773987, 1472.1372122192988, 1472....</td>\n",
       "      <td>[12183.046875, 12195.359375, 12198.2783203125,...</td>\n",
       "      <td>AFP</td>\n",
       "    </tr>\n",
       "    <tr>\n",
       "      <th>4</th>\n",
       "      <td>4</td>\n",
       "      <td>KIC 1026957</td>\n",
       "      <td>[1472.1167874504536, 1472.1372204903746, 1472....</td>\n",
       "      <td>[119163.3046875, 119160.125, 119167.234375, 11...</td>\n",
       "      <td>AFP</td>\n",
       "    </tr>\n",
       "    <tr>\n",
       "      <th>...</th>\n",
       "      <td>...</td>\n",
       "      <td>...</td>\n",
       "      <td>...</td>\n",
       "      <td>...</td>\n",
       "      <td>...</td>\n",
       "    </tr>\n",
       "    <tr>\n",
       "      <th>8881</th>\n",
       "      <td>8885</td>\n",
       "      <td>KIC 12833566</td>\n",
       "      <td>[1472.1180650266251, 1472.1384982777527, 1472....</td>\n",
       "      <td>[564531.3125, 564531.5, 564517.875, 564634.562...</td>\n",
       "      <td>NTP</td>\n",
       "    </tr>\n",
       "    <tr>\n",
       "      <th>8882</th>\n",
       "      <td>8886</td>\n",
       "      <td>KIC 12833701</td>\n",
       "      <td>[1472.118060263172, 1472.138493511913, 1472.15...</td>\n",
       "      <td>[8410.2421875, 8407.896484375, 8421.0, 8405.93...</td>\n",
       "      <td>NTP</td>\n",
       "    </tr>\n",
       "    <tr>\n",
       "      <th>8883</th>\n",
       "      <td>8887</td>\n",
       "      <td>KIC 12554212</td>\n",
       "      <td>[1472.1179938854839, 1472.1384271403658, 1472....</td>\n",
       "      <td>[54430.8984375, 54404.71484375, 54399.80859375...</td>\n",
       "      <td>PC</td>\n",
       "    </tr>\n",
       "    <tr>\n",
       "      <th>8884</th>\n",
       "      <td>8888</td>\n",
       "      <td>KIC 12554510</td>\n",
       "      <td>[1472.117998412934, 1472.1384316637705, 1472.1...</td>\n",
       "      <td>[46273.203125, 46290.1875, 46293.23828125, 463...</td>\n",
       "      <td>AFP</td>\n",
       "    </tr>\n",
       "    <tr>\n",
       "      <th>8885</th>\n",
       "      <td>8889</td>\n",
       "      <td>KIC 12834874</td>\n",
       "      <td>[1472.1180781281219, 1472.138511362602, 1472.1...</td>\n",
       "      <td>[19512.216796875, 19538.76171875, 19522.939453...</td>\n",
       "      <td>PC</td>\n",
       "    </tr>\n",
       "  </tbody>\n",
       "</table>\n",
       "<p>8886 rows × 5 columns</p>\n",
       "</div>"
      ],
      "text/plain": [
       "      Unnamed: 0         kepid  \\\n",
       "0              0   KIC 1162345   \n",
       "1              1    KIC 757450   \n",
       "2              2    KIC 892667   \n",
       "3              3    KIC 892772   \n",
       "4              4   KIC 1026957   \n",
       "...          ...           ...   \n",
       "8881        8885  KIC 12833566   \n",
       "8882        8886  KIC 12833701   \n",
       "8883        8887  KIC 12554212   \n",
       "8884        8888  KIC 12554510   \n",
       "8885        8889  KIC 12834874   \n",
       "\n",
       "                                                   time  \\\n",
       "0     [1472.1167966736903, 1472.1372297143098, 1472....   \n",
       "1     [1472.11677061738, 1472.1372036586981, 1472.15...   \n",
       "2     [1472.116773827649, 1472.137206869782, 1472.15...   \n",
       "3     [1472.1167791773987, 1472.1372122192988, 1472....   \n",
       "4     [1472.1167874504536, 1472.1372204903746, 1472....   \n",
       "...                                                 ...   \n",
       "8881  [1472.1180650266251, 1472.1384982777527, 1472....   \n",
       "8882  [1472.118060263172, 1472.138493511913, 1472.15...   \n",
       "8883  [1472.1179938854839, 1472.1384271403658, 1472....   \n",
       "8884  [1472.117998412934, 1472.1384316637705, 1472.1...   \n",
       "8885  [1472.1180781281219, 1472.138511362602, 1472.1...   \n",
       "\n",
       "                                                   flux labels  \n",
       "0     [290573.1875, 290615.40625, 290711.09375, 2906...    AFP  \n",
       "1     [11482.1005859375, 11476.09765625, 11474.22949...     PC  \n",
       "2     [76636.7421875, 76644.0390625, 76627.0859375, ...    NTP  \n",
       "3     [12183.046875, 12195.359375, 12198.2783203125,...    AFP  \n",
       "4     [119163.3046875, 119160.125, 119167.234375, 11...    AFP  \n",
       "...                                                 ...    ...  \n",
       "8881  [564531.3125, 564531.5, 564517.875, 564634.562...    NTP  \n",
       "8882  [8410.2421875, 8407.896484375, 8421.0, 8405.93...    NTP  \n",
       "8883  [54430.8984375, 54404.71484375, 54399.80859375...     PC  \n",
       "8884  [46273.203125, 46290.1875, 46293.23828125, 463...    AFP  \n",
       "8885  [19512.216796875, 19538.76171875, 19522.939453...     PC  \n",
       "\n",
       "[8886 rows x 5 columns]"
      ]
     },
     "execution_count": 607,
     "metadata": {},
     "output_type": "execute_result"
    }
   ],
   "source": [
    "data2"
   ]
  },
  {
   "cell_type": "code",
   "execution_count": 608,
   "id": "6aa5dab7",
   "metadata": {},
   "outputs": [
    {
     "data": {
      "text/html": [
       "<div>\n",
       "<style scoped>\n",
       "    .dataframe tbody tr th:only-of-type {\n",
       "        vertical-align: middle;\n",
       "    }\n",
       "\n",
       "    .dataframe tbody tr th {\n",
       "        vertical-align: top;\n",
       "    }\n",
       "\n",
       "    .dataframe thead th {\n",
       "        text-align: right;\n",
       "    }\n",
       "</style>\n",
       "<table border=\"1\" class=\"dataframe\">\n",
       "  <thead>\n",
       "    <tr style=\"text-align: right;\">\n",
       "      <th></th>\n",
       "      <th>Unnamed: 0</th>\n",
       "      <th>kepid</th>\n",
       "      <th>time</th>\n",
       "      <th>flux</th>\n",
       "      <th>labels</th>\n",
       "    </tr>\n",
       "  </thead>\n",
       "  <tbody>\n",
       "    <tr>\n",
       "      <th>0</th>\n",
       "      <td>0</td>\n",
       "      <td>KIC 1162345</td>\n",
       "      <td>[1472.1167966736903, 1472.1372297143098, 1472....</td>\n",
       "      <td>[290573.1875, 290615.40625, 290711.09375, 2906...</td>\n",
       "      <td>AFP</td>\n",
       "    </tr>\n",
       "    <tr>\n",
       "      <th>1</th>\n",
       "      <td>1</td>\n",
       "      <td>KIC 757450</td>\n",
       "      <td>[1472.11677061738, 1472.1372036586981, 1472.15...</td>\n",
       "      <td>[11482.1005859375, 11476.09765625, 11474.22949...</td>\n",
       "      <td>PC</td>\n",
       "    </tr>\n",
       "    <tr>\n",
       "      <th>2</th>\n",
       "      <td>2</td>\n",
       "      <td>KIC 892667</td>\n",
       "      <td>[1472.116773827649, 1472.137206869782, 1472.15...</td>\n",
       "      <td>[76636.7421875, 76644.0390625, 76627.0859375, ...</td>\n",
       "      <td>NTP</td>\n",
       "    </tr>\n",
       "    <tr>\n",
       "      <th>3</th>\n",
       "      <td>3</td>\n",
       "      <td>KIC 892772</td>\n",
       "      <td>[1472.1167791773987, 1472.1372122192988, 1472....</td>\n",
       "      <td>[12183.046875, 12195.359375, 12198.2783203125,...</td>\n",
       "      <td>AFP</td>\n",
       "    </tr>\n",
       "    <tr>\n",
       "      <th>4</th>\n",
       "      <td>4</td>\n",
       "      <td>KIC 1026957</td>\n",
       "      <td>[1472.1167874504536, 1472.1372204903746, 1472....</td>\n",
       "      <td>[119163.3046875, 119160.125, 119167.234375, 11...</td>\n",
       "      <td>AFP</td>\n",
       "    </tr>\n",
       "    <tr>\n",
       "      <th>...</th>\n",
       "      <td>...</td>\n",
       "      <td>...</td>\n",
       "      <td>...</td>\n",
       "      <td>...</td>\n",
       "      <td>...</td>\n",
       "    </tr>\n",
       "    <tr>\n",
       "      <th>8881</th>\n",
       "      <td>8885</td>\n",
       "      <td>KIC 12833566</td>\n",
       "      <td>[1472.1180650266251, 1472.1384982777527, 1472....</td>\n",
       "      <td>[564531.3125, 564531.5, 564517.875, 564634.562...</td>\n",
       "      <td>NTP</td>\n",
       "    </tr>\n",
       "    <tr>\n",
       "      <th>8882</th>\n",
       "      <td>8886</td>\n",
       "      <td>KIC 12833701</td>\n",
       "      <td>[1472.118060263172, 1472.138493511913, 1472.15...</td>\n",
       "      <td>[8410.2421875, 8407.896484375, 8421.0, 8405.93...</td>\n",
       "      <td>NTP</td>\n",
       "    </tr>\n",
       "    <tr>\n",
       "      <th>8883</th>\n",
       "      <td>8887</td>\n",
       "      <td>KIC 12554212</td>\n",
       "      <td>[1472.1179938854839, 1472.1384271403658, 1472....</td>\n",
       "      <td>[54430.8984375, 54404.71484375, 54399.80859375...</td>\n",
       "      <td>PC</td>\n",
       "    </tr>\n",
       "    <tr>\n",
       "      <th>8884</th>\n",
       "      <td>8888</td>\n",
       "      <td>KIC 12554510</td>\n",
       "      <td>[1472.117998412934, 1472.1384316637705, 1472.1...</td>\n",
       "      <td>[46273.203125, 46290.1875, 46293.23828125, 463...</td>\n",
       "      <td>AFP</td>\n",
       "    </tr>\n",
       "    <tr>\n",
       "      <th>8885</th>\n",
       "      <td>8889</td>\n",
       "      <td>KIC 12834874</td>\n",
       "      <td>[1472.1180781281219, 1472.138511362602, 1472.1...</td>\n",
       "      <td>[19512.216796875, 19538.76171875, 19522.939453...</td>\n",
       "      <td>PC</td>\n",
       "    </tr>\n",
       "  </tbody>\n",
       "</table>\n",
       "<p>8886 rows × 5 columns</p>\n",
       "</div>"
      ],
      "text/plain": [
       "      Unnamed: 0         kepid  \\\n",
       "0              0   KIC 1162345   \n",
       "1              1    KIC 757450   \n",
       "2              2    KIC 892667   \n",
       "3              3    KIC 892772   \n",
       "4              4   KIC 1026957   \n",
       "...          ...           ...   \n",
       "8881        8885  KIC 12833566   \n",
       "8882        8886  KIC 12833701   \n",
       "8883        8887  KIC 12554212   \n",
       "8884        8888  KIC 12554510   \n",
       "8885        8889  KIC 12834874   \n",
       "\n",
       "                                                   time  \\\n",
       "0     [1472.1167966736903, 1472.1372297143098, 1472....   \n",
       "1     [1472.11677061738, 1472.1372036586981, 1472.15...   \n",
       "2     [1472.116773827649, 1472.137206869782, 1472.15...   \n",
       "3     [1472.1167791773987, 1472.1372122192988, 1472....   \n",
       "4     [1472.1167874504536, 1472.1372204903746, 1472....   \n",
       "...                                                 ...   \n",
       "8881  [1472.1180650266251, 1472.1384982777527, 1472....   \n",
       "8882  [1472.118060263172, 1472.138493511913, 1472.15...   \n",
       "8883  [1472.1179938854839, 1472.1384271403658, 1472....   \n",
       "8884  [1472.117998412934, 1472.1384316637705, 1472.1...   \n",
       "8885  [1472.1180781281219, 1472.138511362602, 1472.1...   \n",
       "\n",
       "                                                   flux labels  \n",
       "0     [290573.1875, 290615.40625, 290711.09375, 2906...    AFP  \n",
       "1     [11482.1005859375, 11476.09765625, 11474.22949...     PC  \n",
       "2     [76636.7421875, 76644.0390625, 76627.0859375, ...    NTP  \n",
       "3     [12183.046875, 12195.359375, 12198.2783203125,...    AFP  \n",
       "4     [119163.3046875, 119160.125, 119167.234375, 11...    AFP  \n",
       "...                                                 ...    ...  \n",
       "8881  [564531.3125, 564531.5, 564517.875, 564634.562...    NTP  \n",
       "8882  [8410.2421875, 8407.896484375, 8421.0, 8405.93...    NTP  \n",
       "8883  [54430.8984375, 54404.71484375, 54399.80859375...     PC  \n",
       "8884  [46273.203125, 46290.1875, 46293.23828125, 463...    AFP  \n",
       "8885  [19512.216796875, 19538.76171875, 19522.939453...     PC  \n",
       "\n",
       "[8886 rows x 5 columns]"
      ]
     },
     "execution_count": 608,
     "metadata": {},
     "output_type": "execute_result"
    }
   ],
   "source": [
    "data2"
   ]
  },
  {
   "cell_type": "code",
   "execution_count": 609,
   "id": "d5db0c96",
   "metadata": {},
   "outputs": [],
   "source": [
    "data2.to_csv('final_exop_data.csv')"
   ]
  },
  {
   "cell_type": "code",
   "execution_count": 610,
   "id": "0b6c3de1",
   "metadata": {},
   "outputs": [
    {
     "data": {
      "text/html": [
       "<div>\n",
       "<style scoped>\n",
       "    .dataframe tbody tr th:only-of-type {\n",
       "        vertical-align: middle;\n",
       "    }\n",
       "\n",
       "    .dataframe tbody tr th {\n",
       "        vertical-align: top;\n",
       "    }\n",
       "\n",
       "    .dataframe thead th {\n",
       "        text-align: right;\n",
       "    }\n",
       "</style>\n",
       "<table border=\"1\" class=\"dataframe\">\n",
       "  <thead>\n",
       "    <tr style=\"text-align: right;\">\n",
       "      <th></th>\n",
       "      <th>Unnamed: 0</th>\n",
       "      <th>kepid</th>\n",
       "      <th>time</th>\n",
       "      <th>flux</th>\n",
       "      <th>labels</th>\n",
       "    </tr>\n",
       "  </thead>\n",
       "  <tbody>\n",
       "    <tr>\n",
       "      <th>0</th>\n",
       "      <td>0</td>\n",
       "      <td>KIC 1162345</td>\n",
       "      <td>[1472.1167966736903, 1472.1372297143098, 1472....</td>\n",
       "      <td>[290573.1875, 290615.40625, 290711.09375, 2906...</td>\n",
       "      <td>AFP</td>\n",
       "    </tr>\n",
       "    <tr>\n",
       "      <th>1</th>\n",
       "      <td>1</td>\n",
       "      <td>KIC 757450</td>\n",
       "      <td>[1472.11677061738, 1472.1372036586981, 1472.15...</td>\n",
       "      <td>[11482.1005859375, 11476.09765625, 11474.22949...</td>\n",
       "      <td>PC</td>\n",
       "    </tr>\n",
       "    <tr>\n",
       "      <th>2</th>\n",
       "      <td>2</td>\n",
       "      <td>KIC 892667</td>\n",
       "      <td>[1472.116773827649, 1472.137206869782, 1472.15...</td>\n",
       "      <td>[76636.7421875, 76644.0390625, 76627.0859375, ...</td>\n",
       "      <td>NTP</td>\n",
       "    </tr>\n",
       "    <tr>\n",
       "      <th>3</th>\n",
       "      <td>3</td>\n",
       "      <td>KIC 892772</td>\n",
       "      <td>[1472.1167791773987, 1472.1372122192988, 1472....</td>\n",
       "      <td>[12183.046875, 12195.359375, 12198.2783203125,...</td>\n",
       "      <td>AFP</td>\n",
       "    </tr>\n",
       "    <tr>\n",
       "      <th>4</th>\n",
       "      <td>4</td>\n",
       "      <td>KIC 1026957</td>\n",
       "      <td>[1472.1167874504536, 1472.1372204903746, 1472....</td>\n",
       "      <td>[119163.3046875, 119160.125, 119167.234375, 11...</td>\n",
       "      <td>AFP</td>\n",
       "    </tr>\n",
       "    <tr>\n",
       "      <th>...</th>\n",
       "      <td>...</td>\n",
       "      <td>...</td>\n",
       "      <td>...</td>\n",
       "      <td>...</td>\n",
       "      <td>...</td>\n",
       "    </tr>\n",
       "    <tr>\n",
       "      <th>8881</th>\n",
       "      <td>8885</td>\n",
       "      <td>KIC 12833566</td>\n",
       "      <td>[1472.1180650266251, 1472.1384982777527, 1472....</td>\n",
       "      <td>[564531.3125, 564531.5, 564517.875, 564634.562...</td>\n",
       "      <td>NTP</td>\n",
       "    </tr>\n",
       "    <tr>\n",
       "      <th>8882</th>\n",
       "      <td>8886</td>\n",
       "      <td>KIC 12833701</td>\n",
       "      <td>[1472.118060263172, 1472.138493511913, 1472.15...</td>\n",
       "      <td>[8410.2421875, 8407.896484375, 8421.0, 8405.93...</td>\n",
       "      <td>NTP</td>\n",
       "    </tr>\n",
       "    <tr>\n",
       "      <th>8883</th>\n",
       "      <td>8887</td>\n",
       "      <td>KIC 12554212</td>\n",
       "      <td>[1472.1179938854839, 1472.1384271403658, 1472....</td>\n",
       "      <td>[54430.8984375, 54404.71484375, 54399.80859375...</td>\n",
       "      <td>PC</td>\n",
       "    </tr>\n",
       "    <tr>\n",
       "      <th>8884</th>\n",
       "      <td>8888</td>\n",
       "      <td>KIC 12554510</td>\n",
       "      <td>[1472.117998412934, 1472.1384316637705, 1472.1...</td>\n",
       "      <td>[46273.203125, 46290.1875, 46293.23828125, 463...</td>\n",
       "      <td>AFP</td>\n",
       "    </tr>\n",
       "    <tr>\n",
       "      <th>8885</th>\n",
       "      <td>8889</td>\n",
       "      <td>KIC 12834874</td>\n",
       "      <td>[1472.1180781281219, 1472.138511362602, 1472.1...</td>\n",
       "      <td>[19512.216796875, 19538.76171875, 19522.939453...</td>\n",
       "      <td>PC</td>\n",
       "    </tr>\n",
       "  </tbody>\n",
       "</table>\n",
       "<p>8886 rows × 5 columns</p>\n",
       "</div>"
      ],
      "text/plain": [
       "      Unnamed: 0         kepid  \\\n",
       "0              0   KIC 1162345   \n",
       "1              1    KIC 757450   \n",
       "2              2    KIC 892667   \n",
       "3              3    KIC 892772   \n",
       "4              4   KIC 1026957   \n",
       "...          ...           ...   \n",
       "8881        8885  KIC 12833566   \n",
       "8882        8886  KIC 12833701   \n",
       "8883        8887  KIC 12554212   \n",
       "8884        8888  KIC 12554510   \n",
       "8885        8889  KIC 12834874   \n",
       "\n",
       "                                                   time  \\\n",
       "0     [1472.1167966736903, 1472.1372297143098, 1472....   \n",
       "1     [1472.11677061738, 1472.1372036586981, 1472.15...   \n",
       "2     [1472.116773827649, 1472.137206869782, 1472.15...   \n",
       "3     [1472.1167791773987, 1472.1372122192988, 1472....   \n",
       "4     [1472.1167874504536, 1472.1372204903746, 1472....   \n",
       "...                                                 ...   \n",
       "8881  [1472.1180650266251, 1472.1384982777527, 1472....   \n",
       "8882  [1472.118060263172, 1472.138493511913, 1472.15...   \n",
       "8883  [1472.1179938854839, 1472.1384271403658, 1472....   \n",
       "8884  [1472.117998412934, 1472.1384316637705, 1472.1...   \n",
       "8885  [1472.1180781281219, 1472.138511362602, 1472.1...   \n",
       "\n",
       "                                                   flux labels  \n",
       "0     [290573.1875, 290615.40625, 290711.09375, 2906...    AFP  \n",
       "1     [11482.1005859375, 11476.09765625, 11474.22949...     PC  \n",
       "2     [76636.7421875, 76644.0390625, 76627.0859375, ...    NTP  \n",
       "3     [12183.046875, 12195.359375, 12198.2783203125,...    AFP  \n",
       "4     [119163.3046875, 119160.125, 119167.234375, 11...    AFP  \n",
       "...                                                 ...    ...  \n",
       "8881  [564531.3125, 564531.5, 564517.875, 564634.562...    NTP  \n",
       "8882  [8410.2421875, 8407.896484375, 8421.0, 8405.93...    NTP  \n",
       "8883  [54430.8984375, 54404.71484375, 54399.80859375...     PC  \n",
       "8884  [46273.203125, 46290.1875, 46293.23828125, 463...    AFP  \n",
       "8885  [19512.216796875, 19538.76171875, 19522.939453...     PC  \n",
       "\n",
       "[8886 rows x 5 columns]"
      ]
     },
     "execution_count": 610,
     "metadata": {},
     "output_type": "execute_result"
    }
   ],
   "source": [
    "data2"
   ]
  },
  {
   "cell_type": "code",
   "execution_count": 611,
   "id": "dba278cc",
   "metadata": {},
   "outputs": [
    {
     "name": "stdout",
     "output_type": "stream",
     "text": [
      "      Unnamed: 0         kepid  \\\n",
      "0              0   KIC 1162345   \n",
      "1              1    KIC 757450   \n",
      "2              2    KIC 892667   \n",
      "3              3    KIC 892772   \n",
      "4              4   KIC 1026957   \n",
      "...          ...           ...   \n",
      "8881        8885  KIC 12833566   \n",
      "8882        8886  KIC 12833701   \n",
      "8883        8887  KIC 12554212   \n",
      "8884        8888  KIC 12554510   \n",
      "8885        8889  KIC 12834874   \n",
      "\n",
      "                                                   time  \\\n",
      "0     [1472.1167966736903, 1472.1372297143098, 1472....   \n",
      "1     [1472.11677061738, 1472.1372036586981, 1472.15...   \n",
      "2     [1472.116773827649, 1472.137206869782, 1472.15...   \n",
      "3     [1472.1167791773987, 1472.1372122192988, 1472....   \n",
      "4     [1472.1167874504536, 1472.1372204903746, 1472....   \n",
      "...                                                 ...   \n",
      "8881  [1472.1180650266251, 1472.1384982777527, 1472....   \n",
      "8882  [1472.118060263172, 1472.138493511913, 1472.15...   \n",
      "8883  [1472.1179938854839, 1472.1384271403658, 1472....   \n",
      "8884  [1472.117998412934, 1472.1384316637705, 1472.1...   \n",
      "8885  [1472.1180781281219, 1472.138511362602, 1472.1...   \n",
      "\n",
      "                                                   flux  labels  \n",
      "0     [290573.1875, 290615.40625, 290711.09375, 2906...       0  \n",
      "1     [11482.1005859375, 11476.09765625, 11474.22949...       1  \n",
      "2     [76636.7421875, 76644.0390625, 76627.0859375, ...       0  \n",
      "3     [12183.046875, 12195.359375, 12198.2783203125,...       0  \n",
      "4     [119163.3046875, 119160.125, 119167.234375, 11...       0  \n",
      "...                                                 ...     ...  \n",
      "8881  [564531.3125, 564531.5, 564517.875, 564634.562...       0  \n",
      "8882  [8410.2421875, 8407.896484375, 8421.0, 8405.93...       0  \n",
      "8883  [54430.8984375, 54404.71484375, 54399.80859375...       1  \n",
      "8884  [46273.203125, 46290.1875, 46293.23828125, 463...       0  \n",
      "8885  [19512.216796875, 19538.76171875, 19522.939453...       1  \n",
      "\n",
      "[8886 rows x 5 columns]\n"
     ]
    }
   ],
   "source": [
    "data2['labels'] = data2['labels'].replace({'PC': 1, 'AFP': 0, 'NTP': 0})\n",
    "\n",
    "# Display the updated data2 DataFrame\n",
    "print(data2)"
   ]
  },
  {
   "cell_type": "code",
   "execution_count": 612,
   "id": "c807fd7c",
   "metadata": {},
   "outputs": [
    {
     "data": {
      "text/html": [
       "<div>\n",
       "<style scoped>\n",
       "    .dataframe tbody tr th:only-of-type {\n",
       "        vertical-align: middle;\n",
       "    }\n",
       "\n",
       "    .dataframe tbody tr th {\n",
       "        vertical-align: top;\n",
       "    }\n",
       "\n",
       "    .dataframe thead th {\n",
       "        text-align: right;\n",
       "    }\n",
       "</style>\n",
       "<table border=\"1\" class=\"dataframe\">\n",
       "  <thead>\n",
       "    <tr style=\"text-align: right;\">\n",
       "      <th></th>\n",
       "      <th>Unnamed: 0</th>\n",
       "      <th>kepid</th>\n",
       "      <th>time</th>\n",
       "      <th>flux</th>\n",
       "      <th>labels</th>\n",
       "    </tr>\n",
       "  </thead>\n",
       "  <tbody>\n",
       "    <tr>\n",
       "      <th>0</th>\n",
       "      <td>0</td>\n",
       "      <td>KIC 1162345</td>\n",
       "      <td>[1472.1167966736903, 1472.1372297143098, 1472....</td>\n",
       "      <td>[290573.1875, 290615.40625, 290711.09375, 2906...</td>\n",
       "      <td>0</td>\n",
       "    </tr>\n",
       "    <tr>\n",
       "      <th>1</th>\n",
       "      <td>1</td>\n",
       "      <td>KIC 757450</td>\n",
       "      <td>[1472.11677061738, 1472.1372036586981, 1472.15...</td>\n",
       "      <td>[11482.1005859375, 11476.09765625, 11474.22949...</td>\n",
       "      <td>1</td>\n",
       "    </tr>\n",
       "    <tr>\n",
       "      <th>2</th>\n",
       "      <td>2</td>\n",
       "      <td>KIC 892667</td>\n",
       "      <td>[1472.116773827649, 1472.137206869782, 1472.15...</td>\n",
       "      <td>[76636.7421875, 76644.0390625, 76627.0859375, ...</td>\n",
       "      <td>0</td>\n",
       "    </tr>\n",
       "    <tr>\n",
       "      <th>3</th>\n",
       "      <td>3</td>\n",
       "      <td>KIC 892772</td>\n",
       "      <td>[1472.1167791773987, 1472.1372122192988, 1472....</td>\n",
       "      <td>[12183.046875, 12195.359375, 12198.2783203125,...</td>\n",
       "      <td>0</td>\n",
       "    </tr>\n",
       "    <tr>\n",
       "      <th>4</th>\n",
       "      <td>4</td>\n",
       "      <td>KIC 1026957</td>\n",
       "      <td>[1472.1167874504536, 1472.1372204903746, 1472....</td>\n",
       "      <td>[119163.3046875, 119160.125, 119167.234375, 11...</td>\n",
       "      <td>0</td>\n",
       "    </tr>\n",
       "    <tr>\n",
       "      <th>...</th>\n",
       "      <td>...</td>\n",
       "      <td>...</td>\n",
       "      <td>...</td>\n",
       "      <td>...</td>\n",
       "      <td>...</td>\n",
       "    </tr>\n",
       "    <tr>\n",
       "      <th>8881</th>\n",
       "      <td>8885</td>\n",
       "      <td>KIC 12833566</td>\n",
       "      <td>[1472.1180650266251, 1472.1384982777527, 1472....</td>\n",
       "      <td>[564531.3125, 564531.5, 564517.875, 564634.562...</td>\n",
       "      <td>0</td>\n",
       "    </tr>\n",
       "    <tr>\n",
       "      <th>8882</th>\n",
       "      <td>8886</td>\n",
       "      <td>KIC 12833701</td>\n",
       "      <td>[1472.118060263172, 1472.138493511913, 1472.15...</td>\n",
       "      <td>[8410.2421875, 8407.896484375, 8421.0, 8405.93...</td>\n",
       "      <td>0</td>\n",
       "    </tr>\n",
       "    <tr>\n",
       "      <th>8883</th>\n",
       "      <td>8887</td>\n",
       "      <td>KIC 12554212</td>\n",
       "      <td>[1472.1179938854839, 1472.1384271403658, 1472....</td>\n",
       "      <td>[54430.8984375, 54404.71484375, 54399.80859375...</td>\n",
       "      <td>1</td>\n",
       "    </tr>\n",
       "    <tr>\n",
       "      <th>8884</th>\n",
       "      <td>8888</td>\n",
       "      <td>KIC 12554510</td>\n",
       "      <td>[1472.117998412934, 1472.1384316637705, 1472.1...</td>\n",
       "      <td>[46273.203125, 46290.1875, 46293.23828125, 463...</td>\n",
       "      <td>0</td>\n",
       "    </tr>\n",
       "    <tr>\n",
       "      <th>8885</th>\n",
       "      <td>8889</td>\n",
       "      <td>KIC 12834874</td>\n",
       "      <td>[1472.1180781281219, 1472.138511362602, 1472.1...</td>\n",
       "      <td>[19512.216796875, 19538.76171875, 19522.939453...</td>\n",
       "      <td>1</td>\n",
       "    </tr>\n",
       "  </tbody>\n",
       "</table>\n",
       "<p>8886 rows × 5 columns</p>\n",
       "</div>"
      ],
      "text/plain": [
       "      Unnamed: 0         kepid  \\\n",
       "0              0   KIC 1162345   \n",
       "1              1    KIC 757450   \n",
       "2              2    KIC 892667   \n",
       "3              3    KIC 892772   \n",
       "4              4   KIC 1026957   \n",
       "...          ...           ...   \n",
       "8881        8885  KIC 12833566   \n",
       "8882        8886  KIC 12833701   \n",
       "8883        8887  KIC 12554212   \n",
       "8884        8888  KIC 12554510   \n",
       "8885        8889  KIC 12834874   \n",
       "\n",
       "                                                   time  \\\n",
       "0     [1472.1167966736903, 1472.1372297143098, 1472....   \n",
       "1     [1472.11677061738, 1472.1372036586981, 1472.15...   \n",
       "2     [1472.116773827649, 1472.137206869782, 1472.15...   \n",
       "3     [1472.1167791773987, 1472.1372122192988, 1472....   \n",
       "4     [1472.1167874504536, 1472.1372204903746, 1472....   \n",
       "...                                                 ...   \n",
       "8881  [1472.1180650266251, 1472.1384982777527, 1472....   \n",
       "8882  [1472.118060263172, 1472.138493511913, 1472.15...   \n",
       "8883  [1472.1179938854839, 1472.1384271403658, 1472....   \n",
       "8884  [1472.117998412934, 1472.1384316637705, 1472.1...   \n",
       "8885  [1472.1180781281219, 1472.138511362602, 1472.1...   \n",
       "\n",
       "                                                   flux  labels  \n",
       "0     [290573.1875, 290615.40625, 290711.09375, 2906...       0  \n",
       "1     [11482.1005859375, 11476.09765625, 11474.22949...       1  \n",
       "2     [76636.7421875, 76644.0390625, 76627.0859375, ...       0  \n",
       "3     [12183.046875, 12195.359375, 12198.2783203125,...       0  \n",
       "4     [119163.3046875, 119160.125, 119167.234375, 11...       0  \n",
       "...                                                 ...     ...  \n",
       "8881  [564531.3125, 564531.5, 564517.875, 564634.562...       0  \n",
       "8882  [8410.2421875, 8407.896484375, 8421.0, 8405.93...       0  \n",
       "8883  [54430.8984375, 54404.71484375, 54399.80859375...       1  \n",
       "8884  [46273.203125, 46290.1875, 46293.23828125, 463...       0  \n",
       "8885  [19512.216796875, 19538.76171875, 19522.939453...       1  \n",
       "\n",
       "[8886 rows x 5 columns]"
      ]
     },
     "execution_count": 612,
     "metadata": {},
     "output_type": "execute_result"
    }
   ],
   "source": [
    "data2"
   ]
  },
  {
   "cell_type": "code",
   "execution_count": 1,
   "id": "2f25d6a0",
   "metadata": {},
   "outputs": [
    {
     "ename": "NameError",
     "evalue": "name 'data2' is not defined",
     "output_type": "error",
     "traceback": [
      "\u001b[0;31m---------------------------------------------------------------------------\u001b[0m",
      "\u001b[0;31mNameError\u001b[0m                                 Traceback (most recent call last)",
      "\u001b[0;32m/var/folders/dz/3k50ktmj6sxc3ksswnrpxzpm0000gn/T/ipykernel_51256/3848573892.py\u001b[0m in \u001b[0;36m<module>\u001b[0;34m\u001b[0m\n\u001b[0;32m----> 1\u001b[0;31m \u001b[0mdata2\u001b[0m\u001b[0;34m.\u001b[0m\u001b[0mto_csv\u001b[0m\u001b[0;34m(\u001b[0m\u001b[0;34m'final_exop_data.csv'\u001b[0m\u001b[0;34m)\u001b[0m\u001b[0;34m\u001b[0m\u001b[0;34m\u001b[0m\u001b[0m\n\u001b[0m",
      "\u001b[0;31mNameError\u001b[0m: name 'data2' is not defined"
     ]
    }
   ],
   "source": [
    "data2.to_csv('final_exop_data.csv')"
   ]
  },
  {
   "cell_type": "code",
   "execution_count": null,
   "id": "c5471322",
   "metadata": {},
   "outputs": [],
   "source": []
  }
 ],
 "metadata": {
  "kernelspec": {
   "display_name": "Python 3 (ipykernel)",
   "language": "python",
   "name": "python3"
  },
  "language_info": {
   "codemirror_mode": {
    "name": "ipython",
    "version": 3
   },
   "file_extension": ".py",
   "mimetype": "text/x-python",
   "name": "python",
   "nbconvert_exporter": "python",
   "pygments_lexer": "ipython3",
   "version": "3.9.13"
  }
 },
 "nbformat": 4,
 "nbformat_minor": 5
}
